{
 "cells": [
  {
   "cell_type": "markdown",
   "metadata": {},
   "source": [
    "<img src=\"http://imgur.com/1ZcRyrc.png\" style=\"float: left; margin: 20px; height: 55px\" />\n",
    "\n",
    "# Excel Madness Lab!\n",
    "\n",
    "_Author:_ Tim Book"
   ]
  },
  {
   "cell_type": "markdown",
   "metadata": {},
   "source": [
    "## Our Mission\n",
    "We work for a large supermarket chain, with stores in 10 major cities that happen to coincide with General Assembly campuses. However, this company's idea of a \"database\" is just a bunch of Excel spreadsheets! In order to analyze our data, we're going to need to process the existing data into a form we can use. **Our end goal is to have one csv per city.**\n",
    "\n",
    "## Cleanup Duty!\n",
    "It is a hard truth that data scientists spend a large majority of their time cleaning data. Data never arrives on our desks in exactly the format in which we want it, and it's up to us to transform it to a workable format.\n",
    "\n",
    "Being good cleaning, moving, and reshaping data is in itself a valuable and employable job skill. If you follow these directions exactly, we will walk through constructing an automated process for processing data from this supermarket chain."
   ]
  },
  {
   "cell_type": "markdown",
   "metadata": {},
   "source": [
    "# Part I: Processing\n",
    "\n",
    "### Step 1: Imports and the `os` library\n",
    "We're going to import three libraries: numpy, pandas, and `os`."
   ]
  },
  {
   "cell_type": "code",
   "execution_count": 1,
   "metadata": {},
   "outputs": [],
   "source": [
    "# Import libraries here.\n",
    "import pandas as pd\n",
    "import numpy as np\n",
    "import matplotlib.pyplot as plt\n",
    "import os"
   ]
  },
  {
   "cell_type": "markdown",
   "metadata": {},
   "source": [
    "The `os` library is part of the Python standard library. It ships with Python. It is extremely useful for performing system commands from within Python. \n",
    "\n",
    "1. Create an `output` folder using `os.mkdir()`\n",
    "**WARNING:** The `os.mkdir()` function will give you an error if you try to make a folder that already exists!\n",
    "\n",
    "2. Use `os.listdir()` to create a variable called `files` that is the list of files in the `data` folder.\n",
    "\n"
   ]
  },
  {
   "cell_type": "code",
   "execution_count": 38,
   "metadata": {},
   "outputs": [],
   "source": [
    "# Create an output folder.\n",
    "os.mkdir('./output/')\n",
    "\n",
    "# Create a files variable that contains all of our data files.\n",
    "files = os.listdir('./data')"
   ]
  },
  {
   "cell_type": "code",
   "execution_count": 39,
   "metadata": {},
   "outputs": [
    {
     "data": {
      "text/plain": [
       "['Jan 23.xlsx',\n",
       " 'Jan 19.xlsx',\n",
       " 'Jan 15.xlsx',\n",
       " 'Jan 7.xlsx',\n",
       " 'Jan 6.xlsx',\n",
       " 'Jan 14.xlsx',\n",
       " 'Jan 18.xlsx',\n",
       " 'Jan 22.xlsx',\n",
       " 'Jan 29.xlsx',\n",
       " 'Jan 13.xlsx',\n",
       " 'Jan 1.xlsx',\n",
       " 'Jan 25.xlsx',\n",
       " 'Jan 24.xlsx',\n",
       " 'Jan 12.xlsx',\n",
       " 'Jan 28.xlsx',\n",
       " 'Jan 3.xlsx',\n",
       " 'Jan 11.xlsx',\n",
       " 'Jan 27.xlsx',\n",
       " 'Jan 31.xlsx',\n",
       " 'Jan 30.xlsx',\n",
       " 'Jan 26.xlsx',\n",
       " 'Jan 10.xlsx',\n",
       " 'Jan 2.xlsx',\n",
       " 'Jan 9.xlsx',\n",
       " 'Jan 21.xlsx',\n",
       " 'Jan 5.xlsx',\n",
       " 'Jan 17.xlsx',\n",
       " 'Jan 16.xlsx',\n",
       " 'Jan 4.xlsx',\n",
       " 'Jan 20.xlsx',\n",
       " 'Jan 8.xlsx']"
      ]
     },
     "execution_count": 39,
     "metadata": {},
     "output_type": "execute_result"
    }
   ],
   "source": [
    "files"
   ]
  },
  {
   "cell_type": "markdown",
   "metadata": {},
   "source": [
    "### Step 2: Process one DataFrame\n",
    "It looks like we have data for the month of January. 31 files of 10 sheets each! Luckily they are all in the same format. So let's read just one in and process that. It might be helpful to open one up in your spreadsheet viewer of choice first (Excel, Numbers, Sheets, etc.)"
   ]
  },
  {
   "cell_type": "code",
   "execution_count": 4,
   "metadata": {},
   "outputs": [
    {
     "name": "stderr",
     "output_type": "stream",
     "text": [
      "/Users/genebob/opt/anaconda3/lib/python3.9/site-packages/openpyxl/styles/stylesheet.py:226: UserWarning: Workbook contains no default style, apply openpyxl's default\n",
      "  warn(\"Workbook contains no default style, apply openpyxl's default\")\n"
     ]
    },
    {
     "data": {
      "text/html": [
       "<div>\n",
       "<style scoped>\n",
       "    .dataframe tbody tr th:only-of-type {\n",
       "        vertical-align: middle;\n",
       "    }\n",
       "\n",
       "    .dataframe tbody tr th {\n",
       "        vertical-align: top;\n",
       "    }\n",
       "\n",
       "    .dataframe thead th {\n",
       "        text-align: right;\n",
       "    }\n",
       "</style>\n",
       "<table border=\"1\" class=\"dataframe\">\n",
       "  <thead>\n",
       "    <tr style=\"text-align: right;\">\n",
       "      <th></th>\n",
       "      <th>prodcode</th>\n",
       "      <th>price_eu</th>\n",
       "      <th>weight_kg</th>\n",
       "      <th>quantity</th>\n",
       "    </tr>\n",
       "  </thead>\n",
       "  <tbody>\n",
       "    <tr>\n",
       "      <th>0</th>\n",
       "      <td>4159</td>\n",
       "      <td>2.048141</td>\n",
       "      <td>8.812961</td>\n",
       "      <td>138.0</td>\n",
       "    </tr>\n",
       "    <tr>\n",
       "      <th>1</th>\n",
       "      <td>4062</td>\n",
       "      <td>2.728485</td>\n",
       "      <td>9.331372</td>\n",
       "      <td>184.0</td>\n",
       "    </tr>\n",
       "    <tr>\n",
       "      <th>2</th>\n",
       "      <td>4404</td>\n",
       "      <td>2.182498</td>\n",
       "      <td>8.937798</td>\n",
       "      <td>491.0</td>\n",
       "    </tr>\n",
       "    <tr>\n",
       "      <th>3</th>\n",
       "      <td>4412</td>\n",
       "      <td>2.342694</td>\n",
       "      <td>7.067682</td>\n",
       "      <td>218.0</td>\n",
       "    </tr>\n",
       "    <tr>\n",
       "      <th>4</th>\n",
       "      <td>4131</td>\n",
       "      <td>1.802839</td>\n",
       "      <td>9.551503</td>\n",
       "      <td>391.0</td>\n",
       "    </tr>\n",
       "    <tr>\n",
       "      <th>...</th>\n",
       "      <td>...</td>\n",
       "      <td>...</td>\n",
       "      <td>...</td>\n",
       "      <td>...</td>\n",
       "    </tr>\n",
       "    <tr>\n",
       "      <th>124</th>\n",
       "      <td>4796</td>\n",
       "      <td>1.827676</td>\n",
       "      <td>7.922745</td>\n",
       "      <td>444.0</td>\n",
       "    </tr>\n",
       "    <tr>\n",
       "      <th>125</th>\n",
       "      <td>4225</td>\n",
       "      <td>2.463229</td>\n",
       "      <td>5.839095</td>\n",
       "      <td>258.0</td>\n",
       "    </tr>\n",
       "    <tr>\n",
       "      <th>126</th>\n",
       "      <td>4134</td>\n",
       "      <td>0.920152</td>\n",
       "      <td>9.225959</td>\n",
       "      <td>395.0</td>\n",
       "    </tr>\n",
       "    <tr>\n",
       "      <th>127</th>\n",
       "      <td>3302</td>\n",
       "      <td>1.510998</td>\n",
       "      <td>2.667668</td>\n",
       "      <td>168.0</td>\n",
       "    </tr>\n",
       "    <tr>\n",
       "      <th>128</th>\n",
       "      <td>4309</td>\n",
       "      <td>1.678941</td>\n",
       "      <td>3.539966</td>\n",
       "      <td>282.0</td>\n",
       "    </tr>\n",
       "  </tbody>\n",
       "</table>\n",
       "<p>129 rows × 4 columns</p>\n",
       "</div>"
      ],
      "text/plain": [
       "     prodcode  price_eu  weight_kg  quantity\n",
       "0        4159  2.048141   8.812961     138.0\n",
       "1        4062  2.728485   9.331372     184.0\n",
       "2        4404  2.182498   8.937798     491.0\n",
       "3        4412  2.342694   7.067682     218.0\n",
       "4        4131  1.802839   9.551503     391.0\n",
       "..        ...       ...        ...       ...\n",
       "124      4796  1.827676   7.922745     444.0\n",
       "125      4225  2.463229   5.839095     258.0\n",
       "126      4134  0.920152   9.225959     395.0\n",
       "127      3302  1.510998   2.667668     168.0\n",
       "128      4309  1.678941   3.539966     282.0\n",
       "\n",
       "[129 rows x 4 columns]"
      ]
     },
     "execution_count": 4,
     "metadata": {},
     "output_type": "execute_result"
    }
   ],
   "source": [
    "# Read in data from your city from January 1st.\n",
    "df = pd.read_excel('./data/Jan 1.xlsx')\n",
    "df"
   ]
  },
  {
   "cell_type": "markdown",
   "metadata": {},
   "source": [
    "### Step 2a: Convert to units common in the USA\n",
    "For whatever reason, our data are stored in euros and kilograms. Create `price_usd` and `weight_lb` columns. There are 2.2 pounds per kilogram, and use 1.1 dollars per euro."
   ]
  },
  {
   "cell_type": "code",
   "execution_count": 8,
   "metadata": {},
   "outputs": [],
   "source": [
    "df['price_usd'] = df['price_eu'].map(lambda x: x * 1.1)\n",
    "df['weight_lb'] = df['weight_kg'].map(lambda x: x * 2.2)"
   ]
  },
  {
   "cell_type": "markdown",
   "metadata": {},
   "source": [
    "### Step 2b: Merge in product names\n",
    "You'll notice we also have a `plu-codes.csv` file containing actual product names matched up against their price lookup (PLU) codes. Let's merge these product names onto our Jan 1 data.\n",
    "* _Hint 1:_ What kind of merge is this? Right, left, inner, outer, etc.?\n",
    "* _Hint 2:_ Pay special attention to column names!"
   ]
  },
  {
   "cell_type": "code",
   "execution_count": 10,
   "metadata": {},
   "outputs": [
    {
     "data": {
      "text/html": [
       "<div>\n",
       "<style scoped>\n",
       "    .dataframe tbody tr th:only-of-type {\n",
       "        vertical-align: middle;\n",
       "    }\n",
       "\n",
       "    .dataframe tbody tr th {\n",
       "        vertical-align: top;\n",
       "    }\n",
       "\n",
       "    .dataframe thead th {\n",
       "        text-align: right;\n",
       "    }\n",
       "</style>\n",
       "<table border=\"1\" class=\"dataframe\">\n",
       "  <thead>\n",
       "    <tr style=\"text-align: right;\">\n",
       "      <th></th>\n",
       "      <th>product</th>\n",
       "      <th>plu_code</th>\n",
       "    </tr>\n",
       "  </thead>\n",
       "  <tbody>\n",
       "    <tr>\n",
       "      <th>0</th>\n",
       "      <td>Apple (Fuji)</td>\n",
       "      <td>4131</td>\n",
       "    </tr>\n",
       "    <tr>\n",
       "      <th>1</th>\n",
       "      <td>Apple (Gala)</td>\n",
       "      <td>4134</td>\n",
       "    </tr>\n",
       "    <tr>\n",
       "      <th>2</th>\n",
       "      <td>Apricot</td>\n",
       "      <td>3302</td>\n",
       "    </tr>\n",
       "    <tr>\n",
       "      <th>3</th>\n",
       "      <td>Avocado</td>\n",
       "      <td>4225</td>\n",
       "    </tr>\n",
       "    <tr>\n",
       "      <th>4</th>\n",
       "      <td>Banana</td>\n",
       "      <td>4011</td>\n",
       "    </tr>\n",
       "  </tbody>\n",
       "</table>\n",
       "</div>"
      ],
      "text/plain": [
       "        product  plu_code\n",
       "0  Apple (Fuji)      4131\n",
       "1  Apple (Gala)      4134\n",
       "2       Apricot      3302\n",
       "3       Avocado      4225\n",
       "4        Banana      4011"
      ]
     },
     "execution_count": 10,
     "metadata": {},
     "output_type": "execute_result"
    }
   ],
   "source": [
    "plu = pd.read_csv(\"plu-codes.csv\")\n",
    "plu.head()"
   ]
  },
  {
   "cell_type": "code",
   "execution_count": 12,
   "metadata": {},
   "outputs": [
    {
     "data": {
      "text/plain": [
       "Index(['prodcode', 'price_eu', 'weight_kg', 'quantity', 'price_usd',\n",
       "       'weight_lb'],\n",
       "      dtype='object')"
      ]
     },
     "execution_count": 12,
     "metadata": {},
     "output_type": "execute_result"
    }
   ],
   "source": [
    "df.columns"
   ]
  },
  {
   "cell_type": "code",
   "execution_count": 16,
   "metadata": {
    "scrolled": true
   },
   "outputs": [],
   "source": [
    "df = pd.merge(left=df, right=plu, how='left', left_on='prodcode', right_on='plu_code')"
   ]
  },
  {
   "cell_type": "markdown",
   "metadata": {},
   "source": [
    "### Step 2c: Drop unnecessary columns\n",
    "We've created some extraneous columns. Drop the old price and weight columns, as well as any redundant columns."
   ]
  },
  {
   "cell_type": "code",
   "execution_count": 20,
   "metadata": {},
   "outputs": [],
   "source": [
    "df.drop(columns=['price_eu', 'weight_kg', 'plu_code'], inplace=True)"
   ]
  },
  {
   "cell_type": "markdown",
   "metadata": {},
   "source": [
    "### Step 2d: Add the date\n",
    "Simply create a new `date` column that is the date this data was collected. For example, if this is from `Jan 1.xlsx`, this column should be full of `Jan 1`."
   ]
  },
  {
   "cell_type": "code",
   "execution_count": 21,
   "metadata": {},
   "outputs": [],
   "source": [
    "df['Jan 1'] = 'Jan 1'"
   ]
  },
  {
   "cell_type": "code",
   "execution_count": 22,
   "metadata": {},
   "outputs": [
    {
     "data": {
      "text/html": [
       "<div>\n",
       "<style scoped>\n",
       "    .dataframe tbody tr th:only-of-type {\n",
       "        vertical-align: middle;\n",
       "    }\n",
       "\n",
       "    .dataframe tbody tr th {\n",
       "        vertical-align: top;\n",
       "    }\n",
       "\n",
       "    .dataframe thead th {\n",
       "        text-align: right;\n",
       "    }\n",
       "</style>\n",
       "<table border=\"1\" class=\"dataframe\">\n",
       "  <thead>\n",
       "    <tr style=\"text-align: right;\">\n",
       "      <th></th>\n",
       "      <th>prodcode</th>\n",
       "      <th>quantity</th>\n",
       "      <th>price_usd</th>\n",
       "      <th>weight_lb</th>\n",
       "      <th>product</th>\n",
       "      <th>Jan 1</th>\n",
       "    </tr>\n",
       "  </thead>\n",
       "  <tbody>\n",
       "    <tr>\n",
       "      <th>0</th>\n",
       "      <td>4159</td>\n",
       "      <td>138.0</td>\n",
       "      <td>2.252955</td>\n",
       "      <td>19.388515</td>\n",
       "      <td>Onion</td>\n",
       "      <td>Jan 1</td>\n",
       "    </tr>\n",
       "    <tr>\n",
       "      <th>1</th>\n",
       "      <td>4062</td>\n",
       "      <td>184.0</td>\n",
       "      <td>3.001334</td>\n",
       "      <td>20.529018</td>\n",
       "      <td>Cucumber</td>\n",
       "      <td>Jan 1</td>\n",
       "    </tr>\n",
       "    <tr>\n",
       "      <th>2</th>\n",
       "      <td>4404</td>\n",
       "      <td>491.0</td>\n",
       "      <td>2.400748</td>\n",
       "      <td>19.663156</td>\n",
       "      <td>Peach</td>\n",
       "      <td>Jan 1</td>\n",
       "    </tr>\n",
       "    <tr>\n",
       "      <th>3</th>\n",
       "      <td>4412</td>\n",
       "      <td>218.0</td>\n",
       "      <td>2.576964</td>\n",
       "      <td>15.548899</td>\n",
       "      <td>Pear</td>\n",
       "      <td>Jan 1</td>\n",
       "    </tr>\n",
       "    <tr>\n",
       "      <th>4</th>\n",
       "      <td>4131</td>\n",
       "      <td>391.0</td>\n",
       "      <td>1.983123</td>\n",
       "      <td>21.013306</td>\n",
       "      <td>Apple (Fuji)</td>\n",
       "      <td>Jan 1</td>\n",
       "    </tr>\n",
       "  </tbody>\n",
       "</table>\n",
       "</div>"
      ],
      "text/plain": [
       "   prodcode  quantity  price_usd  weight_lb       product  Jan 1\n",
       "0      4159     138.0   2.252955  19.388515         Onion  Jan 1\n",
       "1      4062     184.0   3.001334  20.529018      Cucumber  Jan 1\n",
       "2      4404     491.0   2.400748  19.663156         Peach  Jan 1\n",
       "3      4412     218.0   2.576964  15.548899          Pear  Jan 1\n",
       "4      4131     391.0   1.983123  21.013306  Apple (Fuji)  Jan 1"
      ]
     },
     "execution_count": 22,
     "metadata": {},
     "output_type": "execute_result"
    }
   ],
   "source": [
    "df.head()"
   ]
  },
  {
   "cell_type": "markdown",
   "metadata": {},
   "source": [
    "### Step 3: Write a function that conducts all of Step 2\n",
    "This function should import a **filename and a city name** and return a fully processed DataFrame. That is, the function should:\n",
    "1. Read in the data from the given file and city.\n",
    "1. Create USD and pound columns.\n",
    "1. Merge in product names.\n",
    "1. Drop unnecessary columns.\n",
    "1. Add a date column"
   ]
  },
  {
   "cell_type": "code",
   "execution_count": 45,
   "metadata": {},
   "outputs": [],
   "source": [
    "def process_data(file, city):\n",
    "    # read .xlsx\n",
    "    df_date = pd.read_excel(file, sheet_name=city)\n",
    "    # convert price & weight\n",
    "    df_date['price_usd'] = df_date['price_eu'].map(lambda x: x * 1.1)\n",
    "    df_date['weight_lb'] = df_date['weight_kg'].map(lambda x: x * 2.2)\n",
    "    # merge product names\n",
    "    df_date = pd.merge(left=df_date, right=pd.read_csv('plu-codes.csv').rename(columns={'plu_code': 'prodcode'}), how='left', on='prodcode')\n",
    "    # drop columns\n",
    "    df_date.drop(columns=['price_eu', 'weight_kg'], inplace=True)\n",
    "    # Add a date column\n",
    "    df_date['date'] = os.path.basename(file).split(sep='.')[:1][0]\n",
    "\n",
    "    return df_date"
   ]
  },
  {
   "cell_type": "markdown",
   "metadata": {},
   "source": [
    "Test your function out on a new file and city!"
   ]
  },
  {
   "cell_type": "code",
   "execution_count": 46,
   "metadata": {},
   "outputs": [
    {
     "name": "stderr",
     "output_type": "stream",
     "text": [
      "/Users/genebob/opt/anaconda3/lib/python3.9/site-packages/openpyxl/styles/stylesheet.py:226: UserWarning: Workbook contains no default style, apply openpyxl's default\n",
      "  warn(\"Workbook contains no default style, apply openpyxl's default\")\n"
     ]
    },
    {
     "data": {
      "text/html": [
       "<div>\n",
       "<style scoped>\n",
       "    .dataframe tbody tr th:only-of-type {\n",
       "        vertical-align: middle;\n",
       "    }\n",
       "\n",
       "    .dataframe tbody tr th {\n",
       "        vertical-align: top;\n",
       "    }\n",
       "\n",
       "    .dataframe thead th {\n",
       "        text-align: right;\n",
       "    }\n",
       "</style>\n",
       "<table border=\"1\" class=\"dataframe\">\n",
       "  <thead>\n",
       "    <tr style=\"text-align: right;\">\n",
       "      <th></th>\n",
       "      <th>prodcode</th>\n",
       "      <th>quantity</th>\n",
       "      <th>price_usd</th>\n",
       "      <th>weight_lb</th>\n",
       "      <th>product</th>\n",
       "      <th>date</th>\n",
       "    </tr>\n",
       "  </thead>\n",
       "  <tbody>\n",
       "    <tr>\n",
       "      <th>0</th>\n",
       "      <td>4650</td>\n",
       "      <td>122.0</td>\n",
       "      <td>2.424953</td>\n",
       "      <td>3.396210</td>\n",
       "      <td>Mushroom</td>\n",
       "      <td>Jan 2</td>\n",
       "    </tr>\n",
       "    <tr>\n",
       "      <th>1</th>\n",
       "      <td>4309</td>\n",
       "      <td>133.0</td>\n",
       "      <td>1.860956</td>\n",
       "      <td>14.122334</td>\n",
       "      <td>Lychee</td>\n",
       "      <td>Jan 2</td>\n",
       "    </tr>\n",
       "    <tr>\n",
       "      <th>2</th>\n",
       "      <td>4650</td>\n",
       "      <td>473.0</td>\n",
       "      <td>0.965937</td>\n",
       "      <td>8.689899</td>\n",
       "      <td>Mushroom</td>\n",
       "      <td>Jan 2</td>\n",
       "    </tr>\n",
       "    <tr>\n",
       "      <th>3</th>\n",
       "      <td>4062</td>\n",
       "      <td>484.0</td>\n",
       "      <td>2.303898</td>\n",
       "      <td>4.290737</td>\n",
       "      <td>Cucumber</td>\n",
       "      <td>Jan 2</td>\n",
       "    </tr>\n",
       "    <tr>\n",
       "      <th>4</th>\n",
       "      <td>4011</td>\n",
       "      <td>259.0</td>\n",
       "      <td>2.818418</td>\n",
       "      <td>2.217087</td>\n",
       "      <td>Banana</td>\n",
       "      <td>Jan 2</td>\n",
       "    </tr>\n",
       "    <tr>\n",
       "      <th>...</th>\n",
       "      <td>...</td>\n",
       "      <td>...</td>\n",
       "      <td>...</td>\n",
       "      <td>...</td>\n",
       "      <td>...</td>\n",
       "      <td>...</td>\n",
       "    </tr>\n",
       "    <tr>\n",
       "      <th>125</th>\n",
       "      <td>4078</td>\n",
       "      <td>468.0</td>\n",
       "      <td>3.248011</td>\n",
       "      <td>21.394509</td>\n",
       "      <td>Corn</td>\n",
       "      <td>Jan 2</td>\n",
       "    </tr>\n",
       "    <tr>\n",
       "      <th>126</th>\n",
       "      <td>4225</td>\n",
       "      <td>270.0</td>\n",
       "      <td>2.793992</td>\n",
       "      <td>11.926459</td>\n",
       "      <td>Avocado</td>\n",
       "      <td>Jan 2</td>\n",
       "    </tr>\n",
       "    <tr>\n",
       "      <th>127</th>\n",
       "      <td>4012</td>\n",
       "      <td>302.0</td>\n",
       "      <td>1.330683</td>\n",
       "      <td>10.048707</td>\n",
       "      <td>Orange</td>\n",
       "      <td>Jan 2</td>\n",
       "    </tr>\n",
       "    <tr>\n",
       "      <th>128</th>\n",
       "      <td>4012</td>\n",
       "      <td>413.0</td>\n",
       "      <td>1.790014</td>\n",
       "      <td>12.295220</td>\n",
       "      <td>Orange</td>\n",
       "      <td>Jan 2</td>\n",
       "    </tr>\n",
       "    <tr>\n",
       "      <th>129</th>\n",
       "      <td>4078</td>\n",
       "      <td>394.0</td>\n",
       "      <td>1.583804</td>\n",
       "      <td>18.720882</td>\n",
       "      <td>Corn</td>\n",
       "      <td>Jan 2</td>\n",
       "    </tr>\n",
       "  </tbody>\n",
       "</table>\n",
       "<p>130 rows × 6 columns</p>\n",
       "</div>"
      ],
      "text/plain": [
       "     prodcode  quantity  price_usd  weight_lb   product   date\n",
       "0        4650     122.0   2.424953   3.396210  Mushroom  Jan 2\n",
       "1        4309     133.0   1.860956  14.122334    Lychee  Jan 2\n",
       "2        4650     473.0   0.965937   8.689899  Mushroom  Jan 2\n",
       "3        4062     484.0   2.303898   4.290737  Cucumber  Jan 2\n",
       "4        4011     259.0   2.818418   2.217087    Banana  Jan 2\n",
       "..        ...       ...        ...        ...       ...    ...\n",
       "125      4078     468.0   3.248011  21.394509      Corn  Jan 2\n",
       "126      4225     270.0   2.793992  11.926459   Avocado  Jan 2\n",
       "127      4012     302.0   1.330683  10.048707    Orange  Jan 2\n",
       "128      4012     413.0   1.790014  12.295220    Orange  Jan 2\n",
       "129      4078     394.0   1.583804  18.720882      Corn  Jan 2\n",
       "\n",
       "[130 rows x 6 columns]"
      ]
     },
     "execution_count": 46,
     "metadata": {},
     "output_type": "execute_result"
    }
   ],
   "source": [
    "process_data('./data/Jan 2.xlsx', 'New York')"
   ]
  },
  {
   "cell_type": "markdown",
   "metadata": {},
   "source": [
    "### Step 4: Process all of January's data\n",
    "For each spreadsheet, process the data and store the resulting DataFrame in one big list. **You only need to do this for your city!**\n",
    "\n",
    "* _Hint 1:_ A listcomp would make this whole step one line of code!\n",
    "* _Hint 2:_ You've already made that `files` variable to help you here."
   ]
  },
  {
   "cell_type": "code",
   "execution_count": 48,
   "metadata": {},
   "outputs": [
    {
     "name": "stderr",
     "output_type": "stream",
     "text": [
      "/Users/genebob/opt/anaconda3/lib/python3.9/site-packages/openpyxl/styles/stylesheet.py:226: UserWarning: Workbook contains no default style, apply openpyxl's default\n",
      "  warn(\"Workbook contains no default style, apply openpyxl's default\")\n"
     ]
    }
   ],
   "source": [
    "list_all_data = [\n",
    "\n",
    "    process_data('./data/' + _, 'New York') for _ in files\n",
    "]"
   ]
  },
  {
   "cell_type": "markdown",
   "metadata": {},
   "source": [
    "### Step 5: Concatenate all DataFrames from Step 4 into one large DataFrame\n",
    "* _Hint:_ Is there a function in `pandas` that can do something like this for us? This is also just one line of code!"
   ]
  },
  {
   "cell_type": "code",
   "execution_count": 53,
   "metadata": {},
   "outputs": [],
   "source": [
    "df_all = pd.concat(list_all_data)"
   ]
  },
  {
   "cell_type": "markdown",
   "metadata": {},
   "source": [
    "### Step 6: Do this for all cities, write data\n",
    "Here's the big one. For each city, process and the data as in steps 3-5, and then write the data to our `output` folder. Below is a dictionary of city name to desired output file name.\n",
    "\n",
    "Before writing your DataFrame, do the following:\n",
    "* Add a `city` column\n",
    "* Reorder the columns into the following order:\n",
    "\n",
    "\n",
    "| city | date | product | prodcode | quantity | weight_lb | price_usd |\n",
    "|---|---|---|---|---|---|---|\n"
   ]
  },
  {
   "cell_type": "code",
   "execution_count": 55,
   "metadata": {},
   "outputs": [],
   "source": [
    "city_dict = {\n",
    "    \"Atlanta\": \"atl.csv\",\n",
    "    \"Austin\": \"atx.csv\",\n",
    "    \"Boston\": \"bos.csv\",\n",
    "    \"Chicago\": \"chi.csv\",\n",
    "    \"Denver\": \"den.csv\",\n",
    "    \"Los Angeles\": \"lax.csv\",\n",
    "    \"New York\": \"nyc.csv\",\n",
    "    \"San Francisco\": \"sf.csv\",\n",
    "    \"Seattle\": \"sea.csv\",\n",
    "    \"Washington, DC\": \"dc.csv\"\n",
    "}\n",
    "\n"
   ]
  },
  {
   "cell_type": "code",
   "execution_count": 60,
   "metadata": {},
   "outputs": [
    {
     "name": "stderr",
     "output_type": "stream",
     "text": [
      "/Users/genebob/opt/anaconda3/lib/python3.9/site-packages/openpyxl/styles/stylesheet.py:226: UserWarning: Workbook contains no default style, apply openpyxl's default\n",
      "  warn(\"Workbook contains no default style, apply openpyxl's default\")\n"
     ]
    }
   ],
   "source": [
    "for key, value in city_dict.items():\n",
    "    # make data frame\n",
    "    df = pd.concat([process_data('./data/' + _, key) for _ in files])\n",
    "    # add city column\n",
    "    df['city'] = key\n",
    "    # re-order columns\n",
    "    df = df[['city', 'date', 'product', 'prodcode', 'quantity', 'weight_lb', 'price_usd']]\n",
    "    # export to .csv\n",
    "    df.to_csv('./output/' + value, index=False)"
   ]
  },
  {
   "cell_type": "markdown",
   "metadata": {},
   "source": [
    "# Part II: Checking our answers \n",
    "In steps very similar to the ones conducted above...\n",
    "1. Loop through the files we just wrote to `output`, and read them in, collecting them all in one list.\n",
    "1. Combine all of those DataFrames into one large DataFrame.\n",
    "1. For each city, find the mean `quantity`, `weight_lb`, and `price_usd`.\n",
    "\n",
    "If you've done everything correct, your answer should look exactly like this:\n",
    "\n",
    "![](imgs/correct-output.png)"
   ]
  },
  {
   "cell_type": "code",
   "execution_count": 75,
   "metadata": {},
   "outputs": [
    {
     "name": "stderr",
     "output_type": "stream",
     "text": [
      "/var/folders/3y/cshc407d2zv7031zkk2k4r1r0000gn/T/ipykernel_70338/3178099035.py:1: FutureWarning: Indexing with multiple keys (implicitly converted to a tuple of keys) will be deprecated, use a list instead.\n",
      "  pd.concat([pd.read_csv(d) for d in [os.path.join('./output', _) for _ in os.listdir('./output')]]).groupby(by='city')['quantity', 'weight_lb', 'price_usd'].mean()\n"
     ]
    },
    {
     "data": {
      "text/html": [
       "<div>\n",
       "<style scoped>\n",
       "    .dataframe tbody tr th:only-of-type {\n",
       "        vertical-align: middle;\n",
       "    }\n",
       "\n",
       "    .dataframe tbody tr th {\n",
       "        vertical-align: top;\n",
       "    }\n",
       "\n",
       "    .dataframe thead th {\n",
       "        text-align: right;\n",
       "    }\n",
       "</style>\n",
       "<table border=\"1\" class=\"dataframe\">\n",
       "  <thead>\n",
       "    <tr style=\"text-align: right;\">\n",
       "      <th></th>\n",
       "      <th>quantity</th>\n",
       "      <th>weight_lb</th>\n",
       "      <th>price_usd</th>\n",
       "    </tr>\n",
       "    <tr>\n",
       "      <th>city</th>\n",
       "      <th></th>\n",
       "      <th></th>\n",
       "      <th></th>\n",
       "    </tr>\n",
       "  </thead>\n",
       "  <tbody>\n",
       "    <tr>\n",
       "      <th>Atlanta</th>\n",
       "      <td>302.485306</td>\n",
       "      <td>11.929027</td>\n",
       "      <td>1.937980</td>\n",
       "    </tr>\n",
       "    <tr>\n",
       "      <th>Austin</th>\n",
       "      <td>301.048298</td>\n",
       "      <td>12.092775</td>\n",
       "      <td>1.937456</td>\n",
       "    </tr>\n",
       "    <tr>\n",
       "      <th>Boston</th>\n",
       "      <td>298.806536</td>\n",
       "      <td>12.063057</td>\n",
       "      <td>1.900973</td>\n",
       "    </tr>\n",
       "    <tr>\n",
       "      <th>Chicago</th>\n",
       "      <td>301.686186</td>\n",
       "      <td>12.101555</td>\n",
       "      <td>1.930026</td>\n",
       "    </tr>\n",
       "    <tr>\n",
       "      <th>Denver</th>\n",
       "      <td>301.012745</td>\n",
       "      <td>12.129850</td>\n",
       "      <td>1.932088</td>\n",
       "    </tr>\n",
       "    <tr>\n",
       "      <th>Los Angeles</th>\n",
       "      <td>301.531276</td>\n",
       "      <td>12.167527</td>\n",
       "      <td>1.918331</td>\n",
       "    </tr>\n",
       "    <tr>\n",
       "      <th>New York</th>\n",
       "      <td>299.482863</td>\n",
       "      <td>12.090294</td>\n",
       "      <td>1.912662</td>\n",
       "    </tr>\n",
       "    <tr>\n",
       "      <th>San Francisco</th>\n",
       "      <td>298.979895</td>\n",
       "      <td>12.237399</td>\n",
       "      <td>1.925830</td>\n",
       "    </tr>\n",
       "    <tr>\n",
       "      <th>Seattle</th>\n",
       "      <td>300.333694</td>\n",
       "      <td>11.925486</td>\n",
       "      <td>1.903315</td>\n",
       "    </tr>\n",
       "    <tr>\n",
       "      <th>Washington, DC</th>\n",
       "      <td>300.576421</td>\n",
       "      <td>11.930747</td>\n",
       "      <td>1.943107</td>\n",
       "    </tr>\n",
       "  </tbody>\n",
       "</table>\n",
       "</div>"
      ],
      "text/plain": [
       "                  quantity  weight_lb  price_usd\n",
       "city                                            \n",
       "Atlanta         302.485306  11.929027   1.937980\n",
       "Austin          301.048298  12.092775   1.937456\n",
       "Boston          298.806536  12.063057   1.900973\n",
       "Chicago         301.686186  12.101555   1.930026\n",
       "Denver          301.012745  12.129850   1.932088\n",
       "Los Angeles     301.531276  12.167527   1.918331\n",
       "New York        299.482863  12.090294   1.912662\n",
       "San Francisco   298.979895  12.237399   1.925830\n",
       "Seattle         300.333694  11.925486   1.903315\n",
       "Washington, DC  300.576421  11.930747   1.943107"
      ]
     },
     "execution_count": 75,
     "metadata": {},
     "output_type": "execute_result"
    }
   ],
   "source": [
    "pd.concat([pd.read_csv(d) for d in [os.path.join('./output', _) for _ in os.listdir('./output')]]).groupby(by='city')['quantity', 'weight_lb', 'price_usd'].mean()"
   ]
  },
  {
   "cell_type": "markdown",
   "metadata": {},
   "source": [
    "# Part III (BONUS): Get this process production-ready!\n",
    "_This part of the lab is optional, but very highly recommended, as the skills developed in this part are extremely common in industry._\n",
    "\n",
    "For this step, we're going to take this whole process and put it into a production-ready Python script. **PRODUCTIONALIZED ETL (_\"Extract, Transform, Load\"_) CODE DOES NOT TAKE PLACE IN A JUPYTER NOTEBOOK!**\n",
    "\n",
    "The instructions are simple: As conducted in this lab, read, transform, and export the data in our Excel files into .csv files. The code should be in a `.py` file and executable from the command line. Here are some hints and tips to guide you:\n",
    "\n",
    "### Hints, tips, and tricks:\n",
    "* A good place to start is with the code you've already written. In this notebook, you can click `File > Export Notebook as as > Executable Script` to export as a `.py` file. Most of this exercise then comes down to you cleaning this file. (There will be a lot to clean).\n",
    "* `os.mkdir()` will throw an error if the folder you're trying to make already exists. Maybe you should check to see if it already exists. If it already exists, what should you do? (Remember that `.csv` can be overwritten with no problem.) The functions that can help you with this are all in the `os` library.\n",
    "* Remember to follow all of the Python best practices we've already learned:\n",
    "    - All import statements should go at the top of your script.\n",
    "    - Comment your code. Comments shouldn't explain _what_ code does, but _why_ the code does this.\n",
    "    - Keep your code DRY (don't repeat yourself) as opposed to WET (write everything twice). All constants should be variables that only need to be changed once. All code should be bottled into functions so you only need to fix it once.\n",
    "* Make sure not to hardcode \"Jan\" anywhere. The point is that this code can be run throughout the lifetime of this supermarket's project, which is likely months or years. Keep your code so that if you get February data, you only need to change one tiny piece of the script (probably a file path)."
   ]
  },
  {
   "cell_type": "code",
   "execution_count": null,
   "metadata": {},
   "outputs": [],
   "source": []
  }
 ],
 "metadata": {
  "kernelspec": {
   "display_name": "Python 3",
   "language": "python",
   "name": "python3"
  },
  "language_info": {
   "codemirror_mode": {
    "name": "ipython",
    "version": 3
   },
   "file_extension": ".py",
   "mimetype": "text/x-python",
   "name": "python",
   "nbconvert_exporter": "python",
   "pygments_lexer": "ipython3",
   "version": "3.9.7"
  }
 },
 "nbformat": 4,
 "nbformat_minor": 4
}
