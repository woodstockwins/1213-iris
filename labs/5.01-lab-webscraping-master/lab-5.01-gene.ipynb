{
 "cells": [
  {
   "cell_type": "markdown",
   "metadata": {},
   "source": [
    "# Webscraping lab\n",
    "\n",
    "Practice your webscraping and parsing skills! 🎉"
   ]
  },
  {
   "cell_type": "code",
   "execution_count": 1,
   "metadata": {},
   "outputs": [],
   "source": [
    "# Import libaries\n",
    "import pandas as pd\n",
    "import requests\n",
    "import numpy as np\n",
    "from bs4 import BeautifulSoup\n",
    "from time import sleep"
   ]
  },
  {
   "cell_type": "markdown",
   "metadata": {},
   "source": [
    "### Step 1: Create a soup object from the home page"
   ]
  },
  {
   "cell_type": "code",
   "execution_count": 2,
   "metadata": {},
   "outputs": [],
   "source": [
    "url = 'https://pages.git.generalassemb.ly/rldaggie/for-scraping/'\n",
    "res = requests.get(url)\n",
    "soup = BeautifulSoup(res.content, 'lxml')"
   ]
  },
  {
   "cell_type": "markdown",
   "metadata": {},
   "source": [
    "### Step 2: Scrape the home page soup for every restaurant\n",
    "\n",
    "Note: Your best bet is to create a list of dictionaries, one for each restaurant. Each dictionary contains the restaurant's name and path from the `href`. The result of your scrape should look something like this:\n",
    "\n",
    "```python\n",
    "restaurants = [\n",
    "    {'name': 'A&W Restaurants', 'href': 'restaurants/1.html'}, \n",
    "    {'name': \"Applebee's\", 'href': 'restaurants/2.html'},\n",
    "    ...\n",
    "]\n",
    "```"
   ]
  },
  {
   "cell_type": "code",
   "execution_count": 3,
   "metadata": {},
   "outputs": [
    {
     "name": "stdout",
     "output_type": "stream",
     "text": [
      "{'name': 'A&W Restaurants', 'href': 'restaurants/1.html'}\n",
      "{'name': \"Applebee's\", 'href': 'restaurants/2.html'}\n",
      "{'name': \"Arby's\", 'href': 'restaurants/3.html'}\n"
     ]
    }
   ],
   "source": [
    "restaurants = []\n",
    "for item in soup.find('tbody').find_all('a'):\n",
    "    restaurant = {}\n",
    "    restaurant['name'] = item.text\n",
    "    restaurant['href'] = item.attrs['href'] \n",
    "    restaurants.append(restaurant)\n",
    "\n",
    "for _ in restaurants[0:3]:\n",
    "    print(_)"
   ]
  },
  {
   "cell_type": "markdown",
   "metadata": {},
   "source": [
    "### Step 3: Using the `href`, scrape each restaurant's page and create a single list of food dictionaries.\n",
    "\n",
    "Your list of foods should look something like this:\n",
    "```python\n",
    "foods = [\n",
    "    {\n",
    "        'calories': '0',\n",
    "        'carbs': '0',\n",
    "        'category': 'Drinks',\n",
    "        'fat': '0',\n",
    "        'name': 'A&W® Diet Root Beer',\n",
    "        'restaurant': 'A&W Restaurants'\n",
    "    },\n",
    "    {\n",
    "        'calories': '0',\n",
    "        'carbs': '0',\n",
    "        'category': 'Drinks',\n",
    "        'fat': '0',\n",
    "        'name': 'A&W® Diet Root Beer',\n",
    "        'restaurant': 'A&W Restaurants'\n",
    "    },\n",
    "    ...\n",
    "]\n",
    "```\n",
    "\n",
    "**Note**: Remove extra white space from each category"
   ]
  },
  {
   "cell_type": "code",
   "execution_count": 4,
   "metadata": {},
   "outputs": [],
   "source": [
    "foods = []\n",
    "for r in restaurants:\n",
    "\n",
    "    res_rest = requests.get(url + r['href'])\n",
    "    soup_r = BeautifulSoup(res_rest.content)\n",
    "\n",
    "    restau_name = soup_r.find('h3', {'class':'display-3'}).text.strip()\n",
    "    # grab headers\n",
    "    headers = []\n",
    "    for _ in soup_r.find('table').find('thead').find_all('th'):\n",
    "        headers.append(_.text.strip())\n",
    "\n",
    "    # grab content\n",
    "    for _ in soup_r.find('table').find('tbody').find_all('tr'):    \n",
    "        row = {}\n",
    "        row['Restaurant'] = restau_name\n",
    "        row[headers[0]] = _.find_all('td')[0].text.strip()\n",
    "        row[headers[1]] = _.find_all('td')[1].text.strip()\n",
    "        row[headers[2]] = _.find_all('td')[2].text.strip()\n",
    "        row[headers[3]] = _.find_all('td')[3].text.strip()\n",
    "        row[headers[4]] = _.find_all('td')[4].text.strip()\n",
    "        foods.append(row)\n",
    "    \n",
    "    sleep(1)"
   ]
  },
  {
   "cell_type": "markdown",
   "metadata": {},
   "source": [
    "### Step 4: Create a pandas DataFrame from your list of foods\n",
    "\n",
    "**Note**: Your DataFrame should have 5,131 rows"
   ]
  },
  {
   "cell_type": "code",
   "execution_count": 5,
   "metadata": {},
   "outputs": [
    {
     "data": {
      "text/html": [
       "<div>\n",
       "<style scoped>\n",
       "    .dataframe tbody tr th:only-of-type {\n",
       "        vertical-align: middle;\n",
       "    }\n",
       "\n",
       "    .dataframe tbody tr th {\n",
       "        vertical-align: top;\n",
       "    }\n",
       "\n",
       "    .dataframe thead th {\n",
       "        text-align: right;\n",
       "    }\n",
       "</style>\n",
       "<table border=\"1\" class=\"dataframe\">\n",
       "  <thead>\n",
       "    <tr style=\"text-align: right;\">\n",
       "      <th></th>\n",
       "      <th>Restaurant</th>\n",
       "      <th>Name</th>\n",
       "      <th>Category</th>\n",
       "      <th>Calories</th>\n",
       "      <th>Fat</th>\n",
       "      <th>Carbs</th>\n",
       "    </tr>\n",
       "  </thead>\n",
       "  <tbody>\n",
       "    <tr>\n",
       "      <th>0</th>\n",
       "      <td>A&amp;W Restaurants</td>\n",
       "      <td>Original Bacon Double Cheeseburger</td>\n",
       "      <td>Burgers</td>\n",
       "      <td>760</td>\n",
       "      <td>45</td>\n",
       "      <td>45</td>\n",
       "    </tr>\n",
       "    <tr>\n",
       "      <th>1</th>\n",
       "      <td>A&amp;W Restaurants</td>\n",
       "      <td>Coney (Chili) Dog</td>\n",
       "      <td>Entrees</td>\n",
       "      <td>340</td>\n",
       "      <td>20</td>\n",
       "      <td>26</td>\n",
       "    </tr>\n",
       "    <tr>\n",
       "      <th>2</th>\n",
       "      <td>A&amp;W Restaurants</td>\n",
       "      <td>Chili Fries</td>\n",
       "      <td>French Fries</td>\n",
       "      <td>370</td>\n",
       "      <td>15</td>\n",
       "      <td>49</td>\n",
       "    </tr>\n",
       "    <tr>\n",
       "      <th>3</th>\n",
       "      <td>A&amp;W Restaurants</td>\n",
       "      <td>Strawberry Milkshake (small)</td>\n",
       "      <td>Shakes</td>\n",
       "      <td>670</td>\n",
       "      <td>29</td>\n",
       "      <td>90</td>\n",
       "    </tr>\n",
       "    <tr>\n",
       "      <th>4</th>\n",
       "      <td>A&amp;W Restaurants</td>\n",
       "      <td>A&amp;W® Root Beer Freeze (large)</td>\n",
       "      <td>Shakes</td>\n",
       "      <td>820</td>\n",
       "      <td>18</td>\n",
       "      <td>150</td>\n",
       "    </tr>\n",
       "  </tbody>\n",
       "</table>\n",
       "</div>"
      ],
      "text/plain": [
       "        Restaurant                                Name      Category Calories  \\\n",
       "0  A&W Restaurants  Original Bacon Double Cheeseburger       Burgers      760   \n",
       "1  A&W Restaurants                   Coney (Chili) Dog       Entrees      340   \n",
       "2  A&W Restaurants                         Chili Fries  French Fries      370   \n",
       "3  A&W Restaurants        Strawberry Milkshake (small)        Shakes      670   \n",
       "4  A&W Restaurants       A&W® Root Beer Freeze (large)        Shakes      820   \n",
       "\n",
       "  Fat Carbs  \n",
       "0  45    45  \n",
       "1  20    26  \n",
       "2  15    49  \n",
       "3  29    90  \n",
       "4  18   150  "
      ]
     },
     "execution_count": 5,
     "metadata": {},
     "output_type": "execute_result"
    }
   ],
   "source": [
    "foods = pd.DataFrame(foods)\n",
    "foods.head()"
   ]
  },
  {
   "cell_type": "code",
   "execution_count": 6,
   "metadata": {},
   "outputs": [
    {
     "data": {
      "text/plain": [
       "(5131, 6)"
      ]
     },
     "execution_count": 6,
     "metadata": {},
     "output_type": "execute_result"
    }
   ],
   "source": [
    "foods.shape"
   ]
  },
  {
   "cell_type": "markdown",
   "metadata": {},
   "source": [
    "### Step 5: Export to csv\n",
    "\n",
    "**Note:** Don't export the index column from your DataFrame"
   ]
  },
  {
   "cell_type": "code",
   "execution_count": 7,
   "metadata": {},
   "outputs": [],
   "source": [
    "foods.to_csv('./foods.csv', index=False)"
   ]
  },
  {
   "cell_type": "markdown",
   "metadata": {},
   "source": [
    "### Step 6: Use `pd.read_html`\n",
    "Do the same thing as above, but use `pd.read_html()` to scrape the table from each page instead of BS4."
   ]
  },
  {
   "cell_type": "code",
   "execution_count": 8,
   "metadata": {},
   "outputs": [],
   "source": [
    "foods_quick = []\n",
    "for r in restaurants:\n",
    "    data = pd.read_html(url + r['href'])[0]\n",
    "    data['Restaurant'] = np.full_like(data.iloc[:,0], r['name'])\n",
    "    foods_quick.append(data)"
   ]
  },
  {
   "cell_type": "code",
   "execution_count": 9,
   "metadata": {},
   "outputs": [
    {
     "data": {
      "text/html": [
       "<div>\n",
       "<style scoped>\n",
       "    .dataframe tbody tr th:only-of-type {\n",
       "        vertical-align: middle;\n",
       "    }\n",
       "\n",
       "    .dataframe tbody tr th {\n",
       "        vertical-align: top;\n",
       "    }\n",
       "\n",
       "    .dataframe thead th {\n",
       "        text-align: right;\n",
       "    }\n",
       "</style>\n",
       "<table border=\"1\" class=\"dataframe\">\n",
       "  <thead>\n",
       "    <tr style=\"text-align: right;\">\n",
       "      <th></th>\n",
       "      <th>Restaurant</th>\n",
       "      <th>Name</th>\n",
       "      <th>Category</th>\n",
       "      <th>Calories</th>\n",
       "      <th>Fat</th>\n",
       "      <th>Carbs</th>\n",
       "    </tr>\n",
       "  </thead>\n",
       "  <tbody>\n",
       "    <tr>\n",
       "      <th>0</th>\n",
       "      <td>A&amp;W Restaurants</td>\n",
       "      <td>Original Bacon Double Cheeseburger</td>\n",
       "      <td>Burgers</td>\n",
       "      <td>760</td>\n",
       "      <td>45</td>\n",
       "      <td>45</td>\n",
       "    </tr>\n",
       "    <tr>\n",
       "      <th>1</th>\n",
       "      <td>A&amp;W Restaurants</td>\n",
       "      <td>Coney (Chili) Dog</td>\n",
       "      <td>Entrees</td>\n",
       "      <td>340</td>\n",
       "      <td>20</td>\n",
       "      <td>26</td>\n",
       "    </tr>\n",
       "    <tr>\n",
       "      <th>2</th>\n",
       "      <td>A&amp;W Restaurants</td>\n",
       "      <td>Chili Fries</td>\n",
       "      <td>French Fries</td>\n",
       "      <td>370</td>\n",
       "      <td>15</td>\n",
       "      <td>49</td>\n",
       "    </tr>\n",
       "    <tr>\n",
       "      <th>3</th>\n",
       "      <td>A&amp;W Restaurants</td>\n",
       "      <td>Strawberry Milkshake (small)</td>\n",
       "      <td>Shakes</td>\n",
       "      <td>670</td>\n",
       "      <td>29</td>\n",
       "      <td>90</td>\n",
       "    </tr>\n",
       "    <tr>\n",
       "      <th>4</th>\n",
       "      <td>A&amp;W Restaurants</td>\n",
       "      <td>A&amp;W® Root Beer Freeze (large)</td>\n",
       "      <td>Shakes</td>\n",
       "      <td>820</td>\n",
       "      <td>18</td>\n",
       "      <td>150</td>\n",
       "    </tr>\n",
       "    <tr>\n",
       "      <th>...</th>\n",
       "      <td>...</td>\n",
       "      <td>...</td>\n",
       "      <td>...</td>\n",
       "      <td>...</td>\n",
       "      <td>...</td>\n",
       "      <td>...</td>\n",
       "    </tr>\n",
       "    <tr>\n",
       "      <th>5126</th>\n",
       "      <td>Wendy's</td>\n",
       "      <td>Jr. Original Chocolate Frosty™</td>\n",
       "      <td>Shakes</td>\n",
       "      <td>200</td>\n",
       "      <td>5</td>\n",
       "      <td>32</td>\n",
       "    </tr>\n",
       "    <tr>\n",
       "      <th>5127</th>\n",
       "      <td>Wendy's</td>\n",
       "      <td>Grilled Chicken Go Wrap</td>\n",
       "      <td>Wraps</td>\n",
       "      <td>260</td>\n",
       "      <td>10</td>\n",
       "      <td>25</td>\n",
       "    </tr>\n",
       "    <tr>\n",
       "      <th>5128</th>\n",
       "      <td>Wendy's</td>\n",
       "      <td>Asiago Ranch Chicken Club</td>\n",
       "      <td>Sandwiches</td>\n",
       "      <td>670</td>\n",
       "      <td>32</td>\n",
       "      <td>57</td>\n",
       "    </tr>\n",
       "    <tr>\n",
       "      <th>5129</th>\n",
       "      <td>Wendy's</td>\n",
       "      <td>Spicy Chicken Go Wrap</td>\n",
       "      <td>Wraps</td>\n",
       "      <td>330</td>\n",
       "      <td>16</td>\n",
       "      <td>30</td>\n",
       "    </tr>\n",
       "    <tr>\n",
       "      <th>5130</th>\n",
       "      <td>Wendy's</td>\n",
       "      <td>Large Strawberry Frosty™ Shake</td>\n",
       "      <td>Shakes</td>\n",
       "      <td>780</td>\n",
       "      <td>15</td>\n",
       "      <td>149</td>\n",
       "    </tr>\n",
       "  </tbody>\n",
       "</table>\n",
       "<p>5131 rows × 6 columns</p>\n",
       "</div>"
      ],
      "text/plain": [
       "           Restaurant                                Name      Category  \\\n",
       "0     A&W Restaurants  Original Bacon Double Cheeseburger       Burgers   \n",
       "1     A&W Restaurants                   Coney (Chili) Dog       Entrees   \n",
       "2     A&W Restaurants                         Chili Fries  French Fries   \n",
       "3     A&W Restaurants        Strawberry Milkshake (small)        Shakes   \n",
       "4     A&W Restaurants       A&W® Root Beer Freeze (large)        Shakes   \n",
       "...               ...                                 ...           ...   \n",
       "5126          Wendy's      Jr. Original Chocolate Frosty™        Shakes   \n",
       "5127          Wendy's             Grilled Chicken Go Wrap         Wraps   \n",
       "5128          Wendy's           Asiago Ranch Chicken Club    Sandwiches   \n",
       "5129          Wendy's               Spicy Chicken Go Wrap         Wraps   \n",
       "5130          Wendy's      Large Strawberry Frosty™ Shake        Shakes   \n",
       "\n",
       "     Calories Fat Carbs  \n",
       "0         760  45    45  \n",
       "1         340  20    26  \n",
       "2         370  15    49  \n",
       "3         670  29    90  \n",
       "4         820  18   150  \n",
       "...       ...  ..   ...  \n",
       "5126      200   5    32  \n",
       "5127      260  10    25  \n",
       "5128      670  32    57  \n",
       "5129      330  16    30  \n",
       "5130      780  15   149  \n",
       "\n",
       "[5131 rows x 6 columns]"
      ]
     },
     "execution_count": 9,
     "metadata": {},
     "output_type": "execute_result"
    }
   ],
   "source": [
    "foods_quick = pd.concat(foods_quick)\n",
    "foods_quick.reset_index(inplace=True, drop=True)\n",
    "foods_quick = foods_quick[[foods_quick.columns[-1]] + foods_quick.columns[0:-1].to_list()]\n",
    "foods_quick"
   ]
  }
 ],
 "metadata": {
  "kernelspec": {
   "display_name": "Python 3",
   "language": "python",
   "name": "python3"
  },
  "language_info": {
   "codemirror_mode": {
    "name": "ipython",
    "version": 3
   },
   "file_extension": ".py",
   "mimetype": "text/x-python",
   "name": "python",
   "nbconvert_exporter": "python",
   "pygments_lexer": "ipython3",
   "version": "3.9.7"
  }
 },
 "nbformat": 4,
 "nbformat_minor": 4
}
