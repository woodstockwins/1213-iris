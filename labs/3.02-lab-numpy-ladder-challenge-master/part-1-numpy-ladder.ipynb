{
 "cells": [
  {
   "cell_type": "markdown",
   "metadata": {},
   "source": [
    "<img src=\"http://imgur.com/1ZcRyrc.png\" style=\"float: left; margin: 20px; height: 55px\" />\n",
    "\n",
    "# Numpy Ladder Challenge - Notebook 1\n",
    "\n",
    "_Author:_ Tim Book"
   ]
  },
  {
   "cell_type": "markdown",
   "metadata": {},
   "source": [
    "# Climb the Ladder!\n",
    "Our class moves quickly! Sometimes, it feels like we make leaps in logic that are a bit too big. In this ladder challenge, we'll learn some core math concepts, some linear algebra, and the `numpy` library. Problems in this notebook start out easy and progressively get harder, so that the next rung of the Python ladder is always within reach.\n",
    "\n",
    "Additionally, since not all of the topics discussed in this ladder challenge are explicitly taught in our course, these problems come with many more hints, tips, suggestions, and even sometimes a mini-lesson. You are encouraged to Google frequently throughout the lesson. In many ways, this ladder is meant to be a challenge as well as educational in its own right."
   ]
  },
  {
   "cell_type": "markdown",
   "metadata": {},
   "source": [
    "# One Rule: NO LOOPS\n",
    "`numpy` takes advantage of **vectorized calculations**. A vectorized calculation is where one calculation occurs throughout the entire vector. For example, for a vector `v`, if we want a vector `w` that is all the elements of `v` plus one:\n",
    "\n",
    "```\n",
    "# GOOD! This is vectorized!\n",
    "w = v + 1\n",
    "\n",
    "# BAD! This is hard to read and extremely inefficient!\n",
    "for i in range(len(v)):\n",
    "    w[i] = v[i] + 1\n",
    "```\n",
    "\n",
    "**None of the exercises in this notebook require a loop. If you use a loop to solve any of these problems, you are solving the problem incorrectly.**"
   ]
  },
  {
   "cell_type": "markdown",
   "metadata": {},
   "source": [
    "# Section I - Vectors and some vector math"
   ]
  },
  {
   "cell_type": "markdown",
   "metadata": {},
   "source": [
    "0) Import the `numpy` library, aliasing it to be `np`"
   ]
  },
  {
   "cell_type": "code",
   "execution_count": 40,
   "metadata": {},
   "outputs": [],
   "source": [
    "import numpy as np"
   ]
  },
  {
   "cell_type": "markdown",
   "metadata": {},
   "source": [
    "1) Make the following vector defined as `v`:\n",
    "    $$\\mathbf{v} = (3, -1, 5, 2, -7)$$"
   ]
  },
  {
   "cell_type": "code",
   "execution_count": 41,
   "metadata": {},
   "outputs": [
    {
     "name": "stdout",
     "output_type": "stream",
     "text": [
      "[ 3 -1  5  2 -7]\n"
     ]
    }
   ],
   "source": [
    "v = np.array([3, -1, 5, 2, -7])\n",
    "print(v)"
   ]
  },
  {
   "cell_type": "markdown",
   "metadata": {},
   "source": [
    "2) Make the following vector defined as `w` using `np.arange()`:\n",
    "    $$\\mathbf{w} = (2, 3, 4, 5, 6)$$"
   ]
  },
  {
   "cell_type": "code",
   "execution_count": 42,
   "metadata": {},
   "outputs": [
    {
     "name": "stdout",
     "output_type": "stream",
     "text": [
      "[2 3 4 5 6]\n"
     ]
    }
   ],
   "source": [
    "w = np.arange(2, 7)\n",
    "print(w)"
   ]
  },
  {
   "cell_type": "markdown",
   "metadata": {},
   "source": [
    "3) Find $\\mathbf{v} + \\mathbf{w}$."
   ]
  },
  {
   "cell_type": "code",
   "execution_count": 43,
   "metadata": {},
   "outputs": [
    {
     "data": {
      "text/plain": [
       "array([ 5,  2,  9,  7, -1])"
      ]
     },
     "execution_count": 43,
     "metadata": {},
     "output_type": "execute_result"
    }
   ],
   "source": [
    "v + w"
   ]
  },
  {
   "cell_type": "markdown",
   "metadata": {},
   "source": [
    "4) What's the element-wise product of $\\mathbf{v}$ and $\\mathbf{w}$?"
   ]
  },
  {
   "cell_type": "code",
   "execution_count": 44,
   "metadata": {},
   "outputs": [
    {
     "data": {
      "text/plain": [
       "array([  6,  -3,  20,  10, -42])"
      ]
     },
     "execution_count": 44,
     "metadata": {},
     "output_type": "execute_result"
    }
   ],
   "source": [
    "v * w"
   ]
  },
  {
   "cell_type": "markdown",
   "metadata": {},
   "source": [
    "5) Triple every element of `v`. (Do not reassign.)"
   ]
  },
  {
   "cell_type": "code",
   "execution_count": 45,
   "metadata": {},
   "outputs": [
    {
     "data": {
      "text/plain": [
       "array([  9,  -3,  15,   6, -21])"
      ]
     },
     "execution_count": 45,
     "metadata": {},
     "output_type": "execute_result"
    }
   ],
   "source": [
    "v * 3"
   ]
  },
  {
   "cell_type": "markdown",
   "metadata": {},
   "source": [
    "6) Double every element of `w` and then subtract 2 from every element. (Do not reassign.)"
   ]
  },
  {
   "cell_type": "code",
   "execution_count": 46,
   "metadata": {},
   "outputs": [
    {
     "name": "stdout",
     "output_type": "stream",
     "text": [
      "[2 3 4 5 6]\n"
     ]
    },
    {
     "data": {
      "text/plain": [
       "array([ 2,  4,  6,  8, 10])"
      ]
     },
     "execution_count": 46,
     "metadata": {},
     "output_type": "execute_result"
    }
   ],
   "source": [
    "print(w)\n",
    "(w * 2) - 2"
   ]
  },
  {
   "cell_type": "markdown",
   "metadata": {},
   "source": [
    "7) Index `v` to show me the number `-1`."
   ]
  },
  {
   "cell_type": "code",
   "execution_count": 47,
   "metadata": {},
   "outputs": [
    {
     "name": "stdout",
     "output_type": "stream",
     "text": [
      "[ 3 -1  5  2 -7]\n"
     ]
    },
    {
     "data": {
      "text/plain": [
       "-1"
      ]
     },
     "execution_count": 47,
     "metadata": {},
     "output_type": "execute_result"
    }
   ],
   "source": [
    "print(v)\n",
    "v[1]"
   ]
  },
  {
   "cell_type": "markdown",
   "metadata": {},
   "source": [
    "8) Index `v` to show me everything except the 0th element."
   ]
  },
  {
   "cell_type": "code",
   "execution_count": 48,
   "metadata": {},
   "outputs": [
    {
     "name": "stdout",
     "output_type": "stream",
     "text": [
      "[ 3 -1  5  2 -7]\n"
     ]
    },
    {
     "data": {
      "text/plain": [
       "array([-1,  5,  2, -7])"
      ]
     },
     "execution_count": 48,
     "metadata": {},
     "output_type": "execute_result"
    }
   ],
   "source": [
    "print(v)\n",
    "v[1:]"
   ]
  },
  {
   "cell_type": "markdown",
   "metadata": {},
   "source": [
    "9) Index `v` to show me the elements at index 4, 2, and 3 (in that order)."
   ]
  },
  {
   "cell_type": "code",
   "execution_count": 49,
   "metadata": {},
   "outputs": [
    {
     "name": "stdout",
     "output_type": "stream",
     "text": [
      "[ 3 -1  5  2 -7]\n"
     ]
    },
    {
     "data": {
      "text/plain": [
       "array([-7,  5,  2])"
      ]
     },
     "execution_count": 49,
     "metadata": {},
     "output_type": "execute_result"
    }
   ],
   "source": [
    "print(v)\n",
    "v[[4, 2, 3]]"
   ]
  },
  {
   "cell_type": "markdown",
   "metadata": {},
   "source": [
    "10) Reassign the element of `v` at index 2 to be 6."
   ]
  },
  {
   "cell_type": "code",
   "execution_count": 50,
   "metadata": {},
   "outputs": [
    {
     "name": "stdout",
     "output_type": "stream",
     "text": [
      "[ 3 -1  5  2 -7]\n",
      "[ 3 -1  6  2 -7]\n"
     ]
    }
   ],
   "source": [
    "print(v)\n",
    "v[2] = 6\n",
    "print(v)"
   ]
  },
  {
   "cell_type": "markdown",
   "metadata": {},
   "source": [
    "### Mini-Lesson: Filtering\n",
    "Inequalities are also vectorized in `numpy`. For example:\n",
    "\n",
    "```\n",
    "v > 2\n",
    "==> array([ True, False,  True, False, False])\n",
    "```\n",
    "\n",
    "You can also **filter** a vector using booleans, like follows:\n",
    "\n",
    "```\n",
    "v[[True, False,  True, False, False]]\n",
    "==> array([3, 6])\n",
    "```\n",
    "\n",
    "The vector keeps anything `True`, and drops anything `False`.  It then follows you can filter a vector using the vector itself, like this:\n",
    "\n",
    "```\n",
    "v[v > 2]\n",
    "==> array([3, 6])\n",
    "```"
   ]
  },
  {
   "cell_type": "markdown",
   "metadata": {},
   "source": [
    "11) Show me all of the positive elements of `v`."
   ]
  },
  {
   "cell_type": "code",
   "execution_count": 51,
   "metadata": {},
   "outputs": [
    {
     "name": "stdout",
     "output_type": "stream",
     "text": [
      "[ 3 -1  6  2 -7]\n"
     ]
    },
    {
     "data": {
      "text/plain": [
       "array([3, 6, 2])"
      ]
     },
     "execution_count": 51,
     "metadata": {},
     "output_type": "execute_result"
    }
   ],
   "source": [
    "print(v)\n",
    "v[v > 0]"
   ]
  },
  {
   "cell_type": "markdown",
   "metadata": {},
   "source": [
    "12) How many elements of `v` are positive? (Use `numpy` to answer this question, do not count manually)."
   ]
  },
  {
   "cell_type": "code",
   "execution_count": 52,
   "metadata": {},
   "outputs": [
    {
     "name": "stdout",
     "output_type": "stream",
     "text": [
      "[3 6 2]\n",
      "3\n",
      "3\n"
     ]
    },
    {
     "data": {
      "text/plain": [
       "3"
      ]
     },
     "execution_count": 52,
     "metadata": {},
     "output_type": "execute_result"
    }
   ],
   "source": [
    "print(v[v > 0])\n",
    "print(len(v[v > 0]))\n",
    "print(np.count_nonzero(v > 0))\n",
    "np.sum(v > 0)"
   ]
  },
  {
   "cell_type": "markdown",
   "metadata": {},
   "source": [
    "13) Show me all of the even elements of `w`."
   ]
  },
  {
   "cell_type": "code",
   "execution_count": 53,
   "metadata": {},
   "outputs": [
    {
     "name": "stdout",
     "output_type": "stream",
     "text": [
      "[2 3 4 5 6]\n",
      "[2 4 6]\n"
     ]
    },
    {
     "data": {
      "text/plain": [
       "array([2, 4, 6])"
      ]
     },
     "execution_count": 53,
     "metadata": {},
     "output_type": "execute_result"
    }
   ],
   "source": [
    "print(w)\n",
    "w_even = w[w % 2 == 0]\n",
    "print(w_even[w_even > 0])\n",
    "w_mask = np.logical_and([w % 2 == 0], [w > 0])\n",
    "w[w_mask[0]]\n",
    "\n",
    "\n"
   ]
  },
  {
   "cell_type": "markdown",
   "metadata": {},
   "source": [
    "14) Show me all of the positive even elements of `v`."
   ]
  },
  {
   "cell_type": "code",
   "execution_count": 54,
   "metadata": {},
   "outputs": [
    {
     "name": "stdout",
     "output_type": "stream",
     "text": [
      "[ 3 -1  6  2 -7]\n",
      "[6 2]\n"
     ]
    },
    {
     "data": {
      "text/plain": [
       "array([6, 2])"
      ]
     },
     "execution_count": 54,
     "metadata": {},
     "output_type": "execute_result"
    }
   ],
   "source": [
    "print(v)\n",
    "v_even = v[v % 2 == 0]\n",
    "print(v_even[v_even > 0])\n",
    "v_mask = np.logical_and([v % 2 == 0], [v > 0])\n",
    "v[v_mask[0]]"
   ]
  },
  {
   "cell_type": "markdown",
   "metadata": {},
   "source": [
    "15) Redefine all the negative elements of `v` to be zero. This is a common sort of operation to do for real-world data! \n",
    "\n",
    "_Hint:_ Using `np.where` is one of two easy ways to do this. The other is the reassign the vector while filtering.  Do both ways if you can! "
   ]
  },
  {
   "cell_type": "code",
   "execution_count": 55,
   "metadata": {},
   "outputs": [
    {
     "name": "stdout",
     "output_type": "stream",
     "text": [
      "original v  = [ 3 -1  6  2 -7]\n",
      "v_zeros     = [3 0 6 2 0]\n",
      "reasigned v = [3 0 6 2 0]\n"
     ]
    }
   ],
   "source": [
    "print(f\"original v  = {v}\")\n",
    "v_zeros = np.where(v < 0, 0, v)\n",
    "print(f\"v_zeros     = {v_zeros}\")\n",
    "v[v < 0] = 0\n",
    "print(f\"reasigned v = {v}\")"
   ]
  },
  {
   "cell_type": "markdown",
   "metadata": {},
   "source": [
    "16) Create a new vector that's `\"EVEN\"` if the corresponding element of `w` is even, and `\"ODD\"` otherwise."
   ]
  },
  {
   "cell_type": "code",
   "execution_count": 56,
   "metadata": {},
   "outputs": [
    {
     "name": "stdout",
     "output_type": "stream",
     "text": [
      "[2 3 4 5 6]\n",
      "[2 4 6]\n",
      "[3 5]\n"
     ]
    }
   ],
   "source": [
    "print(w)\n",
    "w_even = w[np.where(w % 2 == 0, True, False)]\n",
    "print(w_even)\n",
    "w_odd = w[np.where(w % 2 == 1, True, False)]\n",
    "print(w_odd)\n"
   ]
  },
  {
   "cell_type": "markdown",
   "metadata": {},
   "source": [
    "# Section II - Statistics and vector operations"
   ]
  },
  {
   "cell_type": "markdown",
   "metadata": {},
   "source": [
    "### Emails\n",
    "For the next few problems, consider the following vector which represents the number of emails my inbox gets over the span of 20 days."
   ]
  },
  {
   "cell_type": "code",
   "execution_count": 57,
   "metadata": {},
   "outputs": [],
   "source": [
    "emails = np.array([25, 2, 45, 6, -2, 4, 4, 10, 6, -3, 16, 39, 19, 0, 1, -11, 25, 2, 7, 17])"
   ]
  },
  {
   "cell_type": "markdown",
   "metadata": {},
   "source": [
    "17) A few data points were accidentally recorded as negative when they should be positive. Reassign `emails` to fix these records."
   ]
  },
  {
   "cell_type": "code",
   "execution_count": 58,
   "metadata": {},
   "outputs": [
    {
     "name": "stdout",
     "output_type": "stream",
     "text": [
      "[ 25   2  45   6  -2   4   4  10   6  -3  16  39  19   0   1 -11  25   2\n",
      "   7  17]\n",
      "[25  2 45  6  2  4  4 10  6  3 16 39 19  0  1 11 25  2  7 17]\n"
     ]
    }
   ],
   "source": [
    "print(emails)\n",
    "emails = np.where(emails < 0, emails * -1, emails)\n",
    "print(emails)"
   ]
  },
  {
   "cell_type": "markdown",
   "metadata": {},
   "source": [
    "18) What is the mean number of emails I get per day?"
   ]
  },
  {
   "cell_type": "code",
   "execution_count": 59,
   "metadata": {},
   "outputs": [
    {
     "data": {
      "text/plain": [
       "12.2"
      ]
     },
     "execution_count": 59,
     "metadata": {},
     "output_type": "execute_result"
    }
   ],
   "source": [
    "np.mean(emails)"
   ]
  },
  {
   "cell_type": "markdown",
   "metadata": {},
   "source": [
    "19) Among days where I get more than 15 emails, what is the mean number of emails I get?"
   ]
  },
  {
   "cell_type": "code",
   "execution_count": 60,
   "metadata": {},
   "outputs": [
    {
     "name": "stdout",
     "output_type": "stream",
     "text": [
      "[25 45 16 39 19 25 17]\n"
     ]
    },
    {
     "data": {
      "text/plain": [
       "26.57"
      ]
     },
     "execution_count": 60,
     "metadata": {},
     "output_type": "execute_result"
    }
   ],
   "source": [
    "print(emails[emails > 15])\n",
    "round(np.mean(emails[emails > 15]), 2)"
   ]
  },
  {
   "cell_type": "markdown",
   "metadata": {},
   "source": [
    "20) What proportion of days do I receive more than 20 emails?"
   ]
  },
  {
   "cell_type": "code",
   "execution_count": 61,
   "metadata": {},
   "outputs": [
    {
     "data": {
      "text/plain": [
       "0.2"
      ]
     },
     "execution_count": 61,
     "metadata": {},
     "output_type": "execute_result"
    }
   ],
   "source": [
    "np.mean(emails > 20)"
   ]
  },
  {
   "cell_type": "markdown",
   "metadata": {},
   "source": [
    "### Probabilities\n",
    "For the next few problems, consider the following vector of probabilities:"
   ]
  },
  {
   "cell_type": "code",
   "execution_count": 62,
   "metadata": {},
   "outputs": [],
   "source": [
    "p = np.array([0.69, 0.38, 0.68, 0.23, 0.26, 0.59, 0.94, 0.77, 0.85, 0.89])"
   ]
  },
  {
   "cell_type": "markdown",
   "metadata": {},
   "source": [
    "21) The _odds_ of an event occuring is defined as the probability an even occuring divided by the probability that it doesn't. That is:\n",
    "\n",
    "$$\\text{odds} = \\frac{p}{1 - p}$$\n",
    "\n",
    "Compute the odds of all of the probabilities in `p`. Remember, no loops!"
   ]
  },
  {
   "cell_type": "code",
   "execution_count": 63,
   "metadata": {},
   "outputs": [
    {
     "data": {
      "text/plain": [
       "array([ 2.22580645,  0.61290323,  2.125     ,  0.2987013 ,  0.35135135,\n",
       "        1.43902439, 15.66666667,  3.34782609,  5.66666667,  8.09090909])"
      ]
     },
     "execution_count": 63,
     "metadata": {},
     "output_type": "execute_result"
    }
   ],
   "source": [
    "p / (1 - p)"
   ]
  },
  {
   "cell_type": "markdown",
   "metadata": {},
   "source": [
    "22) Later in the course, we'll need to compute **log odds** of probabilities. That is,\n",
    "\n",
    "$$\\log\\frac{p}{1 - p}$$\n",
    "\n",
    "where $\\log$ is the natural logarithm. Compute the log odds for all the probabilities in `p`."
   ]
  },
  {
   "cell_type": "code",
   "execution_count": 64,
   "metadata": {},
   "outputs": [
    {
     "data": {
      "text/plain": [
       "array([ 0.8001193 , -0.48954823,  0.7537718 , -1.20831121, -1.04596856,\n",
       "        0.36396538,  2.75153531,  1.20831121,  1.73460106,  2.0907411 ])"
      ]
     },
     "execution_count": 64,
     "metadata": {},
     "output_type": "execute_result"
    }
   ],
   "source": [
    "np.log(p/(1-p))"
   ]
  },
  {
   "cell_type": "markdown",
   "metadata": {},
   "source": [
    "23) Create a variable `predictions` that is `1` if the value of `p` is greater than `0.5` and `0` otherwise."
   ]
  },
  {
   "cell_type": "code",
   "execution_count": 65,
   "metadata": {},
   "outputs": [
    {
     "name": "stdout",
     "output_type": "stream",
     "text": [
      "[1 0 1 0 0 1 1 1 1 1]\n"
     ]
    }
   ],
   "source": [
    "predictions = np.where(p > .5, 1, 0)\n",
    "print(predictions)"
   ]
  },
  {
   "cell_type": "markdown",
   "metadata": {},
   "source": [
    "24) What proportion of our predictions are `1`?"
   ]
  },
  {
   "cell_type": "code",
   "execution_count": 66,
   "metadata": {},
   "outputs": [
    {
     "data": {
      "text/plain": [
       "0.7"
      ]
     },
     "execution_count": 66,
     "metadata": {},
     "output_type": "execute_result"
    }
   ],
   "source": [
    "np.mean(predictions)"
   ]
  },
  {
   "cell_type": "markdown",
   "metadata": {},
   "source": [
    "25) Below, the vector `y` represents the true outcomes of the event occuring. In this case, `p` was actually our predicted probabilities of an event occuring. What proportion of the time were our predictions correct? More simply put, what proportion of the time do our `predictions` and `y` vectors match up? Later in the course, this will be known as our **prediction accuracy**."
   ]
  },
  {
   "cell_type": "code",
   "execution_count": 67,
   "metadata": {},
   "outputs": [
    {
     "name": "stdout",
     "output_type": "stream",
     "text": [
      "[1 0 1 0 0 1 1 1 1 1]\n",
      "[0 0 1 0 0 0 1 1 1 1]\n"
     ]
    },
    {
     "data": {
      "text/plain": [
       "0.8"
      ]
     },
     "execution_count": 67,
     "metadata": {},
     "output_type": "execute_result"
    }
   ],
   "source": [
    "print(predictions)\n",
    "y = np.array([0, 0, 1, 0, 0, 0, 1, 1, 1, 1])\n",
    "print(y)\n",
    "np.mean(np.where(predictions == y, True, False))"
   ]
  },
  {
   "cell_type": "markdown",
   "metadata": {},
   "source": [
    "26) Sometimes, we'll want the **log loss** in a problem like this. While we'll normally let this get calculated for us automatically, it's good to do it once. Here's the formula:\n",
    "\n",
    "$$\\text{LogLoss} = \\sum\\left[-y_i \\log p_i - (1 - y_i) \\log (1 - p_i)\\right]$$\n",
    "\n",
    "### Mini-Lesson: How to read formulas like this!\n",
    "We will encounter intimidating formulas like this countless times throughout our course. Their bark is worse than their bite, I promise. Let's dissect how to read them:\n",
    "\n",
    "* **Subscripts** - The symbol $y_i$ represents the $i$th element of the vector $y$. In this case, that is represented by our numpy array `y`. Similarly, $p_i$ is the $i$th element of $p$, which we have as `p`.\n",
    "* **Calculation** - For each $i$, we will calculate $-y_i \\log p_i - (1 - y_i) \\log (1 - p_i)$. So, for our 10-length vectors, we will have a resulting 10-length vector.\n",
    "* **Summation** - The symbol $\\Sigma$ is the Greek letter \"sigma\" - which is the Greek version of \"s\". In this case, \"s\" stands for \"sum\". It implies we'll be summing together all of our 10 calculations.\n",
    "\n",
    "Let's solve problem 26 in two easy steps:"
   ]
  },
  {
   "cell_type": "markdown",
   "metadata": {},
   "source": [
    "26a) Compute $-y_i \\log p_i - (1 - y_i) \\log (1 - p_i)$ for each $i$. Call this result `loglik_i`."
   ]
  },
  {
   "cell_type": "code",
   "execution_count": 68,
   "metadata": {},
   "outputs": [
    {
     "data": {
      "text/plain": [
       "array([1.17118298, 0.4780358 , 0.38566248, 0.26136476, 0.30110509,\n",
       "       0.89159812, 0.0618754 , 0.26136476, 0.16251893, 0.11653382])"
      ]
     },
     "execution_count": 68,
     "metadata": {},
     "output_type": "execute_result"
    }
   ],
   "source": [
    "loglik_i = (-y * np.log(p)) - ((1 - y) * np.log(1 - p))\n",
    "loglik_i"
   ]
  },
  {
   "cell_type": "markdown",
   "metadata": {},
   "source": [
    "26b) Sum the previous result to get our answer!"
   ]
  },
  {
   "cell_type": "code",
   "execution_count": 69,
   "metadata": {},
   "outputs": [
    {
     "name": "stdout",
     "output_type": "stream",
     "text": [
      "4.091242153066264\n"
     ]
    }
   ],
   "source": [
    "log_loss = sum(loglik_i)\n",
    "print(log_loss)"
   ]
  }
 ],
 "metadata": {
  "kernelspec": {
   "display_name": "Python 3",
   "language": "python",
   "name": "python3"
  },
  "language_info": {
   "codemirror_mode": {
    "name": "ipython",
    "version": 3
   },
   "file_extension": ".py",
   "mimetype": "text/x-python",
   "name": "python",
   "nbconvert_exporter": "python",
   "pygments_lexer": "ipython3",
   "version": "3.9.7"
  }
 },
 "nbformat": 4,
 "nbformat_minor": 2
}
