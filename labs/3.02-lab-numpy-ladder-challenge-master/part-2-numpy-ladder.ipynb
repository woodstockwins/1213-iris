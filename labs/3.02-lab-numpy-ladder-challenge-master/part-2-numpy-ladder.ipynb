{
 "cells": [
  {
   "cell_type": "markdown",
   "metadata": {},
   "source": [
    "<img src=\"http://imgur.com/1ZcRyrc.png\" style=\"float: left; margin: 20px; height: 55px\" />\n",
    "\n",
    "# Numpy Ladder Challenge - Notebook 2\n",
    "\n",
    "_Author:_ Tim Book"
   ]
  },
  {
   "cell_type": "markdown",
   "metadata": {},
   "source": [
    "# Climb the Ladder!\n",
    "Our class moves quickly! Sometimes, it feels like we make leaps in logic that are a bit too big. In this ladder challenge, we'll learn some core math concepts, some linear algebra, and the `numpy` library. Problems in this notebook start out easy and progressively get harder, so that the next rung of the Python ladder is always within reach.\n",
    "\n",
    "Additionally, since not all of the topics discussed in this ladder challenge are explicitly taught in our course, these problems come with many more hints, tips, suggestions, and even sometimes a mini-lesson. You are encouraged to Google frequently throughout the lesson. In many ways, this ladder is meant to be a challenge as well as educational in its own right.\n",
    "\n",
    "**Remember our one rule: NO LOOPS! None of the exercises in this notebook require a loop. If you use a loop to solve any of these problems, you are solving the problem incorrectly.**"
   ]
  },
  {
   "cell_type": "markdown",
   "metadata": {},
   "source": [
    "0) Import numpy in the usual way"
   ]
  },
  {
   "cell_type": "code",
   "execution_count": 1,
   "metadata": {},
   "outputs": [],
   "source": [
    "import numpy as np"
   ]
  },
  {
   "cell_type": "markdown",
   "metadata": {},
   "source": [
    "# Section III - Simulation\n",
    "In the next section, we'll use functions within the `np.random` submodule. You can find documentation [here](https://docs.scipy.org/doc/numpy-1.14.0/reference/routines.random.html)."
   ]
  },
  {
   "cell_type": "markdown",
   "metadata": {},
   "source": [
    "27) Generate 10,000 random numbers between 0 and 1 and assign them to a variable. To verify you've simulated the data properly, make sure the mean is approximately 0.5."
   ]
  },
  {
   "cell_type": "code",
   "execution_count": 71,
   "metadata": {},
   "outputs": [
    {
     "data": {
      "text/plain": [
       "array([[0.62418215, 0.55217137, 0.69029537, ..., 0.08896083, 0.38041479,\n",
       "        0.08570785]])"
      ]
     },
     "execution_count": 71,
     "metadata": {},
     "output_type": "execute_result"
    }
   ],
   "source": [
    "randos = np.random.rand(1, 10_000)\n",
    "randos"
   ]
  },
  {
   "cell_type": "markdown",
   "metadata": {},
   "source": [
    "28) What proportion of these numbers is below 0.1?"
   ]
  },
  {
   "cell_type": "code",
   "execution_count": 82,
   "metadata": {},
   "outputs": [
    {
     "data": {
      "text/plain": [
       "0.0937"
      ]
     },
     "execution_count": 82,
     "metadata": {},
     "output_type": "execute_result"
    }
   ],
   "source": [
    "len(randos[randos < .1])/randos.shape[1]"
   ]
  },
  {
   "cell_type": "markdown",
   "metadata": {},
   "source": [
    "29) What proportion of these numbers is above 0.8?"
   ]
  },
  {
   "cell_type": "code",
   "execution_count": 84,
   "metadata": {},
   "outputs": [
    {
     "data": {
      "text/plain": [
       "0.1982"
      ]
     },
     "execution_count": 84,
     "metadata": {},
     "output_type": "execute_result"
    }
   ],
   "source": [
    "len(randos[randos > .8])/randos.shape[1]"
   ]
  },
  {
   "cell_type": "markdown",
   "metadata": {},
   "source": [
    "30) What proportion of these numbers is above 0.2 but below 0.3?"
   ]
  },
  {
   "cell_type": "code",
   "execution_count": 91,
   "metadata": {},
   "outputs": [
    {
     "data": {
      "text/plain": [
       "0.1025"
      ]
     },
     "execution_count": 91,
     "metadata": {},
     "output_type": "execute_result"
    }
   ],
   "source": [
    "len(randos[(randos > .2) & (randos < .3)])/randos.shape[1]"
   ]
  },
  {
   "cell_type": "markdown",
   "metadata": {},
   "source": [
    "31) Generate 10,000 random numbers between 2 and 4. To verify you've simulated the data properly, find the mean and make sure it is approximately what you expect.\n",
    "\n",
    "* _Hint:_ There is no `numpy` function for this specifically. How can you use the function you just used to generate this?"
   ]
  },
  {
   "cell_type": "code",
   "execution_count": 98,
   "metadata": {},
   "outputs": [
    {
     "name": "stdout",
     "output_type": "stream",
     "text": [
      "[[2.62418215 2.55217137 3.69029537 ... 2.08896083 3.38041479 2.08570785]]\n"
     ]
    },
    {
     "data": {
      "text/plain": [
       "3.0039505026277897"
      ]
     },
     "execution_count": 98,
     "metadata": {},
     "output_type": "execute_result"
    }
   ],
   "source": [
    "two_to_three = randos + (2 + np.random.randint(2, size=10_000))\n",
    "print(two_to_three)\n",
    "two_to_three.mean()"
   ]
  },
  {
   "cell_type": "markdown",
   "metadata": {},
   "source": [
    "32) What proportion of these numbers is between 2.4 and 2.6?"
   ]
  },
  {
   "cell_type": "code",
   "execution_count": 105,
   "metadata": {},
   "outputs": [
    {
     "data": {
      "text/plain": [
       "0.1021"
      ]
     },
     "execution_count": 105,
     "metadata": {},
     "output_type": "execute_result"
    }
   ],
   "source": [
    "len(two_to_three[(two_to_three > 2.4) & (two_to_three < 2.6)]) / two_to_three.shape[1]"
   ]
  },
  {
   "cell_type": "markdown",
   "metadata": {},
   "source": [
    "33) Generate 100,000 random standard normal (i.e., mean 0 standard deviation 1) numbers. Again, find the mean to verify you've done this properly."
   ]
  },
  {
   "cell_type": "code",
   "execution_count": 115,
   "metadata": {},
   "outputs": [
    {
     "name": "stdout",
     "output_type": "stream",
     "text": [
      "0.0031334948623689034\n",
      "1.0014870967298637\n"
     ]
    }
   ],
   "source": [
    "randoms = np.random.randn(100_000)\n",
    "print(randoms.mean())\n",
    "print(randoms.std())"
   ]
  },
  {
   "cell_type": "markdown",
   "metadata": {},
   "source": [
    "34) What proportion of these numbers is negative?"
   ]
  },
  {
   "cell_type": "code",
   "execution_count": 120,
   "metadata": {},
   "outputs": [
    {
     "data": {
      "text/plain": [
       "0.4972"
      ]
     },
     "execution_count": 120,
     "metadata": {},
     "output_type": "execute_result"
    }
   ],
   "source": [
    "len(randoms[randoms < 0])/len(randoms)"
   ]
  },
  {
   "cell_type": "markdown",
   "metadata": {},
   "source": [
    "35a) What proportion of these numbers is between -1 and 1?"
   ]
  },
  {
   "cell_type": "code",
   "execution_count": 123,
   "metadata": {},
   "outputs": [
    {
     "data": {
      "text/plain": [
       "0.68381"
      ]
     },
     "execution_count": 123,
     "metadata": {},
     "output_type": "execute_result"
    }
   ],
   "source": [
    "len(randoms[(randoms > -1) & (randoms < 1)])/len(randoms)"
   ]
  },
  {
   "cell_type": "markdown",
   "metadata": {},
   "source": [
    "35b) What proportion of these numbers is between -2 and 2?"
   ]
  },
  {
   "cell_type": "code",
   "execution_count": 124,
   "metadata": {},
   "outputs": [
    {
     "data": {
      "text/plain": [
       "0.95404"
      ]
     },
     "execution_count": 124,
     "metadata": {},
     "output_type": "execute_result"
    }
   ],
   "source": [
    "len(randoms[(randoms > -2) & (randoms < 2)])/len(randoms)"
   ]
  },
  {
   "cell_type": "markdown",
   "metadata": {},
   "source": [
    "35c) What proportion of these numbers is between -3 and 3? Have you seen your last 3 solutions before? (If you've taken an intro stats course in college before, you will have.)"
   ]
  },
  {
   "cell_type": "code",
   "execution_count": 125,
   "metadata": {},
   "outputs": [
    {
     "data": {
      "text/plain": [
       "0.9974"
      ]
     },
     "execution_count": 125,
     "metadata": {},
     "output_type": "execute_result"
    }
   ],
   "source": [
    "len(randoms[(randoms > -3) & (randoms < 3)])/len(randoms)"
   ]
  },
  {
   "cell_type": "markdown",
   "metadata": {},
   "source": [
    "### For the next few problems, we will be playing Rock-Paper-Scissors\n",
    "If you are unfamiliar with the game Rock-Paper-Scissors, it features two combatants choosing one of three hand motions: rock, paper, or scissors. Rock beats scissors, scissors beats paper, and paper beats rock. Two friends are playing: Karen and Tom. Unbeknownst to them, you've been studying and recording both of their play patterns. Karen chooses rock 40% of the time, paper 10% of the time, and scissors 50% of the time. For Tom, it's rock 10%, paper 60%, scissors 30%. Who wins the most often?\n",
    "\n",
    "**This is an extremely difficult question.** We will get to the answer in a few guided steps. You'll want to use `np.random.choice()` to help you through this."
   ]
  },
  {
   "cell_type": "markdown",
   "metadata": {},
   "source": [
    "36) Create vectors `p_karen` and `p_tom` that represent their respective probabilities for rock, paper, and scissors."
   ]
  },
  {
   "cell_type": "code",
   "execution_count": 127,
   "metadata": {},
   "outputs": [],
   "source": [
    "p_karen = [.4, .1, .5]\n",
    "p_tom = [.1, .6, .3]"
   ]
  },
  {
   "cell_type": "markdown",
   "metadata": {},
   "source": [
    "37) Simulate 5 games. Who wins the majority of them? Just eyeball this one. (No one wins a draw.)"
   ]
  },
  {
   "cell_type": "code",
   "execution_count": 137,
   "metadata": {},
   "outputs": [
    {
     "name": "stdout",
     "output_type": "stream",
     "text": [
      "['R' 'S' 'R' 'P' 'S']\n",
      "['R' 'S' 'P' 'P' 'S']\n"
     ]
    }
   ],
   "source": [
    "karen_choice = np.random.choice(['R', 'P', 'S'], 5, p=p_karen)\n",
    "tom_choice = np.random.choice(['R', 'P', 'S'], 5, p=p_tom)\n",
    "\n",
    "print(karen_choice)\n",
    "print(tom_choice)\n"
   ]
  },
  {
   "cell_type": "markdown",
   "metadata": {},
   "source": [
    "38) Let's write a function to handle _one game at a time_. Write a function called `rps` that takes two arguments: `karen` and `tom` that will be either `\"R\"`, `\"P\"`, or `\"S\"`. The function will return `\"K\"`, `\"T\"`, or `\"D\"`, representing Karen, Tom, or a draw. That is, the function should give the following results:\n",
    "\n",
    "* `rps(\"R\", \"P\") ==> \"T\"`\n",
    "* `rps(\"R\", \"S\") ==> \"K\"`\n",
    "* `rps(\"R\", \"R\") ==> \"D\"`\n",
    "\n",
    "\n",
    "* _Hint:_ Your answer will be a mess of `if`/`elif` statements."
   ]
  },
  {
   "cell_type": "code",
   "execution_count": 133,
   "metadata": {},
   "outputs": [],
   "source": [
    "def rps(karen, tom):\n",
    "    if karen == \"R\":\n",
    "        if tom == \"R\":\n",
    "            return \"D\"\n",
    "        if tom == \"P\":\n",
    "            return \"T\"\n",
    "        if tom == \"S\":\n",
    "            return \"K\"\n",
    "    if karen == \"P\":\n",
    "        if tom == \"R\":\n",
    "            return \"K\"\n",
    "        if tom == \"P\":\n",
    "            return \"D\"\n",
    "        if tom == \"S\":\n",
    "            return \"T\"\n",
    "    if karen == \"S\":\n",
    "        if tom == \"R\":\n",
    "            return \"T\"\n",
    "        if tom == \"P\":\n",
    "            return \"K\"\n",
    "        if tom == \"S\":\n",
    "            return \"D\"\n"
   ]
  },
  {
   "cell_type": "markdown",
   "metadata": {},
   "source": [
    "39) As it stands now, the function you have written cannot handle vector data. Luckily, `numpy` gives us a function that allows us to vectorize any function we want. Use `np.vectorize` to create `rps_vectorized`, the vectorized version of `rps`. Skim the docs [here](https://docs.scipy.org/doc/numpy/reference/generated/numpy.vectorize.html)."
   ]
  },
  {
   "cell_type": "code",
   "execution_count": 135,
   "metadata": {},
   "outputs": [],
   "source": [
    "rps_vectorized = np.vectorize(rps)"
   ]
  },
  {
   "cell_type": "markdown",
   "metadata": {},
   "source": [
    "40) Simulate 1,000,000 (yes, one million) games. How often does Karen win? You can find the results by:\n",
    "\n",
    "1. Replicating your solution to problems 37 and 38, except for one million instead of 5.\n",
    "1. Using the function you made in problem 39.\n",
    "\n",
    "\n",
    "* _Note 1:_ These probabilities are relatively difficult to figure out by hand. Some probabilities are best discovered by simulation. Another way of asking the above question is \"What is the probability of Karen winning?\")\n",
    "* _Note 2:_ Look what we did! We used vectorization to completely eliminate the need for a loop! You _could_ have solved this problem with a loop, but it would have taken significantly more computer time."
   ]
  },
  {
   "cell_type": "code",
   "execution_count": 142,
   "metadata": {},
   "outputs": [],
   "source": [
    "karen_choice = np.random.choice(['R', 'P', 'S'], 1_000_000, p=p_karen)\n",
    "tom_choice = np.random.choice(['R', 'P', 'S'], 1_000_000, p=p_tom)\n",
    "\n",
    "games = rps_vectorized(karen_choice, tom_choice)"
   ]
  },
  {
   "cell_type": "code",
   "execution_count": 161,
   "metadata": {},
   "outputs": [
    {
     "name": "stdout",
     "output_type": "stream",
     "text": [
      "Karen wins:   43.0162%\n",
      "Tom wins:     31.9897%\n",
      "Draws:        24.9941%\n"
     ]
    }
   ],
   "source": [
    "k = (len(games[games == 'K'])/1_000_000) * 100\n",
    "t = (len(games[games == 'T'])/1_000_000) * 100\n",
    "d = (len(games[games == 'D'])/1_000_000) * 100\n",
    "\n",
    "print(f'Karen wins:   {k}%\\nTom wins:     {t}%\\nDraws:        {d}%')"
   ]
  },
  {
   "cell_type": "markdown",
   "metadata": {},
   "source": [
    "### Regression Simulation\n",
    "Next, suppose we're trying to simulate some fake data for a regression problem we wish to give to our students. We wish to simulate data for the following equation:\n",
    "\n",
    "$$y = 1000 + 200x + \\varepsilon$$\n",
    "\n",
    "Where $\\varepsilon \\sim N(0, 20)$ (that is, $\\varepsilon$ is normally distributed with mean 0 and standard deviation 20)."
   ]
  },
  {
   "cell_type": "markdown",
   "metadata": {},
   "source": [
    "41) Generate 10 $x$s from the $N(50, 10)$ distribution. (That is, the normal distribution with mean 50 and standard deviation 10)."
   ]
  },
  {
   "cell_type": "code",
   "execution_count": 178,
   "metadata": {},
   "outputs": [],
   "source": [
    "x = (50 + 10 * np.random.randn(10))"
   ]
  },
  {
   "cell_type": "markdown",
   "metadata": {},
   "source": [
    "42) Generate 10 $\\varepsilon$s from the appropriate distribution described above."
   ]
  },
  {
   "cell_type": "code",
   "execution_count": 179,
   "metadata": {},
   "outputs": [],
   "source": [
    "e = (0 + 20 * np.random.randn(10))"
   ]
  },
  {
   "cell_type": "markdown",
   "metadata": {},
   "source": [
    "43) Simulate the $y$s as described above using the two vectors you made in the previous two problems."
   ]
  },
  {
   "cell_type": "code",
   "execution_count": 180,
   "metadata": {
    "scrolled": false
   },
   "outputs": [
    {
     "data": {
      "text/plain": [
       "array([ 9192.12311661,  9567.67465769,  9639.14433391, 12555.43303461,\n",
       "        7962.84414012,  9480.94719755,  9461.03981559, 11770.10389486,\n",
       "       13158.43698385, 10962.32393334])"
      ]
     },
     "execution_count": 180,
     "metadata": {},
     "output_type": "execute_result"
    }
   ],
   "source": [
    "y = 1000 + 200 * (x) + e\n",
    "y"
   ]
  },
  {
   "cell_type": "markdown",
   "metadata": {},
   "source": [
    "# Section IV: Matrices\n",
    "_Tiny note:_ In general, we have told you it's against Python's style guide to use capital letters when defining variables. The one exception we make is when our variables represent mathematical objects. So feel free to name the following variables things like `A`, `B`, etc.!"
   ]
  },
  {
   "cell_type": "markdown",
   "metadata": {},
   "source": [
    "44) Create the following matrix:\n",
    "\n",
    "$$\n",
    "A =\n",
    "\\begin{bmatrix}\n",
    "3 & -1 & 5 \\\\\n",
    "-2 & 0 & 8 \\\\\n",
    "4 & 5 & -7\n",
    "\\end{bmatrix}\n",
    "$$"
   ]
  },
  {
   "cell_type": "code",
   "execution_count": 183,
   "metadata": {},
   "outputs": [],
   "source": [
    "import pandas as pd"
   ]
  },
  {
   "cell_type": "code",
   "execution_count": 187,
   "metadata": {},
   "outputs": [
    {
     "data": {
      "text/plain": [
       "[[3, -1, 5], [-2, 0, 8], [4, 5, -7]]"
      ]
     },
     "execution_count": 187,
     "metadata": {},
     "output_type": "execute_result"
    }
   ],
   "source": [
    "A = [[3, -1, 5], [-2, 0, 8], [4, 5, -7]]\n",
    "A"
   ]
  },
  {
   "cell_type": "markdown",
   "metadata": {},
   "source": [
    "45) Create the following matrix:\n",
    "\n",
    "$$\n",
    "B =\n",
    "\\begin{bmatrix}\n",
    "-3 & 8 & 2 \\\\\n",
    "2 & -3 & 5 \\\\\n",
    "0 & 6 & -2\n",
    "\\end{bmatrix}\n",
    "$$"
   ]
  },
  {
   "cell_type": "code",
   "execution_count": 188,
   "metadata": {},
   "outputs": [
    {
     "data": {
      "text/plain": [
       "[[-3, 8, 2], [2, -3, 5], [0, 6, -2]]"
      ]
     },
     "execution_count": 188,
     "metadata": {},
     "output_type": "execute_result"
    }
   ],
   "source": [
    "B = [[-3, 8, 2], [2, -3, 5], [0, 6, -2]]\n",
    "B"
   ]
  },
  {
   "cell_type": "markdown",
   "metadata": {},
   "source": [
    "46) Use `np.eye()` to create the following matrix:\n",
    "\n",
    "$$\n",
    "I = I_3 =\n",
    "\\begin{bmatrix}\n",
    "1 & 0 & 0 \\\\\n",
    "0 & 1 & 0 \\\\\n",
    "0 & 0 & 1 \\\\\n",
    "\\end{bmatrix}\n",
    "$$"
   ]
  },
  {
   "cell_type": "code",
   "execution_count": 190,
   "metadata": {},
   "outputs": [
    {
     "data": {
      "text/plain": [
       "array([[1., 0., 0.],\n",
       "       [0., 1., 0.],\n",
       "       [0., 0., 1.]])"
      ]
     },
     "execution_count": 190,
     "metadata": {},
     "output_type": "execute_result"
    }
   ],
   "source": [
    "np.eye(3)"
   ]
  },
  {
   "cell_type": "markdown",
   "metadata": {},
   "source": [
    "47) Triple every element of `B`. (Do not reassign.)"
   ]
  },
  {
   "cell_type": "code",
   "execution_count": 204,
   "metadata": {},
   "outputs": [
    {
     "data": {
      "text/plain": [
       "array([[-9, 24,  6],\n",
       "       [ 6, -9, 15],\n",
       "       [ 0, 18, -6]])"
      ]
     },
     "execution_count": 204,
     "metadata": {},
     "output_type": "execute_result"
    }
   ],
   "source": [
    "B * np.array([3, 3, 3])"
   ]
  },
  {
   "cell_type": "markdown",
   "metadata": {},
   "source": [
    "48) Index `A` in order to get me -7."
   ]
  },
  {
   "cell_type": "code",
   "execution_count": 206,
   "metadata": {},
   "outputs": [
    {
     "data": {
      "text/plain": [
       "-7"
      ]
     },
     "execution_count": 206,
     "metadata": {},
     "output_type": "execute_result"
    }
   ],
   "source": [
    "A[2][2]"
   ]
  },
  {
   "cell_type": "markdown",
   "metadata": {},
   "source": [
    "49) Index `A` in order to get me 0."
   ]
  },
  {
   "cell_type": "code",
   "execution_count": 208,
   "metadata": {},
   "outputs": [
    {
     "data": {
      "text/plain": [
       "0"
      ]
     },
     "execution_count": 208,
     "metadata": {},
     "output_type": "execute_result"
    }
   ],
   "source": [
    "A[1][1]"
   ]
  },
  {
   "cell_type": "markdown",
   "metadata": {},
   "source": [
    "50) Index `A` to get me $\\begin{bmatrix} -2 & 0 & 8 \\end{bmatrix}$"
   ]
  },
  {
   "cell_type": "code",
   "execution_count": 210,
   "metadata": {},
   "outputs": [
    {
     "data": {
      "text/plain": [
       "[-2, 0, 8]"
      ]
     },
     "execution_count": 210,
     "metadata": {},
     "output_type": "execute_result"
    }
   ],
   "source": [
    "A[1]"
   ]
  },
  {
   "cell_type": "markdown",
   "metadata": {},
   "source": [
    "51) Index `A` to get me\n",
    "$$\n",
    "\\begin{bmatrix}\n",
    "-1 \\\\ 0 \\\\ 5\n",
    "\\end{bmatrix}\n",
    "$$\n",
    "\n",
    "(You can ignore the fact that it may print out as a row vector)"
   ]
  },
  {
   "cell_type": "code",
   "execution_count": 219,
   "metadata": {},
   "outputs": [
    {
     "data": {
      "text/plain": [
       "array([[-1],\n",
       "       [ 0],\n",
       "       [ 5]])"
      ]
     },
     "execution_count": 219,
     "metadata": {},
     "output_type": "execute_result"
    }
   ],
   "source": [
    "np.array([[A[0][1]], [A[1][1]], [A[2][1]]])"
   ]
  },
  {
   "cell_type": "markdown",
   "metadata": {},
   "source": [
    "52) Index `A` to get me\n",
    "$$\n",
    "\\begin{bmatrix}\n",
    "0 & 8 \\\\\n",
    "5 & -7 \n",
    "\\end{bmatrix}\n",
    "$$"
   ]
  },
  {
   "cell_type": "code",
   "execution_count": 223,
   "metadata": {},
   "outputs": [
    {
     "data": {
      "text/plain": [
       "array([[ 0,  8],\n",
       "       [ 5, -7]])"
      ]
     },
     "execution_count": 223,
     "metadata": {},
     "output_type": "execute_result"
    }
   ],
   "source": [
    "np.array([[A[1][1], A[1][2]], [A[0][2], A[2][2]]])"
   ]
  },
  {
   "cell_type": "markdown",
   "metadata": {},
   "source": [
    "53) Redefine the middle column of `A` to be\n",
    "$$\n",
    "\\begin{bmatrix}\n",
    "-2 \\\\ 1 \\\\ 7\n",
    "\\end{bmatrix}\n",
    "$$"
   ]
  },
  {
   "cell_type": "code",
   "execution_count": 224,
   "metadata": {},
   "outputs": [
    {
     "data": {
      "text/plain": [
       "[[3, -1, 5], [-2, 0, 8], [4, 5, -7]]"
      ]
     },
     "execution_count": 224,
     "metadata": {},
     "output_type": "execute_result"
    }
   ],
   "source": [
    "A"
   ]
  },
  {
   "cell_type": "code",
   "execution_count": 225,
   "metadata": {},
   "outputs": [
    {
     "data": {
      "text/plain": [
       "[[3, -1, 5], [-2, 1, 7], [4, 5, -7]]"
      ]
     },
     "execution_count": 225,
     "metadata": {},
     "output_type": "execute_result"
    }
   ],
   "source": [
    "A[1][0] = -2\n",
    "A[1][1] = 1\n",
    "A[1][2] = 7\n",
    "A"
   ]
  },
  {
   "cell_type": "markdown",
   "metadata": {},
   "source": [
    "54) Index `B` to define the following matrix:\n",
    "$$\n",
    "C = \n",
    "\\begin{bmatrix}\n",
    "8 & 2 \\\\\n",
    "-3 & 5 \\\\\n",
    "6 & -2\n",
    "\\end{bmatrix}\n",
    "$$"
   ]
  },
  {
   "cell_type": "code",
   "execution_count": 229,
   "metadata": {},
   "outputs": [
    {
     "data": {
      "text/plain": [
       "array([[ 8,  2],\n",
       "       [-3,  5],\n",
       "       [ 6, -2]])"
      ]
     },
     "execution_count": 229,
     "metadata": {},
     "output_type": "execute_result"
    }
   ],
   "source": [
    "C = np.array([[B[0][1], B[1][0]], [B[0][0], B[1][2]], [B[2][1], B[2][2]]])\n",
    "C"
   ]
  },
  {
   "cell_type": "markdown",
   "metadata": {},
   "source": [
    "55) What is $A + B$?"
   ]
  },
  {
   "cell_type": "code",
   "execution_count": 233,
   "metadata": {},
   "outputs": [
    {
     "name": "stdout",
     "output_type": "stream",
     "text": [
      "[[3, -1, 5], [-2, 1, 7], [4, 5, -7]]\n",
      "[[-3, 8, 2], [2, -3, 5], [0, 6, -2]]\n"
     ]
    }
   ],
   "source": [
    "print(A)\n",
    "print(B)"
   ]
  },
  {
   "cell_type": "code",
   "execution_count": 232,
   "metadata": {},
   "outputs": [
    {
     "data": {
      "text/plain": [
       "array([[ 0,  7,  7],\n",
       "       [ 0, -2, 12],\n",
       "       [ 4, 11, -9]])"
      ]
     },
     "execution_count": 232,
     "metadata": {},
     "output_type": "execute_result"
    }
   ],
   "source": [
    "np.add(A, B)"
   ]
  },
  {
   "cell_type": "markdown",
   "metadata": {},
   "source": [
    "56) What is $2A - 3B$?"
   ]
  },
  {
   "cell_type": "code",
   "execution_count": 239,
   "metadata": {},
   "outputs": [
    {
     "data": {
      "text/plain": [
       "array([[ 15, -26,   4],\n",
       "       [-10,  11,  -1],\n",
       "       [  8,  -8,  -8]])"
      ]
     },
     "execution_count": 239,
     "metadata": {},
     "output_type": "execute_result"
    }
   ],
   "source": [
    "np.subtract(\n",
    "    np.multiply(A, np.array([2, 2, 2])), # 2A\n",
    "    np.multiply(B, np.array([3, 3, 3]))) # 3B"
   ]
  },
  {
   "cell_type": "markdown",
   "metadata": {},
   "source": [
    "57) What is the elementwise product of $A$ and $B$?"
   ]
  },
  {
   "cell_type": "code",
   "execution_count": 248,
   "metadata": {},
   "outputs": [
    {
     "data": {
      "text/plain": [
       "array([[-9, -8, 10],\n",
       "       [-4, -3, 35],\n",
       "       [ 0, 30, 14]])"
      ]
     },
     "execution_count": 248,
     "metadata": {},
     "output_type": "execute_result"
    }
   ],
   "source": [
    "np.multiply(A, B)"
   ]
  },
  {
   "cell_type": "markdown",
   "metadata": {},
   "source": [
    "58) What is $AB$?"
   ]
  },
  {
   "cell_type": "code",
   "execution_count": 249,
   "metadata": {},
   "outputs": [
    {
     "data": {
      "text/plain": [
       "array([[-11,  57,  -9],\n",
       "       [  8,  23, -13],\n",
       "       [ -2, -25,  47]])"
      ]
     },
     "execution_count": 249,
     "metadata": {},
     "output_type": "execute_result"
    }
   ],
   "source": [
    "np.matmul(A, B)"
   ]
  },
  {
   "cell_type": "markdown",
   "metadata": {},
   "source": [
    "59) What is $BA$? And why isn't it the same as $AB$?"
   ]
  },
  {
   "cell_type": "code",
   "execution_count": 250,
   "metadata": {},
   "outputs": [
    {
     "data": {
      "text/plain": [
       "array([[-17,  21,  27],\n",
       "       [ 32,  20, -46],\n",
       "       [-20,  -4,  56]])"
      ]
     },
     "execution_count": 250,
     "metadata": {},
     "output_type": "execute_result"
    }
   ],
   "source": [
    "np.matmul(B, A)"
   ]
  },
  {
   "cell_type": "markdown",
   "metadata": {},
   "source": [
    "60) What is $AI$, and is it equal to $IA$? Does this product look familiar?"
   ]
  },
  {
   "cell_type": "code",
   "execution_count": 251,
   "metadata": {},
   "outputs": [
    {
     "data": {
      "text/plain": [
       "array([[ 3., -1.,  5.],\n",
       "       [-2.,  1.,  7.],\n",
       "       [ 4.,  5., -7.]])"
      ]
     },
     "execution_count": 251,
     "metadata": {},
     "output_type": "execute_result"
    }
   ],
   "source": [
    "np.matmul(A, np.eye(3))"
   ]
  },
  {
   "cell_type": "code",
   "execution_count": 252,
   "metadata": {},
   "outputs": [
    {
     "data": {
      "text/plain": [
       "array([[ 3., -1.,  5.],\n",
       "       [-2.,  1.,  7.],\n",
       "       [ 4.,  5., -7.]])"
      ]
     },
     "execution_count": 252,
     "metadata": {},
     "output_type": "execute_result"
    }
   ],
   "source": [
    "np.matmul(np.eye(3), A)"
   ]
  },
  {
   "cell_type": "markdown",
   "metadata": {},
   "source": [
    "61) What is $AC$?"
   ]
  },
  {
   "cell_type": "code",
   "execution_count": 253,
   "metadata": {},
   "outputs": [
    {
     "data": {
      "text/plain": [
       "array([[ 57,  -9],\n",
       "       [ 23, -13],\n",
       "       [-25,  47]])"
      ]
     },
     "execution_count": 253,
     "metadata": {},
     "output_type": "execute_result"
    }
   ],
   "source": [
    "np.matmul(A, C)"
   ]
  },
  {
   "cell_type": "markdown",
   "metadata": {},
   "source": [
    "62) Why do we get an error when calculating $CA$?"
   ]
  },
  {
   "cell_type": "code",
   "execution_count": 255,
   "metadata": {},
   "outputs": [
    {
     "data": {
      "text/plain": [
       "[[3, -1, 5], [-2, 1, 7], [4, 5, -7]]"
      ]
     },
     "execution_count": 255,
     "metadata": {},
     "output_type": "execute_result"
    }
   ],
   "source": [
    "A"
   ]
  },
  {
   "cell_type": "code",
   "execution_count": 256,
   "metadata": {},
   "outputs": [
    {
     "data": {
      "text/plain": [
       "array([[ 8,  2],\n",
       "       [-3,  5],\n",
       "       [ 6, -2]])"
      ]
     },
     "execution_count": 256,
     "metadata": {},
     "output_type": "execute_result"
    }
   ],
   "source": [
    "C"
   ]
  },
  {
   "cell_type": "code",
   "execution_count": 257,
   "metadata": {},
   "outputs": [],
   "source": [
    "# Cannot multiply A by a matrix with C n cols != A n rows"
   ]
  },
  {
   "cell_type": "markdown",
   "metadata": {},
   "source": [
    "63) What is $A^TA$? Note that you answer will be a _symmetric matrix_, that is, a matrix that is equal to its transpose."
   ]
  },
  {
   "cell_type": "code",
   "execution_count": 260,
   "metadata": {},
   "outputs": [
    {
     "data": {
      "text/plain": [
       "array([[ 29,  15, -27],\n",
       "       [ 15,  27, -33],\n",
       "       [-27, -33, 123]])"
      ]
     },
     "execution_count": 260,
     "metadata": {},
     "output_type": "execute_result"
    }
   ],
   "source": [
    "np.matmul(np.transpose(A), A)"
   ]
  },
  {
   "cell_type": "markdown",
   "metadata": {},
   "source": [
    "64) What is $A^TB$?"
   ]
  },
  {
   "cell_type": "code",
   "execution_count": 261,
   "metadata": {},
   "outputs": [
    {
     "data": {
      "text/plain": [
       "array([[-13,  54, -12],\n",
       "       [  5,  19,  -7],\n",
       "       [ -1, -23,  59]])"
      ]
     },
     "execution_count": 261,
     "metadata": {},
     "output_type": "execute_result"
    }
   ],
   "source": [
    "np.matmul(np.transpose(A), B)"
   ]
  },
  {
   "cell_type": "markdown",
   "metadata": {},
   "source": [
    "65) What is $A^{-1}$ (the inverse of $A$)."
   ]
  },
  {
   "cell_type": "code",
   "execution_count": 262,
   "metadata": {},
   "outputs": [
    {
     "name": "stdout",
     "output_type": "stream",
     "text": [
      "[[3, -1, 5], [-2, 1, 7], [4, 5, -7]]\n"
     ]
    },
    {
     "data": {
      "text/plain": [
       "array([[ 0.2       , -0.08571429,  0.05714286],\n",
       "       [-0.06666667,  0.1952381 ,  0.14761905],\n",
       "       [ 0.06666667,  0.09047619, -0.0047619 ]])"
      ]
     },
     "execution_count": 262,
     "metadata": {},
     "output_type": "execute_result"
    }
   ],
   "source": [
    "print(A)\n",
    "a = np.linalg.inv(A)\n",
    "a"
   ]
  },
  {
   "cell_type": "markdown",
   "metadata": {},
   "source": [
    "66) What is $AA^{-1}$? Does it look familiar?\n",
    "\n",
    "* _Hint:_ Maybe call an `np.round()` on your result."
   ]
  },
  {
   "cell_type": "code",
   "execution_count": 267,
   "metadata": {},
   "outputs": [
    {
     "data": {
      "text/plain": [
       "array([[ 1.,  0.,  0.],\n",
       "       [-0.,  1.,  0.],\n",
       "       [ 0., -0.,  1.]])"
      ]
     },
     "execution_count": 267,
     "metadata": {},
     "output_type": "execute_result"
    }
   ],
   "source": [
    "np.round(np.matmul(A, np.linalg.inv(A)))"
   ]
  },
  {
   "cell_type": "markdown",
   "metadata": {},
   "source": [
    "67) What is $(B + A^TA)^{-1}A^TC$?"
   ]
  },
  {
   "cell_type": "code",
   "execution_count": 271,
   "metadata": {},
   "outputs": [
    {
     "data": {
      "text/plain": [
       "array([[ 3.62981132, -0.64226415],\n",
       "       [-1.42801887,  0.76377358],\n",
       "       [ 0.30122642,  0.51471698]])"
      ]
     },
     "execution_count": 271,
     "metadata": {},
     "output_type": "execute_result"
    }
   ],
   "source": [
    "np.dot(\n",
    "np.linalg.inv(\n",
    "np.add(B, np.matmul(np.transpose(A), A))\n",
    ")\n",
    ", # dot\n",
    "np.matmul(np.transpose(A), C) # A^T dot C\n",
    ")"
   ]
  }
 ],
 "metadata": {
  "kernelspec": {
   "display_name": "Python 3",
   "language": "python",
   "name": "python3"
  },
  "language_info": {
   "codemirror_mode": {
    "name": "ipython",
    "version": 3
   },
   "file_extension": ".py",
   "mimetype": "text/x-python",
   "name": "python",
   "nbconvert_exporter": "python",
   "pygments_lexer": "ipython3",
   "version": "3.9.7"
  }
 },
 "nbformat": 4,
 "nbformat_minor": 2
}
