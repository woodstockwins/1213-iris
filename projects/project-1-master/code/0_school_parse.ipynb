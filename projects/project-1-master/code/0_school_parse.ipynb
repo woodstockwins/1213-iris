{
 "cells": [
  {
   "cell_type": "markdown",
   "metadata": {},
   "source": [
    "# Workbook Objective: \n",
    "### Clean ACT & SAT data\n",
    "_____"
   ]
  },
  {
   "cell_type": "markdown",
   "metadata": {},
   "source": [
    "#### Import Libraries"
   ]
  },
  {
   "cell_type": "code",
   "execution_count": 1,
   "metadata": {},
   "outputs": [],
   "source": [
    "import pandas as pd\n",
    "import missingno as mn\n",
    "import difflib"
   ]
  },
  {
   "cell_type": "markdown",
   "metadata": {},
   "source": [
    "#\n",
    "#### Import ACT data"
   ]
  },
  {
   "cell_type": "code",
   "execution_count": 2,
   "metadata": {},
   "outputs": [],
   "source": [
    "df_act_raw = pd.read_csv('./data/act_2019_ca.csv')"
   ]
  },
  {
   "cell_type": "markdown",
   "metadata": {},
   "source": [
    "#### Original ACT Data Dictionary\n",
    "##### https://www.cde.ca.gov/ds/sp/ai/reclayoutact19.asp\n",
    "#\n",
    "#"
   ]
  },
  {
   "cell_type": "markdown",
   "metadata": {},
   "source": [
    "#### Import SAT data"
   ]
  },
  {
   "cell_type": "code",
   "execution_count": 3,
   "metadata": {},
   "outputs": [
    {
     "data": {
      "text/html": [
       "<div>\n",
       "<style scoped>\n",
       "    .dataframe tbody tr th:only-of-type {\n",
       "        vertical-align: middle;\n",
       "    }\n",
       "\n",
       "    .dataframe tbody tr th {\n",
       "        vertical-align: top;\n",
       "    }\n",
       "\n",
       "    .dataframe thead th {\n",
       "        text-align: right;\n",
       "    }\n",
       "</style>\n",
       "<table border=\"1\" class=\"dataframe\">\n",
       "  <thead>\n",
       "    <tr style=\"text-align: right;\">\n",
       "      <th></th>\n",
       "      <th>CDS</th>\n",
       "      <th>CCode</th>\n",
       "      <th>CDCode</th>\n",
       "      <th>SCode</th>\n",
       "      <th>RType</th>\n",
       "      <th>SName</th>\n",
       "      <th>DName</th>\n",
       "      <th>CName</th>\n",
       "      <th>Enroll12</th>\n",
       "      <th>NumTSTTakr12</th>\n",
       "      <th>...</th>\n",
       "      <th>NumERWBenchmark11</th>\n",
       "      <th>PctERWBenchmark11</th>\n",
       "      <th>NumMathBenchmark11</th>\n",
       "      <th>PctMathBenchmark11</th>\n",
       "      <th>TotNumBothBenchmark12</th>\n",
       "      <th>PctBothBenchmark12</th>\n",
       "      <th>TotNumBothBenchmark11</th>\n",
       "      <th>PctBothBenchmark11</th>\n",
       "      <th>Year</th>\n",
       "      <th>Unnamed: 25</th>\n",
       "    </tr>\n",
       "  </thead>\n",
       "  <tbody>\n",
       "    <tr>\n",
       "      <th>0</th>\n",
       "      <td>6.615981e+12</td>\n",
       "      <td>6.0</td>\n",
       "      <td>661598.0</td>\n",
       "      <td>630046.0</td>\n",
       "      <td>S</td>\n",
       "      <td>Colusa Alternative Home</td>\n",
       "      <td>Colusa Unified</td>\n",
       "      <td>Colusa</td>\n",
       "      <td>18.0</td>\n",
       "      <td>0.0</td>\n",
       "      <td>...</td>\n",
       "      <td>NaN</td>\n",
       "      <td>NaN</td>\n",
       "      <td>NaN</td>\n",
       "      <td>NaN</td>\n",
       "      <td>NaN</td>\n",
       "      <td>NaN</td>\n",
       "      <td>NaN</td>\n",
       "      <td>NaN</td>\n",
       "      <td>2018-19</td>\n",
       "      <td>NaN</td>\n",
       "    </tr>\n",
       "    <tr>\n",
       "      <th>1</th>\n",
       "      <td>6.616061e+12</td>\n",
       "      <td>6.0</td>\n",
       "      <td>661606.0</td>\n",
       "      <td>634758.0</td>\n",
       "      <td>S</td>\n",
       "      <td>Maxwell Sr High</td>\n",
       "      <td>Maxwell Unified</td>\n",
       "      <td>Colusa</td>\n",
       "      <td>29.0</td>\n",
       "      <td>10.0</td>\n",
       "      <td>...</td>\n",
       "      <td>*</td>\n",
       "      <td>*</td>\n",
       "      <td>*</td>\n",
       "      <td>*</td>\n",
       "      <td>*</td>\n",
       "      <td>*</td>\n",
       "      <td>*</td>\n",
       "      <td>*</td>\n",
       "      <td>2018-19</td>\n",
       "      <td>NaN</td>\n",
       "    </tr>\n",
       "    <tr>\n",
       "      <th>2</th>\n",
       "      <td>1.964733e+13</td>\n",
       "      <td>19.0</td>\n",
       "      <td>1964733.0</td>\n",
       "      <td>1930924.0</td>\n",
       "      <td>S</td>\n",
       "      <td>Belmont Senior High</td>\n",
       "      <td>Los Angeles Unified</td>\n",
       "      <td>Los Angeles</td>\n",
       "      <td>206.0</td>\n",
       "      <td>102.0</td>\n",
       "      <td>...</td>\n",
       "      <td>42</td>\n",
       "      <td>24.14</td>\n",
       "      <td>12</td>\n",
       "      <td>6.90</td>\n",
       "      <td>14</td>\n",
       "      <td>13.73</td>\n",
       "      <td>11</td>\n",
       "      <td>6.32</td>\n",
       "      <td>2018-19</td>\n",
       "      <td>NaN</td>\n",
       "    </tr>\n",
       "    <tr>\n",
       "      <th>3</th>\n",
       "      <td>1.964733e+13</td>\n",
       "      <td>19.0</td>\n",
       "      <td>1964733.0</td>\n",
       "      <td>1931476.0</td>\n",
       "      <td>S</td>\n",
       "      <td>Canoga Park Senior High</td>\n",
       "      <td>Los Angeles Unified</td>\n",
       "      <td>Los Angeles</td>\n",
       "      <td>227.0</td>\n",
       "      <td>113.0</td>\n",
       "      <td>...</td>\n",
       "      <td>97</td>\n",
       "      <td>35.27</td>\n",
       "      <td>37</td>\n",
       "      <td>13.45</td>\n",
       "      <td>18</td>\n",
       "      <td>15.93</td>\n",
       "      <td>35</td>\n",
       "      <td>12.73</td>\n",
       "      <td>2018-19</td>\n",
       "      <td>NaN</td>\n",
       "    </tr>\n",
       "    <tr>\n",
       "      <th>4</th>\n",
       "      <td>1.964733e+13</td>\n",
       "      <td>19.0</td>\n",
       "      <td>1964733.0</td>\n",
       "      <td>1931856.0</td>\n",
       "      <td>S</td>\n",
       "      <td>Whitman Continuation</td>\n",
       "      <td>Los Angeles Unified</td>\n",
       "      <td>Los Angeles</td>\n",
       "      <td>18.0</td>\n",
       "      <td>14.0</td>\n",
       "      <td>...</td>\n",
       "      <td>*</td>\n",
       "      <td>*</td>\n",
       "      <td>*</td>\n",
       "      <td>*</td>\n",
       "      <td>*</td>\n",
       "      <td>*</td>\n",
       "      <td>*</td>\n",
       "      <td>*</td>\n",
       "      <td>2018-19</td>\n",
       "      <td>NaN</td>\n",
       "    </tr>\n",
       "  </tbody>\n",
       "</table>\n",
       "<p>5 rows × 26 columns</p>\n",
       "</div>"
      ],
      "text/plain": [
       "            CDS  CCode     CDCode      SCode RType                    SName  \\\n",
       "0  6.615981e+12    6.0   661598.0   630046.0     S  Colusa Alternative Home   \n",
       "1  6.616061e+12    6.0   661606.0   634758.0     S          Maxwell Sr High   \n",
       "2  1.964733e+13   19.0  1964733.0  1930924.0     S      Belmont Senior High   \n",
       "3  1.964733e+13   19.0  1964733.0  1931476.0     S  Canoga Park Senior High   \n",
       "4  1.964733e+13   19.0  1964733.0  1931856.0     S     Whitman Continuation   \n",
       "\n",
       "                 DName        CName  Enroll12  NumTSTTakr12  ...  \\\n",
       "0       Colusa Unified       Colusa      18.0           0.0  ...   \n",
       "1      Maxwell Unified       Colusa      29.0          10.0  ...   \n",
       "2  Los Angeles Unified  Los Angeles     206.0         102.0  ...   \n",
       "3  Los Angeles Unified  Los Angeles     227.0         113.0  ...   \n",
       "4  Los Angeles Unified  Los Angeles      18.0          14.0  ...   \n",
       "\n",
       "  NumERWBenchmark11 PctERWBenchmark11 NumMathBenchmark11 PctMathBenchmark11  \\\n",
       "0               NaN               NaN                NaN                NaN   \n",
       "1                 *                 *                  *                  *   \n",
       "2                42             24.14                 12               6.90   \n",
       "3                97             35.27                 37              13.45   \n",
       "4                 *                 *                  *                  *   \n",
       "\n",
       "   TotNumBothBenchmark12  PctBothBenchmark12 TotNumBothBenchmark11  \\\n",
       "0                    NaN                 NaN                   NaN   \n",
       "1                      *                   *                     *   \n",
       "2                     14               13.73                    11   \n",
       "3                     18               15.93                    35   \n",
       "4                      *                   *                     *   \n",
       "\n",
       "  PctBothBenchmark11     Year Unnamed: 25  \n",
       "0                NaN  2018-19         NaN  \n",
       "1                  *  2018-19         NaN  \n",
       "2               6.32  2018-19         NaN  \n",
       "3              12.73  2018-19         NaN  \n",
       "4                  *  2018-19         NaN  \n",
       "\n",
       "[5 rows x 26 columns]"
      ]
     },
     "execution_count": 3,
     "metadata": {},
     "output_type": "execute_result"
    }
   ],
   "source": [
    "df_sat_raw = pd.read_csv(\"./data/sat_2019_ca.csv\")"
   ]
  },
  {
   "cell_type": "markdown",
   "metadata": {},
   "source": [
    "#### Original SAT Data Dictionary\n",
    "##### https://www.cde.ca.gov/ds/sp/ai/reclayoutsat19.asp\n",
    "#\n",
    "#"
   ]
  },
  {
   "cell_type": "markdown",
   "metadata": {},
   "source": [
    "#### Import Charter school data"
   ]
  },
  {
   "cell_type": "code",
   "execution_count": 5,
   "metadata": {},
   "outputs": [
    {
     "data": {
      "text/html": [
       "<div>\n",
       "<style scoped>\n",
       "    .dataframe tbody tr th:only-of-type {\n",
       "        vertical-align: middle;\n",
       "    }\n",
       "\n",
       "    .dataframe tbody tr th {\n",
       "        vertical-align: top;\n",
       "    }\n",
       "\n",
       "    .dataframe thead th {\n",
       "        text-align: right;\n",
       "    }\n",
       "</style>\n",
       "<table border=\"1\" class=\"dataframe\">\n",
       "  <thead>\n",
       "    <tr style=\"text-align: right;\">\n",
       "      <th></th>\n",
       "      <th>school name</th>\n",
       "      <th>charter number</th>\n",
       "      <th>site type</th>\n",
       "      <th>more details</th>\n",
       "      <th>statistical info</th>\n",
       "      <th>county</th>\n",
       "    </tr>\n",
       "  </thead>\n",
       "  <tbody>\n",
       "    <tr>\n",
       "      <th>0</th>\n",
       "      <td>Academy of Alameda Middle School</td>\n",
       "      <td>1181</td>\n",
       "      <td>Site-based Instruction</td>\n",
       "      <td>Academy of Alameda Middle School</td>\n",
       "      <td>DataQuest Reports</td>\n",
       "      <td>Alameda</td>\n",
       "    </tr>\n",
       "    <tr>\n",
       "      <th>1</th>\n",
       "      <td>Achieve Academy</td>\n",
       "      <td>780</td>\n",
       "      <td>Site-based Instruction</td>\n",
       "      <td>Achieve Academy</td>\n",
       "      <td>DataQuest Reports</td>\n",
       "      <td>Alameda</td>\n",
       "    </tr>\n",
       "    <tr>\n",
       "      <th>2</th>\n",
       "      <td>AIMS College Prep Middle School</td>\n",
       "      <td>106</td>\n",
       "      <td>Site-based Instruction</td>\n",
       "      <td>AIMS College Prep Middle School</td>\n",
       "      <td>DataQuest Reports</td>\n",
       "      <td>Alameda</td>\n",
       "    </tr>\n",
       "    <tr>\n",
       "      <th>3</th>\n",
       "      <td>AIMS High School</td>\n",
       "      <td>765</td>\n",
       "      <td>Site-based Instruction</td>\n",
       "      <td>AIMS High School</td>\n",
       "      <td>DataQuest Reports</td>\n",
       "      <td>Alameda</td>\n",
       "    </tr>\n",
       "    <tr>\n",
       "      <th>4</th>\n",
       "      <td>Alameda Community Learning Center</td>\n",
       "      <td>352</td>\n",
       "      <td>Site-based Instruction</td>\n",
       "      <td>Alameda Community Learning Center</td>\n",
       "      <td>DataQuest Reports</td>\n",
       "      <td>Alameda</td>\n",
       "    </tr>\n",
       "  </tbody>\n",
       "</table>\n",
       "</div>"
      ],
      "text/plain": [
       "                         school name charter number               site type  \\\n",
       "0   Academy of Alameda Middle School           1181  Site-based Instruction   \n",
       "1                    Achieve Academy            780  Site-based Instruction   \n",
       "2    AIMS College Prep Middle School            106  Site-based Instruction   \n",
       "3                   AIMS High School            765  Site-based Instruction   \n",
       "4  Alameda Community Learning Center            352  Site-based Instruction   \n",
       "\n",
       "                        more details   statistical info   county  \n",
       "0   Academy of Alameda Middle School  DataQuest Reports  Alameda  \n",
       "1                    Achieve Academy  DataQuest Reports  Alameda  \n",
       "2    AIMS College Prep Middle School  DataQuest Reports  Alameda  \n",
       "3                   AIMS High School  DataQuest Reports  Alameda  \n",
       "4  Alameda Community Learning Center  DataQuest Reports  Alameda  "
      ]
     },
     "execution_count": 5,
     "metadata": {},
     "output_type": "execute_result"
    }
   ],
   "source": [
    "df_charter = pd.read_csv('./school_scraper/charter.csv')"
   ]
  },
  {
   "cell_type": "markdown",
   "metadata": {},
   "source": [
    "##### Data Source: https://www.cde.ca.gov/ds/si/cs/ap1/imagemap.aspx\n",
    "##### (Data collected with ./school_scraper/get_charter.py)\n",
    "#\n",
    "#\n",
    "\n"
   ]
  },
  {
   "cell_type": "markdown",
   "metadata": {},
   "source": [
    "#### Import California median housing value data"
   ]
  },
  {
   "cell_type": "code",
   "execution_count": 6,
   "metadata": {},
   "outputs": [
    {
     "data": {
      "text/html": [
       "<div>\n",
       "<style scoped>\n",
       "    .dataframe tbody tr th:only-of-type {\n",
       "        vertical-align: middle;\n",
       "    }\n",
       "\n",
       "    .dataframe tbody tr th {\n",
       "        vertical-align: top;\n",
       "    }\n",
       "\n",
       "    .dataframe thead th {\n",
       "        text-align: right;\n",
       "    }\n",
       "</style>\n",
       "<table border=\"1\" class=\"dataframe\">\n",
       "  <thead>\n",
       "    <tr style=\"text-align: right;\">\n",
       "      <th></th>\n",
       "      <th>county</th>\n",
       "      <th>median_home_price_q2_2021</th>\n",
       "    </tr>\n",
       "  </thead>\n",
       "  <tbody>\n",
       "    <tr>\n",
       "      <th>0</th>\n",
       "      <td>Alameda</td>\n",
       "      <td>854696.0</td>\n",
       "    </tr>\n",
       "    <tr>\n",
       "      <th>1</th>\n",
       "      <td>Alpine</td>\n",
       "      <td>419080.0</td>\n",
       "    </tr>\n",
       "    <tr>\n",
       "      <th>2</th>\n",
       "      <td>Amador</td>\n",
       "      <td>359884.0</td>\n",
       "    </tr>\n",
       "    <tr>\n",
       "      <th>3</th>\n",
       "      <td>Butte</td>\n",
       "      <td>377765.0</td>\n",
       "    </tr>\n",
       "    <tr>\n",
       "      <th>4</th>\n",
       "      <td>Calaveras</td>\n",
       "      <td>366538.0</td>\n",
       "    </tr>\n",
       "  </tbody>\n",
       "</table>\n",
       "</div>"
      ],
      "text/plain": [
       "      county  median_home_price_q2_2021\n",
       "0    Alameda                   854696.0\n",
       "1     Alpine                   419080.0\n",
       "2     Amador                   359884.0\n",
       "3      Butte                   377765.0\n",
       "4  Calaveras                   366538.0"
      ]
     },
     "execution_count": 6,
     "metadata": {},
     "output_type": "execute_result"
    }
   ],
   "source": [
    "df_ca_homes = pd.read_csv('./data/ca_median_home_value.csv')"
   ]
  },
  {
   "cell_type": "markdown",
   "metadata": {},
   "source": [
    "##### Data Source: https://www.nar.realtor/research-and-statistics/housing-statistics/county-median-home-prices-and-monthly-mortgage-payment\n",
    "#\n",
    "#"
   ]
  },
  {
   "cell_type": "markdown",
   "metadata": {},
   "source": [
    "#### Import CA 'FIPS'\n",
    "###### for mapping purposes only"
   ]
  },
  {
   "cell_type": "code",
   "execution_count": 9,
   "metadata": {},
   "outputs": [
    {
     "data": {
      "text/html": [
       "<div>\n",
       "<style scoped>\n",
       "    .dataframe tbody tr th:only-of-type {\n",
       "        vertical-align: middle;\n",
       "    }\n",
       "\n",
       "    .dataframe tbody tr th {\n",
       "        vertical-align: top;\n",
       "    }\n",
       "\n",
       "    .dataframe thead th {\n",
       "        text-align: right;\n",
       "    }\n",
       "</style>\n",
       "<table border=\"1\" class=\"dataframe\">\n",
       "  <thead>\n",
       "    <tr style=\"text-align: right;\">\n",
       "      <th></th>\n",
       "      <th>Summary Level</th>\n",
       "      <th>State Code (FIPS)</th>\n",
       "      <th>County Code (FIPS)</th>\n",
       "      <th>County Subdivision Code (FIPS)</th>\n",
       "      <th>Place Code (FIPS)</th>\n",
       "      <th>Consolidtated City Code (FIPS)</th>\n",
       "      <th>Area Name (including legal/statistical area description)</th>\n",
       "    </tr>\n",
       "  </thead>\n",
       "  <tbody>\n",
       "    <tr>\n",
       "      <th>0</th>\n",
       "      <td>40</td>\n",
       "      <td>6</td>\n",
       "      <td>0</td>\n",
       "      <td>0</td>\n",
       "      <td>0</td>\n",
       "      <td>6000</td>\n",
       "      <td>California</td>\n",
       "    </tr>\n",
       "    <tr>\n",
       "      <th>1</th>\n",
       "      <td>50</td>\n",
       "      <td>6</td>\n",
       "      <td>1</td>\n",
       "      <td>0</td>\n",
       "      <td>0</td>\n",
       "      <td>6001</td>\n",
       "      <td>Alameda County</td>\n",
       "    </tr>\n",
       "    <tr>\n",
       "      <th>2</th>\n",
       "      <td>50</td>\n",
       "      <td>6</td>\n",
       "      <td>3</td>\n",
       "      <td>0</td>\n",
       "      <td>0</td>\n",
       "      <td>6003</td>\n",
       "      <td>Alpine County</td>\n",
       "    </tr>\n",
       "    <tr>\n",
       "      <th>3</th>\n",
       "      <td>50</td>\n",
       "      <td>6</td>\n",
       "      <td>5</td>\n",
       "      <td>0</td>\n",
       "      <td>0</td>\n",
       "      <td>6005</td>\n",
       "      <td>Amador County</td>\n",
       "    </tr>\n",
       "    <tr>\n",
       "      <th>4</th>\n",
       "      <td>50</td>\n",
       "      <td>6</td>\n",
       "      <td>7</td>\n",
       "      <td>0</td>\n",
       "      <td>0</td>\n",
       "      <td>6007</td>\n",
       "      <td>Butte County</td>\n",
       "    </tr>\n",
       "  </tbody>\n",
       "</table>\n",
       "</div>"
      ],
      "text/plain": [
       "   Summary Level  State Code (FIPS)  County Code (FIPS)  \\\n",
       "0             40                  6                   0   \n",
       "1             50                  6                   1   \n",
       "2             50                  6                   3   \n",
       "3             50                  6                   5   \n",
       "4             50                  6                   7   \n",
       "\n",
       "   County Subdivision Code (FIPS)  Place Code (FIPS)  \\\n",
       "0                               0                  0   \n",
       "1                               0                  0   \n",
       "2                               0                  0   \n",
       "3                               0                  0   \n",
       "4                               0                  0   \n",
       "\n",
       "   Consolidtated City Code (FIPS)  \\\n",
       "0                            6000   \n",
       "1                            6001   \n",
       "2                            6003   \n",
       "3                            6005   \n",
       "4                            6007   \n",
       "\n",
       "  Area Name (including legal/statistical area description)  \n",
       "0                                         California        \n",
       "1                                     Alameda County        \n",
       "2                                      Alpine County        \n",
       "3                                      Amador County        \n",
       "4                                       Butte County        "
      ]
     },
     "execution_count": 9,
     "metadata": {},
     "output_type": "execute_result"
    }
   ],
   "source": [
    "df_fips = pd.read_csv('./data/ca-fips.csv', dtype={'Couty Code (FIPS)':str})"
   ]
  },
  {
   "cell_type": "markdown",
   "metadata": {},
   "source": [
    "##### Data Source: https://www.census.gov/geographies/reference-files/2016/demo/popest/2016-fips.html"
   ]
  },
  {
   "cell_type": "markdown",
   "metadata": {},
   "source": [
    "#\n",
    "#### Import Private School name data"
   ]
  },
  {
   "cell_type": "code",
   "execution_count": 153,
   "metadata": {},
   "outputs": [],
   "source": [
    "df_private = pd.read_csv('./data/private_schools.csv')"
   ]
  },
  {
   "cell_type": "markdown",
   "metadata": {},
   "source": [
    "##### Data Source: https://www.cde.ca.gov/SchoolDirectory/"
   ]
  },
  {
   "cell_type": "markdown",
   "metadata": {},
   "source": [
    "#\n",
    "#\n",
    "#### Rename column dictionaries"
   ]
  },
  {
   "cell_type": "code",
   "execution_count": 155,
   "metadata": {},
   "outputs": [],
   "source": [
    "col_dict_act = {\n",
    "    'CDS'           : 'local_id',\n",
    "    'CCode'         : 'county_id',\n",
    "    'CDCode'        : 'county_dist_id',\n",
    "    'SCode'         : 'school_id',\n",
    "    'RType'         : 'record_type',\n",
    "    'SName'         : 'school_name',\n",
    "    'DName'         : 'dist_name',\n",
    "    'CName'         : 'county_name',\n",
    "    'Enroll12'      : 'enrollment_12',\n",
    "    'NumTstTakr'    : 'test_takers',\n",
    "    'AvgScrRead'    : 'avg_read',\n",
    "    'AvgScrEng'     : 'avg_eng',\n",
    "    'AvgScrMath'    : 'avg_math',\n",
    "    'AvgScrSci'     : 'avg_sci',\n",
    "    'NumGE21'       : 'abv_avg_num',\n",
    "    'PctGE21'       : 'abv_avg_pct',\n",
    "    'Year'          : 'year',\n",
    "}\n",
    "\n",
    "col_dict_sat = {\n",
    "    'CDS'                       : 'local_id',\n",
    "    'CCode'                     : 'county_id',\n",
    "    'CDCode'                    : 'county_dist_id',\n",
    "    'SCode'                     : 'school_id',\n",
    "    'RType'                     : 'record_type',\n",
    "    'SName'                     : 'school_name',\n",
    "    'DName'                     : 'dist_name',\n",
    "    'CName'                     : 'county_name',\n",
    "    'Enroll12'                  : 'enrollment_12',\n",
    "    'NumTSTTakr12'              : 'test_takers',\n",
    "    'NumERWBenchmark12'         : 'avg_eng',\n",
    "    'PctERWBenchmark12'         : 'pct_eng',\n",
    "    'NumMathBenchmark12'        : 'avg_math',\n",
    "    'PctMathBenchmark12'        : 'pct_math',\n",
    "    'Enroll11'                  : 'enrollment_11',\n",
    "    'NumTSTTakr11'              : 'test_takers_11',\n",
    "    'NumERWBenchmark11'         : 'avg_eng_11',\n",
    "    'PctERWBenchmark11'         : 'pct_eng_11',\n",
    "    'NumMathBenchmark11'        : 'avg_math_11',\n",
    "    'PctMathBenchmark11'        : 'pct_math_11',\n",
    "    'TotNumBothBenchmark12'     : 'abv_avg_both',\n",
    "    'PctBothBenchmark12'        : 'abv_pct_both',\n",
    "    'TotNumBothBenchmark11'     : 'abv_avg_both_11',\n",
    "    'PctBothBenchmark11'        : 'abv_pct_both_11',\n",
    "    'Year'                      : 'year',\n",
    "}\n",
    "\n",
    "col_dict_charter = {\n",
    "    'school name'       : 'school_name',\n",
    "    'charter number'    : 'charter_num',\n",
    "    'site type'         : 'site_type',\n",
    "    'more details'      : 'charter_details',\n",
    "    'statistical info'  : 'statistical_info',\n",
    "    'county'            : 'county',\n",
    "}\n",
    "\n",
    "col_dict_house = {\n",
    "    'county'                    : 'county_name',\n",
    "    'median_home_price_q2_2021' : 'med_home_value',\n",
    "}\n",
    "\n",
    "col_dict_fips = {\n",
    "    'Summary Level'                                             : 'summary_level',\n",
    "    'State Code (FIPS)'                                         : 'state',\n",
    "    'County Code (FIPS)'                                        : 'county',\n",
    "    'County Subdivision Code (FIPS)'                            : 'county_sub',\n",
    "    'Place Code (FIPS)'                                         : 'place',\n",
    "    'Consolidtated City Code (FIPS)'                            : 'fips',\n",
    "    'Area Name (including legal/statistical area description)'  : 'county_name',\n",
    "}\n",
    "\n",
    "col_dict_private = {\n",
    "    'Record Type'   : 'record_type',\n",
    "    'CDS Code'      : 'cds_code',\n",
    "    'County'        : 'county',\n",
    "    'District'      : 'district',\n",
    "    'School'        : 'school',\n",
    "    'High Grade'    : 'high_grade'\n",
    "}"
   ]
  },
  {
   "cell_type": "code",
   "execution_count": 154,
   "metadata": {},
   "outputs": [
    {
     "data": {
      "text/plain": [
       "Index(['Record Type', 'CDS Code', 'County', 'District', 'School',\n",
       "       'High Grade'],\n",
       "      dtype='object')"
      ]
     },
     "execution_count": 154,
     "metadata": {},
     "output_type": "execute_result"
    }
   ],
   "source": [
    "df_private.columns"
   ]
  },
  {
   "cell_type": "markdown",
   "metadata": {},
   "source": [
    "#\n",
    "## ACT Data Cleaning\n",
    "#### Inspect ACT data"
   ]
  },
  {
   "cell_type": "code",
   "execution_count": 151,
   "metadata": {},
   "outputs": [
    {
     "data": {
      "text/html": [
       "<div>\n",
       "<style scoped>\n",
       "    .dataframe tbody tr th:only-of-type {\n",
       "        vertical-align: middle;\n",
       "    }\n",
       "\n",
       "    .dataframe tbody tr th {\n",
       "        vertical-align: top;\n",
       "    }\n",
       "\n",
       "    .dataframe thead th {\n",
       "        text-align: right;\n",
       "    }\n",
       "</style>\n",
       "<table border=\"1\" class=\"dataframe\">\n",
       "  <thead>\n",
       "    <tr style=\"text-align: right;\">\n",
       "      <th></th>\n",
       "      <th>local_id</th>\n",
       "      <th>county_id</th>\n",
       "      <th>county_dist_id</th>\n",
       "      <th>school_id</th>\n",
       "      <th>record_type</th>\n",
       "      <th>school_name</th>\n",
       "      <th>dist_name</th>\n",
       "      <th>county_name</th>\n",
       "      <th>enrollment_12</th>\n",
       "      <th>test_takers</th>\n",
       "      <th>avg_read</th>\n",
       "      <th>avg_eng</th>\n",
       "      <th>avg_math</th>\n",
       "      <th>avg_sci</th>\n",
       "      <th>abv_avg_num</th>\n",
       "      <th>abv_avg_pct</th>\n",
       "      <th>year</th>\n",
       "    </tr>\n",
       "  </thead>\n",
       "  <tbody>\n",
       "    <tr>\n",
       "      <th>0</th>\n",
       "      <td>4.369666e+13</td>\n",
       "      <td>43.0</td>\n",
       "      <td>4369666.0</td>\n",
       "      <td>4333795.0</td>\n",
       "      <td>S</td>\n",
       "      <td>Abraham Lincoln High</td>\n",
       "      <td>San Jose Unified</td>\n",
       "      <td>Santa Clara</td>\n",
       "      <td>463.0</td>\n",
       "      <td>53.0</td>\n",
       "      <td>23</td>\n",
       "      <td>22</td>\n",
       "      <td>22</td>\n",
       "      <td>23</td>\n",
       "      <td>34</td>\n",
       "      <td>64.15</td>\n",
       "      <td>2019</td>\n",
       "    </tr>\n",
       "    <tr>\n",
       "      <th>1</th>\n",
       "      <td>1.964733e+13</td>\n",
       "      <td>19.0</td>\n",
       "      <td>1964733.0</td>\n",
       "      <td>1935121.0</td>\n",
       "      <td>S</td>\n",
       "      <td>Abraham Lincoln Senior High</td>\n",
       "      <td>Los Angeles Unified</td>\n",
       "      <td>Los Angeles</td>\n",
       "      <td>226.0</td>\n",
       "      <td>19.0</td>\n",
       "      <td>21</td>\n",
       "      <td>20</td>\n",
       "      <td>23</td>\n",
       "      <td>22</td>\n",
       "      <td>11</td>\n",
       "      <td>57.89</td>\n",
       "      <td>2019</td>\n",
       "    </tr>\n",
       "    <tr>\n",
       "      <th>2</th>\n",
       "      <td>1.976968e+13</td>\n",
       "      <td>19.0</td>\n",
       "      <td>1976968.0</td>\n",
       "      <td>109926.0</td>\n",
       "      <td>S</td>\n",
       "      <td>Academia Avance Charter</td>\n",
       "      <td>SBE - Academia Avance Charter</td>\n",
       "      <td>Los Angeles</td>\n",
       "      <td>65.0</td>\n",
       "      <td>33.0</td>\n",
       "      <td>15</td>\n",
       "      <td>15</td>\n",
       "      <td>17</td>\n",
       "      <td>16</td>\n",
       "      <td>3</td>\n",
       "      <td>9.09</td>\n",
       "      <td>2019</td>\n",
       "    </tr>\n",
       "    <tr>\n",
       "      <th>3</th>\n",
       "      <td>1.964733e+13</td>\n",
       "      <td>19.0</td>\n",
       "      <td>1964733.0</td>\n",
       "      <td>126615.0</td>\n",
       "      <td>S</td>\n",
       "      <td>Academies of Education and Empowerment at Cars...</td>\n",
       "      <td>Los Angeles Unified</td>\n",
       "      <td>Los Angeles</td>\n",
       "      <td>126.0</td>\n",
       "      <td>16.0</td>\n",
       "      <td>18</td>\n",
       "      <td>18</td>\n",
       "      <td>18</td>\n",
       "      <td>17</td>\n",
       "      <td>5</td>\n",
       "      <td>31.25</td>\n",
       "      <td>2019</td>\n",
       "    </tr>\n",
       "    <tr>\n",
       "      <th>4</th>\n",
       "      <td>1.965136e+13</td>\n",
       "      <td>19.0</td>\n",
       "      <td>1965136.0</td>\n",
       "      <td>1996321.0</td>\n",
       "      <td>S</td>\n",
       "      <td>Academy of the Canyons</td>\n",
       "      <td>William S. Hart Union High</td>\n",
       "      <td>Los Angeles</td>\n",
       "      <td>104.0</td>\n",
       "      <td>36.0</td>\n",
       "      <td>29</td>\n",
       "      <td>29</td>\n",
       "      <td>25</td>\n",
       "      <td>25</td>\n",
       "      <td>34</td>\n",
       "      <td>94.44</td>\n",
       "      <td>2019</td>\n",
       "    </tr>\n",
       "  </tbody>\n",
       "</table>\n",
       "</div>"
      ],
      "text/plain": [
       "       local_id  county_id  county_dist_id  school_id record_type  \\\n",
       "0  4.369666e+13       43.0       4369666.0  4333795.0           S   \n",
       "1  1.964733e+13       19.0       1964733.0  1935121.0           S   \n",
       "2  1.976968e+13       19.0       1976968.0   109926.0           S   \n",
       "3  1.964733e+13       19.0       1964733.0   126615.0           S   \n",
       "4  1.965136e+13       19.0       1965136.0  1996321.0           S   \n",
       "\n",
       "                                         school_name  \\\n",
       "0                               Abraham Lincoln High   \n",
       "1                        Abraham Lincoln Senior High   \n",
       "2                            Academia Avance Charter   \n",
       "3  Academies of Education and Empowerment at Cars...   \n",
       "4                             Academy of the Canyons   \n",
       "\n",
       "                       dist_name  county_name  enrollment_12  test_takers  \\\n",
       "0               San Jose Unified  Santa Clara          463.0         53.0   \n",
       "1            Los Angeles Unified  Los Angeles          226.0         19.0   \n",
       "2  SBE - Academia Avance Charter  Los Angeles           65.0         33.0   \n",
       "3            Los Angeles Unified  Los Angeles          126.0         16.0   \n",
       "4     William S. Hart Union High  Los Angeles          104.0         36.0   \n",
       "\n",
       "   avg_read  avg_eng  avg_math  avg_sci  abv_avg_num  abv_avg_pct  year  \n",
       "0        23       22        22       23           34        64.15  2019  \n",
       "1        21       20        23       22           11        57.89  2019  \n",
       "2        15       15        17       16            3         9.09  2019  \n",
       "3        18       18        18       17            5        31.25  2019  \n",
       "4        29       29        25       25           34        94.44  2019  "
      ]
     },
     "execution_count": 151,
     "metadata": {},
     "output_type": "execute_result"
    }
   ],
   "source": [
    "df_act_raw.head()"
   ]
  },
  {
   "cell_type": "code",
   "execution_count": 11,
   "metadata": {},
   "outputs": [],
   "source": [
    "df_act_raw.rename(columns=col_dict_act, inplace=True)"
   ]
  },
  {
   "cell_type": "code",
   "execution_count": 12,
   "metadata": {},
   "outputs": [
    {
     "name": "stdout",
     "output_type": "stream",
     "text": [
      "<class 'pandas.core.frame.DataFrame'>\n",
      "RangeIndex: 2310 entries, 0 to 2309\n",
      "Data columns (total 18 columns):\n",
      " #   Column          Non-Null Count  Dtype  \n",
      "---  ------          --------------  -----  \n",
      " 0   local_id        2309 non-null   float64\n",
      " 1   county_id       2309 non-null   float64\n",
      " 2   county_dist_id  2309 non-null   float64\n",
      " 3   school_id       1787 non-null   float64\n",
      " 4   record_type     2309 non-null   object \n",
      " 5   school_name     1729 non-null   object \n",
      " 6   dist_name       2251 non-null   object \n",
      " 7   county_name     2309 non-null   object \n",
      " 8   enrollment_12   2309 non-null   float64\n",
      " 9   test_takers     2309 non-null   float64\n",
      " 10  avg_read        1953 non-null   object \n",
      " 11  avg_eng         1953 non-null   object \n",
      " 12  avg_math        1953 non-null   object \n",
      " 13  avg_sci         1953 non-null   object \n",
      " 14  abv_avg_num     1953 non-null   object \n",
      " 15  abv_avg_pct     1953 non-null   object \n",
      " 16  year            2309 non-null   object \n",
      " 17  Unnamed: 17     0 non-null      float64\n",
      "dtypes: float64(7), object(11)\n",
      "memory usage: 325.0+ KB\n"
     ]
    }
   ],
   "source": [
    "df_act_raw.info()"
   ]
  },
  {
   "cell_type": "code",
   "execution_count": 13,
   "metadata": {},
   "outputs": [
    {
     "data": {
      "text/plain": [
       "(2310, 18)"
      ]
     },
     "execution_count": 13,
     "metadata": {},
     "output_type": "execute_result"
    }
   ],
   "source": [
    "df_act_raw.shape"
   ]
  },
  {
   "cell_type": "code",
   "execution_count": 14,
   "metadata": {},
   "outputs": [
    {
     "data": {
      "text/html": [
       "<div>\n",
       "<style scoped>\n",
       "    .dataframe tbody tr th:only-of-type {\n",
       "        vertical-align: middle;\n",
       "    }\n",
       "\n",
       "    .dataframe tbody tr th {\n",
       "        vertical-align: top;\n",
       "    }\n",
       "\n",
       "    .dataframe thead th {\n",
       "        text-align: right;\n",
       "    }\n",
       "</style>\n",
       "<table border=\"1\" class=\"dataframe\">\n",
       "  <thead>\n",
       "    <tr style=\"text-align: right;\">\n",
       "      <th></th>\n",
       "      <th>local_id</th>\n",
       "      <th>county_id</th>\n",
       "      <th>county_dist_id</th>\n",
       "      <th>school_id</th>\n",
       "      <th>enrollment_12</th>\n",
       "      <th>test_takers</th>\n",
       "      <th>Unnamed: 17</th>\n",
       "    </tr>\n",
       "  </thead>\n",
       "  <tbody>\n",
       "    <tr>\n",
       "      <th>count</th>\n",
       "      <td>2.309000e+03</td>\n",
       "      <td>2309.000000</td>\n",
       "      <td>2.309000e+03</td>\n",
       "      <td>1.787000e+03</td>\n",
       "      <td>2309.000000</td>\n",
       "      <td>2309.000000</td>\n",
       "      <td>0.0</td>\n",
       "    </tr>\n",
       "    <tr>\n",
       "      <th>mean</th>\n",
       "      <td>2.929718e+13</td>\n",
       "      <td>28.666522</td>\n",
       "      <td>2.855616e+06</td>\n",
       "      <td>1.902681e+06</td>\n",
       "      <td>828.172802</td>\n",
       "      <td>143.182763</td>\n",
       "      <td>NaN</td>\n",
       "    </tr>\n",
       "    <tr>\n",
       "      <th>std</th>\n",
       "      <td>1.444996e+13</td>\n",
       "      <td>14.425498</td>\n",
       "      <td>1.492574e+06</td>\n",
       "      <td>1.838954e+06</td>\n",
       "      <td>10667.048988</td>\n",
       "      <td>1816.545548</td>\n",
       "      <td>NaN</td>\n",
       "    </tr>\n",
       "    <tr>\n",
       "      <th>min</th>\n",
       "      <td>0.000000e+00</td>\n",
       "      <td>0.000000</td>\n",
       "      <td>0.000000e+00</td>\n",
       "      <td>0.000000e+00</td>\n",
       "      <td>0.000000</td>\n",
       "      <td>0.000000</td>\n",
       "      <td>NaN</td>\n",
       "    </tr>\n",
       "    <tr>\n",
       "      <th>25%</th>\n",
       "      <td>1.964725e+13</td>\n",
       "      <td>19.000000</td>\n",
       "      <td>1.964519e+06</td>\n",
       "      <td>1.254385e+05</td>\n",
       "      <td>78.000000</td>\n",
       "      <td>3.000000</td>\n",
       "      <td>NaN</td>\n",
       "    </tr>\n",
       "    <tr>\n",
       "      <th>50%</th>\n",
       "      <td>3.066647e+13</td>\n",
       "      <td>30.000000</td>\n",
       "      <td>3.066548e+06</td>\n",
       "      <td>1.930288e+06</td>\n",
       "      <td>218.000000</td>\n",
       "      <td>30.000000</td>\n",
       "      <td>NaN</td>\n",
       "    </tr>\n",
       "    <tr>\n",
       "      <th>75%</th>\n",
       "      <td>3.868478e+13</td>\n",
       "      <td>38.000000</td>\n",
       "      <td>3.777032e+06</td>\n",
       "      <td>3.435674e+06</td>\n",
       "      <td>497.000000</td>\n",
       "      <td>86.000000</td>\n",
       "      <td>NaN</td>\n",
       "    </tr>\n",
       "    <tr>\n",
       "      <th>max</th>\n",
       "      <td>5.872770e+13</td>\n",
       "      <td>58.000000</td>\n",
       "      <td>5.872769e+06</td>\n",
       "      <td>6.120893e+06</td>\n",
       "      <td>489650.000000</td>\n",
       "      <td>82668.000000</td>\n",
       "      <td>NaN</td>\n",
       "    </tr>\n",
       "  </tbody>\n",
       "</table>\n",
       "</div>"
      ],
      "text/plain": [
       "           local_id    county_id  county_dist_id     school_id  enrollment_12  \\\n",
       "count  2.309000e+03  2309.000000    2.309000e+03  1.787000e+03    2309.000000   \n",
       "mean   2.929718e+13    28.666522    2.855616e+06  1.902681e+06     828.172802   \n",
       "std    1.444996e+13    14.425498    1.492574e+06  1.838954e+06   10667.048988   \n",
       "min    0.000000e+00     0.000000    0.000000e+00  0.000000e+00       0.000000   \n",
       "25%    1.964725e+13    19.000000    1.964519e+06  1.254385e+05      78.000000   \n",
       "50%    3.066647e+13    30.000000    3.066548e+06  1.930288e+06     218.000000   \n",
       "75%    3.868478e+13    38.000000    3.777032e+06  3.435674e+06     497.000000   \n",
       "max    5.872770e+13    58.000000    5.872769e+06  6.120893e+06  489650.000000   \n",
       "\n",
       "        test_takers  Unnamed: 17  \n",
       "count   2309.000000          0.0  \n",
       "mean     143.182763          NaN  \n",
       "std     1816.545548          NaN  \n",
       "min        0.000000          NaN  \n",
       "25%        3.000000          NaN  \n",
       "50%       30.000000          NaN  \n",
       "75%       86.000000          NaN  \n",
       "max    82668.000000          NaN  "
      ]
     },
     "execution_count": 14,
     "metadata": {},
     "output_type": "execute_result"
    }
   ],
   "source": [
    "df_act_raw.describe()"
   ]
  },
  {
   "cell_type": "code",
   "execution_count": 15,
   "metadata": {},
   "outputs": [
    {
     "data": {
      "text/plain": [
       "local_id          float64\n",
       "county_id         float64\n",
       "county_dist_id    float64\n",
       "school_id         float64\n",
       "record_type        object\n",
       "school_name        object\n",
       "dist_name          object\n",
       "county_name        object\n",
       "enrollment_12     float64\n",
       "test_takers       float64\n",
       "avg_read           object\n",
       "avg_eng            object\n",
       "avg_math           object\n",
       "avg_sci            object\n",
       "abv_avg_num        object\n",
       "abv_avg_pct        object\n",
       "year               object\n",
       "Unnamed: 17       float64\n",
       "dtype: object"
      ]
     },
     "execution_count": 15,
     "metadata": {},
     "output_type": "execute_result"
    }
   ],
   "source": [
    "df_act_raw.dtypes"
   ]
  },
  {
   "cell_type": "markdown",
   "metadata": {},
   "source": [
    "#### Convert Year column to int of year completed"
   ]
  },
  {
   "cell_type": "code",
   "execution_count": 16,
   "metadata": {},
   "outputs": [
    {
     "data": {
      "text/html": [
       "<div>\n",
       "<style scoped>\n",
       "    .dataframe tbody tr th:only-of-type {\n",
       "        vertical-align: middle;\n",
       "    }\n",
       "\n",
       "    .dataframe tbody tr th {\n",
       "        vertical-align: top;\n",
       "    }\n",
       "\n",
       "    .dataframe thead th {\n",
       "        text-align: right;\n",
       "    }\n",
       "</style>\n",
       "<table border=\"1\" class=\"dataframe\">\n",
       "  <thead>\n",
       "    <tr style=\"text-align: right;\">\n",
       "      <th></th>\n",
       "      <th>local_id</th>\n",
       "      <th>county_id</th>\n",
       "      <th>county_dist_id</th>\n",
       "      <th>school_id</th>\n",
       "      <th>record_type</th>\n",
       "      <th>school_name</th>\n",
       "      <th>dist_name</th>\n",
       "      <th>county_name</th>\n",
       "      <th>enrollment_12</th>\n",
       "      <th>test_takers</th>\n",
       "      <th>avg_read</th>\n",
       "      <th>avg_eng</th>\n",
       "      <th>avg_math</th>\n",
       "      <th>avg_sci</th>\n",
       "      <th>abv_avg_num</th>\n",
       "      <th>abv_avg_pct</th>\n",
       "      <th>year</th>\n",
       "      <th>Unnamed: 17</th>\n",
       "    </tr>\n",
       "  </thead>\n",
       "  <tbody>\n",
       "    <tr>\n",
       "      <th>0</th>\n",
       "      <td>3.366993e+13</td>\n",
       "      <td>33.0</td>\n",
       "      <td>3366993.0</td>\n",
       "      <td>129882.0</td>\n",
       "      <td>S</td>\n",
       "      <td>21st Century Learning Institute</td>\n",
       "      <td>Beaumont Unified</td>\n",
       "      <td>Riverside</td>\n",
       "      <td>18.0</td>\n",
       "      <td>0.0</td>\n",
       "      <td>NaN</td>\n",
       "      <td>NaN</td>\n",
       "      <td>NaN</td>\n",
       "      <td>NaN</td>\n",
       "      <td>NaN</td>\n",
       "      <td>NaN</td>\n",
       "      <td>2019</td>\n",
       "      <td>NaN</td>\n",
       "    </tr>\n",
       "    <tr>\n",
       "      <th>1</th>\n",
       "      <td>1.964212e+13</td>\n",
       "      <td>19.0</td>\n",
       "      <td>1964212.0</td>\n",
       "      <td>1995596.0</td>\n",
       "      <td>S</td>\n",
       "      <td>ABC Secondary (Alternative)</td>\n",
       "      <td>ABC Unified</td>\n",
       "      <td>Los Angeles</td>\n",
       "      <td>58.0</td>\n",
       "      <td>0.0</td>\n",
       "      <td>NaN</td>\n",
       "      <td>NaN</td>\n",
       "      <td>NaN</td>\n",
       "      <td>NaN</td>\n",
       "      <td>NaN</td>\n",
       "      <td>NaN</td>\n",
       "      <td>2019</td>\n",
       "      <td>NaN</td>\n",
       "    </tr>\n",
       "    <tr>\n",
       "      <th>2</th>\n",
       "      <td>1.563776e+13</td>\n",
       "      <td>15.0</td>\n",
       "      <td>1563776.0</td>\n",
       "      <td>1530377.0</td>\n",
       "      <td>S</td>\n",
       "      <td>Abraham Lincoln Alternative</td>\n",
       "      <td>Southern Kern Unified</td>\n",
       "      <td>Kern</td>\n",
       "      <td>18.0</td>\n",
       "      <td>0.0</td>\n",
       "      <td>NaN</td>\n",
       "      <td>NaN</td>\n",
       "      <td>NaN</td>\n",
       "      <td>NaN</td>\n",
       "      <td>NaN</td>\n",
       "      <td>NaN</td>\n",
       "      <td>2019</td>\n",
       "      <td>NaN</td>\n",
       "    </tr>\n",
       "    <tr>\n",
       "      <th>3</th>\n",
       "      <td>4.369666e+13</td>\n",
       "      <td>43.0</td>\n",
       "      <td>4369666.0</td>\n",
       "      <td>4333795.0</td>\n",
       "      <td>S</td>\n",
       "      <td>Abraham Lincoln High</td>\n",
       "      <td>San Jose Unified</td>\n",
       "      <td>Santa Clara</td>\n",
       "      <td>463.0</td>\n",
       "      <td>53.0</td>\n",
       "      <td>23</td>\n",
       "      <td>22</td>\n",
       "      <td>22</td>\n",
       "      <td>23</td>\n",
       "      <td>34</td>\n",
       "      <td>64.15</td>\n",
       "      <td>2019</td>\n",
       "      <td>NaN</td>\n",
       "    </tr>\n",
       "    <tr>\n",
       "      <th>4</th>\n",
       "      <td>1.964733e+13</td>\n",
       "      <td>19.0</td>\n",
       "      <td>1964733.0</td>\n",
       "      <td>1935121.0</td>\n",
       "      <td>S</td>\n",
       "      <td>Abraham Lincoln Senior High</td>\n",
       "      <td>Los Angeles Unified</td>\n",
       "      <td>Los Angeles</td>\n",
       "      <td>226.0</td>\n",
       "      <td>19.0</td>\n",
       "      <td>21</td>\n",
       "      <td>20</td>\n",
       "      <td>23</td>\n",
       "      <td>22</td>\n",
       "      <td>11</td>\n",
       "      <td>57.89</td>\n",
       "      <td>2019</td>\n",
       "      <td>NaN</td>\n",
       "    </tr>\n",
       "  </tbody>\n",
       "</table>\n",
       "</div>"
      ],
      "text/plain": [
       "       local_id  county_id  county_dist_id  school_id record_type  \\\n",
       "0  3.366993e+13       33.0       3366993.0   129882.0           S   \n",
       "1  1.964212e+13       19.0       1964212.0  1995596.0           S   \n",
       "2  1.563776e+13       15.0       1563776.0  1530377.0           S   \n",
       "3  4.369666e+13       43.0       4369666.0  4333795.0           S   \n",
       "4  1.964733e+13       19.0       1964733.0  1935121.0           S   \n",
       "\n",
       "                       school_name              dist_name  county_name  \\\n",
       "0  21st Century Learning Institute       Beaumont Unified    Riverside   \n",
       "1      ABC Secondary (Alternative)            ABC Unified  Los Angeles   \n",
       "2      Abraham Lincoln Alternative  Southern Kern Unified         Kern   \n",
       "3             Abraham Lincoln High       San Jose Unified  Santa Clara   \n",
       "4      Abraham Lincoln Senior High    Los Angeles Unified  Los Angeles   \n",
       "\n",
       "   enrollment_12  test_takers avg_read avg_eng avg_math avg_sci abv_avg_num  \\\n",
       "0           18.0          0.0      NaN     NaN      NaN     NaN         NaN   \n",
       "1           58.0          0.0      NaN     NaN      NaN     NaN         NaN   \n",
       "2           18.0          0.0      NaN     NaN      NaN     NaN         NaN   \n",
       "3          463.0         53.0       23      22       22      23          34   \n",
       "4          226.0         19.0       21      20       23      22          11   \n",
       "\n",
       "  abv_avg_pct  year  Unnamed: 17  \n",
       "0         NaN  2019          NaN  \n",
       "1         NaN  2019          NaN  \n",
       "2         NaN  2019          NaN  \n",
       "3       64.15  2019          NaN  \n",
       "4       57.89  2019          NaN  "
      ]
     },
     "execution_count": 16,
     "metadata": {},
     "output_type": "execute_result"
    }
   ],
   "source": [
    "df_act_raw['year'] = 2019"
   ]
  },
  {
   "cell_type": "markdown",
   "metadata": {},
   "source": [
    "#### '*' scores have fewer than 15 student tests.. Dropping * & NaN values as they cannot provide a comparison value"
   ]
  },
  {
   "cell_type": "code",
   "execution_count": 17,
   "metadata": {},
   "outputs": [
    {
     "data": {
      "text/plain": [
       "*     532\n",
       "23    136\n",
       "25    132\n",
       "21    131\n",
       "19    118\n",
       "22    118\n",
       "24    117\n",
       "18    116\n",
       "20    114\n",
       "26    105\n",
       "27     72\n",
       "17     66\n",
       "16     57\n",
       "28     54\n",
       "29     32\n",
       "15     27\n",
       "30     10\n",
       "14      7\n",
       "31      5\n",
       "13      2\n",
       "12      1\n",
       "32      1\n",
       "Name: avg_read, dtype: int64"
      ]
     },
     "execution_count": 17,
     "metadata": {},
     "output_type": "execute_result"
    }
   ],
   "source": [
    "df_act_raw['avg_read'].value_counts()"
   ]
  },
  {
   "cell_type": "code",
   "execution_count": 18,
   "metadata": {},
   "outputs": [],
   "source": [
    "df_act_raw.drop(df_act_raw[df_act_raw['test_takers'] < 15].index, inplace=True)"
   ]
  },
  {
   "cell_type": "markdown",
   "metadata": {},
   "source": [
    "#### Visualize NA values"
   ]
  },
  {
   "cell_type": "code",
   "execution_count": 20,
   "metadata": {},
   "outputs": [
    {
     "data": {
      "image/png": "[encoded data removed]",
      "text/plain": [
       "<Figure size 1800x720 with 2 Axes>"
      ]
     },
     "metadata": {
      "needs_background": "light"
     },
     "output_type": "display_data"
    }
   ],
   "source": [
    "mn.matrix(df_act_raw);"
   ]
  },
  {
   "cell_type": "markdown",
   "metadata": {},
   "source": [
    "#### Find empty data in final row"
   ]
  },
  {
   "cell_type": "code",
   "execution_count": 22,
   "metadata": {},
   "outputs": [
    {
     "data": {
      "text/html": [
       "<div>\n",
       "<style scoped>\n",
       "    .dataframe tbody tr th:only-of-type {\n",
       "        vertical-align: middle;\n",
       "    }\n",
       "\n",
       "    .dataframe tbody tr th {\n",
       "        vertical-align: top;\n",
       "    }\n",
       "\n",
       "    .dataframe thead th {\n",
       "        text-align: right;\n",
       "    }\n",
       "</style>\n",
       "<table border=\"1\" class=\"dataframe\">\n",
       "  <thead>\n",
       "    <tr style=\"text-align: right;\">\n",
       "      <th></th>\n",
       "      <th>local_id</th>\n",
       "      <th>county_id</th>\n",
       "      <th>county_dist_id</th>\n",
       "      <th>school_id</th>\n",
       "      <th>record_type</th>\n",
       "      <th>school_name</th>\n",
       "      <th>dist_name</th>\n",
       "      <th>county_name</th>\n",
       "      <th>enrollment_12</th>\n",
       "      <th>test_takers</th>\n",
       "      <th>avg_read</th>\n",
       "      <th>avg_eng</th>\n",
       "      <th>avg_math</th>\n",
       "      <th>avg_sci</th>\n",
       "      <th>abv_avg_num</th>\n",
       "      <th>abv_avg_pct</th>\n",
       "      <th>year</th>\n",
       "      <th>Unnamed: 17</th>\n",
       "    </tr>\n",
       "  </thead>\n",
       "  <tbody>\n",
       "    <tr>\n",
       "      <th>2309</th>\n",
       "      <td>NaN</td>\n",
       "      <td>NaN</td>\n",
       "      <td>NaN</td>\n",
       "      <td>NaN</td>\n",
       "      <td>NaN</td>\n",
       "      <td>NaN</td>\n",
       "      <td>NaN</td>\n",
       "      <td>NaN</td>\n",
       "      <td>NaN</td>\n",
       "      <td>NaN</td>\n",
       "      <td>NaN</td>\n",
       "      <td>NaN</td>\n",
       "      <td>NaN</td>\n",
       "      <td>NaN</td>\n",
       "      <td>NaN</td>\n",
       "      <td>NaN</td>\n",
       "      <td>2019</td>\n",
       "      <td>NaN</td>\n",
       "    </tr>\n",
       "  </tbody>\n",
       "</table>\n",
       "</div>"
      ],
      "text/plain": [
       "      local_id  county_id  county_dist_id  school_id record_type school_name  \\\n",
       "2309       NaN        NaN             NaN        NaN         NaN         NaN   \n",
       "\n",
       "     dist_name county_name  enrollment_12  test_takers avg_read avg_eng  \\\n",
       "2309       NaN         NaN            NaN          NaN      NaN     NaN   \n",
       "\n",
       "     avg_math avg_sci abv_avg_num abv_avg_pct  year  Unnamed: 17  \n",
       "2309      NaN     NaN         NaN         NaN  2019          NaN  "
      ]
     },
     "execution_count": 22,
     "metadata": {},
     "output_type": "execute_result"
    }
   ],
   "source": [
    "df_act_raw[df_act_raw['record_type'].isna()]"
   ]
  },
  {
   "cell_type": "markdown",
   "metadata": {},
   "source": [
    "#### Drop last row"
   ]
  },
  {
   "cell_type": "code",
   "execution_count": 23,
   "metadata": {},
   "outputs": [],
   "source": [
    "df_act_raw.drop(labels=2309, inplace=True)\n",
    "df_act_raw.reset_index(drop=True, inplace=True)"
   ]
  },
  {
   "cell_type": "markdown",
   "metadata": {},
   "source": [
    "#### Drop Unamed: 17 column"
   ]
  },
  {
   "cell_type": "code",
   "execution_count": null,
   "metadata": {},
   "outputs": [],
   "source": [
    "df_act_raw.drop(axis=1, labels=\"Unnamed: 17\", inplace=True)"
   ]
  },
  {
   "cell_type": "markdown",
   "metadata": {},
   "source": [
    "#### Locate record types"
   ]
  },
  {
   "cell_type": "code",
   "execution_count": null,
   "metadata": {},
   "outputs": [],
   "source": [
    "df_act_raw['record_type'].unique()"
   ]
  },
  {
   "cell_type": "markdown",
   "metadata": {},
   "source": [
    "#### Observations without a District Name (dist_name) are statistics aggregated by County"
   ]
  },
  {
   "cell_type": "code",
   "execution_count": 27,
   "metadata": {},
   "outputs": [
    {
     "data": {
      "text/html": [
       "<div>\n",
       "<style scoped>\n",
       "    .dataframe tbody tr th:only-of-type {\n",
       "        vertical-align: middle;\n",
       "    }\n",
       "\n",
       "    .dataframe tbody tr th {\n",
       "        vertical-align: top;\n",
       "    }\n",
       "\n",
       "    .dataframe thead th {\n",
       "        text-align: right;\n",
       "    }\n",
       "</style>\n",
       "<table border=\"1\" class=\"dataframe\">\n",
       "  <thead>\n",
       "    <tr style=\"text-align: right;\">\n",
       "      <th></th>\n",
       "      <th>local_id</th>\n",
       "      <th>county_id</th>\n",
       "      <th>county_dist_id</th>\n",
       "      <th>school_id</th>\n",
       "      <th>record_type</th>\n",
       "      <th>school_name</th>\n",
       "      <th>dist_name</th>\n",
       "      <th>county_name</th>\n",
       "      <th>enrollment_12</th>\n",
       "      <th>test_takers</th>\n",
       "      <th>avg_read</th>\n",
       "      <th>avg_eng</th>\n",
       "      <th>avg_math</th>\n",
       "      <th>avg_sci</th>\n",
       "      <th>abv_avg_num</th>\n",
       "      <th>abv_avg_pct</th>\n",
       "      <th>year</th>\n",
       "    </tr>\n",
       "  </thead>\n",
       "  <tbody>\n",
       "    <tr>\n",
       "      <th>622</th>\n",
       "      <td>3.400000e+13</td>\n",
       "      <td>34.0</td>\n",
       "      <td>0.0</td>\n",
       "      <td>0.0</td>\n",
       "      <td>C</td>\n",
       "      <td>NaN</td>\n",
       "      <td>NaN</td>\n",
       "      <td>Sacramento</td>\n",
       "      <td>19540.0</td>\n",
       "      <td>3065.0</td>\n",
       "      <td>21</td>\n",
       "      <td>20</td>\n",
       "      <td>21</td>\n",
       "      <td>21</td>\n",
       "      <td>1526</td>\n",
       "      <td>49.79</td>\n",
       "      <td>2019</td>\n",
       "    </tr>\n",
       "    <tr>\n",
       "      <th>623</th>\n",
       "      <td>3.900000e+13</td>\n",
       "      <td>39.0</td>\n",
       "      <td>0.0</td>\n",
       "      <td>0.0</td>\n",
       "      <td>C</td>\n",
       "      <td>NaN</td>\n",
       "      <td>NaN</td>\n",
       "      <td>San Joaquin</td>\n",
       "      <td>11778.0</td>\n",
       "      <td>1348.0</td>\n",
       "      <td>22</td>\n",
       "      <td>21</td>\n",
       "      <td>21</td>\n",
       "      <td>21</td>\n",
       "      <td>693</td>\n",
       "      <td>51.41</td>\n",
       "      <td>2019</td>\n",
       "    </tr>\n",
       "    <tr>\n",
       "      <th>624</th>\n",
       "      <td>1.500000e+13</td>\n",
       "      <td>15.0</td>\n",
       "      <td>0.0</td>\n",
       "      <td>0.0</td>\n",
       "      <td>C</td>\n",
       "      <td>NaN</td>\n",
       "      <td>NaN</td>\n",
       "      <td>Kern</td>\n",
       "      <td>14229.0</td>\n",
       "      <td>1257.0</td>\n",
       "      <td>21</td>\n",
       "      <td>20</td>\n",
       "      <td>20</td>\n",
       "      <td>20</td>\n",
       "      <td>544</td>\n",
       "      <td>43.28</td>\n",
       "      <td>2019</td>\n",
       "    </tr>\n",
       "    <tr>\n",
       "      <th>625</th>\n",
       "      <td>4.500000e+13</td>\n",
       "      <td>45.0</td>\n",
       "      <td>0.0</td>\n",
       "      <td>0.0</td>\n",
       "      <td>C</td>\n",
       "      <td>NaN</td>\n",
       "      <td>NaN</td>\n",
       "      <td>Shasta</td>\n",
       "      <td>2161.0</td>\n",
       "      <td>173.0</td>\n",
       "      <td>26</td>\n",
       "      <td>24</td>\n",
       "      <td>24</td>\n",
       "      <td>24</td>\n",
       "      <td>131</td>\n",
       "      <td>75.72</td>\n",
       "      <td>2019</td>\n",
       "    </tr>\n",
       "    <tr>\n",
       "      <th>626</th>\n",
       "      <td>5.100000e+13</td>\n",
       "      <td>51.0</td>\n",
       "      <td>0.0</td>\n",
       "      <td>0.0</td>\n",
       "      <td>C</td>\n",
       "      <td>NaN</td>\n",
       "      <td>NaN</td>\n",
       "      <td>Sutter</td>\n",
       "      <td>1827.0</td>\n",
       "      <td>196.0</td>\n",
       "      <td>23</td>\n",
       "      <td>22</td>\n",
       "      <td>22</td>\n",
       "      <td>22</td>\n",
       "      <td>117</td>\n",
       "      <td>59.69</td>\n",
       "      <td>2019</td>\n",
       "    </tr>\n",
       "  </tbody>\n",
       "</table>\n",
       "</div>"
      ],
      "text/plain": [
       "         local_id  county_id  county_dist_id  school_id record_type  \\\n",
       "622  3.400000e+13       34.0             0.0        0.0           C   \n",
       "623  3.900000e+13       39.0             0.0        0.0           C   \n",
       "624  1.500000e+13       15.0             0.0        0.0           C   \n",
       "625  4.500000e+13       45.0             0.0        0.0           C   \n",
       "626  5.100000e+13       51.0             0.0        0.0           C   \n",
       "\n",
       "    school_name dist_name  county_name  enrollment_12  test_takers avg_read  \\\n",
       "622         NaN       NaN   Sacramento        19540.0       3065.0       21   \n",
       "623         NaN       NaN  San Joaquin        11778.0       1348.0       22   \n",
       "624         NaN       NaN         Kern        14229.0       1257.0       21   \n",
       "625         NaN       NaN       Shasta         2161.0        173.0       26   \n",
       "626         NaN       NaN       Sutter         1827.0        196.0       23   \n",
       "\n",
       "    avg_eng avg_math avg_sci abv_avg_num abv_avg_pct  year  \n",
       "622      20       21      21        1526       49.79  2019  \n",
       "623      21       21      21         693       51.41  2019  \n",
       "624      20       20      20         544       43.28  2019  \n",
       "625      24       24      24         131       75.72  2019  \n",
       "626      22       22      22         117       59.69  2019  "
      ]
     },
     "execution_count": 27,
     "metadata": {},
     "output_type": "execute_result"
    }
   ],
   "source": [
    "df_act_raw[df_act_raw['dist_name'].isna()].head()"
   ]
  },
  {
   "cell_type": "markdown",
   "metadata": {},
   "source": [
    "#### Observations with an empty School Name (school_name) are statistics aggregated by District"
   ]
  },
  {
   "cell_type": "code",
   "execution_count": 28,
   "metadata": {},
   "outputs": [
    {
     "data": {
      "text/plain": [
       "D    350\n",
       "Name: record_type, dtype: int64"
      ]
     },
     "execution_count": 28,
     "metadata": {},
     "output_type": "execute_result"
    }
   ],
   "source": [
    "df_act_raw['record_type'][df_act_raw['school_id'].isna()].value_counts()"
   ]
  },
  {
   "cell_type": "code",
   "execution_count": 29,
   "metadata": {},
   "outputs": [
    {
     "data": {
      "text/plain": [
       "S    1016\n",
       "D     350\n",
       "C      54\n",
       "X       1\n",
       "Name: record_type, dtype: int64"
      ]
     },
     "execution_count": 29,
     "metadata": {},
     "output_type": "execute_result"
    }
   ],
   "source": [
    "df_act_raw['record_type'].value_counts()"
   ]
  },
  {
   "cell_type": "code",
   "execution_count": 30,
   "metadata": {},
   "outputs": [
    {
     "data": {
      "image/png": "[encoded data removed]",
      "text/plain": [
       "<Figure size 1800x720 with 2 Axes>"
      ]
     },
     "metadata": {
      "needs_background": "light"
     },
     "output_type": "display_data"
    }
   ],
   "source": [
    "mn.matrix(df_act_raw);"
   ]
  },
  {
   "cell_type": "markdown",
   "metadata": {},
   "source": [
    "#### Missing values cleaned, however columns containing score averages are not formatted as numeric\n"
   ]
  },
  {
   "cell_type": "code",
   "execution_count": 31,
   "metadata": {},
   "outputs": [
    {
     "name": "stdout",
     "output_type": "stream",
     "text": [
      "<class 'pandas.core.frame.DataFrame'>\n",
      "RangeIndex: 1421 entries, 0 to 1420\n",
      "Data columns (total 17 columns):\n",
      " #   Column          Non-Null Count  Dtype  \n",
      "---  ------          --------------  -----  \n",
      " 0   local_id        1421 non-null   float64\n",
      " 1   county_id       1421 non-null   float64\n",
      " 2   county_dist_id  1421 non-null   float64\n",
      " 3   school_id       1071 non-null   float64\n",
      " 4   record_type     1421 non-null   object \n",
      " 5   school_name     1017 non-null   object \n",
      " 6   dist_name       1367 non-null   object \n",
      " 7   county_name     1421 non-null   object \n",
      " 8   enrollment_12   1421 non-null   float64\n",
      " 9   test_takers     1421 non-null   float64\n",
      " 10  avg_read        1421 non-null   object \n",
      " 11  avg_eng         1421 non-null   object \n",
      " 12  avg_math        1421 non-null   object \n",
      " 13  avg_sci         1421 non-null   object \n",
      " 14  abv_avg_num     1421 non-null   object \n",
      " 15  abv_avg_pct     1421 non-null   object \n",
      " 16  year            1421 non-null   int64  \n",
      "dtypes: float64(6), int64(1), object(10)\n",
      "memory usage: 188.9+ KB\n"
     ]
    }
   ],
   "source": [
    "df_act_raw.info()"
   ]
  },
  {
   "cell_type": "markdown",
   "metadata": {},
   "source": [
    "#### Convert string values to numeric"
   ]
  },
  {
   "cell_type": "code",
   "execution_count": 32,
   "metadata": {},
   "outputs": [],
   "source": [
    "for _ in ['avg_read', 'avg_eng', 'avg_math', 'avg_sci', 'abv_avg_num', 'abv_avg_pct']:\n",
    "    df_act_raw.loc[:, _] = pd.to_numeric(df_act_raw.loc[:, _])"
   ]
  },
  {
   "cell_type": "markdown",
   "metadata": {},
   "source": [
    "#### Isolate 'School' level data"
   ]
  },
  {
   "cell_type": "code",
   "execution_count": 33,
   "metadata": {},
   "outputs": [],
   "source": [
    "df_act_scho = pd.DataFrame(df_act_raw[df_act_raw['record_type'] == 'S'])\n",
    "df_act_scho.reset_index(drop=True, inplace=True)\n",
    "# District, County, and State level data can all be derived from School level data and are redundant"
   ]
  },
  {
   "cell_type": "markdown",
   "metadata": {},
   "source": [
    "### ACT data is clean!"
   ]
  },
  {
   "cell_type": "code",
   "execution_count": 34,
   "metadata": {},
   "outputs": [
    {
     "data": {
      "text/html": [
       "<div>\n",
       "<style scoped>\n",
       "    .dataframe tbody tr th:only-of-type {\n",
       "        vertical-align: middle;\n",
       "    }\n",
       "\n",
       "    .dataframe tbody tr th {\n",
       "        vertical-align: top;\n",
       "    }\n",
       "\n",
       "    .dataframe thead th {\n",
       "        text-align: right;\n",
       "    }\n",
       "</style>\n",
       "<table border=\"1\" class=\"dataframe\">\n",
       "  <thead>\n",
       "    <tr style=\"text-align: right;\">\n",
       "      <th></th>\n",
       "      <th>local_id</th>\n",
       "      <th>county_id</th>\n",
       "      <th>county_dist_id</th>\n",
       "      <th>school_id</th>\n",
       "      <th>record_type</th>\n",
       "      <th>school_name</th>\n",
       "      <th>dist_name</th>\n",
       "      <th>county_name</th>\n",
       "      <th>enrollment_12</th>\n",
       "      <th>test_takers</th>\n",
       "      <th>avg_read</th>\n",
       "      <th>avg_eng</th>\n",
       "      <th>avg_math</th>\n",
       "      <th>avg_sci</th>\n",
       "      <th>abv_avg_num</th>\n",
       "      <th>abv_avg_pct</th>\n",
       "      <th>year</th>\n",
       "    </tr>\n",
       "  </thead>\n",
       "  <tbody>\n",
       "    <tr>\n",
       "      <th>0</th>\n",
       "      <td>4.369666e+13</td>\n",
       "      <td>43.0</td>\n",
       "      <td>4369666.0</td>\n",
       "      <td>4333795.0</td>\n",
       "      <td>S</td>\n",
       "      <td>Abraham Lincoln High</td>\n",
       "      <td>San Jose Unified</td>\n",
       "      <td>Santa Clara</td>\n",
       "      <td>463.0</td>\n",
       "      <td>53.0</td>\n",
       "      <td>23</td>\n",
       "      <td>22</td>\n",
       "      <td>22</td>\n",
       "      <td>23</td>\n",
       "      <td>34</td>\n",
       "      <td>64.15</td>\n",
       "      <td>2019</td>\n",
       "    </tr>\n",
       "    <tr>\n",
       "      <th>1</th>\n",
       "      <td>1.964733e+13</td>\n",
       "      <td>19.0</td>\n",
       "      <td>1964733.0</td>\n",
       "      <td>1935121.0</td>\n",
       "      <td>S</td>\n",
       "      <td>Abraham Lincoln Senior High</td>\n",
       "      <td>Los Angeles Unified</td>\n",
       "      <td>Los Angeles</td>\n",
       "      <td>226.0</td>\n",
       "      <td>19.0</td>\n",
       "      <td>21</td>\n",
       "      <td>20</td>\n",
       "      <td>23</td>\n",
       "      <td>22</td>\n",
       "      <td>11</td>\n",
       "      <td>57.89</td>\n",
       "      <td>2019</td>\n",
       "    </tr>\n",
       "    <tr>\n",
       "      <th>2</th>\n",
       "      <td>1.976968e+13</td>\n",
       "      <td>19.0</td>\n",
       "      <td>1976968.0</td>\n",
       "      <td>109926.0</td>\n",
       "      <td>S</td>\n",
       "      <td>Academia Avance Charter</td>\n",
       "      <td>SBE - Academia Avance Charter</td>\n",
       "      <td>Los Angeles</td>\n",
       "      <td>65.0</td>\n",
       "      <td>33.0</td>\n",
       "      <td>15</td>\n",
       "      <td>15</td>\n",
       "      <td>17</td>\n",
       "      <td>16</td>\n",
       "      <td>3</td>\n",
       "      <td>9.09</td>\n",
       "      <td>2019</td>\n",
       "    </tr>\n",
       "    <tr>\n",
       "      <th>3</th>\n",
       "      <td>1.964733e+13</td>\n",
       "      <td>19.0</td>\n",
       "      <td>1964733.0</td>\n",
       "      <td>126615.0</td>\n",
       "      <td>S</td>\n",
       "      <td>Academies of Education and Empowerment at Cars...</td>\n",
       "      <td>Los Angeles Unified</td>\n",
       "      <td>Los Angeles</td>\n",
       "      <td>126.0</td>\n",
       "      <td>16.0</td>\n",
       "      <td>18</td>\n",
       "      <td>18</td>\n",
       "      <td>18</td>\n",
       "      <td>17</td>\n",
       "      <td>5</td>\n",
       "      <td>31.25</td>\n",
       "      <td>2019</td>\n",
       "    </tr>\n",
       "    <tr>\n",
       "      <th>4</th>\n",
       "      <td>1.965136e+13</td>\n",
       "      <td>19.0</td>\n",
       "      <td>1965136.0</td>\n",
       "      <td>1996321.0</td>\n",
       "      <td>S</td>\n",
       "      <td>Academy of the Canyons</td>\n",
       "      <td>William S. Hart Union High</td>\n",
       "      <td>Los Angeles</td>\n",
       "      <td>104.0</td>\n",
       "      <td>36.0</td>\n",
       "      <td>29</td>\n",
       "      <td>29</td>\n",
       "      <td>25</td>\n",
       "      <td>25</td>\n",
       "      <td>34</td>\n",
       "      <td>94.44</td>\n",
       "      <td>2019</td>\n",
       "    </tr>\n",
       "  </tbody>\n",
       "</table>\n",
       "</div>"
      ],
      "text/plain": [
       "       local_id  county_id  county_dist_id  school_id record_type  \\\n",
       "0  4.369666e+13       43.0       4369666.0  4333795.0           S   \n",
       "1  1.964733e+13       19.0       1964733.0  1935121.0           S   \n",
       "2  1.976968e+13       19.0       1976968.0   109926.0           S   \n",
       "3  1.964733e+13       19.0       1964733.0   126615.0           S   \n",
       "4  1.965136e+13       19.0       1965136.0  1996321.0           S   \n",
       "\n",
       "                                         school_name  \\\n",
       "0                               Abraham Lincoln High   \n",
       "1                        Abraham Lincoln Senior High   \n",
       "2                            Academia Avance Charter   \n",
       "3  Academies of Education and Empowerment at Cars...   \n",
       "4                             Academy of the Canyons   \n",
       "\n",
       "                       dist_name  county_name  enrollment_12  test_takers  \\\n",
       "0               San Jose Unified  Santa Clara          463.0         53.0   \n",
       "1            Los Angeles Unified  Los Angeles          226.0         19.0   \n",
       "2  SBE - Academia Avance Charter  Los Angeles           65.0         33.0   \n",
       "3            Los Angeles Unified  Los Angeles          126.0         16.0   \n",
       "4     William S. Hart Union High  Los Angeles          104.0         36.0   \n",
       "\n",
       "   avg_read  avg_eng  avg_math  avg_sci  abv_avg_num  abv_avg_pct  year  \n",
       "0        23       22        22       23           34        64.15  2019  \n",
       "1        21       20        23       22           11        57.89  2019  \n",
       "2        15       15        17       16            3         9.09  2019  \n",
       "3        18       18        18       17            5        31.25  2019  \n",
       "4        29       29        25       25           34        94.44  2019  "
      ]
     },
     "execution_count": 34,
     "metadata": {},
     "output_type": "execute_result"
    }
   ],
   "source": [
    "df_act_scho.head()"
   ]
  },
  {
   "cell_type": "code",
   "execution_count": 35,
   "metadata": {},
   "outputs": [],
   "source": [
    "df_act_scho.to_csv('./data-clean/act_ca_school_2019.csv', index=False)"
   ]
  },
  {
   "cell_type": "markdown",
   "metadata": {},
   "source": [
    "## SAT Data Cleaning\n",
    "#### Inspect SAT data"
   ]
  },
  {
   "cell_type": "code",
   "execution_count": null,
   "metadata": {},
   "outputs": [],
   "source": [
    "df_sat_raw.head()"
   ]
  },
  {
   "cell_type": "code",
   "execution_count": 36,
   "metadata": {},
   "outputs": [],
   "source": [
    "df_sat_raw.rename(columns=col_dict_sat, inplace=True)"
   ]
  },
  {
   "cell_type": "code",
   "execution_count": 37,
   "metadata": {},
   "outputs": [
    {
     "name": "stdout",
     "output_type": "stream",
     "text": [
      "<class 'pandas.core.frame.DataFrame'>\n",
      "RangeIndex: 2580 entries, 0 to 2579\n",
      "Data columns (total 26 columns):\n",
      " #   Column           Non-Null Count  Dtype  \n",
      "---  ------           --------------  -----  \n",
      " 0   local_id         2579 non-null   float64\n",
      " 1   county_id        2579 non-null   float64\n",
      " 2   county_dist_id   2579 non-null   float64\n",
      " 3   school_id        2579 non-null   float64\n",
      " 4   record_type      2579 non-null   object \n",
      " 5   school_name      1982 non-null   object \n",
      " 6   dist_name        2521 non-null   object \n",
      " 7   county_name      2579 non-null   object \n",
      " 8   enrollment_12    2579 non-null   float64\n",
      " 9   test_takers      2579 non-null   float64\n",
      " 10  avg_eng          2304 non-null   object \n",
      " 11  pct_eng          2304 non-null   object \n",
      " 12  avg_math         2304 non-null   object \n",
      " 13  pct_math         2304 non-null   object \n",
      " 14  enrollment_11    2579 non-null   float64\n",
      " 15  test_takers_11   2579 non-null   float64\n",
      " 16  avg_eng_11       2269 non-null   object \n",
      " 17  pct_eng_11       2269 non-null   object \n",
      " 18  avg_math_11      2269 non-null   object \n",
      " 19  pct_math_11      2269 non-null   object \n",
      " 20  abv_avg_both     2304 non-null   object \n",
      " 21  abv_pct_both     2304 non-null   object \n",
      " 22  abv_avg_both_11  2269 non-null   object \n",
      " 23  abv_pct_both_11  2269 non-null   object \n",
      " 24  year             2579 non-null   object \n",
      " 25  Unnamed: 25      0 non-null      float64\n",
      "dtypes: float64(9), object(17)\n",
      "memory usage: 524.2+ KB\n"
     ]
    }
   ],
   "source": [
    "df_sat_raw.info()"
   ]
  },
  {
   "cell_type": "code",
   "execution_count": 38,
   "metadata": {},
   "outputs": [
    {
     "data": {
      "text/plain": [
       "(2580, 26)"
      ]
     },
     "execution_count": 38,
     "metadata": {},
     "output_type": "execute_result"
    }
   ],
   "source": [
    "df_sat_raw.shape"
   ]
  },
  {
   "cell_type": "code",
   "execution_count": 39,
   "metadata": {},
   "outputs": [
    {
     "data": {
      "text/html": [
       "<div>\n",
       "<style scoped>\n",
       "    .dataframe tbody tr th:only-of-type {\n",
       "        vertical-align: middle;\n",
       "    }\n",
       "\n",
       "    .dataframe tbody tr th {\n",
       "        vertical-align: top;\n",
       "    }\n",
       "\n",
       "    .dataframe thead th {\n",
       "        text-align: right;\n",
       "    }\n",
       "</style>\n",
       "<table border=\"1\" class=\"dataframe\">\n",
       "  <thead>\n",
       "    <tr style=\"text-align: right;\">\n",
       "      <th></th>\n",
       "      <th>local_id</th>\n",
       "      <th>county_id</th>\n",
       "      <th>county_dist_id</th>\n",
       "      <th>school_id</th>\n",
       "      <th>enrollment_12</th>\n",
       "      <th>test_takers</th>\n",
       "      <th>enrollment_11</th>\n",
       "      <th>test_takers_11</th>\n",
       "      <th>Unnamed: 25</th>\n",
       "    </tr>\n",
       "  </thead>\n",
       "  <tbody>\n",
       "    <tr>\n",
       "      <th>count</th>\n",
       "      <td>2.579000e+03</td>\n",
       "      <td>2579.000000</td>\n",
       "      <td>2.579000e+03</td>\n",
       "      <td>2.579000e+03</td>\n",
       "      <td>2579.000000</td>\n",
       "      <td>2579.000000</td>\n",
       "      <td>2579.000000</td>\n",
       "      <td>2579.000000</td>\n",
       "      <td>0.0</td>\n",
       "    </tr>\n",
       "    <tr>\n",
       "      <th>mean</th>\n",
       "      <td>2.915139e+13</td>\n",
       "      <td>28.519581</td>\n",
       "      <td>2.915138e+06</td>\n",
       "      <td>1.544913e+06</td>\n",
       "      <td>748.155487</td>\n",
       "      <td>264.274137</td>\n",
       "      <td>730.865452</td>\n",
       "      <td>320.473052</td>\n",
       "      <td>NaN</td>\n",
       "    </tr>\n",
       "    <tr>\n",
       "      <th>std</th>\n",
       "      <td>1.428328e+13</td>\n",
       "      <td>14.258173</td>\n",
       "      <td>1.428327e+06</td>\n",
       "      <td>1.812049e+06</td>\n",
       "      <td>10095.758681</td>\n",
       "      <td>3568.205236</td>\n",
       "      <td>9792.971460</td>\n",
       "      <td>4396.615761</td>\n",
       "      <td>NaN</td>\n",
       "    </tr>\n",
       "    <tr>\n",
       "      <th>min</th>\n",
       "      <td>0.000000e+00</td>\n",
       "      <td>0.000000</td>\n",
       "      <td>0.000000e+00</td>\n",
       "      <td>0.000000e+00</td>\n",
       "      <td>0.000000</td>\n",
       "      <td>0.000000</td>\n",
       "      <td>0.000000</td>\n",
       "      <td>0.000000</td>\n",
       "      <td>NaN</td>\n",
       "    </tr>\n",
       "    <tr>\n",
       "      <th>25%</th>\n",
       "      <td>1.964725e+13</td>\n",
       "      <td>19.000000</td>\n",
       "      <td>1.964725e+06</td>\n",
       "      <td>1.025080e+05</td>\n",
       "      <td>63.000000</td>\n",
       "      <td>5.000000</td>\n",
       "      <td>52.500000</td>\n",
       "      <td>5.000000</td>\n",
       "      <td>NaN</td>\n",
       "    </tr>\n",
       "    <tr>\n",
       "      <th>50%</th>\n",
       "      <td>3.066597e+13</td>\n",
       "      <td>30.000000</td>\n",
       "      <td>3.066597e+06</td>\n",
       "      <td>1.377860e+05</td>\n",
       "      <td>171.000000</td>\n",
       "      <td>55.000000</td>\n",
       "      <td>165.000000</td>\n",
       "      <td>62.000000</td>\n",
       "      <td>NaN</td>\n",
       "    </tr>\n",
       "    <tr>\n",
       "      <th>75%</th>\n",
       "      <td>3.777103e+13</td>\n",
       "      <td>37.000000</td>\n",
       "      <td>3.777103e+06</td>\n",
       "      <td>3.037422e+06</td>\n",
       "      <td>462.000000</td>\n",
       "      <td>161.000000</td>\n",
       "      <td>474.000000</td>\n",
       "      <td>180.000000</td>\n",
       "      <td>NaN</td>\n",
       "    </tr>\n",
       "    <tr>\n",
       "      <th>max</th>\n",
       "      <td>5.872770e+13</td>\n",
       "      <td>58.000000</td>\n",
       "      <td>5.872769e+06</td>\n",
       "      <td>6.120893e+06</td>\n",
       "      <td>489650.000000</td>\n",
       "      <td>170411.000000</td>\n",
       "      <td>474843.000000</td>\n",
       "      <td>206642.000000</td>\n",
       "      <td>NaN</td>\n",
       "    </tr>\n",
       "  </tbody>\n",
       "</table>\n",
       "</div>"
      ],
      "text/plain": [
       "           local_id    county_id  county_dist_id     school_id  enrollment_12  \\\n",
       "count  2.579000e+03  2579.000000    2.579000e+03  2.579000e+03    2579.000000   \n",
       "mean   2.915139e+13    28.519581    2.915138e+06  1.544913e+06     748.155487   \n",
       "std    1.428328e+13    14.258173    1.428327e+06  1.812049e+06   10095.758681   \n",
       "min    0.000000e+00     0.000000    0.000000e+00  0.000000e+00       0.000000   \n",
       "25%    1.964725e+13    19.000000    1.964725e+06  1.025080e+05      63.000000   \n",
       "50%    3.066597e+13    30.000000    3.066597e+06  1.377860e+05     171.000000   \n",
       "75%    3.777103e+13    37.000000    3.777103e+06  3.037422e+06     462.000000   \n",
       "max    5.872770e+13    58.000000    5.872769e+06  6.120893e+06  489650.000000   \n",
       "\n",
       "         test_takers  enrollment_11  test_takers_11  Unnamed: 25  \n",
       "count    2579.000000    2579.000000     2579.000000          0.0  \n",
       "mean      264.274137     730.865452      320.473052          NaN  \n",
       "std      3568.205236    9792.971460     4396.615761          NaN  \n",
       "min         0.000000       0.000000        0.000000          NaN  \n",
       "25%         5.000000      52.500000        5.000000          NaN  \n",
       "50%        55.000000     165.000000       62.000000          NaN  \n",
       "75%       161.000000     474.000000      180.000000          NaN  \n",
       "max    170411.000000  474843.000000   206642.000000          NaN  "
      ]
     },
     "execution_count": 39,
     "metadata": {},
     "output_type": "execute_result"
    }
   ],
   "source": [
    "df_sat_raw.describe()"
   ]
  },
  {
   "cell_type": "code",
   "execution_count": 40,
   "metadata": {},
   "outputs": [
    {
     "data": {
      "text/plain": [
       "local_id           float64\n",
       "county_id          float64\n",
       "county_dist_id     float64\n",
       "school_id          float64\n",
       "record_type         object\n",
       "school_name         object\n",
       "dist_name           object\n",
       "county_name         object\n",
       "enrollment_12      float64\n",
       "test_takers        float64\n",
       "avg_eng             object\n",
       "pct_eng             object\n",
       "avg_math            object\n",
       "pct_math            object\n",
       "enrollment_11      float64\n",
       "test_takers_11     float64\n",
       "avg_eng_11          object\n",
       "pct_eng_11          object\n",
       "avg_math_11         object\n",
       "pct_math_11         object\n",
       "abv_avg_both        object\n",
       "abv_pct_both        object\n",
       "abv_avg_both_11     object\n",
       "abv_pct_both_11     object\n",
       "year                object\n",
       "Unnamed: 25        float64\n",
       "dtype: object"
      ]
     },
     "execution_count": 40,
     "metadata": {},
     "output_type": "execute_result"
    }
   ],
   "source": [
    "df_sat_raw.dtypes"
   ]
  },
  {
   "cell_type": "markdown",
   "metadata": {},
   "source": [
    "#### Drop unnamed column & convert year column to int of year completed"
   ]
  },
  {
   "cell_type": "code",
   "execution_count": 41,
   "metadata": {},
   "outputs": [],
   "source": [
    "df_sat_raw['year'] = 2019\n",
    "df_sat_raw.drop(axis=1, labels=\"Unnamed: 25\", inplace=True)"
   ]
  },
  {
   "cell_type": "markdown",
   "metadata": {},
   "source": [
    "#### Inspect data for missing values"
   ]
  },
  {
   "cell_type": "code",
   "execution_count": 42,
   "metadata": {},
   "outputs": [
    {
     "data": {
      "image/png": "[encoded data removed]",
      "text/plain": [
       "<Figure size 1800x720 with 2 Axes>"
      ]
     },
     "metadata": {
      "needs_background": "light"
     },
     "output_type": "display_data"
    }
   ],
   "source": [
    "mn.matrix(df_sat_raw);"
   ]
  },
  {
   "cell_type": "markdown",
   "metadata": {},
   "source": [
    "#### Drop schools with viewer than 15 test takers"
   ]
  },
  {
   "cell_type": "code",
   "execution_count": 43,
   "metadata": {},
   "outputs": [],
   "source": [
    "df_sat_raw = df_sat_raw[df_sat_raw['test_takers'] >= 15]"
   ]
  },
  {
   "cell_type": "markdown",
   "metadata": {},
   "source": [
    "#### Re-inspect for missing values"
   ]
  },
  {
   "cell_type": "code",
   "execution_count": 45,
   "metadata": {},
   "outputs": [
    {
     "data": {
      "image/png": "[encoded data removed]",
      "text/plain": [
       "<Figure size 1800x720 with 2 Axes>"
      ]
     },
     "metadata": {
      "needs_background": "light"
     },
     "output_type": "display_data"
    }
   ],
   "source": [
    "mn.matrix(df_sat_raw);"
   ]
  },
  {
   "cell_type": "markdown",
   "metadata": {},
   "source": [
    "#### Drop 11th grade stats. \n",
    "#### Focusing on 12th only as we do not have ACT data for 11th grade students"
   ]
  },
  {
   "cell_type": "code",
   "execution_count": 46,
   "metadata": {},
   "outputs": [],
   "source": [
    "df_sat_raw.drop(axis=1, labels=['enrollment_11', 'test_takers_11', 'avg_eng_11', 'pct_eng_11',\n",
    "                                'avg_math_11', 'pct_math_11', 'abv_avg_both_11', 'abv_pct_both_11'], inplace=True)"
   ]
  },
  {
   "cell_type": "markdown",
   "metadata": {},
   "source": [
    "#### Re-inspect for missing values"
   ]
  },
  {
   "cell_type": "code",
   "execution_count": 47,
   "metadata": {},
   "outputs": [
    {
     "data": {
      "image/png": "[encoded data removed]",
      "text/plain": [
       "<Figure size 1800x720 with 2 Axes>"
      ]
     },
     "metadata": {
      "needs_background": "light"
     },
     "output_type": "display_data"
    }
   ],
   "source": [
    "mn.matrix(df_sat_raw);"
   ]
  },
  {
   "cell_type": "markdown",
   "metadata": {},
   "source": [
    "#### Observations with an empty School name (school_name) are statistics aggregated by District. Same as ACT\n",
    "#### Observations without a District name (dist_name) are statistics aggregated by County. Same as ACT"
   ]
  },
  {
   "cell_type": "code",
   "execution_count": 48,
   "metadata": {},
   "outputs": [
    {
     "data": {
      "text/plain": [
       "local_id            0\n",
       "county_id           0\n",
       "county_dist_id      0\n",
       "school_id           0\n",
       "record_type         0\n",
       "school_name       460\n",
       "dist_name          55\n",
       "county_name         0\n",
       "enrollment_12       0\n",
       "test_takers         0\n",
       "avg_eng             0\n",
       "pct_eng             0\n",
       "avg_math            0\n",
       "pct_math            0\n",
       "abv_avg_both        0\n",
       "abv_pct_both        0\n",
       "year                0\n",
       "dtype: int64"
      ]
     },
     "execution_count": 48,
     "metadata": {},
     "output_type": "execute_result"
    }
   ],
   "source": [
    "df_sat_raw.isna().sum()"
   ]
  },
  {
   "cell_type": "code",
   "execution_count": 49,
   "metadata": {},
   "outputs": [
    {
     "name": "stdout",
     "output_type": "stream",
     "text": [
      "<class 'pandas.core.frame.DataFrame'>\n",
      "Int64Index: 1722 entries, 2 to 2578\n",
      "Data columns (total 17 columns):\n",
      " #   Column          Non-Null Count  Dtype  \n",
      "---  ------          --------------  -----  \n",
      " 0   local_id        1722 non-null   float64\n",
      " 1   county_id       1722 non-null   float64\n",
      " 2   county_dist_id  1722 non-null   float64\n",
      " 3   school_id       1722 non-null   float64\n",
      " 4   record_type     1722 non-null   object \n",
      " 5   school_name     1262 non-null   object \n",
      " 6   dist_name       1667 non-null   object \n",
      " 7   county_name     1722 non-null   object \n",
      " 8   enrollment_12   1722 non-null   float64\n",
      " 9   test_takers     1722 non-null   float64\n",
      " 10  avg_eng         1722 non-null   object \n",
      " 11  pct_eng         1722 non-null   object \n",
      " 12  avg_math        1722 non-null   object \n",
      " 13  pct_math        1722 non-null   object \n",
      " 14  abv_avg_both    1722 non-null   object \n",
      " 15  abv_pct_both    1722 non-null   object \n",
      " 16  year            1722 non-null   int64  \n",
      "dtypes: float64(6), int64(1), object(10)\n",
      "memory usage: 242.2+ KB\n"
     ]
    }
   ],
   "source": [
    "df_sat_raw.info()"
   ]
  },
  {
   "cell_type": "markdown",
   "metadata": {},
   "source": [
    "#### Convert average score data types to numeric"
   ]
  },
  {
   "cell_type": "code",
   "execution_count": 50,
   "metadata": {},
   "outputs": [
    {
     "name": "stdout",
     "output_type": "stream",
     "text": [
      "<class 'pandas.core.frame.DataFrame'>\n",
      "Int64Index: 1722 entries, 2 to 2578\n",
      "Data columns (total 17 columns):\n",
      " #   Column          Non-Null Count  Dtype  \n",
      "---  ------          --------------  -----  \n",
      " 0   local_id        1722 non-null   float64\n",
      " 1   county_id       1722 non-null   float64\n",
      " 2   county_dist_id  1722 non-null   float64\n",
      " 3   school_id       1722 non-null   float64\n",
      " 4   record_type     1722 non-null   object \n",
      " 5   school_name     1262 non-null   object \n",
      " 6   dist_name       1667 non-null   object \n",
      " 7   county_name     1722 non-null   object \n",
      " 8   enrollment_12   1722 non-null   float64\n",
      " 9   test_takers     1722 non-null   float64\n",
      " 10  avg_eng         1722 non-null   int64  \n",
      " 11  pct_eng         1722 non-null   float64\n",
      " 12  avg_math        1722 non-null   int64  \n",
      " 13  pct_math        1722 non-null   float64\n",
      " 14  abv_avg_both    1722 non-null   int64  \n",
      " 15  abv_pct_both    1722 non-null   float64\n",
      " 16  year            1722 non-null   int64  \n",
      "dtypes: float64(9), int64(4), object(4)\n",
      "memory usage: 242.2+ KB\n"
     ]
    }
   ],
   "source": [
    "for _ in ['avg_eng', 'pct_eng', 'avg_math', 'pct_math', 'abv_avg_both', 'abv_pct_both']:\n",
    "    df_sat_raw.loc[:, _] = pd.to_numeric(df_sat_raw.loc[:, _])\n",
    "df_sat_raw.info()"
   ]
  },
  {
   "cell_type": "code",
   "execution_count": 51,
   "metadata": {},
   "outputs": [
    {
     "data": {
      "text/plain": [
       "S    1261\n",
       "D     405\n",
       "C      55\n",
       "X       1\n",
       "Name: record_type, dtype: int64"
      ]
     },
     "execution_count": 51,
     "metadata": {},
     "output_type": "execute_result"
    }
   ],
   "source": [
    "df_sat_raw['record_type'].value_counts()"
   ]
  },
  {
   "cell_type": "markdown",
   "metadata": {},
   "source": [
    "#### Isolate 'School' level data"
   ]
  },
  {
   "cell_type": "code",
   "execution_count": 52,
   "metadata": {},
   "outputs": [],
   "source": [
    "df_sat_scho = pd.DataFrame(df_sat_raw[df_sat_raw['record_type'] == 'S'])\n",
    "df_sat_scho.reset_index(drop=True, inplace=True)\n",
    "# State, County, and District level data are redundant"
   ]
  },
  {
   "cell_type": "markdown",
   "metadata": {},
   "source": [
    "### SAT Data is clean!"
   ]
  },
  {
   "cell_type": "code",
   "execution_count": 53,
   "metadata": {},
   "outputs": [
    {
     "data": {
      "text/html": [
       "<div>\n",
       "<style scoped>\n",
       "    .dataframe tbody tr th:only-of-type {\n",
       "        vertical-align: middle;\n",
       "    }\n",
       "\n",
       "    .dataframe tbody tr th {\n",
       "        vertical-align: top;\n",
       "    }\n",
       "\n",
       "    .dataframe thead th {\n",
       "        text-align: right;\n",
       "    }\n",
       "</style>\n",
       "<table border=\"1\" class=\"dataframe\">\n",
       "  <thead>\n",
       "    <tr style=\"text-align: right;\">\n",
       "      <th></th>\n",
       "      <th>local_id</th>\n",
       "      <th>county_id</th>\n",
       "      <th>county_dist_id</th>\n",
       "      <th>school_id</th>\n",
       "      <th>record_type</th>\n",
       "      <th>school_name</th>\n",
       "      <th>dist_name</th>\n",
       "      <th>county_name</th>\n",
       "      <th>enrollment_12</th>\n",
       "      <th>test_takers</th>\n",
       "      <th>avg_eng</th>\n",
       "      <th>pct_eng</th>\n",
       "      <th>avg_math</th>\n",
       "      <th>pct_math</th>\n",
       "      <th>abv_avg_both</th>\n",
       "      <th>abv_pct_both</th>\n",
       "      <th>year</th>\n",
       "    </tr>\n",
       "  </thead>\n",
       "  <tbody>\n",
       "    <tr>\n",
       "      <th>0</th>\n",
       "      <td>1.964733e+13</td>\n",
       "      <td>19.0</td>\n",
       "      <td>1964733.0</td>\n",
       "      <td>1930924.0</td>\n",
       "      <td>S</td>\n",
       "      <td>Belmont Senior High</td>\n",
       "      <td>Los Angeles Unified</td>\n",
       "      <td>Los Angeles</td>\n",
       "      <td>206.0</td>\n",
       "      <td>102.0</td>\n",
       "      <td>31</td>\n",
       "      <td>30.39</td>\n",
       "      <td>14</td>\n",
       "      <td>13.73</td>\n",
       "      <td>14</td>\n",
       "      <td>13.73</td>\n",
       "      <td>2019</td>\n",
       "    </tr>\n",
       "    <tr>\n",
       "      <th>1</th>\n",
       "      <td>1.964733e+13</td>\n",
       "      <td>19.0</td>\n",
       "      <td>1964733.0</td>\n",
       "      <td>1931476.0</td>\n",
       "      <td>S</td>\n",
       "      <td>Canoga Park Senior High</td>\n",
       "      <td>Los Angeles Unified</td>\n",
       "      <td>Los Angeles</td>\n",
       "      <td>227.0</td>\n",
       "      <td>113.0</td>\n",
       "      <td>54</td>\n",
       "      <td>47.79</td>\n",
       "      <td>18</td>\n",
       "      <td>15.93</td>\n",
       "      <td>18</td>\n",
       "      <td>15.93</td>\n",
       "      <td>2019</td>\n",
       "    </tr>\n",
       "    <tr>\n",
       "      <th>2</th>\n",
       "      <td>1.964734e+13</td>\n",
       "      <td>19.0</td>\n",
       "      <td>1964733.0</td>\n",
       "      <td>6061451.0</td>\n",
       "      <td>S</td>\n",
       "      <td>Foshay Learning Center</td>\n",
       "      <td>Los Angeles Unified</td>\n",
       "      <td>Los Angeles</td>\n",
       "      <td>166.0</td>\n",
       "      <td>106.0</td>\n",
       "      <td>68</td>\n",
       "      <td>64.15</td>\n",
       "      <td>36</td>\n",
       "      <td>33.96</td>\n",
       "      <td>36</td>\n",
       "      <td>33.96</td>\n",
       "      <td>2019</td>\n",
       "    </tr>\n",
       "    <tr>\n",
       "      <th>3</th>\n",
       "      <td>3.073635e+13</td>\n",
       "      <td>30.0</td>\n",
       "      <td>3073635.0</td>\n",
       "      <td>3034956.0</td>\n",
       "      <td>S</td>\n",
       "      <td>Mission Viejo High</td>\n",
       "      <td>Saddleback Valley Unified</td>\n",
       "      <td>Orange</td>\n",
       "      <td>562.0</td>\n",
       "      <td>190.0</td>\n",
       "      <td>161</td>\n",
       "      <td>84.74</td>\n",
       "      <td>138</td>\n",
       "      <td>72.63</td>\n",
       "      <td>132</td>\n",
       "      <td>69.47</td>\n",
       "      <td>2019</td>\n",
       "    </tr>\n",
       "    <tr>\n",
       "      <th>4</th>\n",
       "      <td>3.367215e+13</td>\n",
       "      <td>33.0</td>\n",
       "      <td>3367215.0</td>\n",
       "      <td>3336955.0</td>\n",
       "      <td>S</td>\n",
       "      <td>Abraham Lincoln Continuation</td>\n",
       "      <td>Riverside Unified</td>\n",
       "      <td>Riverside</td>\n",
       "      <td>114.0</td>\n",
       "      <td>17.0</td>\n",
       "      <td>3</td>\n",
       "      <td>17.65</td>\n",
       "      <td>2</td>\n",
       "      <td>11.76</td>\n",
       "      <td>2</td>\n",
       "      <td>11.76</td>\n",
       "      <td>2019</td>\n",
       "    </tr>\n",
       "  </tbody>\n",
       "</table>\n",
       "</div>"
      ],
      "text/plain": [
       "       local_id  county_id  county_dist_id  school_id record_type  \\\n",
       "0  1.964733e+13       19.0       1964733.0  1930924.0           S   \n",
       "1  1.964733e+13       19.0       1964733.0  1931476.0           S   \n",
       "2  1.964734e+13       19.0       1964733.0  6061451.0           S   \n",
       "3  3.073635e+13       30.0       3073635.0  3034956.0           S   \n",
       "4  3.367215e+13       33.0       3367215.0  3336955.0           S   \n",
       "\n",
       "                    school_name                  dist_name  county_name  \\\n",
       "0           Belmont Senior High        Los Angeles Unified  Los Angeles   \n",
       "1       Canoga Park Senior High        Los Angeles Unified  Los Angeles   \n",
       "2        Foshay Learning Center        Los Angeles Unified  Los Angeles   \n",
       "3            Mission Viejo High  Saddleback Valley Unified       Orange   \n",
       "4  Abraham Lincoln Continuation          Riverside Unified    Riverside   \n",
       "\n",
       "   enrollment_12  test_takers  avg_eng  pct_eng  avg_math  pct_math  \\\n",
       "0          206.0        102.0       31    30.39        14     13.73   \n",
       "1          227.0        113.0       54    47.79        18     15.93   \n",
       "2          166.0        106.0       68    64.15        36     33.96   \n",
       "3          562.0        190.0      161    84.74       138     72.63   \n",
       "4          114.0         17.0        3    17.65         2     11.76   \n",
       "\n",
       "   abv_avg_both  abv_pct_both  year  \n",
       "0            14         13.73  2019  \n",
       "1            18         15.93  2019  \n",
       "2            36         33.96  2019  \n",
       "3           132         69.47  2019  \n",
       "4             2         11.76  2019  "
      ]
     },
     "execution_count": 53,
     "metadata": {},
     "output_type": "execute_result"
    }
   ],
   "source": [
    "df_sat_scho.head()"
   ]
  },
  {
   "cell_type": "code",
   "execution_count": 54,
   "metadata": {},
   "outputs": [],
   "source": [
    "df_sat_scho.to_csv('./data-clean/sat_ca_school_2019.csv', index=False)"
   ]
  },
  {
   "cell_type": "markdown",
   "metadata": {},
   "source": [
    "#\n",
    "## Charter School Data Cleaning & Merging\n",
    "#### Inspect Charter data"
   ]
  },
  {
   "cell_type": "code",
   "execution_count": null,
   "metadata": {},
   "outputs": [],
   "source": [
    "df_charter.head()"
   ]
  },
  {
   "cell_type": "code",
   "execution_count": 84,
   "metadata": {},
   "outputs": [],
   "source": [
    "df_charter.rename(columns=col_dict_charter, inplace=True)"
   ]
  },
  {
   "cell_type": "code",
   "execution_count": 86,
   "metadata": {},
   "outputs": [
    {
     "name": "stdout",
     "output_type": "stream",
     "text": [
      "<class 'pandas.core.frame.DataFrame'>\n",
      "RangeIndex: 1297 entries, 0 to 1296\n",
      "Data columns (total 6 columns):\n",
      " #   Column            Non-Null Count  Dtype \n",
      "---  ------            --------------  ----- \n",
      " 0   school_name       1297 non-null   object\n",
      " 1   charter_num       1297 non-null   object\n",
      " 2   site_type         1297 non-null   object\n",
      " 3   charter_details   1297 non-null   object\n",
      " 4   statistical_info  1297 non-null   object\n",
      " 5   county            1297 non-null   object\n",
      "dtypes: object(6)\n",
      "memory usage: 60.9+ KB\n"
     ]
    }
   ],
   "source": [
    "df_charter.info()"
   ]
  },
  {
   "cell_type": "code",
   "execution_count": 87,
   "metadata": {},
   "outputs": [
    {
     "data": {
      "text/plain": [
       "(1297, 6)"
      ]
     },
     "execution_count": 87,
     "metadata": {},
     "output_type": "execute_result"
    }
   ],
   "source": [
    "df_charter.shape"
   ]
  },
  {
   "cell_type": "code",
   "execution_count": 88,
   "metadata": {},
   "outputs": [
    {
     "data": {
      "text/html": [
       "<div>\n",
       "<style scoped>\n",
       "    .dataframe tbody tr th:only-of-type {\n",
       "        vertical-align: middle;\n",
       "    }\n",
       "\n",
       "    .dataframe tbody tr th {\n",
       "        vertical-align: top;\n",
       "    }\n",
       "\n",
       "    .dataframe thead th {\n",
       "        text-align: right;\n",
       "    }\n",
       "</style>\n",
       "<table border=\"1\" class=\"dataframe\">\n",
       "  <thead>\n",
       "    <tr style=\"text-align: right;\">\n",
       "      <th></th>\n",
       "      <th>school_name</th>\n",
       "      <th>charter_num</th>\n",
       "      <th>site_type</th>\n",
       "      <th>charter_details</th>\n",
       "      <th>statistical_info</th>\n",
       "      <th>county</th>\n",
       "    </tr>\n",
       "  </thead>\n",
       "  <tbody>\n",
       "    <tr>\n",
       "      <th>count</th>\n",
       "      <td>1297</td>\n",
       "      <td>1297</td>\n",
       "      <td>1297</td>\n",
       "      <td>1297</td>\n",
       "      <td>1297</td>\n",
       "      <td>1297</td>\n",
       "    </tr>\n",
       "    <tr>\n",
       "      <th>unique</th>\n",
       "      <td>1292</td>\n",
       "      <td>1278</td>\n",
       "      <td>3</td>\n",
       "      <td>1292</td>\n",
       "      <td>1</td>\n",
       "      <td>53</td>\n",
       "    </tr>\n",
       "    <tr>\n",
       "      <th>top</th>\n",
       "      <td>Discovery Charter</td>\n",
       "      <td>756</td>\n",
       "      <td>Site-based Instruction</td>\n",
       "      <td>Discovery Charter</td>\n",
       "      <td>DataQuest Reports</td>\n",
       "      <td>Los Angeles</td>\n",
       "    </tr>\n",
       "    <tr>\n",
       "      <th>freq</th>\n",
       "      <td>3</td>\n",
       "      <td>9</td>\n",
       "      <td>953</td>\n",
       "      <td>3</td>\n",
       "      <td>1297</td>\n",
       "      <td>376</td>\n",
       "    </tr>\n",
       "  </tbody>\n",
       "</table>\n",
       "</div>"
      ],
      "text/plain": [
       "              school_name charter_num               site_type  \\\n",
       "count                1297        1297                    1297   \n",
       "unique               1292        1278                       3   \n",
       "top     Discovery Charter         756  Site-based Instruction   \n",
       "freq                    3           9                     953   \n",
       "\n",
       "          charter_details   statistical_info       county  \n",
       "count                1297               1297         1297  \n",
       "unique               1292                  1           53  \n",
       "top     Discovery Charter  DataQuest Reports  Los Angeles  \n",
       "freq                    3               1297          376  "
      ]
     },
     "execution_count": 88,
     "metadata": {},
     "output_type": "execute_result"
    }
   ],
   "source": [
    "df_charter.describe()"
   ]
  },
  {
   "cell_type": "code",
   "execution_count": 89,
   "metadata": {},
   "outputs": [
    {
     "data": {
      "text/plain": [
       "school_name         object\n",
       "charter_num         object\n",
       "site_type           object\n",
       "charter_details     object\n",
       "statistical_info    object\n",
       "county              object\n",
       "dtype: object"
      ]
     },
     "execution_count": 89,
     "metadata": {},
     "output_type": "execute_result"
    }
   ],
   "source": [
    "df_charter.dtypes"
   ]
  },
  {
   "cell_type": "markdown",
   "metadata": {},
   "source": [
    "#\n",
    "#### Check school names against charter school name using sequence similarity matcher"
   ]
  },
  {
   "cell_type": "code",
   "execution_count": 90,
   "metadata": {},
   "outputs": [],
   "source": [
    "def check_sim(school_name):\n",
    "    \"\"\"checks school name againt data frame containing all charter schools in CA.\n",
    "    Returns similarity score via difflib.SequenceMatcher, charter school name target school resembles, and county of charter school\"\"\"\n",
    "    max_similarity = (0, \"\", \"\")\n",
    "    for charter in list(df_charter['school_name']):\n",
    "        sim_test = difflib.SequenceMatcher(None, school_name, charter).ratio()                  # scores similarity between all charter schools in list and school name\n",
    "        if sim_test > max_similarity[0]:                                                        # gathers the largest similarity score\n",
    "            county = df_charter['county'][df_charter['school_name'] == charter].values[0]       # grabs county for further similarity checking\n",
    "            max_similarity = (sim_test, charter, county)\n",
    "    return max_similarity[0], max_similarity[1], max_similarity[2]\n",
    "\n",
    "# similarity test adapted from stack overflow user: duhaime"
   ]
  },
  {
   "cell_type": "markdown",
   "metadata": {},
   "source": [
    "##### Source: https://stackoverflow.com/a/31236578"
   ]
  },
  {
   "cell_type": "markdown",
   "metadata": {},
   "source": [
    "#\n",
    "#### Check school name similarity ratio and create new columns for SAT dataset"
   ]
  },
  {
   "cell_type": "code",
   "execution_count": 91,
   "metadata": {},
   "outputs": [],
   "source": [
    "df_sat_scho['sim'],  df_sat_scho['sim_name'], df_sat_scho['sim_name_county'] = zip(*df_sat_scho['school_name'].map(check_sim))\n",
    "# unzipping multiple columns adapted from stack overflow user: ostrokach"
   ]
  },
  {
   "cell_type": "markdown",
   "metadata": {},
   "source": [
    "##### Source: https://stackoverflow.com/a/27385043"
   ]
  },
  {
   "cell_type": "markdown",
   "metadata": {},
   "source": [
    "#\n",
    "#### Check school name similarity ratio and create new columns for ACT dataset"
   ]
  },
  {
   "cell_type": "code",
   "execution_count": 92,
   "metadata": {},
   "outputs": [],
   "source": [
    "df_act_scho['sim'],  df_act_scho['sim_name'], df_act_scho['sim_name_county'] = zip(*df_act_scho['school_name'].map(check_sim))\n",
    "# unzipping multiple columns adapted from stack overflow user: ostrokach"
   ]
  },
  {
   "cell_type": "markdown",
   "metadata": {},
   "source": [
    "##### Source: https://stackoverflow.com/a/27385043"
   ]
  },
  {
   "cell_type": "markdown",
   "metadata": {},
   "source": [
    "#\n",
    "#### Locate similarly named schools between Charter dataset and SAT dataset\n",
    "##### Cross reference: https://www.cde.ca.gov/SchoolDirectory/"
   ]
  },
  {
   "cell_type": "code",
   "execution_count": 93,
   "metadata": {},
   "outputs": [
    {
     "data": {
      "text/html": [
       "<div>\n",
       "<style scoped>\n",
       "    .dataframe tbody tr th:only-of-type {\n",
       "        vertical-align: middle;\n",
       "    }\n",
       "\n",
       "    .dataframe tbody tr th {\n",
       "        vertical-align: top;\n",
       "    }\n",
       "\n",
       "    .dataframe thead th {\n",
       "        text-align: right;\n",
       "    }\n",
       "</style>\n",
       "<table border=\"1\" class=\"dataframe\">\n",
       "  <thead>\n",
       "    <tr style=\"text-align: right;\">\n",
       "      <th></th>\n",
       "      <th>school_name</th>\n",
       "      <th>county_name</th>\n",
       "      <th>sim</th>\n",
       "      <th>sim_name</th>\n",
       "      <th>sim_name_county</th>\n",
       "    </tr>\n",
       "  </thead>\n",
       "  <tbody>\n",
       "    <tr>\n",
       "      <th>975</th>\n",
       "      <td>PUC Early College Academy for Leaders and Scho...</td>\n",
       "      <td>Los Angeles</td>\n",
       "      <td>0.982759</td>\n",
       "      <td>PUC Early College Academy for Leaders and Scho...</td>\n",
       "      <td>Los Angeles</td>\n",
       "    </tr>\n",
       "    <tr>\n",
       "      <th>249</th>\n",
       "      <td>CATCH Prep Charter High Inc.</td>\n",
       "      <td>Los Angeles</td>\n",
       "      <td>0.982456</td>\n",
       "      <td>CATCH Prep Charter High, Inc.</td>\n",
       "      <td>Los Angeles</td>\n",
       "    </tr>\n",
       "    <tr>\n",
       "      <th>978</th>\n",
       "      <td>Visions In Education</td>\n",
       "      <td>Sacramento</td>\n",
       "      <td>0.950000</td>\n",
       "      <td>Visions in Education</td>\n",
       "      <td>Sacramento</td>\n",
       "    </tr>\n",
       "    <tr>\n",
       "      <th>857</th>\n",
       "      <td>Alliance Judy Ivie Burton Technology Academy High</td>\n",
       "      <td>Los Angeles</td>\n",
       "      <td>0.946237</td>\n",
       "      <td>Alliance Judy Ivie Burton Technology Academy</td>\n",
       "      <td>Los Angeles</td>\n",
       "    </tr>\n",
       "    <tr>\n",
       "      <th>116</th>\n",
       "      <td>Animo College Preparatory Academy</td>\n",
       "      <td>Los Angeles</td>\n",
       "      <td>0.916667</td>\n",
       "      <td>Animo Watts College Preparatory Academy</td>\n",
       "      <td>Los Angeles</td>\n",
       "    </tr>\n",
       "    <tr>\n",
       "      <th>1074</th>\n",
       "      <td>Da Vinci Communications</td>\n",
       "      <td>Los Angeles</td>\n",
       "      <td>0.901961</td>\n",
       "      <td>Da Vinci Communications High</td>\n",
       "      <td>Los Angeles</td>\n",
       "    </tr>\n",
       "    <tr>\n",
       "      <th>1085</th>\n",
       "      <td>Granada Hills Charter High</td>\n",
       "      <td>Los Angeles</td>\n",
       "      <td>0.893617</td>\n",
       "      <td>Granada Hills Charter</td>\n",
       "      <td>Los Angeles</td>\n",
       "    </tr>\n",
       "    <tr>\n",
       "      <th>687</th>\n",
       "      <td>Middle College High</td>\n",
       "      <td>Orange</td>\n",
       "      <td>0.863636</td>\n",
       "      <td>Unity Middle College High</td>\n",
       "      <td>Orange</td>\n",
       "    </tr>\n",
       "    <tr>\n",
       "      <th>211</th>\n",
       "      <td>Options for Youth-Acton</td>\n",
       "      <td>Los Angeles</td>\n",
       "      <td>0.846154</td>\n",
       "      <td>Options For Youth-Acton, INC.</td>\n",
       "      <td>Los Angeles</td>\n",
       "    </tr>\n",
       "    <tr>\n",
       "      <th>71</th>\n",
       "      <td>Summit Public School: Rainier</td>\n",
       "      <td>Santa Clara</td>\n",
       "      <td>0.842105</td>\n",
       "      <td>Summit Public School: Denali</td>\n",
       "      <td>Santa Clara</td>\n",
       "    </tr>\n",
       "    <tr>\n",
       "      <th>1137</th>\n",
       "      <td>Options for Youth-Victorville Charter</td>\n",
       "      <td>San Bernardino</td>\n",
       "      <td>0.823529</td>\n",
       "      <td>Options For Youth - Victorville</td>\n",
       "      <td>San Bernardino</td>\n",
       "    </tr>\n",
       "    <tr>\n",
       "      <th>2</th>\n",
       "      <td>Foshay Learning Center</td>\n",
       "      <td>Los Angeles</td>\n",
       "      <td>0.818182</td>\n",
       "      <td>Gorman Learning Center</td>\n",
       "      <td>Los Angeles</td>\n",
       "    </tr>\n",
       "    <tr>\n",
       "      <th>1130</th>\n",
       "      <td>Camino Nuevo Charter High</td>\n",
       "      <td>Los Angeles</td>\n",
       "      <td>0.807692</td>\n",
       "      <td>El Camino Real Charter High</td>\n",
       "      <td>Los Angeles</td>\n",
       "    </tr>\n",
       "    <tr>\n",
       "      <th>502</th>\n",
       "      <td>American Indian Public High</td>\n",
       "      <td>Alameda</td>\n",
       "      <td>0.800000</td>\n",
       "      <td>American Indian Public Charter II</td>\n",
       "      <td>Alameda</td>\n",
       "    </tr>\n",
       "    <tr>\n",
       "      <th>911</th>\n",
       "      <td>Oakland High</td>\n",
       "      <td>Alameda</td>\n",
       "      <td>0.800000</td>\n",
       "      <td>Oakland Unity High</td>\n",
       "      <td>Alameda</td>\n",
       "    </tr>\n",
       "    <tr>\n",
       "      <th>540</th>\n",
       "      <td>Temecula Valley High</td>\n",
       "      <td>Riverside</td>\n",
       "      <td>0.790698</td>\n",
       "      <td>Temecula Valley Charter</td>\n",
       "      <td>Riverside</td>\n",
       "    </tr>\n",
       "    <tr>\n",
       "      <th>262</th>\n",
       "      <td>Maywood Academy High</td>\n",
       "      <td>Los Angeles</td>\n",
       "      <td>0.789474</td>\n",
       "      <td>Valor Academy High</td>\n",
       "      <td>Los Angeles</td>\n",
       "    </tr>\n",
       "    <tr>\n",
       "      <th>703</th>\n",
       "      <td>Elizabeth Learning Center</td>\n",
       "      <td>Los Angeles</td>\n",
       "      <td>0.782609</td>\n",
       "      <td>Watts Learning Center</td>\n",
       "      <td>Los Angeles</td>\n",
       "    </tr>\n",
       "    <tr>\n",
       "      <th>930</th>\n",
       "      <td>John Adams Academy</td>\n",
       "      <td>Placer</td>\n",
       "      <td>0.782609</td>\n",
       "      <td>John Adams Academy - Lincoln</td>\n",
       "      <td>Placer</td>\n",
       "    </tr>\n",
       "    <tr>\n",
       "      <th>896</th>\n",
       "      <td>Escondido High</td>\n",
       "      <td>San Diego</td>\n",
       "      <td>0.777778</td>\n",
       "      <td>Escondido Charter High</td>\n",
       "      <td>San Diego</td>\n",
       "    </tr>\n",
       "    <tr>\n",
       "      <th>668</th>\n",
       "      <td>Maywood Center for Enriched Studies</td>\n",
       "      <td>Los Angeles</td>\n",
       "      <td>0.777778</td>\n",
       "      <td>Beckford Charter for Enriched Studies</td>\n",
       "      <td>Los Angeles</td>\n",
       "    </tr>\n",
       "    <tr>\n",
       "      <th>125</th>\n",
       "      <td>Minarets High</td>\n",
       "      <td>Madera</td>\n",
       "      <td>0.764706</td>\n",
       "      <td>Minarets Charter High</td>\n",
       "      <td>Madera</td>\n",
       "    </tr>\n",
       "    <tr>\n",
       "      <th>1162</th>\n",
       "      <td>Los Angeles International Charter High</td>\n",
       "      <td>Los Angeles</td>\n",
       "      <td>0.757576</td>\n",
       "      <td>Goethe International Charter</td>\n",
       "      <td>Los Angeles</td>\n",
       "    </tr>\n",
       "    <tr>\n",
       "      <th>466</th>\n",
       "      <td>Los Angeles Center for Enriched Studies</td>\n",
       "      <td>Los Angeles</td>\n",
       "      <td>0.756757</td>\n",
       "      <td>Haynes Charter For Enriched Studies</td>\n",
       "      <td>Los Angeles</td>\n",
       "    </tr>\n",
       "    <tr>\n",
       "      <th>158</th>\n",
       "      <td>Design Science Middle College High</td>\n",
       "      <td>Fresno</td>\n",
       "      <td>0.754098</td>\n",
       "      <td>Reedley Middle College High</td>\n",
       "      <td>Fresno</td>\n",
       "    </tr>\n",
       "    <tr>\n",
       "      <th>322</th>\n",
       "      <td>Watsonville High</td>\n",
       "      <td>Santa Cruz</td>\n",
       "      <td>0.750000</td>\n",
       "      <td>Watsonville Prep</td>\n",
       "      <td>Santa Cruz</td>\n",
       "    </tr>\n",
       "    <tr>\n",
       "      <th>440</th>\n",
       "      <td>Oakland Technical High</td>\n",
       "      <td>Alameda</td>\n",
       "      <td>0.750000</td>\n",
       "      <td>Oakland Unity High</td>\n",
       "      <td>Alameda</td>\n",
       "    </tr>\n",
       "    <tr>\n",
       "      <th>1224</th>\n",
       "      <td>San Dieguito HS Academy</td>\n",
       "      <td>San Diego</td>\n",
       "      <td>0.750000</td>\n",
       "      <td>San Diego Mission Academy</td>\n",
       "      <td>San Diego</td>\n",
       "    </tr>\n",
       "    <tr>\n",
       "      <th>108</th>\n",
       "      <td>John F. Kennedy High</td>\n",
       "      <td>Contra Costa</td>\n",
       "      <td>0.742857</td>\n",
       "      <td>John Henry High</td>\n",
       "      <td>Contra Costa</td>\n",
       "    </tr>\n",
       "    <tr>\n",
       "      <th>288</th>\n",
       "      <td>Sherman Oaks Center for Enriched Studies</td>\n",
       "      <td>Los Angeles</td>\n",
       "      <td>0.738095</td>\n",
       "      <td>Serrania Avenue Charter For Enriched Studies</td>\n",
       "      <td>Los Angeles</td>\n",
       "    </tr>\n",
       "    <tr>\n",
       "      <th>297</th>\n",
       "      <td>John Swett High</td>\n",
       "      <td>Contra Costa</td>\n",
       "      <td>0.733333</td>\n",
       "      <td>John Henry High</td>\n",
       "      <td>Contra Costa</td>\n",
       "    </tr>\n",
       "    <tr>\n",
       "      <th>562</th>\n",
       "      <td>Northridge Academy High</td>\n",
       "      <td>Los Angeles</td>\n",
       "      <td>0.731707</td>\n",
       "      <td>Valor Academy High</td>\n",
       "      <td>Los Angeles</td>\n",
       "    </tr>\n",
       "    <tr>\n",
       "      <th>448</th>\n",
       "      <td>Santa Ynez Valley Union High</td>\n",
       "      <td>Santa Barbara</td>\n",
       "      <td>0.716981</td>\n",
       "      <td>Santa Ynez Valley Charter</td>\n",
       "      <td>Santa Barbara</td>\n",
       "    </tr>\n",
       "    <tr>\n",
       "      <th>732</th>\n",
       "      <td>Santiago High</td>\n",
       "      <td>Orange</td>\n",
       "      <td>0.714286</td>\n",
       "      <td>Santiago Middle</td>\n",
       "      <td>Orange</td>\n",
       "    </tr>\n",
       "    <tr>\n",
       "      <th>414</th>\n",
       "      <td>Academy of Medical Arts at Carson High</td>\n",
       "      <td>Los Angeles</td>\n",
       "      <td>0.711864</td>\n",
       "      <td>Academy of Media Arts</td>\n",
       "      <td>Los Angeles</td>\n",
       "    </tr>\n",
       "    <tr>\n",
       "      <th>323</th>\n",
       "      <td>Yuba City High</td>\n",
       "      <td>Sutter</td>\n",
       "      <td>0.709677</td>\n",
       "      <td>Yuba City Charter</td>\n",
       "      <td>Sutter</td>\n",
       "    </tr>\n",
       "    <tr>\n",
       "      <th>564</th>\n",
       "      <td>Elk Grove High</td>\n",
       "      <td>Sacramento</td>\n",
       "      <td>0.709677</td>\n",
       "      <td>Elk Grove Charter</td>\n",
       "      <td>Sacramento</td>\n",
       "    </tr>\n",
       "  </tbody>\n",
       "</table>\n",
       "</div>"
      ],
      "text/plain": [
       "                                            school_name     county_name  \\\n",
       "975   PUC Early College Academy for Leaders and Scho...     Los Angeles   \n",
       "249                        CATCH Prep Charter High Inc.     Los Angeles   \n",
       "978                                Visions In Education      Sacramento   \n",
       "857   Alliance Judy Ivie Burton Technology Academy High     Los Angeles   \n",
       "116                   Animo College Preparatory Academy     Los Angeles   \n",
       "1074                            Da Vinci Communications     Los Angeles   \n",
       "1085                         Granada Hills Charter High     Los Angeles   \n",
       "687                                 Middle College High          Orange   \n",
       "211                             Options for Youth-Acton     Los Angeles   \n",
       "71                        Summit Public School: Rainier     Santa Clara   \n",
       "1137              Options for Youth-Victorville Charter  San Bernardino   \n",
       "2                                Foshay Learning Center     Los Angeles   \n",
       "1130                          Camino Nuevo Charter High     Los Angeles   \n",
       "502                         American Indian Public High         Alameda   \n",
       "911                                        Oakland High         Alameda   \n",
       "540                                Temecula Valley High       Riverside   \n",
       "262                                Maywood Academy High     Los Angeles   \n",
       "703                           Elizabeth Learning Center     Los Angeles   \n",
       "930                                  John Adams Academy          Placer   \n",
       "896                                      Escondido High       San Diego   \n",
       "668                 Maywood Center for Enriched Studies     Los Angeles   \n",
       "125                                       Minarets High          Madera   \n",
       "1162             Los Angeles International Charter High     Los Angeles   \n",
       "466             Los Angeles Center for Enriched Studies     Los Angeles   \n",
       "158                  Design Science Middle College High          Fresno   \n",
       "322                                    Watsonville High      Santa Cruz   \n",
       "440                              Oakland Technical High         Alameda   \n",
       "1224                            San Dieguito HS Academy       San Diego   \n",
       "108                                John F. Kennedy High    Contra Costa   \n",
       "288            Sherman Oaks Center for Enriched Studies     Los Angeles   \n",
       "297                                     John Swett High    Contra Costa   \n",
       "562                             Northridge Academy High     Los Angeles   \n",
       "448                        Santa Ynez Valley Union High   Santa Barbara   \n",
       "732                                       Santiago High          Orange   \n",
       "414              Academy of Medical Arts at Carson High     Los Angeles   \n",
       "323                                      Yuba City High          Sutter   \n",
       "564                                      Elk Grove High      Sacramento   \n",
       "\n",
       "           sim                                           sim_name  \\\n",
       "975   0.982759  PUC Early College Academy for Leaders and Scho...   \n",
       "249   0.982456                      CATCH Prep Charter High, Inc.   \n",
       "978   0.950000                               Visions in Education   \n",
       "857   0.946237       Alliance Judy Ivie Burton Technology Academy   \n",
       "116   0.916667            Animo Watts College Preparatory Academy   \n",
       "1074  0.901961                       Da Vinci Communications High   \n",
       "1085  0.893617                              Granada Hills Charter   \n",
       "687   0.863636                          Unity Middle College High   \n",
       "211   0.846154                      Options For Youth-Acton, INC.   \n",
       "71    0.842105                       Summit Public School: Denali   \n",
       "1137  0.823529                    Options For Youth - Victorville   \n",
       "2     0.818182                             Gorman Learning Center   \n",
       "1130  0.807692                        El Camino Real Charter High   \n",
       "502   0.800000                  American Indian Public Charter II   \n",
       "911   0.800000                                 Oakland Unity High   \n",
       "540   0.790698                            Temecula Valley Charter   \n",
       "262   0.789474                                 Valor Academy High   \n",
       "703   0.782609                              Watts Learning Center   \n",
       "930   0.782609                       John Adams Academy - Lincoln   \n",
       "896   0.777778                             Escondido Charter High   \n",
       "668   0.777778              Beckford Charter for Enriched Studies   \n",
       "125   0.764706                              Minarets Charter High   \n",
       "1162  0.757576                       Goethe International Charter   \n",
       "466   0.756757                Haynes Charter For Enriched Studies   \n",
       "158   0.754098                        Reedley Middle College High   \n",
       "322   0.750000                                   Watsonville Prep   \n",
       "440   0.750000                                 Oakland Unity High   \n",
       "1224  0.750000                          San Diego Mission Academy   \n",
       "108   0.742857                                    John Henry High   \n",
       "288   0.738095       Serrania Avenue Charter For Enriched Studies   \n",
       "297   0.733333                                    John Henry High   \n",
       "562   0.731707                                 Valor Academy High   \n",
       "448   0.716981                          Santa Ynez Valley Charter   \n",
       "732   0.714286                                    Santiago Middle   \n",
       "414   0.711864                              Academy of Media Arts   \n",
       "323   0.709677                                  Yuba City Charter   \n",
       "564   0.709677                                  Elk Grove Charter   \n",
       "\n",
       "     sim_name_county  \n",
       "975      Los Angeles  \n",
       "249      Los Angeles  \n",
       "978       Sacramento  \n",
       "857      Los Angeles  \n",
       "116      Los Angeles  \n",
       "1074     Los Angeles  \n",
       "1085     Los Angeles  \n",
       "687           Orange  \n",
       "211      Los Angeles  \n",
       "71       Santa Clara  \n",
       "1137  San Bernardino  \n",
       "2        Los Angeles  \n",
       "1130     Los Angeles  \n",
       "502          Alameda  \n",
       "911          Alameda  \n",
       "540        Riverside  \n",
       "262      Los Angeles  \n",
       "703      Los Angeles  \n",
       "930           Placer  \n",
       "896        San Diego  \n",
       "668      Los Angeles  \n",
       "125           Madera  \n",
       "1162     Los Angeles  \n",
       "466      Los Angeles  \n",
       "158           Fresno  \n",
       "322       Santa Cruz  \n",
       "440          Alameda  \n",
       "1224       San Diego  \n",
       "108     Contra Costa  \n",
       "288      Los Angeles  \n",
       "297     Contra Costa  \n",
       "562      Los Angeles  \n",
       "448    Santa Barbara  \n",
       "732           Orange  \n",
       "414      Los Angeles  \n",
       "323           Sutter  \n",
       "564       Sacramento  "
      ]
     },
     "execution_count": 93,
     "metadata": {},
     "output_type": "execute_result"
    }
   ],
   "source": [
    "df_sat_scho[['school_name', 'county_name', 'sim', 'sim_name', 'sim_name_county']][(df_sat_scho['sim'] < 1) & (df_sat_scho['sim'] > .7) &    # filter most similar\n",
    " (df_sat_scho['county_name'] == df_sat_scho['sim_name_county'])].sort_values(by='sim', ascending=False)                                     # confirm county names match"
   ]
  },
  {
   "cell_type": "markdown",
   "metadata": {},
   "source": [
    "#\n",
    "#### Check for mislabeled Charter schools before encoding similarly named schools"
   ]
  },
  {
   "cell_type": "code",
   "execution_count": 94,
   "metadata": {},
   "outputs": [
    {
     "name": "stdout",
     "output_type": "stream",
     "text": [
      "5 charters were mislabeled from having identical names in different counties.\n"
     ]
    }
   ],
   "source": [
    "checker = []\n",
    "for _ in range(df_sat_scho.shape[0]):\n",
    "\n",
    "    s = df_sat_scho[['school_name', 'county_name', 'sim']].iloc[_:(_+1)].values\n",
    "    county, school, charter = s[0][1], s[0][0], s[0][2]                                                     # isolate important data\n",
    "    if charter == 1:\n",
    "        if len(df_charter[(df_charter['county'] == county) & (df_charter['school_name'] == school)]) > 0:   # if previously labeled as perfect name match,\n",
    "            checker.append(1)                                                                               # confirm county also matches\n",
    "        else:\n",
    "            checker.append(0)                                                                               # if counties do not match, label as public school\n",
    "    else:\n",
    "        checker.append(0)\n",
    "\n",
    "charters_found = df_sat_scho[df_sat_scho['sim'] == 1].count()[0]\n",
    "mislabeled = charters_found - sum(checker)\n",
    "\n",
    "print(f\"{mislabeled} charters were mislabeled from having identical names in different counties.\")\n",
    "\n",
    "df_sat_scho['sim'] = checker                                                                                # re-label similarity column"
   ]
  },
  {
   "cell_type": "markdown",
   "metadata": {},
   "source": [
    "#\n",
    "#### Encode similarly named schools between Charter school and school name in SAT dataset"
   ]
  },
  {
   "cell_type": "code",
   "execution_count": 95,
   "metadata": {},
   "outputs": [],
   "source": [
    "# Check for mislabeled\n",
    "df_sat_scho.loc[[975, 249, 978, 857, 116, 1074, 1085, 211, 71, 1137, 502, 1130, 930, 1162, ], 'sim'] = 1\n",
    "# Found an additional 14 charter schools"
   ]
  },
  {
   "cell_type": "markdown",
   "metadata": {},
   "source": [
    "#\n",
    "#### Locate similarly named schools between Charter dataset and ACT dataset\n",
    "##### Cross reference: https://www.cde.ca.gov/SchoolDirectory/"
   ]
  },
  {
   "cell_type": "code",
   "execution_count": 96,
   "metadata": {},
   "outputs": [
    {
     "data": {
      "text/html": [
       "<div>\n",
       "<style scoped>\n",
       "    .dataframe tbody tr th:only-of-type {\n",
       "        vertical-align: middle;\n",
       "    }\n",
       "\n",
       "    .dataframe tbody tr th {\n",
       "        vertical-align: top;\n",
       "    }\n",
       "\n",
       "    .dataframe thead th {\n",
       "        text-align: right;\n",
       "    }\n",
       "</style>\n",
       "<table border=\"1\" class=\"dataframe\">\n",
       "  <thead>\n",
       "    <tr style=\"text-align: right;\">\n",
       "      <th></th>\n",
       "      <th>school_name</th>\n",
       "      <th>county_name</th>\n",
       "      <th>sim</th>\n",
       "      <th>sim_name</th>\n",
       "      <th>sim_name_county</th>\n",
       "    </tr>\n",
       "  </thead>\n",
       "  <tbody>\n",
       "    <tr>\n",
       "      <th>500</th>\n",
       "      <td>Lennox Mathematics Science and Technology Academy</td>\n",
       "      <td>Los Angeles</td>\n",
       "      <td>0.989899</td>\n",
       "      <td>Lennox Mathematics, Science and Technology Aca...</td>\n",
       "      <td>Los Angeles</td>\n",
       "    </tr>\n",
       "    <tr>\n",
       "      <th>733</th>\n",
       "      <td>PUC Early College Academy for Leaders and Scho...</td>\n",
       "      <td>Los Angeles</td>\n",
       "      <td>0.982759</td>\n",
       "      <td>PUC Early College Academy for Leaders and Scho...</td>\n",
       "      <td>Los Angeles</td>\n",
       "    </tr>\n",
       "    <tr>\n",
       "      <th>23</th>\n",
       "      <td>Alliance Judy Ivie Burton Technology Academy High</td>\n",
       "      <td>Los Angeles</td>\n",
       "      <td>0.946237</td>\n",
       "      <td>Alliance Judy Ivie Burton Technology Academy</td>\n",
       "      <td>Los Angeles</td>\n",
       "    </tr>\n",
       "    <tr>\n",
       "      <th>44</th>\n",
       "      <td>Animo College Preparatory Academy</td>\n",
       "      <td>Los Angeles</td>\n",
       "      <td>0.916667</td>\n",
       "      <td>Animo Watts College Preparatory Academy</td>\n",
       "      <td>Los Angeles</td>\n",
       "    </tr>\n",
       "    <tr>\n",
       "      <th>224</th>\n",
       "      <td>Da Vinci Communications</td>\n",
       "      <td>Los Angeles</td>\n",
       "      <td>0.901961</td>\n",
       "      <td>Da Vinci Communications High</td>\n",
       "      <td>Los Angeles</td>\n",
       "    </tr>\n",
       "    <tr>\n",
       "      <th>364</th>\n",
       "      <td>Granada Hills Charter High</td>\n",
       "      <td>Los Angeles</td>\n",
       "      <td>0.893617</td>\n",
       "      <td>Granada Hills Charter</td>\n",
       "      <td>Los Angeles</td>\n",
       "    </tr>\n",
       "    <tr>\n",
       "      <th>573</th>\n",
       "      <td>Middle College High</td>\n",
       "      <td>Orange</td>\n",
       "      <td>0.863636</td>\n",
       "      <td>Unity Middle College High</td>\n",
       "      <td>Orange</td>\n",
       "    </tr>\n",
       "    <tr>\n",
       "      <th>885</th>\n",
       "      <td>Summit Public School: Rainier</td>\n",
       "      <td>Santa Clara</td>\n",
       "      <td>0.842105</td>\n",
       "      <td>Summit Public School: Denali</td>\n",
       "      <td>Santa Clara</td>\n",
       "    </tr>\n",
       "    <tr>\n",
       "      <th>330</th>\n",
       "      <td>Foshay Learning Center</td>\n",
       "      <td>Los Angeles</td>\n",
       "      <td>0.818182</td>\n",
       "      <td>Gorman Learning Center</td>\n",
       "      <td>Los Angeles</td>\n",
       "    </tr>\n",
       "    <tr>\n",
       "      <th>142</th>\n",
       "      <td>Camino Nuevo Charter High</td>\n",
       "      <td>Los Angeles</td>\n",
       "      <td>0.807692</td>\n",
       "      <td>El Camino Real Charter High</td>\n",
       "      <td>Los Angeles</td>\n",
       "    </tr>\n",
       "    <tr>\n",
       "      <th>659</th>\n",
       "      <td>Oakland High</td>\n",
       "      <td>Alameda</td>\n",
       "      <td>0.800000</td>\n",
       "      <td>Oakland Unity High</td>\n",
       "      <td>Alameda</td>\n",
       "    </tr>\n",
       "    <tr>\n",
       "      <th>903</th>\n",
       "      <td>Temecula Valley High</td>\n",
       "      <td>Riverside</td>\n",
       "      <td>0.790698</td>\n",
       "      <td>Temecula Valley Charter</td>\n",
       "      <td>Riverside</td>\n",
       "    </tr>\n",
       "    <tr>\n",
       "      <th>563</th>\n",
       "      <td>Maywood Academy High</td>\n",
       "      <td>Los Angeles</td>\n",
       "      <td>0.789474</td>\n",
       "      <td>Valor Academy High</td>\n",
       "      <td>Los Angeles</td>\n",
       "    </tr>\n",
       "    <tr>\n",
       "      <th>303</th>\n",
       "      <td>Escondido High</td>\n",
       "      <td>San Diego</td>\n",
       "      <td>0.777778</td>\n",
       "      <td>Escondido Charter High</td>\n",
       "      <td>San Diego</td>\n",
       "    </tr>\n",
       "    <tr>\n",
       "      <th>530</th>\n",
       "      <td>Los Angeles Center for Enriched Studies</td>\n",
       "      <td>Los Angeles</td>\n",
       "      <td>0.756757</td>\n",
       "      <td>Haynes Charter For Enriched Studies</td>\n",
       "      <td>Los Angeles</td>\n",
       "    </tr>\n",
       "    <tr>\n",
       "      <th>242</th>\n",
       "      <td>Design Science Middle College High</td>\n",
       "      <td>Fresno</td>\n",
       "      <td>0.754098</td>\n",
       "      <td>Reedley Middle College High</td>\n",
       "      <td>Fresno</td>\n",
       "    </tr>\n",
       "    <tr>\n",
       "      <th>19</th>\n",
       "      <td>Alliance Alice M. Baxter College-Ready High</td>\n",
       "      <td>Los Angeles</td>\n",
       "      <td>0.752941</td>\n",
       "      <td>Alliance Collins Family College-Ready High</td>\n",
       "      <td>Los Angeles</td>\n",
       "    </tr>\n",
       "    <tr>\n",
       "      <th>661</th>\n",
       "      <td>Oakland Technical High</td>\n",
       "      <td>Alameda</td>\n",
       "      <td>0.750000</td>\n",
       "      <td>Oakland Unity High</td>\n",
       "      <td>Alameda</td>\n",
       "    </tr>\n",
       "    <tr>\n",
       "      <th>797</th>\n",
       "      <td>San Dieguito HS Academy</td>\n",
       "      <td>San Diego</td>\n",
       "      <td>0.750000</td>\n",
       "      <td>San Diego Mission Academy</td>\n",
       "      <td>San Diego</td>\n",
       "    </tr>\n",
       "    <tr>\n",
       "      <th>973</th>\n",
       "      <td>Watsonville High</td>\n",
       "      <td>Santa Cruz</td>\n",
       "      <td>0.750000</td>\n",
       "      <td>Watsonville Prep</td>\n",
       "      <td>Santa Cruz</td>\n",
       "    </tr>\n",
       "    <tr>\n",
       "      <th>446</th>\n",
       "      <td>John F. Kennedy High</td>\n",
       "      <td>Contra Costa</td>\n",
       "      <td>0.742857</td>\n",
       "      <td>John Henry High</td>\n",
       "      <td>Contra Costa</td>\n",
       "    </tr>\n",
       "    <tr>\n",
       "      <th>853</th>\n",
       "      <td>Sherman Oaks Center for Enriched Studies</td>\n",
       "      <td>Los Angeles</td>\n",
       "      <td>0.738095</td>\n",
       "      <td>Serrania Avenue Charter For Enriched Studies</td>\n",
       "      <td>Los Angeles</td>\n",
       "    </tr>\n",
       "    <tr>\n",
       "      <th>832</th>\n",
       "      <td>Santa Ynez Valley Union High</td>\n",
       "      <td>Santa Barbara</td>\n",
       "      <td>0.716981</td>\n",
       "      <td>Santa Ynez Valley Charter</td>\n",
       "      <td>Santa Barbara</td>\n",
       "    </tr>\n",
       "    <tr>\n",
       "      <th>835</th>\n",
       "      <td>Santiago High</td>\n",
       "      <td>Orange</td>\n",
       "      <td>0.714286</td>\n",
       "      <td>Santiago Middle</td>\n",
       "      <td>Orange</td>\n",
       "    </tr>\n",
       "    <tr>\n",
       "      <th>294</th>\n",
       "      <td>Elk Grove High</td>\n",
       "      <td>Sacramento</td>\n",
       "      <td>0.709677</td>\n",
       "      <td>Elk Grove Charter</td>\n",
       "      <td>Sacramento</td>\n",
       "    </tr>\n",
       "    <tr>\n",
       "      <th>1014</th>\n",
       "      <td>Yuba City High</td>\n",
       "      <td>Sutter</td>\n",
       "      <td>0.709677</td>\n",
       "      <td>Yuba City Charter</td>\n",
       "      <td>Sutter</td>\n",
       "    </tr>\n",
       "  </tbody>\n",
       "</table>\n",
       "</div>"
      ],
      "text/plain": [
       "                                            school_name    county_name  \\\n",
       "500   Lennox Mathematics Science and Technology Academy    Los Angeles   \n",
       "733   PUC Early College Academy for Leaders and Scho...    Los Angeles   \n",
       "23    Alliance Judy Ivie Burton Technology Academy High    Los Angeles   \n",
       "44                    Animo College Preparatory Academy    Los Angeles   \n",
       "224                             Da Vinci Communications    Los Angeles   \n",
       "364                          Granada Hills Charter High    Los Angeles   \n",
       "573                                 Middle College High         Orange   \n",
       "885                       Summit Public School: Rainier    Santa Clara   \n",
       "330                              Foshay Learning Center    Los Angeles   \n",
       "142                           Camino Nuevo Charter High    Los Angeles   \n",
       "659                                        Oakland High        Alameda   \n",
       "903                                Temecula Valley High      Riverside   \n",
       "563                                Maywood Academy High    Los Angeles   \n",
       "303                                      Escondido High      San Diego   \n",
       "530             Los Angeles Center for Enriched Studies    Los Angeles   \n",
       "242                  Design Science Middle College High         Fresno   \n",
       "19          Alliance Alice M. Baxter College-Ready High    Los Angeles   \n",
       "661                              Oakland Technical High        Alameda   \n",
       "797                             San Dieguito HS Academy      San Diego   \n",
       "973                                    Watsonville High     Santa Cruz   \n",
       "446                                John F. Kennedy High   Contra Costa   \n",
       "853            Sherman Oaks Center for Enriched Studies    Los Angeles   \n",
       "832                        Santa Ynez Valley Union High  Santa Barbara   \n",
       "835                                       Santiago High         Orange   \n",
       "294                                      Elk Grove High     Sacramento   \n",
       "1014                                     Yuba City High         Sutter   \n",
       "\n",
       "           sim                                           sim_name  \\\n",
       "500   0.989899  Lennox Mathematics, Science and Technology Aca...   \n",
       "733   0.982759  PUC Early College Academy for Leaders and Scho...   \n",
       "23    0.946237       Alliance Judy Ivie Burton Technology Academy   \n",
       "44    0.916667            Animo Watts College Preparatory Academy   \n",
       "224   0.901961                       Da Vinci Communications High   \n",
       "364   0.893617                              Granada Hills Charter   \n",
       "573   0.863636                          Unity Middle College High   \n",
       "885   0.842105                       Summit Public School: Denali   \n",
       "330   0.818182                             Gorman Learning Center   \n",
       "142   0.807692                        El Camino Real Charter High   \n",
       "659   0.800000                                 Oakland Unity High   \n",
       "903   0.790698                            Temecula Valley Charter   \n",
       "563   0.789474                                 Valor Academy High   \n",
       "303   0.777778                             Escondido Charter High   \n",
       "530   0.756757                Haynes Charter For Enriched Studies   \n",
       "242   0.754098                        Reedley Middle College High   \n",
       "19    0.752941         Alliance Collins Family College-Ready High   \n",
       "661   0.750000                                 Oakland Unity High   \n",
       "797   0.750000                          San Diego Mission Academy   \n",
       "973   0.750000                                   Watsonville Prep   \n",
       "446   0.742857                                    John Henry High   \n",
       "853   0.738095       Serrania Avenue Charter For Enriched Studies   \n",
       "832   0.716981                          Santa Ynez Valley Charter   \n",
       "835   0.714286                                    Santiago Middle   \n",
       "294   0.709677                                  Elk Grove Charter   \n",
       "1014  0.709677                                  Yuba City Charter   \n",
       "\n",
       "     sim_name_county  \n",
       "500      Los Angeles  \n",
       "733      Los Angeles  \n",
       "23       Los Angeles  \n",
       "44       Los Angeles  \n",
       "224      Los Angeles  \n",
       "364      Los Angeles  \n",
       "573           Orange  \n",
       "885      Santa Clara  \n",
       "330      Los Angeles  \n",
       "142      Los Angeles  \n",
       "659          Alameda  \n",
       "903        Riverside  \n",
       "563      Los Angeles  \n",
       "303        San Diego  \n",
       "530      Los Angeles  \n",
       "242           Fresno  \n",
       "19       Los Angeles  \n",
       "661          Alameda  \n",
       "797        San Diego  \n",
       "973       Santa Cruz  \n",
       "446     Contra Costa  \n",
       "853      Los Angeles  \n",
       "832    Santa Barbara  \n",
       "835           Orange  \n",
       "294       Sacramento  \n",
       "1014          Sutter  "
      ]
     },
     "execution_count": 96,
     "metadata": {},
     "output_type": "execute_result"
    }
   ],
   "source": [
    "df_act_scho[['school_name', 'county_name', 'sim', 'sim_name', 'sim_name_county']][(df_act_scho['sim'] < 1) & (df_act_scho['sim'] > .7) &\n",
    " (df_act_scho['county_name'] == df_act_scho['sim_name_county'])].sort_values(by='sim', ascending=False)"
   ]
  },
  {
   "cell_type": "markdown",
   "metadata": {},
   "source": [
    "#### Check for mislabeled Charter schools before encoding similarly named schools"
   ]
  },
  {
   "cell_type": "code",
   "execution_count": 97,
   "metadata": {},
   "outputs": [
    {
     "name": "stdout",
     "output_type": "stream",
     "text": [
      "3 charters were mislabeled from having identical names in different counties.\n"
     ]
    }
   ],
   "source": [
    "checker = []\n",
    "for _ in range(df_act_scho.shape[0]):\n",
    "\n",
    "    s = df_act_scho[['school_name', 'county_name', 'sim']].iloc[_:(_+1)].values\n",
    "    county, school, charter = s[0][1], s[0][0], s[0][2]\n",
    "    if charter == 1:\n",
    "        if len(df_charter[(df_charter['county'] == county) & (df_charter['school_name'] == school)]) > 0:\n",
    "            checker.append(1)\n",
    "        else:\n",
    "            checker.append(0)\n",
    "    else:\n",
    "        checker.append(0)\n",
    "\n",
    "charters_found = df_act_scho[df_act_scho['sim'] == 1].count()[0]\n",
    "mislabeled = charters_found - sum(checker)\n",
    "\n",
    "print(f\"{mislabeled} charters were mislabeled from having identical names in different counties.\")\n",
    "\n",
    "df_act_scho['sim'] = checker"
   ]
  },
  {
   "cell_type": "markdown",
   "metadata": {},
   "source": [
    "#\n",
    "#### Encode similarly named schools between Charter school and school name in ACT dataset"
   ]
  },
  {
   "cell_type": "code",
   "execution_count": 98,
   "metadata": {},
   "outputs": [],
   "source": [
    "df_act_scho.loc[[500, 733, 23, 44, 224, 364, 885, 142, 19, ], 'sim'] = 1\n",
    "# Found an additional 9 charter schools"
   ]
  },
  {
   "cell_type": "markdown",
   "metadata": {},
   "source": [
    "#\n",
    "#### Final manual check of Charter school name columns"
   ]
  },
  {
   "cell_type": "code",
   "execution_count": 99,
   "metadata": {},
   "outputs": [
    {
     "data": {
      "text/html": [
       "<div>\n",
       "<style scoped>\n",
       "    .dataframe tbody tr th:only-of-type {\n",
       "        vertical-align: middle;\n",
       "    }\n",
       "\n",
       "    .dataframe tbody tr th {\n",
       "        vertical-align: top;\n",
       "    }\n",
       "\n",
       "    .dataframe thead th {\n",
       "        text-align: right;\n",
       "    }\n",
       "</style>\n",
       "<table border=\"1\" class=\"dataframe\">\n",
       "  <thead>\n",
       "    <tr style=\"text-align: right;\">\n",
       "      <th></th>\n",
       "      <th>sim</th>\n",
       "      <th>school_name</th>\n",
       "    </tr>\n",
       "  </thead>\n",
       "  <tbody>\n",
       "    <tr>\n",
       "      <th>179</th>\n",
       "      <td>0</td>\n",
       "      <td>Charter Oak High</td>\n",
       "    </tr>\n",
       "  </tbody>\n",
       "</table>\n",
       "</div>"
      ],
      "text/plain": [
       "     sim       school_name\n",
       "179    0  Charter Oak High"
      ]
     },
     "execution_count": 99,
     "metadata": {},
     "output_type": "execute_result"
    }
   ],
   "source": [
    "df_act_scho[['sim', 'school_name']][(df_act_scho['school_name'].map(lambda x: True if \"charter\" in x.lower() else False)) & (df_act_scho['sim'] != 1)]\n",
    "# Charter Oak High is NOT a Charter school"
   ]
  },
  {
   "cell_type": "code",
   "execution_count": 100,
   "metadata": {},
   "outputs": [
    {
     "data": {
      "text/html": [
       "<div>\n",
       "<style scoped>\n",
       "    .dataframe tbody tr th:only-of-type {\n",
       "        vertical-align: middle;\n",
       "    }\n",
       "\n",
       "    .dataframe tbody tr th {\n",
       "        vertical-align: top;\n",
       "    }\n",
       "\n",
       "    .dataframe thead th {\n",
       "        text-align: right;\n",
       "    }\n",
       "</style>\n",
       "<table border=\"1\" class=\"dataframe\">\n",
       "  <thead>\n",
       "    <tr style=\"text-align: right;\">\n",
       "      <th></th>\n",
       "      <th>sim</th>\n",
       "      <th>school_name</th>\n",
       "    </tr>\n",
       "  </thead>\n",
       "  <tbody>\n",
       "    <tr>\n",
       "      <th>696</th>\n",
       "      <td>0</td>\n",
       "      <td>Inspire Charter</td>\n",
       "    </tr>\n",
       "    <tr>\n",
       "      <th>913</th>\n",
       "      <td>0</td>\n",
       "      <td>Charter Oak High</td>\n",
       "    </tr>\n",
       "  </tbody>\n",
       "</table>\n",
       "</div>"
      ],
      "text/plain": [
       "     sim       school_name\n",
       "696    0   Inspire Charter\n",
       "913    0  Charter Oak High"
      ]
     },
     "execution_count": 100,
     "metadata": {},
     "output_type": "execute_result"
    }
   ],
   "source": [
    "df_sat_scho[['sim', 'school_name']][(df_sat_scho['school_name'].map(lambda x: True if \"charter\" in x.lower() else False)) & (df_sat_scho['sim'] != 1)]"
   ]
  },
  {
   "cell_type": "markdown",
   "metadata": {},
   "source": [
    "#### One Charter slipped thru the cracks!"
   ]
  },
  {
   "cell_type": "code",
   "execution_count": 101,
   "metadata": {},
   "outputs": [],
   "source": [
    "df_sat_scho.loc[[696, ], 'sim'] = 1"
   ]
  },
  {
   "cell_type": "markdown",
   "metadata": {},
   "source": [
    "#\n",
    "#### Drop encoding columns"
   ]
  },
  {
   "cell_type": "code",
   "execution_count": 102,
   "metadata": {},
   "outputs": [],
   "source": [
    "df_sat_scho.drop(['sim_name', 'sim_name_county'], axis=1, inplace=True)\n",
    "df_act_scho.drop(['sim_name', 'sim_name_county'], axis=1, inplace=True)"
   ]
  },
  {
   "cell_type": "markdown",
   "metadata": {},
   "source": [
    "#### Rename 'sim' columns to 'is_charter'"
   ]
  },
  {
   "cell_type": "code",
   "execution_count": 103,
   "metadata": {},
   "outputs": [],
   "source": [
    "df_sat_scho.rename(columns={'sim':'is_charter'}, inplace=True)\n",
    "df_act_scho.rename(columns={'sim':'is_charter'}, inplace=True)"
   ]
  },
  {
   "cell_type": "markdown",
   "metadata": {},
   "source": [
    "#### Encode 'is_charter' columns"
   ]
  },
  {
   "cell_type": "code",
   "execution_count": 104,
   "metadata": {},
   "outputs": [],
   "source": [
    "df_sat_scho['is_charter'] = df_sat_scho['is_charter'].apply(lambda x: 1 if x == 1 else 0)\n",
    "df_act_scho['is_charter'] = df_act_scho['is_charter'].apply(lambda x: 1 if x == 1 else 0)"
   ]
  },
  {
   "cell_type": "markdown",
   "metadata": {},
   "source": [
    "### Charter data cleaned & merged in SAT & ACT school level datasets!"
   ]
  },
  {
   "cell_type": "code",
   "execution_count": 105,
   "metadata": {},
   "outputs": [
    {
     "data": {
      "text/html": [
       "<div>\n",
       "<style scoped>\n",
       "    .dataframe tbody tr th:only-of-type {\n",
       "        vertical-align: middle;\n",
       "    }\n",
       "\n",
       "    .dataframe tbody tr th {\n",
       "        vertical-align: top;\n",
       "    }\n",
       "\n",
       "    .dataframe thead th {\n",
       "        text-align: right;\n",
       "    }\n",
       "</style>\n",
       "<table border=\"1\" class=\"dataframe\">\n",
       "  <thead>\n",
       "    <tr style=\"text-align: right;\">\n",
       "      <th></th>\n",
       "      <th>local_id</th>\n",
       "      <th>county_id</th>\n",
       "      <th>county_dist_id</th>\n",
       "      <th>school_id</th>\n",
       "      <th>record_type</th>\n",
       "      <th>school_name</th>\n",
       "      <th>dist_name</th>\n",
       "      <th>county_name</th>\n",
       "      <th>enrollment_12</th>\n",
       "      <th>test_takers</th>\n",
       "      <th>avg_eng</th>\n",
       "      <th>pct_eng</th>\n",
       "      <th>avg_math</th>\n",
       "      <th>pct_math</th>\n",
       "      <th>abv_avg_both</th>\n",
       "      <th>abv_pct_both</th>\n",
       "      <th>year</th>\n",
       "      <th>is_charter</th>\n",
       "    </tr>\n",
       "  </thead>\n",
       "  <tbody>\n",
       "    <tr>\n",
       "      <th>0</th>\n",
       "      <td>1.964733e+13</td>\n",
       "      <td>19.0</td>\n",
       "      <td>1964733.0</td>\n",
       "      <td>1930924.0</td>\n",
       "      <td>S</td>\n",
       "      <td>Belmont Senior High</td>\n",
       "      <td>Los Angeles Unified</td>\n",
       "      <td>Los Angeles</td>\n",
       "      <td>206.0</td>\n",
       "      <td>102.0</td>\n",
       "      <td>31</td>\n",
       "      <td>30.39</td>\n",
       "      <td>14</td>\n",
       "      <td>13.73</td>\n",
       "      <td>14</td>\n",
       "      <td>13.73</td>\n",
       "      <td>2019</td>\n",
       "      <td>0</td>\n",
       "    </tr>\n",
       "    <tr>\n",
       "      <th>1</th>\n",
       "      <td>1.964733e+13</td>\n",
       "      <td>19.0</td>\n",
       "      <td>1964733.0</td>\n",
       "      <td>1931476.0</td>\n",
       "      <td>S</td>\n",
       "      <td>Canoga Park Senior High</td>\n",
       "      <td>Los Angeles Unified</td>\n",
       "      <td>Los Angeles</td>\n",
       "      <td>227.0</td>\n",
       "      <td>113.0</td>\n",
       "      <td>54</td>\n",
       "      <td>47.79</td>\n",
       "      <td>18</td>\n",
       "      <td>15.93</td>\n",
       "      <td>18</td>\n",
       "      <td>15.93</td>\n",
       "      <td>2019</td>\n",
       "      <td>0</td>\n",
       "    </tr>\n",
       "    <tr>\n",
       "      <th>2</th>\n",
       "      <td>1.964734e+13</td>\n",
       "      <td>19.0</td>\n",
       "      <td>1964733.0</td>\n",
       "      <td>6061451.0</td>\n",
       "      <td>S</td>\n",
       "      <td>Foshay Learning Center</td>\n",
       "      <td>Los Angeles Unified</td>\n",
       "      <td>Los Angeles</td>\n",
       "      <td>166.0</td>\n",
       "      <td>106.0</td>\n",
       "      <td>68</td>\n",
       "      <td>64.15</td>\n",
       "      <td>36</td>\n",
       "      <td>33.96</td>\n",
       "      <td>36</td>\n",
       "      <td>33.96</td>\n",
       "      <td>2019</td>\n",
       "      <td>0</td>\n",
       "    </tr>\n",
       "    <tr>\n",
       "      <th>3</th>\n",
       "      <td>3.073635e+13</td>\n",
       "      <td>30.0</td>\n",
       "      <td>3073635.0</td>\n",
       "      <td>3034956.0</td>\n",
       "      <td>S</td>\n",
       "      <td>Mission Viejo High</td>\n",
       "      <td>Saddleback Valley Unified</td>\n",
       "      <td>Orange</td>\n",
       "      <td>562.0</td>\n",
       "      <td>190.0</td>\n",
       "      <td>161</td>\n",
       "      <td>84.74</td>\n",
       "      <td>138</td>\n",
       "      <td>72.63</td>\n",
       "      <td>132</td>\n",
       "      <td>69.47</td>\n",
       "      <td>2019</td>\n",
       "      <td>0</td>\n",
       "    </tr>\n",
       "    <tr>\n",
       "      <th>4</th>\n",
       "      <td>3.367215e+13</td>\n",
       "      <td>33.0</td>\n",
       "      <td>3367215.0</td>\n",
       "      <td>3336955.0</td>\n",
       "      <td>S</td>\n",
       "      <td>Abraham Lincoln Continuation</td>\n",
       "      <td>Riverside Unified</td>\n",
       "      <td>Riverside</td>\n",
       "      <td>114.0</td>\n",
       "      <td>17.0</td>\n",
       "      <td>3</td>\n",
       "      <td>17.65</td>\n",
       "      <td>2</td>\n",
       "      <td>11.76</td>\n",
       "      <td>2</td>\n",
       "      <td>11.76</td>\n",
       "      <td>2019</td>\n",
       "      <td>0</td>\n",
       "    </tr>\n",
       "  </tbody>\n",
       "</table>\n",
       "</div>"
      ],
      "text/plain": [
       "       local_id  county_id  county_dist_id  school_id record_type  \\\n",
       "0  1.964733e+13       19.0       1964733.0  1930924.0           S   \n",
       "1  1.964733e+13       19.0       1964733.0  1931476.0           S   \n",
       "2  1.964734e+13       19.0       1964733.0  6061451.0           S   \n",
       "3  3.073635e+13       30.0       3073635.0  3034956.0           S   \n",
       "4  3.367215e+13       33.0       3367215.0  3336955.0           S   \n",
       "\n",
       "                    school_name                  dist_name  county_name  \\\n",
       "0           Belmont Senior High        Los Angeles Unified  Los Angeles   \n",
       "1       Canoga Park Senior High        Los Angeles Unified  Los Angeles   \n",
       "2        Foshay Learning Center        Los Angeles Unified  Los Angeles   \n",
       "3            Mission Viejo High  Saddleback Valley Unified       Orange   \n",
       "4  Abraham Lincoln Continuation          Riverside Unified    Riverside   \n",
       "\n",
       "   enrollment_12  test_takers  avg_eng  pct_eng  avg_math  pct_math  \\\n",
       "0          206.0        102.0       31    30.39        14     13.73   \n",
       "1          227.0        113.0       54    47.79        18     15.93   \n",
       "2          166.0        106.0       68    64.15        36     33.96   \n",
       "3          562.0        190.0      161    84.74       138     72.63   \n",
       "4          114.0         17.0        3    17.65         2     11.76   \n",
       "\n",
       "   abv_avg_both  abv_pct_both  year  is_charter  \n",
       "0            14         13.73  2019           0  \n",
       "1            18         15.93  2019           0  \n",
       "2            36         33.96  2019           0  \n",
       "3           132         69.47  2019           0  \n",
       "4             2         11.76  2019           0  "
      ]
     },
     "execution_count": 105,
     "metadata": {},
     "output_type": "execute_result"
    }
   ],
   "source": [
    "df_sat_scho.head()"
   ]
  },
  {
   "cell_type": "code",
   "execution_count": 106,
   "metadata": {},
   "outputs": [
    {
     "data": {
      "text/html": [
       "<div>\n",
       "<style scoped>\n",
       "    .dataframe tbody tr th:only-of-type {\n",
       "        vertical-align: middle;\n",
       "    }\n",
       "\n",
       "    .dataframe tbody tr th {\n",
       "        vertical-align: top;\n",
       "    }\n",
       "\n",
       "    .dataframe thead th {\n",
       "        text-align: right;\n",
       "    }\n",
       "</style>\n",
       "<table border=\"1\" class=\"dataframe\">\n",
       "  <thead>\n",
       "    <tr style=\"text-align: right;\">\n",
       "      <th></th>\n",
       "      <th>local_id</th>\n",
       "      <th>county_id</th>\n",
       "      <th>county_dist_id</th>\n",
       "      <th>school_id</th>\n",
       "      <th>record_type</th>\n",
       "      <th>school_name</th>\n",
       "      <th>dist_name</th>\n",
       "      <th>county_name</th>\n",
       "      <th>enrollment_12</th>\n",
       "      <th>test_takers</th>\n",
       "      <th>avg_read</th>\n",
       "      <th>avg_eng</th>\n",
       "      <th>avg_math</th>\n",
       "      <th>avg_sci</th>\n",
       "      <th>abv_avg_num</th>\n",
       "      <th>abv_avg_pct</th>\n",
       "      <th>year</th>\n",
       "      <th>is_charter</th>\n",
       "    </tr>\n",
       "  </thead>\n",
       "  <tbody>\n",
       "    <tr>\n",
       "      <th>0</th>\n",
       "      <td>4.369666e+13</td>\n",
       "      <td>43.0</td>\n",
       "      <td>4369666.0</td>\n",
       "      <td>4333795.0</td>\n",
       "      <td>S</td>\n",
       "      <td>Abraham Lincoln High</td>\n",
       "      <td>San Jose Unified</td>\n",
       "      <td>Santa Clara</td>\n",
       "      <td>463.0</td>\n",
       "      <td>53.0</td>\n",
       "      <td>23</td>\n",
       "      <td>22</td>\n",
       "      <td>22</td>\n",
       "      <td>23</td>\n",
       "      <td>34</td>\n",
       "      <td>64.15</td>\n",
       "      <td>2019</td>\n",
       "      <td>0</td>\n",
       "    </tr>\n",
       "    <tr>\n",
       "      <th>1</th>\n",
       "      <td>1.964733e+13</td>\n",
       "      <td>19.0</td>\n",
       "      <td>1964733.0</td>\n",
       "      <td>1935121.0</td>\n",
       "      <td>S</td>\n",
       "      <td>Abraham Lincoln Senior High</td>\n",
       "      <td>Los Angeles Unified</td>\n",
       "      <td>Los Angeles</td>\n",
       "      <td>226.0</td>\n",
       "      <td>19.0</td>\n",
       "      <td>21</td>\n",
       "      <td>20</td>\n",
       "      <td>23</td>\n",
       "      <td>22</td>\n",
       "      <td>11</td>\n",
       "      <td>57.89</td>\n",
       "      <td>2019</td>\n",
       "      <td>0</td>\n",
       "    </tr>\n",
       "    <tr>\n",
       "      <th>2</th>\n",
       "      <td>1.976968e+13</td>\n",
       "      <td>19.0</td>\n",
       "      <td>1976968.0</td>\n",
       "      <td>109926.0</td>\n",
       "      <td>S</td>\n",
       "      <td>Academia Avance Charter</td>\n",
       "      <td>SBE - Academia Avance Charter</td>\n",
       "      <td>Los Angeles</td>\n",
       "      <td>65.0</td>\n",
       "      <td>33.0</td>\n",
       "      <td>15</td>\n",
       "      <td>15</td>\n",
       "      <td>17</td>\n",
       "      <td>16</td>\n",
       "      <td>3</td>\n",
       "      <td>9.09</td>\n",
       "      <td>2019</td>\n",
       "      <td>1</td>\n",
       "    </tr>\n",
       "    <tr>\n",
       "      <th>3</th>\n",
       "      <td>1.964733e+13</td>\n",
       "      <td>19.0</td>\n",
       "      <td>1964733.0</td>\n",
       "      <td>126615.0</td>\n",
       "      <td>S</td>\n",
       "      <td>Academies of Education and Empowerment at Cars...</td>\n",
       "      <td>Los Angeles Unified</td>\n",
       "      <td>Los Angeles</td>\n",
       "      <td>126.0</td>\n",
       "      <td>16.0</td>\n",
       "      <td>18</td>\n",
       "      <td>18</td>\n",
       "      <td>18</td>\n",
       "      <td>17</td>\n",
       "      <td>5</td>\n",
       "      <td>31.25</td>\n",
       "      <td>2019</td>\n",
       "      <td>0</td>\n",
       "    </tr>\n",
       "    <tr>\n",
       "      <th>4</th>\n",
       "      <td>1.965136e+13</td>\n",
       "      <td>19.0</td>\n",
       "      <td>1965136.0</td>\n",
       "      <td>1996321.0</td>\n",
       "      <td>S</td>\n",
       "      <td>Academy of the Canyons</td>\n",
       "      <td>William S. Hart Union High</td>\n",
       "      <td>Los Angeles</td>\n",
       "      <td>104.0</td>\n",
       "      <td>36.0</td>\n",
       "      <td>29</td>\n",
       "      <td>29</td>\n",
       "      <td>25</td>\n",
       "      <td>25</td>\n",
       "      <td>34</td>\n",
       "      <td>94.44</td>\n",
       "      <td>2019</td>\n",
       "      <td>0</td>\n",
       "    </tr>\n",
       "  </tbody>\n",
       "</table>\n",
       "</div>"
      ],
      "text/plain": [
       "       local_id  county_id  county_dist_id  school_id record_type  \\\n",
       "0  4.369666e+13       43.0       4369666.0  4333795.0           S   \n",
       "1  1.964733e+13       19.0       1964733.0  1935121.0           S   \n",
       "2  1.976968e+13       19.0       1976968.0   109926.0           S   \n",
       "3  1.964733e+13       19.0       1964733.0   126615.0           S   \n",
       "4  1.965136e+13       19.0       1965136.0  1996321.0           S   \n",
       "\n",
       "                                         school_name  \\\n",
       "0                               Abraham Lincoln High   \n",
       "1                        Abraham Lincoln Senior High   \n",
       "2                            Academia Avance Charter   \n",
       "3  Academies of Education and Empowerment at Cars...   \n",
       "4                             Academy of the Canyons   \n",
       "\n",
       "                       dist_name  county_name  enrollment_12  test_takers  \\\n",
       "0               San Jose Unified  Santa Clara          463.0         53.0   \n",
       "1            Los Angeles Unified  Los Angeles          226.0         19.0   \n",
       "2  SBE - Academia Avance Charter  Los Angeles           65.0         33.0   \n",
       "3            Los Angeles Unified  Los Angeles          126.0         16.0   \n",
       "4     William S. Hart Union High  Los Angeles          104.0         36.0   \n",
       "\n",
       "   avg_read  avg_eng  avg_math  avg_sci  abv_avg_num  abv_avg_pct  year  \\\n",
       "0        23       22        22       23           34        64.15  2019   \n",
       "1        21       20        23       22           11        57.89  2019   \n",
       "2        15       15        17       16            3         9.09  2019   \n",
       "3        18       18        18       17            5        31.25  2019   \n",
       "4        29       29        25       25           34        94.44  2019   \n",
       "\n",
       "   is_charter  \n",
       "0           0  \n",
       "1           0  \n",
       "2           1  \n",
       "3           0  \n",
       "4           0  "
      ]
     },
     "execution_count": 106,
     "metadata": {},
     "output_type": "execute_result"
    }
   ],
   "source": [
    "df_act_scho.head()"
   ]
  },
  {
   "cell_type": "code",
   "execution_count": 107,
   "metadata": {},
   "outputs": [],
   "source": [
    "df_sat_scho.to_csv('./data-clean/sat_ca_school_2019.csv', index=False)\n",
    "df_act_scho.to_csv('./data-clean/act_ca_school_2019.csv', index=False)"
   ]
  },
  {
   "cell_type": "markdown",
   "metadata": {},
   "source": [
    "## CA Housing Value Data\n",
    "#### Inspect housing data"
   ]
  },
  {
   "cell_type": "code",
   "execution_count": null,
   "metadata": {},
   "outputs": [],
   "source": [
    "df_ca_homes.head()"
   ]
  },
  {
   "cell_type": "code",
   "execution_count": 108,
   "metadata": {},
   "outputs": [],
   "source": [
    "df_ca_homes.rename(columns=col_dict_house, inplace=True)"
   ]
  },
  {
   "cell_type": "code",
   "execution_count": 109,
   "metadata": {},
   "outputs": [
    {
     "name": "stdout",
     "output_type": "stream",
     "text": [
      "<class 'pandas.core.frame.DataFrame'>\n",
      "RangeIndex: 58 entries, 0 to 57\n",
      "Data columns (total 2 columns):\n",
      " #   Column          Non-Null Count  Dtype  \n",
      "---  ------          --------------  -----  \n",
      " 0   county_name     57 non-null     object \n",
      " 1   med_home_value  57 non-null     float64\n",
      "dtypes: float64(1), object(1)\n",
      "memory usage: 1.0+ KB\n"
     ]
    }
   ],
   "source": [
    "df_ca_homes.info()"
   ]
  },
  {
   "cell_type": "code",
   "execution_count": 110,
   "metadata": {},
   "outputs": [
    {
     "data": {
      "text/plain": [
       "(58, 2)"
      ]
     },
     "execution_count": 110,
     "metadata": {},
     "output_type": "execute_result"
    }
   ],
   "source": [
    "df_ca_homes.shape"
   ]
  },
  {
   "cell_type": "code",
   "execution_count": 111,
   "metadata": {},
   "outputs": [
    {
     "data": {
      "text/html": [
       "<div>\n",
       "<style scoped>\n",
       "    .dataframe tbody tr th:only-of-type {\n",
       "        vertical-align: middle;\n",
       "    }\n",
       "\n",
       "    .dataframe tbody tr th {\n",
       "        vertical-align: top;\n",
       "    }\n",
       "\n",
       "    .dataframe thead th {\n",
       "        text-align: right;\n",
       "    }\n",
       "</style>\n",
       "<table border=\"1\" class=\"dataframe\">\n",
       "  <thead>\n",
       "    <tr style=\"text-align: right;\">\n",
       "      <th></th>\n",
       "      <th>med_home_value</th>\n",
       "    </tr>\n",
       "  </thead>\n",
       "  <tbody>\n",
       "    <tr>\n",
       "      <th>count</th>\n",
       "      <td>5.700000e+01</td>\n",
       "    </tr>\n",
       "    <tr>\n",
       "      <th>mean</th>\n",
       "      <td>5.026747e+05</td>\n",
       "    </tr>\n",
       "    <tr>\n",
       "      <th>std</th>\n",
       "      <td>2.578363e+05</td>\n",
       "    </tr>\n",
       "    <tr>\n",
       "      <th>min</th>\n",
       "      <td>1.612990e+05</td>\n",
       "    </tr>\n",
       "    <tr>\n",
       "      <th>25%</th>\n",
       "      <td>3.087180e+05</td>\n",
       "    </tr>\n",
       "    <tr>\n",
       "      <th>50%</th>\n",
       "      <td>3.992330e+05</td>\n",
       "    </tr>\n",
       "    <tr>\n",
       "      <th>75%</th>\n",
       "      <td>6.705040e+05</td>\n",
       "    </tr>\n",
       "    <tr>\n",
       "      <th>max</th>\n",
       "      <td>1.195275e+06</td>\n",
       "    </tr>\n",
       "  </tbody>\n",
       "</table>\n",
       "</div>"
      ],
      "text/plain": [
       "       med_home_value\n",
       "count    5.700000e+01\n",
       "mean     5.026747e+05\n",
       "std      2.578363e+05\n",
       "min      1.612990e+05\n",
       "25%      3.087180e+05\n",
       "50%      3.992330e+05\n",
       "75%      6.705040e+05\n",
       "max      1.195275e+06"
      ]
     },
     "execution_count": 111,
     "metadata": {},
     "output_type": "execute_result"
    }
   ],
   "source": [
    "df_ca_homes.describe()"
   ]
  },
  {
   "cell_type": "code",
   "execution_count": 112,
   "metadata": {},
   "outputs": [
    {
     "data": {
      "text/plain": [
       "county_name        object\n",
       "med_home_value    float64\n",
       "dtype: object"
      ]
     },
     "execution_count": 112,
     "metadata": {},
     "output_type": "execute_result"
    }
   ],
   "source": [
    "df_ca_homes.dtypes"
   ]
  },
  {
   "cell_type": "markdown",
   "metadata": {},
   "source": [
    "#\n",
    "#### Find missing values & drop"
   ]
  },
  {
   "cell_type": "code",
   "execution_count": 113,
   "metadata": {},
   "outputs": [
    {
     "data": {
      "text/plain": [
       "med_home_value    1\n",
       "dtype: int64"
      ]
     },
     "execution_count": 113,
     "metadata": {},
     "output_type": "execute_result"
    }
   ],
   "source": [
    "df_ca_homes[['med_home_value']].isna().sum()"
   ]
  },
  {
   "cell_type": "code",
   "execution_count": 114,
   "metadata": {},
   "outputs": [
    {
     "data": {
      "text/html": [
       "<div>\n",
       "<style scoped>\n",
       "    .dataframe tbody tr th:only-of-type {\n",
       "        vertical-align: middle;\n",
       "    }\n",
       "\n",
       "    .dataframe tbody tr th {\n",
       "        vertical-align: top;\n",
       "    }\n",
       "\n",
       "    .dataframe thead th {\n",
       "        text-align: right;\n",
       "    }\n",
       "</style>\n",
       "<table border=\"1\" class=\"dataframe\">\n",
       "  <thead>\n",
       "    <tr style=\"text-align: right;\">\n",
       "      <th></th>\n",
       "      <th>county_name</th>\n",
       "      <th>med_home_value</th>\n",
       "    </tr>\n",
       "  </thead>\n",
       "  <tbody>\n",
       "    <tr>\n",
       "      <th>53</th>\n",
       "      <td>Tulare</td>\n",
       "      <td>284046.0</td>\n",
       "    </tr>\n",
       "    <tr>\n",
       "      <th>54</th>\n",
       "      <td>Tuolumne</td>\n",
       "      <td>331777.0</td>\n",
       "    </tr>\n",
       "    <tr>\n",
       "      <th>55</th>\n",
       "      <td>Ventura</td>\n",
       "      <td>708536.0</td>\n",
       "    </tr>\n",
       "    <tr>\n",
       "      <th>56</th>\n",
       "      <td>Yolo</td>\n",
       "      <td>552495.0</td>\n",
       "    </tr>\n",
       "    <tr>\n",
       "      <th>57</th>\n",
       "      <td>NaN</td>\n",
       "      <td>NaN</td>\n",
       "    </tr>\n",
       "  </tbody>\n",
       "</table>\n",
       "</div>"
      ],
      "text/plain": [
       "   county_name  med_home_value\n",
       "53      Tulare        284046.0\n",
       "54    Tuolumne        331777.0\n",
       "55     Ventura        708536.0\n",
       "56        Yolo        552495.0\n",
       "57         NaN             NaN"
      ]
     },
     "execution_count": 114,
     "metadata": {},
     "output_type": "execute_result"
    }
   ],
   "source": [
    "df_ca_homes.tail()"
   ]
  },
  {
   "cell_type": "code",
   "execution_count": 115,
   "metadata": {},
   "outputs": [],
   "source": [
    "df_ca_homes.drop(57, inplace=True)"
   ]
  },
  {
   "cell_type": "markdown",
   "metadata": {},
   "source": [
    "#\n",
    "#### Adjust column dtype"
   ]
  },
  {
   "cell_type": "code",
   "execution_count": 116,
   "metadata": {},
   "outputs": [],
   "source": [
    "df_ca_homes['med_home_value'] = df_ca_homes['med_home_value'].apply(lambda x: int(x))"
   ]
  },
  {
   "cell_type": "code",
   "execution_count": 118,
   "metadata": {},
   "outputs": [
    {
     "data": {
      "text/plain": [
       "county_name       object\n",
       "med_home_value     int64\n",
       "dtype: object"
      ]
     },
     "execution_count": 118,
     "metadata": {},
     "output_type": "execute_result"
    }
   ],
   "source": [
    "df_ca_homes.dtypes"
   ]
  },
  {
   "cell_type": "markdown",
   "metadata": {},
   "source": [
    "### Housing data cleaned!"
   ]
  },
  {
   "cell_type": "code",
   "execution_count": 119,
   "metadata": {},
   "outputs": [
    {
     "data": {
      "text/html": [
       "<div>\n",
       "<style scoped>\n",
       "    .dataframe tbody tr th:only-of-type {\n",
       "        vertical-align: middle;\n",
       "    }\n",
       "\n",
       "    .dataframe tbody tr th {\n",
       "        vertical-align: top;\n",
       "    }\n",
       "\n",
       "    .dataframe thead th {\n",
       "        text-align: right;\n",
       "    }\n",
       "</style>\n",
       "<table border=\"1\" class=\"dataframe\">\n",
       "  <thead>\n",
       "    <tr style=\"text-align: right;\">\n",
       "      <th></th>\n",
       "      <th>county_name</th>\n",
       "      <th>med_home_value</th>\n",
       "    </tr>\n",
       "  </thead>\n",
       "  <tbody>\n",
       "    <tr>\n",
       "      <th>0</th>\n",
       "      <td>Alameda</td>\n",
       "      <td>854696</td>\n",
       "    </tr>\n",
       "    <tr>\n",
       "      <th>1</th>\n",
       "      <td>Alpine</td>\n",
       "      <td>419080</td>\n",
       "    </tr>\n",
       "    <tr>\n",
       "      <th>2</th>\n",
       "      <td>Amador</td>\n",
       "      <td>359884</td>\n",
       "    </tr>\n",
       "    <tr>\n",
       "      <th>3</th>\n",
       "      <td>Butte</td>\n",
       "      <td>377765</td>\n",
       "    </tr>\n",
       "    <tr>\n",
       "      <th>4</th>\n",
       "      <td>Calaveras</td>\n",
       "      <td>366538</td>\n",
       "    </tr>\n",
       "  </tbody>\n",
       "</table>\n",
       "</div>"
      ],
      "text/plain": [
       "  county_name  med_home_value\n",
       "0     Alameda          854696\n",
       "1      Alpine          419080\n",
       "2      Amador          359884\n",
       "3       Butte          377765\n",
       "4   Calaveras          366538"
      ]
     },
     "execution_count": 119,
     "metadata": {},
     "output_type": "execute_result"
    }
   ],
   "source": [
    "df_ca_homes.head()"
   ]
  },
  {
   "cell_type": "code",
   "execution_count": 120,
   "metadata": {},
   "outputs": [],
   "source": [
    "df_ca_homes.to_csv('./data-clean/housing_values_2021.csv', index=False)"
   ]
  },
  {
   "cell_type": "markdown",
   "metadata": {},
   "source": [
    "#\n",
    "## California FIPS\n",
    "#### Inspect FIPS data"
   ]
  },
  {
   "cell_type": "code",
   "execution_count": 152,
   "metadata": {},
   "outputs": [
    {
     "data": {
      "text/html": [
       "<div>\n",
       "<style scoped>\n",
       "    .dataframe tbody tr th:only-of-type {\n",
       "        vertical-align: middle;\n",
       "    }\n",
       "\n",
       "    .dataframe tbody tr th {\n",
       "        vertical-align: top;\n",
       "    }\n",
       "\n",
       "    .dataframe thead th {\n",
       "        text-align: right;\n",
       "    }\n",
       "</style>\n",
       "<table border=\"1\" class=\"dataframe\">\n",
       "  <thead>\n",
       "    <tr style=\"text-align: right;\">\n",
       "      <th></th>\n",
       "      <th>fips</th>\n",
       "      <th>county_name</th>\n",
       "    </tr>\n",
       "  </thead>\n",
       "  <tbody>\n",
       "    <tr>\n",
       "      <th>0</th>\n",
       "      <td>6001</td>\n",
       "      <td>Alameda</td>\n",
       "    </tr>\n",
       "    <tr>\n",
       "      <th>1</th>\n",
       "      <td>6003</td>\n",
       "      <td>Alpine</td>\n",
       "    </tr>\n",
       "    <tr>\n",
       "      <th>2</th>\n",
       "      <td>6005</td>\n",
       "      <td>Amador</td>\n",
       "    </tr>\n",
       "    <tr>\n",
       "      <th>3</th>\n",
       "      <td>6007</td>\n",
       "      <td>Butte</td>\n",
       "    </tr>\n",
       "    <tr>\n",
       "      <th>4</th>\n",
       "      <td>6009</td>\n",
       "      <td>Calaveras</td>\n",
       "    </tr>\n",
       "  </tbody>\n",
       "</table>\n",
       "</div>"
      ],
      "text/plain": [
       "   fips county_name\n",
       "0  6001     Alameda\n",
       "1  6003      Alpine\n",
       "2  6005      Amador\n",
       "3  6007       Butte\n",
       "4  6009   Calaveras"
      ]
     },
     "execution_count": 152,
     "metadata": {},
     "output_type": "execute_result"
    }
   ],
   "source": [
    "df_fips.head()"
   ]
  },
  {
   "cell_type": "code",
   "execution_count": 138,
   "metadata": {},
   "outputs": [],
   "source": [
    "df_fips.rename(columns=col_dict_fips, inplace=True)"
   ]
  },
  {
   "cell_type": "code",
   "execution_count": 139,
   "metadata": {},
   "outputs": [
    {
     "name": "stdout",
     "output_type": "stream",
     "text": [
      "<class 'pandas.core.frame.DataFrame'>\n",
      "RangeIndex: 59 entries, 0 to 58\n",
      "Data columns (total 7 columns):\n",
      " #   Column         Non-Null Count  Dtype \n",
      "---  ------         --------------  ----- \n",
      " 0   summary_level  59 non-null     int64 \n",
      " 1   state          59 non-null     int64 \n",
      " 2   county         59 non-null     int64 \n",
      " 3   county_sub     59 non-null     int64 \n",
      " 4   place          59 non-null     int64 \n",
      " 5   fips           59 non-null     int64 \n",
      " 6   county_name    59 non-null     object\n",
      "dtypes: int64(6), object(1)\n",
      "memory usage: 3.4+ KB\n"
     ]
    }
   ],
   "source": [
    "df_fips.info()"
   ]
  },
  {
   "cell_type": "code",
   "execution_count": 140,
   "metadata": {},
   "outputs": [
    {
     "data": {
      "text/plain": [
       "(59, 7)"
      ]
     },
     "execution_count": 140,
     "metadata": {},
     "output_type": "execute_result"
    }
   ],
   "source": [
    "df_fips.shape"
   ]
  },
  {
   "cell_type": "code",
   "execution_count": 141,
   "metadata": {},
   "outputs": [
    {
     "data": {
      "text/html": [
       "<div>\n",
       "<style scoped>\n",
       "    .dataframe tbody tr th:only-of-type {\n",
       "        vertical-align: middle;\n",
       "    }\n",
       "\n",
       "    .dataframe tbody tr th {\n",
       "        vertical-align: top;\n",
       "    }\n",
       "\n",
       "    .dataframe thead th {\n",
       "        text-align: right;\n",
       "    }\n",
       "</style>\n",
       "<table border=\"1\" class=\"dataframe\">\n",
       "  <thead>\n",
       "    <tr style=\"text-align: right;\">\n",
       "      <th></th>\n",
       "      <th>summary_level</th>\n",
       "      <th>state</th>\n",
       "      <th>county</th>\n",
       "      <th>county_sub</th>\n",
       "      <th>place</th>\n",
       "      <th>fips</th>\n",
       "    </tr>\n",
       "  </thead>\n",
       "  <tbody>\n",
       "    <tr>\n",
       "      <th>count</th>\n",
       "      <td>59.000000</td>\n",
       "      <td>59.0</td>\n",
       "      <td>59.000000</td>\n",
       "      <td>59.0</td>\n",
       "      <td>59.0</td>\n",
       "      <td>59.000000</td>\n",
       "    </tr>\n",
       "    <tr>\n",
       "      <th>mean</th>\n",
       "      <td>49.830508</td>\n",
       "      <td>6.0</td>\n",
       "      <td>57.016949</td>\n",
       "      <td>0.0</td>\n",
       "      <td>0.0</td>\n",
       "      <td>6057.016949</td>\n",
       "    </tr>\n",
       "    <tr>\n",
       "      <th>std</th>\n",
       "      <td>1.301889</td>\n",
       "      <td>0.0</td>\n",
       "      <td>34.322252</td>\n",
       "      <td>0.0</td>\n",
       "      <td>0.0</td>\n",
       "      <td>34.322252</td>\n",
       "    </tr>\n",
       "    <tr>\n",
       "      <th>min</th>\n",
       "      <td>40.000000</td>\n",
       "      <td>6.0</td>\n",
       "      <td>0.000000</td>\n",
       "      <td>0.0</td>\n",
       "      <td>0.0</td>\n",
       "      <td>6000.000000</td>\n",
       "    </tr>\n",
       "    <tr>\n",
       "      <th>25%</th>\n",
       "      <td>50.000000</td>\n",
       "      <td>6.0</td>\n",
       "      <td>28.000000</td>\n",
       "      <td>0.0</td>\n",
       "      <td>0.0</td>\n",
       "      <td>6028.000000</td>\n",
       "    </tr>\n",
       "    <tr>\n",
       "      <th>50%</th>\n",
       "      <td>50.000000</td>\n",
       "      <td>6.0</td>\n",
       "      <td>57.000000</td>\n",
       "      <td>0.0</td>\n",
       "      <td>0.0</td>\n",
       "      <td>6057.000000</td>\n",
       "    </tr>\n",
       "    <tr>\n",
       "      <th>75%</th>\n",
       "      <td>50.000000</td>\n",
       "      <td>6.0</td>\n",
       "      <td>86.000000</td>\n",
       "      <td>0.0</td>\n",
       "      <td>0.0</td>\n",
       "      <td>6086.000000</td>\n",
       "    </tr>\n",
       "    <tr>\n",
       "      <th>max</th>\n",
       "      <td>50.000000</td>\n",
       "      <td>6.0</td>\n",
       "      <td>115.000000</td>\n",
       "      <td>0.0</td>\n",
       "      <td>0.0</td>\n",
       "      <td>6115.000000</td>\n",
       "    </tr>\n",
       "  </tbody>\n",
       "</table>\n",
       "</div>"
      ],
      "text/plain": [
       "       summary_level  state      county  county_sub  place         fips\n",
       "count      59.000000   59.0   59.000000        59.0   59.0    59.000000\n",
       "mean       49.830508    6.0   57.016949         0.0    0.0  6057.016949\n",
       "std         1.301889    0.0   34.322252         0.0    0.0    34.322252\n",
       "min        40.000000    6.0    0.000000         0.0    0.0  6000.000000\n",
       "25%        50.000000    6.0   28.000000         0.0    0.0  6028.000000\n",
       "50%        50.000000    6.0   57.000000         0.0    0.0  6057.000000\n",
       "75%        50.000000    6.0   86.000000         0.0    0.0  6086.000000\n",
       "max        50.000000    6.0  115.000000         0.0    0.0  6115.000000"
      ]
     },
     "execution_count": 141,
     "metadata": {},
     "output_type": "execute_result"
    }
   ],
   "source": [
    "df_fips.describe()"
   ]
  },
  {
   "cell_type": "code",
   "execution_count": 142,
   "metadata": {},
   "outputs": [
    {
     "data": {
      "text/plain": [
       "summary_level     int64\n",
       "state             int64\n",
       "county            int64\n",
       "county_sub        int64\n",
       "place             int64\n",
       "fips              int64\n",
       "county_name      object\n",
       "dtype: object"
      ]
     },
     "execution_count": 142,
     "metadata": {},
     "output_type": "execute_result"
    }
   ],
   "source": [
    "df_fips.dtypes"
   ]
  },
  {
   "cell_type": "markdown",
   "metadata": {},
   "source": [
    "#\n",
    "#### Clean county_name column values & drop unused columns"
   ]
  },
  {
   "cell_type": "code",
   "execution_count": 143,
   "metadata": {},
   "outputs": [],
   "source": [
    "# Clean county_name column values\n",
    "df_fips['county_name'] = df_fips['county_name'].str.replace(\" County\", \"\")\n",
    "\n",
    "# Dropping observation for CA. Only need County codes.\n",
    "df_fips.drop(0, inplace=True)\n",
    "\n",
    "# Drop extra columns\n",
    "df_fips.drop(columns=['summary_level', 'state', 'county', 'county_sub', 'place'], inplace=True)\n",
    "df_fips.reset_index(drop=True, inplace=True)"
   ]
  },
  {
   "cell_type": "markdown",
   "metadata": {},
   "source": [
    "### FIPS data cleaned!"
   ]
  },
  {
   "cell_type": "code",
   "execution_count": 145,
   "metadata": {},
   "outputs": [
    {
     "data": {
      "text/html": [
       "<div>\n",
       "<style scoped>\n",
       "    .dataframe tbody tr th:only-of-type {\n",
       "        vertical-align: middle;\n",
       "    }\n",
       "\n",
       "    .dataframe tbody tr th {\n",
       "        vertical-align: top;\n",
       "    }\n",
       "\n",
       "    .dataframe thead th {\n",
       "        text-align: right;\n",
       "    }\n",
       "</style>\n",
       "<table border=\"1\" class=\"dataframe\">\n",
       "  <thead>\n",
       "    <tr style=\"text-align: right;\">\n",
       "      <th></th>\n",
       "      <th>fips</th>\n",
       "      <th>county_name</th>\n",
       "    </tr>\n",
       "  </thead>\n",
       "  <tbody>\n",
       "    <tr>\n",
       "      <th>0</th>\n",
       "      <td>6001</td>\n",
       "      <td>Alameda</td>\n",
       "    </tr>\n",
       "    <tr>\n",
       "      <th>1</th>\n",
       "      <td>6003</td>\n",
       "      <td>Alpine</td>\n",
       "    </tr>\n",
       "    <tr>\n",
       "      <th>2</th>\n",
       "      <td>6005</td>\n",
       "      <td>Amador</td>\n",
       "    </tr>\n",
       "    <tr>\n",
       "      <th>3</th>\n",
       "      <td>6007</td>\n",
       "      <td>Butte</td>\n",
       "    </tr>\n",
       "    <tr>\n",
       "      <th>4</th>\n",
       "      <td>6009</td>\n",
       "      <td>Calaveras</td>\n",
       "    </tr>\n",
       "  </tbody>\n",
       "</table>\n",
       "</div>"
      ],
      "text/plain": [
       "   fips county_name\n",
       "0  6001     Alameda\n",
       "1  6003      Alpine\n",
       "2  6005      Amador\n",
       "3  6007       Butte\n",
       "4  6009   Calaveras"
      ]
     },
     "execution_count": 145,
     "metadata": {},
     "output_type": "execute_result"
    }
   ],
   "source": [
    "df_fips.head()"
   ]
  },
  {
   "cell_type": "code",
   "execution_count": null,
   "metadata": {},
   "outputs": [],
   "source": [
    "df_fips.to_csv('./data-clean/ca_fips.csv', index=False)"
   ]
  },
  {
   "cell_type": "markdown",
   "metadata": {},
   "source": [
    "#\n",
    "## Check for private schools"
   ]
  },
  {
   "cell_type": "code",
   "execution_count": 147,
   "metadata": {},
   "outputs": [
    {
     "data": {
      "text/html": [
       "<div>\n",
       "<style scoped>\n",
       "    .dataframe tbody tr th:only-of-type {\n",
       "        vertical-align: middle;\n",
       "    }\n",
       "\n",
       "    .dataframe tbody tr th {\n",
       "        vertical-align: top;\n",
       "    }\n",
       "\n",
       "    .dataframe thead th {\n",
       "        text-align: right;\n",
       "    }\n",
       "</style>\n",
       "<table border=\"1\" class=\"dataframe\">\n",
       "  <thead>\n",
       "    <tr style=\"text-align: right;\">\n",
       "      <th></th>\n",
       "      <th>Record Type</th>\n",
       "      <th>CDS Code</th>\n",
       "      <th>County</th>\n",
       "      <th>District</th>\n",
       "      <th>School</th>\n",
       "      <th>High Grade</th>\n",
       "    </tr>\n",
       "  </thead>\n",
       "  <tbody>\n",
       "    <tr>\n",
       "      <th>0</th>\n",
       "      <td>School</td>\n",
       "      <td>1611196154637</td>\n",
       "      <td>Alameda</td>\n",
       "      <td>Alameda Unified</td>\n",
       "      <td>Advance College Academy</td>\n",
       "      <td>12</td>\n",
       "    </tr>\n",
       "    <tr>\n",
       "      <th>1</th>\n",
       "      <td>School</td>\n",
       "      <td>1611196933154</td>\n",
       "      <td>Alameda</td>\n",
       "      <td>Alameda Unified</td>\n",
       "      <td>Saint Joseph Notre Dame High School</td>\n",
       "      <td>12</td>\n",
       "    </tr>\n",
       "    <tr>\n",
       "      <th>2</th>\n",
       "      <td>School</td>\n",
       "      <td>1611196979140</td>\n",
       "      <td>Alameda</td>\n",
       "      <td>Alameda Unified</td>\n",
       "      <td>The Phillips Academy</td>\n",
       "      <td>12</td>\n",
       "    </tr>\n",
       "    <tr>\n",
       "      <th>3</th>\n",
       "      <td>School</td>\n",
       "      <td>1611276138044</td>\n",
       "      <td>Alameda</td>\n",
       "      <td>Albany City Unified</td>\n",
       "      <td>Tilden Preparatory School</td>\n",
       "      <td>12</td>\n",
       "    </tr>\n",
       "    <tr>\n",
       "      <th>4</th>\n",
       "      <td>School</td>\n",
       "      <td>1611430117002</td>\n",
       "      <td>Alameda</td>\n",
       "      <td>Berkeley Unified</td>\n",
       "      <td>Bayhill High</td>\n",
       "      <td>12</td>\n",
       "    </tr>\n",
       "  </tbody>\n",
       "</table>\n",
       "</div>"
      ],
      "text/plain": [
       "  Record Type       CDS Code   County             District  \\\n",
       "0      School  1611196154637  Alameda      Alameda Unified   \n",
       "1      School  1611196933154  Alameda      Alameda Unified   \n",
       "2      School  1611196979140  Alameda      Alameda Unified   \n",
       "3      School  1611276138044  Alameda  Albany City Unified   \n",
       "4      School  1611430117002  Alameda     Berkeley Unified   \n",
       "\n",
       "                                School  High Grade  \n",
       "0              Advance College Academy          12  \n",
       "1  Saint Joseph Notre Dame High School          12  \n",
       "2                 The Phillips Academy          12  \n",
       "3            Tilden Preparatory School          12  \n",
       "4                         Bayhill High          12  "
      ]
     },
     "execution_count": 147,
     "metadata": {},
     "output_type": "execute_result"
    }
   ],
   "source": [
    "df_private.head()"
   ]
  },
  {
   "cell_type": "code",
   "execution_count": 156,
   "metadata": {},
   "outputs": [],
   "source": [
    "df_private.rename(columns=col_dict_private, inplace=True)"
   ]
  },
  {
   "cell_type": "markdown",
   "metadata": {},
   "source": [
    "#\n",
    "#### Grab Private school names"
   ]
  },
  {
   "cell_type": "code",
   "execution_count": 148,
   "metadata": {},
   "outputs": [],
   "source": [
    "private_school_names = df_private['school'].to_list()"
   ]
  },
  {
   "cell_type": "code",
   "execution_count": 149,
   "metadata": {},
   "outputs": [
    {
     "name": "stdout",
     "output_type": "stream",
     "text": [
      "School name match\n",
      "         local_id  county_id  county_dist_id  school_id record_type  \\\n",
      "251  3.066431e+13       30.0       3066431.0  3030616.0           S   \n",
      "\n",
      "        school_name           dist_name county_name  enrollment_12  \\\n",
      "251  Oxford Academy  Anaheim Union High      Orange          200.0   \n",
      "\n",
      "     test_takers  avg_eng  pct_eng  avg_math  pct_math  abv_avg_both  \\\n",
      "251        113.0      113    100.0       106     93.81           106   \n",
      "\n",
      "     abv_pct_both  year  is_charter  \n",
      "251         93.81  2019           0  \n",
      "     Record Type        CDS Code      County                     District  \\\n",
      "1403      School  50712826161939  Stanislaus  Stanislaus Union Elementary   \n",
      "\n",
      "              School  High Grade  \n",
      "1403  Oxford Academy          12  \n",
      "1 possible private schools found\n"
     ]
    }
   ],
   "source": [
    "count = 0\n",
    "for school in df_sat_scho['school_name'].to_list():                 # cross reference school names in SAT dataset with column containing Private school names\n",
    "    if school in private_school_names:\n",
    "        count += 1\n",
    "        print(\"School name match found!\")\n",
    "        print(df_sat_scho[df_sat_scho['school_name'] == school])\n",
    "        print(df_private[df_private['school'] == school])\n",
    "\n",
    "print(f'{count} possible private schools found')"
   ]
  },
  {
   "cell_type": "markdown",
   "metadata": {},
   "source": [
    "##### Name match is in a different county. Can drop Private school data\n",
    "#\n",
    "#\n",
    "### No Private school name matches found. School data is all Public schools or Charters\n",
    "#### Private school data will not be used or kept"
   ]
  },
  {
   "cell_type": "markdown",
   "metadata": {},
   "source": [
    "#\n",
    "## Data Dictionary\n",
    "|Feature|Type|Dataset|Description|\n",
    "|---|---|---|---|\n",
    "|local_id|float|CA ACT|State assigned identifier: full|\n",
    "|county_id|float|CA ACT|State assigned identifier: county|\n",
    "|county_dist_id|float|CA ACT|State assigned identifier: district|\n",
    "|school_id|float|CA ACT|State assigned identifier: school|\n",
    "|record_type|object|CA ACT|State assigned categorical identifier|\n",
    "|school_name|object|CA ACT|Name of the school|\n",
    "|dist_name|object|CA ACT|Name of the school district|\n",
    "|county_name|object|CA ACT|Name of the county|\n",
    "|enrollment_12|float|CA ACT|Number of students enrolled in the school|\n",
    "|test_takers|float|CA ACT|Number of students that completed the ACT|\n",
    "|avg_read|int|CA ACT|Average ACT score of all students in sample for the Reading portion of the exam|\n",
    "|avg_eng|int|CA ACT|Average ACT score of all students in sample for the English portion of the exam|\n",
    "|avg_math|int|CA ACT|Average ACT score of all students in sample for the Math portion of the exam|\n",
    "|avg_sci|int|CA ACT|Average ACT score of all students in sample for the Science portion of the exam|\n",
    "|comp_score|float|CA ACT|Composite ACT score of all students in sample. Commonly referred to as, 'ACT score'|\n",
    "|abv_avg_num|int|CA ACT|Total number of students to record an ACT composite score at or above 21|\n",
    "|abv_avg_pct|float|CA ACT|Percentage of test takers to record an ACT composite score at or above 21 (percentage 10.3 = 10.3%)|\n",
    "|year|int|CA ACT|Year of exam|\n",
    "|is_charter|int|CA ACT|Charter school categorical identifier (1 = school is a Charter while 0 = school is not a Charter)|\n",
    "|local_id|float|CA SAT|State assigned identifier: full|\n",
    "|county_id|float|CA SAT|State assigned identifier: county|\n",
    "|county_dist_id|float|CA SAT|State assigned identifier: district|\n",
    "|school_id|float|CA SAT|State assigned identifier: school|\n",
    "|record_type|object|CA SAT|State assigned categorical identifier|\n",
    "|school_name|object|CA SAT|Name of the school|\n",
    "|dist_name|object|CA SAT|Name of the school district|\n",
    "|county_name|object|CA SAT|Name of the county|\n",
    "|enrollment_12|float|CA SAT|Number of students enrolled in the school|\n",
    "|test_takers|float|CA SAT|Number of students that completed the SAT|\n",
    "|avg_eng|int|CA SAT|Number of students at the school to score at least 480 on the English portion of the exam|\n",
    "|pct_eng|float|CA SAT|Percentage of test takers at the school to score at least 480 on the English portion of the exam (percentage 10.3 = 10.3%)|\n",
    "|avg_math|int|CA SAT|Number of students at the school to score at least 530 on the Math portion of the exam|\n",
    "|pct_math|float|CA SAT|Percentage of test takers at the school to score at least 530 on the Math portion of the exam (percentage 10.3 = 10.3%)|\n",
    "|abv_avg_both|int|CA SAT|Number of students at the school to score at least 480 on English and at least 530 on the Math portions of the exam|\n",
    "|abv_pct_both|float|CA SAT|Percentage of test takers at the school to score at least 480 on English and at least 530 on the Math portions of the exam (percentage 10.3 = 10.3%)|\n",
    "|year|int|CA SAT|Year of exam|\n",
    "|is_charter|int|CA SAT|Charter school categorical identifier (1 = school is a Charter while 0 = school is not a Charter)|\n",
    "|county_name|object|Housing Values|Name of the county|\n",
    "|med_home_value|int|Housing Values|Median home price of the county|\n",
    "|sat_score_range|object|SAT Score Distribution|Categorical range of SAT scores|\n",
    "|fips|int|FIPS|CA State assigned code for County classification. Used only for graphing|\n",
    "|county_name|object|FIPS|Name of the County|"
   ]
  },
  {
   "cell_type": "markdown",
   "metadata": {},
   "source": []
  }
 ],
 "metadata": {
  "interpreter": {
   "hash": "6aaf12f00e2accd7ab3a69f0361120d5b81b11b109d190d2913220c8ee37ccf8"
  },
  "kernelspec": {
   "display_name": "Python 3.9.7 64-bit ('base': conda)",
   "language": "python",
   "name": "python3"
  },
  "language_info": {
   "codemirror_mode": {
    "name": "ipython",
    "version": 3
   },
   "file_extension": ".py",
   "mimetype": "text/x-python",
   "name": "python",
   "nbconvert_exporter": "python",
   "pygments_lexer": "ipython3",
   "version": "3.9.7"
  },
  "orig_nbformat": 4
 },
 "nbformat": 4,
 "nbformat_minor": 2
}
