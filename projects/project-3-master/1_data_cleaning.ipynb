{
 "cells": [
  {
   "cell_type": "code",
   "execution_count": 403,
   "metadata": {},
   "outputs": [],
   "source": [
    "import pandas as pd\n",
    "import numpy as np\n",
    "import seaborn as sns\n",
    "import matplotlib.pyplot as plt\n",
    "import datetime as dt\n",
    "import time\n",
    "import requests\n",
    "import json\n",
    "from os.path import exists\n",
    "import ast"
   ]
  },
  {
   "cell_type": "code",
   "execution_count": 404,
   "metadata": {},
   "outputs": [
    {
     "name": "stderr",
     "output_type": "stream",
     "text": [
      "/Users/genebob/opt/anaconda3/lib/python3.9/site-packages/IPython/core/interactiveshell.py:3444: DtypeWarning: Columns (0,1,8,9,10,11,12,14,18,20,21,22,23,24,25,27,29,31,32,38,39,43,45,50,51,60,63) have mixed types.Specify dtype option on import or set low_memory=False.\n",
      "  exec(code_obj, self.user_global_ns, self.user_ns)\n",
      "/Users/genebob/opt/anaconda3/lib/python3.9/site-packages/IPython/core/interactiveshell.py:3444: DtypeWarning: Columns (31) have mixed types.Specify dtype option on import or set low_memory=False.\n",
      "  exec(code_obj, self.user_global_ns, self.user_ns)\n"
     ]
    }
   ],
   "source": [
    "df_onion = pd.read_csv('./datasets/theonion_submission.csv')\n",
    "df_news = pd.read_csv('./datasets/worldnews_submission.csv')"
   ]
  },
  {
   "cell_type": "code",
   "execution_count": 405,
   "metadata": {},
   "outputs": [
    {
     "data": {
      "text/html": [
       "<div>\n",
       "<style scoped>\n",
       "    .dataframe tbody tr th:only-of-type {\n",
       "        vertical-align: middle;\n",
       "    }\n",
       "\n",
       "    .dataframe tbody tr th {\n",
       "        vertical-align: top;\n",
       "    }\n",
       "\n",
       "    .dataframe thead th {\n",
       "        text-align: right;\n",
       "    }\n",
       "</style>\n",
       "<table border=\"1\" class=\"dataframe\">\n",
       "  <thead>\n",
       "    <tr style=\"text-align: right;\">\n",
       "      <th></th>\n",
       "      <th>all_awardings</th>\n",
       "      <th>allow_live_comments</th>\n",
       "      <th>author</th>\n",
       "      <th>author_flair_css_class</th>\n",
       "      <th>author_flair_richtext</th>\n",
       "      <th>author_flair_text</th>\n",
       "      <th>author_flair_type</th>\n",
       "      <th>author_fullname</th>\n",
       "      <th>author_is_blocked</th>\n",
       "      <th>author_patreon_flair</th>\n",
       "      <th>...</th>\n",
       "      <th>subreddit_subscribers</th>\n",
       "      <th>subreddit_type</th>\n",
       "      <th>thumbnail</th>\n",
       "      <th>title</th>\n",
       "      <th>total_awards_received</th>\n",
       "      <th>treatment_tags</th>\n",
       "      <th>upvote_ratio</th>\n",
       "      <th>url</th>\n",
       "      <th>whitelist_status</th>\n",
       "      <th>wls</th>\n",
       "    </tr>\n",
       "  </thead>\n",
       "  <tbody>\n",
       "    <tr>\n",
       "      <th>0</th>\n",
       "      <td>[]</td>\n",
       "      <td>False</td>\n",
       "      <td>dwaxe</td>\n",
       "      <td>NaN</td>\n",
       "      <td>[]</td>\n",
       "      <td>NaN</td>\n",
       "      <td>text</td>\n",
       "      <td>t2_3jamc</td>\n",
       "      <td>False</td>\n",
       "      <td>False</td>\n",
       "      <td>...</td>\n",
       "      <td>165678.0</td>\n",
       "      <td>public</td>\n",
       "      <td>https://b.thumbs.redditmedia.com/uaWyV5AYs281l...</td>\n",
       "      <td>New NFL-Military Partnership Sends First 1,000...</td>\n",
       "      <td>0.0</td>\n",
       "      <td>[]</td>\n",
       "      <td>1.0</td>\n",
       "      <td>https://www.theonion.com/new-nfl-military-part...</td>\n",
       "      <td>all_ads</td>\n",
       "      <td>6.0</td>\n",
       "    </tr>\n",
       "    <tr>\n",
       "      <th>1</th>\n",
       "      <td>[]</td>\n",
       "      <td>False</td>\n",
       "      <td>bwenstrand</td>\n",
       "      <td>NaN</td>\n",
       "      <td>[]</td>\n",
       "      <td>NaN</td>\n",
       "      <td>text</td>\n",
       "      <td>t2_eoh9tdr9</td>\n",
       "      <td>False</td>\n",
       "      <td>False</td>\n",
       "      <td>...</td>\n",
       "      <td>165665.0</td>\n",
       "      <td>public</td>\n",
       "      <td>https://a.thumbs.redditmedia.com/Usk1bZvpm3hXp...</td>\n",
       "      <td>Wha....</td>\n",
       "      <td>0.0</td>\n",
       "      <td>[]</td>\n",
       "      <td>1.0</td>\n",
       "      <td>https://i.redd.it/1pgkd0ib25d81.jpg</td>\n",
       "      <td>all_ads</td>\n",
       "      <td>6.0</td>\n",
       "    </tr>\n",
       "  </tbody>\n",
       "</table>\n",
       "<p>2 rows × 65 columns</p>\n",
       "</div>"
      ],
      "text/plain": [
       "  all_awardings allow_live_comments      author  author_flair_css_class  \\\n",
       "0            []               False       dwaxe                     NaN   \n",
       "1            []               False  bwenstrand                     NaN   \n",
       "\n",
       "  author_flair_richtext  author_flair_text author_flair_type author_fullname  \\\n",
       "0                    []                NaN              text        t2_3jamc   \n",
       "1                    []                NaN              text     t2_eoh9tdr9   \n",
       "\n",
       "  author_is_blocked author_patreon_flair  ... subreddit_subscribers  \\\n",
       "0             False                False  ...              165678.0   \n",
       "1             False                False  ...              165665.0   \n",
       "\n",
       "  subreddit_type                                          thumbnail  \\\n",
       "0         public  https://b.thumbs.redditmedia.com/uaWyV5AYs281l...   \n",
       "1         public  https://a.thumbs.redditmedia.com/Usk1bZvpm3hXp...   \n",
       "\n",
       "                                               title total_awards_received  \\\n",
       "0  New NFL-Military Partnership Sends First 1,000...                   0.0   \n",
       "1                                            Wha....                   0.0   \n",
       "\n",
       "   treatment_tags upvote_ratio  \\\n",
       "0              []          1.0   \n",
       "1              []          1.0   \n",
       "\n",
       "                                                 url whitelist_status  wls  \n",
       "0  https://www.theonion.com/new-nfl-military-part...          all_ads  6.0  \n",
       "1                https://i.redd.it/1pgkd0ib25d81.jpg          all_ads  6.0  \n",
       "\n",
       "[2 rows x 65 columns]"
      ]
     },
     "execution_count": 405,
     "metadata": {},
     "output_type": "execute_result"
    }
   ],
   "source": [
    "df_onion.head(2)"
   ]
  },
  {
   "cell_type": "code",
   "execution_count": 406,
   "metadata": {},
   "outputs": [
    {
     "data": {
      "text/html": [
       "<div>\n",
       "<style scoped>\n",
       "    .dataframe tbody tr th:only-of-type {\n",
       "        vertical-align: middle;\n",
       "    }\n",
       "\n",
       "    .dataframe tbody tr th {\n",
       "        vertical-align: top;\n",
       "    }\n",
       "\n",
       "    .dataframe thead th {\n",
       "        text-align: right;\n",
       "    }\n",
       "</style>\n",
       "<table border=\"1\" class=\"dataframe\">\n",
       "  <thead>\n",
       "    <tr style=\"text-align: right;\">\n",
       "      <th></th>\n",
       "      <th>all_awardings</th>\n",
       "      <th>allow_live_comments</th>\n",
       "      <th>author</th>\n",
       "      <th>author_flair_css_class</th>\n",
       "      <th>author_flair_richtext</th>\n",
       "      <th>author_flair_text</th>\n",
       "      <th>author_flair_type</th>\n",
       "      <th>author_fullname</th>\n",
       "      <th>author_is_blocked</th>\n",
       "      <th>author_patreon_flair</th>\n",
       "      <th>...</th>\n",
       "      <th>subreddit_subscribers</th>\n",
       "      <th>subreddit_type</th>\n",
       "      <th>thumbnail</th>\n",
       "      <th>title</th>\n",
       "      <th>total_awards_received</th>\n",
       "      <th>treatment_tags</th>\n",
       "      <th>upvote_ratio</th>\n",
       "      <th>url</th>\n",
       "      <th>whitelist_status</th>\n",
       "      <th>wls</th>\n",
       "    </tr>\n",
       "  </thead>\n",
       "  <tbody>\n",
       "    <tr>\n",
       "      <th>0</th>\n",
       "      <td>[]</td>\n",
       "      <td>False</td>\n",
       "      <td>Tomuch_Investigator6</td>\n",
       "      <td>NaN</td>\n",
       "      <td>[]</td>\n",
       "      <td>NaN</td>\n",
       "      <td>text</td>\n",
       "      <td>t2_9gqxne2j</td>\n",
       "      <td>False</td>\n",
       "      <td>False</td>\n",
       "      <td>...</td>\n",
       "      <td>27598846</td>\n",
       "      <td>public</td>\n",
       "      <td>default</td>\n",
       "      <td>Somaliland Shows Its Gratitude to UK MPs</td>\n",
       "      <td>0</td>\n",
       "      <td>[]</td>\n",
       "      <td>1.0</td>\n",
       "      <td>https://menafn.com/1103578075/Somaliland-Shows...</td>\n",
       "      <td>all_ads</td>\n",
       "      <td>6</td>\n",
       "    </tr>\n",
       "    <tr>\n",
       "      <th>1</th>\n",
       "      <td>[]</td>\n",
       "      <td>False</td>\n",
       "      <td>x0y1</td>\n",
       "      <td>NaN</td>\n",
       "      <td>[]</td>\n",
       "      <td>NaN</td>\n",
       "      <td>text</td>\n",
       "      <td>t2_gg6rt</td>\n",
       "      <td>False</td>\n",
       "      <td>False</td>\n",
       "      <td>...</td>\n",
       "      <td>27598812</td>\n",
       "      <td>public</td>\n",
       "      <td>default</td>\n",
       "      <td>Chinese provincial officials concealed scores ...</td>\n",
       "      <td>0</td>\n",
       "      <td>[]</td>\n",
       "      <td>1.0</td>\n",
       "      <td>https://www.theguardian.com/world/2022/jan/23/...</td>\n",
       "      <td>all_ads</td>\n",
       "      <td>6</td>\n",
       "    </tr>\n",
       "  </tbody>\n",
       "</table>\n",
       "<p>2 rows × 65 columns</p>\n",
       "</div>"
      ],
      "text/plain": [
       "  all_awardings  allow_live_comments                author  \\\n",
       "0            []                False  Tomuch_Investigator6   \n",
       "1            []                False                  x0y1   \n",
       "\n",
       "  author_flair_css_class author_flair_richtext author_flair_text  \\\n",
       "0                    NaN                    []               NaN   \n",
       "1                    NaN                    []               NaN   \n",
       "\n",
       "  author_flair_type author_fullname  author_is_blocked author_patreon_flair  \\\n",
       "0              text     t2_9gqxne2j              False                False   \n",
       "1              text        t2_gg6rt              False                False   \n",
       "\n",
       "   ... subreddit_subscribers subreddit_type  thumbnail  \\\n",
       "0  ...              27598846         public    default   \n",
       "1  ...              27598812         public    default   \n",
       "\n",
       "                                               title  total_awards_received  \\\n",
       "0           Somaliland Shows Its Gratitude to UK MPs                      0   \n",
       "1  Chinese provincial officials concealed scores ...                      0   \n",
       "\n",
       "   treatment_tags upvote_ratio  \\\n",
       "0              []          1.0   \n",
       "1              []          1.0   \n",
       "\n",
       "                                                 url whitelist_status wls  \n",
       "0  https://menafn.com/1103578075/Somaliland-Shows...          all_ads   6  \n",
       "1  https://www.theguardian.com/world/2022/jan/23/...          all_ads   6  \n",
       "\n",
       "[2 rows x 65 columns]"
      ]
     },
     "execution_count": 406,
     "metadata": {},
     "output_type": "execute_result"
    }
   ],
   "source": [
    "df_news.head(2)"
   ]
  },
  {
   "cell_type": "code",
   "execution_count": 407,
   "metadata": {},
   "outputs": [],
   "source": [
    "data = pd.concat([df_onion, df_news])"
   ]
  },
  {
   "cell_type": "code",
   "execution_count": 408,
   "metadata": {},
   "outputs": [],
   "source": [
    "data.reset_index(drop=True, inplace=True)"
   ]
  },
  {
   "cell_type": "code",
   "execution_count": 409,
   "metadata": {},
   "outputs": [
    {
     "data": {
      "text/plain": [
       "(39670, 65)"
      ]
     },
     "execution_count": 409,
     "metadata": {},
     "output_type": "execute_result"
    }
   ],
   "source": [
    "data.shape"
   ]
  },
  {
   "cell_type": "markdown",
   "metadata": {},
   "source": [
    "# Data Examination"
   ]
  },
  {
   "cell_type": "code",
   "execution_count": 410,
   "metadata": {},
   "outputs": [
    {
     "data": {
      "text/html": [
       "<div>\n",
       "<style scoped>\n",
       "    .dataframe tbody tr th:only-of-type {\n",
       "        vertical-align: middle;\n",
       "    }\n",
       "\n",
       "    .dataframe tbody tr th {\n",
       "        vertical-align: top;\n",
       "    }\n",
       "\n",
       "    .dataframe thead th {\n",
       "        text-align: right;\n",
       "    }\n",
       "</style>\n",
       "<table border=\"1\" class=\"dataframe\">\n",
       "  <thead>\n",
       "    <tr style=\"text-align: right;\">\n",
       "      <th></th>\n",
       "      <th>all_awardings</th>\n",
       "      <th>allow_live_comments</th>\n",
       "      <th>author</th>\n",
       "      <th>author_flair_css_class</th>\n",
       "      <th>author_flair_richtext</th>\n",
       "      <th>author_flair_text</th>\n",
       "      <th>author_flair_type</th>\n",
       "      <th>author_fullname</th>\n",
       "      <th>author_is_blocked</th>\n",
       "      <th>author_patreon_flair</th>\n",
       "      <th>...</th>\n",
       "      <th>subreddit_subscribers</th>\n",
       "      <th>subreddit_type</th>\n",
       "      <th>thumbnail</th>\n",
       "      <th>title</th>\n",
       "      <th>total_awards_received</th>\n",
       "      <th>treatment_tags</th>\n",
       "      <th>upvote_ratio</th>\n",
       "      <th>url</th>\n",
       "      <th>whitelist_status</th>\n",
       "      <th>wls</th>\n",
       "    </tr>\n",
       "  </thead>\n",
       "  <tbody>\n",
       "    <tr>\n",
       "      <th>263</th>\n",
       "      <td>[{'award_sub_type': 'GLOBAL', 'award_type': 'g...</td>\n",
       "      <td>False</td>\n",
       "      <td>mothershipq</td>\n",
       "      <td>NaN</td>\n",
       "      <td>[]</td>\n",
       "      <td>NaN</td>\n",
       "      <td>text</td>\n",
       "      <td>t2_4negm</td>\n",
       "      <td>False</td>\n",
       "      <td>False</td>\n",
       "      <td>...</td>\n",
       "      <td>164977.0</td>\n",
       "      <td>public</td>\n",
       "      <td>https://b.thumbs.redditmedia.com/DXfr6UbDKGfsV...</td>\n",
       "      <td>Study Finds 87% Of Home Invasions Foiled After...</td>\n",
       "      <td>1.0</td>\n",
       "      <td>[]</td>\n",
       "      <td>0.99</td>\n",
       "      <td>https://www.theonion.com/study-finds-87-of-hom...</td>\n",
       "      <td>all_ads</td>\n",
       "      <td>6.0</td>\n",
       "    </tr>\n",
       "    <tr>\n",
       "      <th>266</th>\n",
       "      <td>[{'award_sub_type': 'GLOBAL', 'award_type': 'g...</td>\n",
       "      <td>False</td>\n",
       "      <td>TheGuvnor247</td>\n",
       "      <td>NaN</td>\n",
       "      <td>[]</td>\n",
       "      <td>NaN</td>\n",
       "      <td>text</td>\n",
       "      <td>t2_7y15a5ro</td>\n",
       "      <td>False</td>\n",
       "      <td>False</td>\n",
       "      <td>...</td>\n",
       "      <td>164971.0</td>\n",
       "      <td>public</td>\n",
       "      <td>https://b.thumbs.redditmedia.com/MkBPjhpw4CHXM...</td>\n",
       "      <td>Australia Drunkest Country In World</td>\n",
       "      <td>1.0</td>\n",
       "      <td>[]</td>\n",
       "      <td>0.84</td>\n",
       "      <td>https://www.theonion.com/australia-drunkest-co...</td>\n",
       "      <td>all_ads</td>\n",
       "      <td>6.0</td>\n",
       "    </tr>\n",
       "    <tr>\n",
       "      <th>658</th>\n",
       "      <td>[{'award_sub_type': 'GLOBAL', 'award_type': 'g...</td>\n",
       "      <td>True</td>\n",
       "      <td>ThatsMyPhoenix</td>\n",
       "      <td>NaN</td>\n",
       "      <td>[]</td>\n",
       "      <td>NaN</td>\n",
       "      <td>text</td>\n",
       "      <td>t2_59eey4yx</td>\n",
       "      <td>False</td>\n",
       "      <td>False</td>\n",
       "      <td>...</td>\n",
       "      <td>163204.0</td>\n",
       "      <td>public</td>\n",
       "      <td>https://b.thumbs.redditmedia.com/1i4Ripy1axxmQ...</td>\n",
       "      <td>OnlyFans CEO Admits Decision To Ban Pornograph...</td>\n",
       "      <td>1.0</td>\n",
       "      <td>[]</td>\n",
       "      <td>0.98</td>\n",
       "      <td>https://www.theonion.com/onlyfans-ceo-admits-d...</td>\n",
       "      <td>all_ads</td>\n",
       "      <td>6.0</td>\n",
       "    </tr>\n",
       "    <tr>\n",
       "      <th>1258</th>\n",
       "      <td>[{'award_sub_type': 'GLOBAL', 'award_type': 'g...</td>\n",
       "      <td>False</td>\n",
       "      <td>ThatsMyPhoenix</td>\n",
       "      <td>NaN</td>\n",
       "      <td>[]</td>\n",
       "      <td>NaN</td>\n",
       "      <td>text</td>\n",
       "      <td>t2_59eey4yx</td>\n",
       "      <td>NaN</td>\n",
       "      <td>False</td>\n",
       "      <td>...</td>\n",
       "      <td>159294.0</td>\n",
       "      <td>public</td>\n",
       "      <td>https://a.thumbs.redditmedia.com/ExY7bl_u1bzL0...</td>\n",
       "      <td>Covid Announces Plan To Move Operations To Tex...</td>\n",
       "      <td>3.0</td>\n",
       "      <td>[]</td>\n",
       "      <td>0.98</td>\n",
       "      <td>https://www.theonion.com/covid-announces-plan-...</td>\n",
       "      <td>all_ads</td>\n",
       "      <td>6.0</td>\n",
       "    </tr>\n",
       "    <tr>\n",
       "      <th>1262</th>\n",
       "      <td>[{'award_sub_type': 'PREMIUM', 'award_type': '...</td>\n",
       "      <td>False</td>\n",
       "      <td>ThatsMyPhoenix</td>\n",
       "      <td>NaN</td>\n",
       "      <td>[]</td>\n",
       "      <td>NaN</td>\n",
       "      <td>text</td>\n",
       "      <td>t2_59eey4yx</td>\n",
       "      <td>NaN</td>\n",
       "      <td>False</td>\n",
       "      <td>...</td>\n",
       "      <td>159270.0</td>\n",
       "      <td>public</td>\n",
       "      <td>https://a.thumbs.redditmedia.com/YCxDjYAoyjblY...</td>\n",
       "      <td>Texas Governor Announces State’s Morgues Now A...</td>\n",
       "      <td>3.0</td>\n",
       "      <td>[]</td>\n",
       "      <td>0.97</td>\n",
       "      <td>https://www.theonion.com/texas-governor-announ...</td>\n",
       "      <td>all_ads</td>\n",
       "      <td>6.0</td>\n",
       "    </tr>\n",
       "    <tr>\n",
       "      <th>...</th>\n",
       "      <td>...</td>\n",
       "      <td>...</td>\n",
       "      <td>...</td>\n",
       "      <td>...</td>\n",
       "      <td>...</td>\n",
       "      <td>...</td>\n",
       "      <td>...</td>\n",
       "      <td>...</td>\n",
       "      <td>...</td>\n",
       "      <td>...</td>\n",
       "      <td>...</td>\n",
       "      <td>...</td>\n",
       "      <td>...</td>\n",
       "      <td>...</td>\n",
       "      <td>...</td>\n",
       "      <td>...</td>\n",
       "      <td>...</td>\n",
       "      <td>...</td>\n",
       "      <td>...</td>\n",
       "      <td>...</td>\n",
       "      <td>...</td>\n",
       "    </tr>\n",
       "    <tr>\n",
       "      <th>34370</th>\n",
       "      <td>[{'award_sub_type': 'GLOBAL', 'award_type': 'g...</td>\n",
       "      <td>False</td>\n",
       "      <td>Homer89</td>\n",
       "      <td>NaN</td>\n",
       "      <td>[]</td>\n",
       "      <td>NaN</td>\n",
       "      <td>text</td>\n",
       "      <td>t2_62oqu</td>\n",
       "      <td>False</td>\n",
       "      <td>False</td>\n",
       "      <td>...</td>\n",
       "      <td>27307630.0</td>\n",
       "      <td>public</td>\n",
       "      <td>default</td>\n",
       "      <td>Rohingya refugees from Myanmar sue Facebook fo...</td>\n",
       "      <td>4.0</td>\n",
       "      <td>[]</td>\n",
       "      <td>0.95</td>\n",
       "      <td>https://www.cbc.ca/news/business/rohingya-refu...</td>\n",
       "      <td>all_ads</td>\n",
       "      <td>6.0</td>\n",
       "    </tr>\n",
       "    <tr>\n",
       "      <th>34395</th>\n",
       "      <td>[{'award_sub_type': 'GLOBAL', 'award_type': 'g...</td>\n",
       "      <td>True</td>\n",
       "      <td>YYssuu</td>\n",
       "      <td>NaN</td>\n",
       "      <td>[]</td>\n",
       "      <td>NaN</td>\n",
       "      <td>text</td>\n",
       "      <td>t2_za28m</td>\n",
       "      <td>False</td>\n",
       "      <td>False</td>\n",
       "      <td>...</td>\n",
       "      <td>27307520.0</td>\n",
       "      <td>public</td>\n",
       "      <td>default</td>\n",
       "      <td>Tokyo governor to make same-sex partnerships l...</td>\n",
       "      <td>9.0</td>\n",
       "      <td>[]</td>\n",
       "      <td>0.94</td>\n",
       "      <td>https://www.reuters.com/world/asia-pacific/tok...</td>\n",
       "      <td>all_ads</td>\n",
       "      <td>6.0</td>\n",
       "    </tr>\n",
       "    <tr>\n",
       "      <th>34414</th>\n",
       "      <td>[{'award_sub_type': 'GLOBAL', 'award_type': 'g...</td>\n",
       "      <td>True</td>\n",
       "      <td>Ronitn</td>\n",
       "      <td>NaN</td>\n",
       "      <td>[]</td>\n",
       "      <td>NaN</td>\n",
       "      <td>text</td>\n",
       "      <td>t2_15allh</td>\n",
       "      <td>False</td>\n",
       "      <td>False</td>\n",
       "      <td>...</td>\n",
       "      <td>27307189.0</td>\n",
       "      <td>public</td>\n",
       "      <td>default</td>\n",
       "      <td>India revokes patent for PepsiCo’s Lay’s potat...</td>\n",
       "      <td>1.0</td>\n",
       "      <td>[]</td>\n",
       "      <td>0.96</td>\n",
       "      <td>https://moratmarit.com/2021/12/india-revokes-p...</td>\n",
       "      <td>all_ads</td>\n",
       "      <td>6.0</td>\n",
       "    </tr>\n",
       "    <tr>\n",
       "      <th>34415</th>\n",
       "      <td>[{'award_sub_type': 'GLOBAL', 'award_type': 'g...</td>\n",
       "      <td>True</td>\n",
       "      <td>slashd</td>\n",
       "      <td>NaN</td>\n",
       "      <td>[]</td>\n",
       "      <td>NaN</td>\n",
       "      <td>text</td>\n",
       "      <td>t2_33mee</td>\n",
       "      <td>False</td>\n",
       "      <td>False</td>\n",
       "      <td>...</td>\n",
       "      <td>27307188.0</td>\n",
       "      <td>public</td>\n",
       "      <td>default</td>\n",
       "      <td>Taliban gunmen steal tonnes of Australian food...</td>\n",
       "      <td>2.0</td>\n",
       "      <td>[]</td>\n",
       "      <td>0.94</td>\n",
       "      <td>https://www.dailymail.co.uk/news/article-10283...</td>\n",
       "      <td>all_ads</td>\n",
       "      <td>6.0</td>\n",
       "    </tr>\n",
       "    <tr>\n",
       "      <th>34436</th>\n",
       "      <td>[{'award_sub_type': 'GLOBAL', 'award_type': 'g...</td>\n",
       "      <td>True</td>\n",
       "      <td>agnclay</td>\n",
       "      <td>NaN</td>\n",
       "      <td>[]</td>\n",
       "      <td>NaN</td>\n",
       "      <td>text</td>\n",
       "      <td>t2_h53w44s2</td>\n",
       "      <td>False</td>\n",
       "      <td>False</td>\n",
       "      <td>...</td>\n",
       "      <td>27306958.0</td>\n",
       "      <td>public</td>\n",
       "      <td>default</td>\n",
       "      <td>Indonesian court refuses to reinstate permits ...</td>\n",
       "      <td>51.0</td>\n",
       "      <td>[]</td>\n",
       "      <td>0.95</td>\n",
       "      <td>https://www.aljazeera.com/economy/2021/12/7/in...</td>\n",
       "      <td>all_ads</td>\n",
       "      <td>6.0</td>\n",
       "    </tr>\n",
       "  </tbody>\n",
       "</table>\n",
       "<p>11067 rows × 65 columns</p>\n",
       "</div>"
      ],
      "text/plain": [
       "                                           all_awardings allow_live_comments  \\\n",
       "263    [{'award_sub_type': 'GLOBAL', 'award_type': 'g...               False   \n",
       "266    [{'award_sub_type': 'GLOBAL', 'award_type': 'g...               False   \n",
       "658    [{'award_sub_type': 'GLOBAL', 'award_type': 'g...                True   \n",
       "1258   [{'award_sub_type': 'GLOBAL', 'award_type': 'g...               False   \n",
       "1262   [{'award_sub_type': 'PREMIUM', 'award_type': '...               False   \n",
       "...                                                  ...                 ...   \n",
       "34370  [{'award_sub_type': 'GLOBAL', 'award_type': 'g...               False   \n",
       "34395  [{'award_sub_type': 'GLOBAL', 'award_type': 'g...                True   \n",
       "34414  [{'award_sub_type': 'GLOBAL', 'award_type': 'g...                True   \n",
       "34415  [{'award_sub_type': 'GLOBAL', 'award_type': 'g...                True   \n",
       "34436  [{'award_sub_type': 'GLOBAL', 'award_type': 'g...                True   \n",
       "\n",
       "               author author_flair_css_class author_flair_richtext  \\\n",
       "263       mothershipq                    NaN                    []   \n",
       "266      TheGuvnor247                    NaN                    []   \n",
       "658    ThatsMyPhoenix                    NaN                    []   \n",
       "1258   ThatsMyPhoenix                    NaN                    []   \n",
       "1262   ThatsMyPhoenix                    NaN                    []   \n",
       "...               ...                    ...                   ...   \n",
       "34370         Homer89                    NaN                    []   \n",
       "34395          YYssuu                    NaN                    []   \n",
       "34414          Ronitn                    NaN                    []   \n",
       "34415          slashd                    NaN                    []   \n",
       "34436         agnclay                    NaN                    []   \n",
       "\n",
       "      author_flair_text author_flair_type author_fullname author_is_blocked  \\\n",
       "263                 NaN              text        t2_4negm             False   \n",
       "266                 NaN              text     t2_7y15a5ro             False   \n",
       "658                 NaN              text     t2_59eey4yx             False   \n",
       "1258                NaN              text     t2_59eey4yx               NaN   \n",
       "1262                NaN              text     t2_59eey4yx               NaN   \n",
       "...                 ...               ...             ...               ...   \n",
       "34370               NaN              text        t2_62oqu             False   \n",
       "34395               NaN              text        t2_za28m             False   \n",
       "34414               NaN              text       t2_15allh             False   \n",
       "34415               NaN              text        t2_33mee             False   \n",
       "34436               NaN              text     t2_h53w44s2             False   \n",
       "\n",
       "      author_patreon_flair  ... subreddit_subscribers subreddit_type  \\\n",
       "263                  False  ...              164977.0         public   \n",
       "266                  False  ...              164971.0         public   \n",
       "658                  False  ...              163204.0         public   \n",
       "1258                 False  ...              159294.0         public   \n",
       "1262                 False  ...              159270.0         public   \n",
       "...                    ...  ...                   ...            ...   \n",
       "34370                False  ...            27307630.0         public   \n",
       "34395                False  ...            27307520.0         public   \n",
       "34414                False  ...            27307189.0         public   \n",
       "34415                False  ...            27307188.0         public   \n",
       "34436                False  ...            27306958.0         public   \n",
       "\n",
       "                                               thumbnail  \\\n",
       "263    https://b.thumbs.redditmedia.com/DXfr6UbDKGfsV...   \n",
       "266    https://b.thumbs.redditmedia.com/MkBPjhpw4CHXM...   \n",
       "658    https://b.thumbs.redditmedia.com/1i4Ripy1axxmQ...   \n",
       "1258   https://a.thumbs.redditmedia.com/ExY7bl_u1bzL0...   \n",
       "1262   https://a.thumbs.redditmedia.com/YCxDjYAoyjblY...   \n",
       "...                                                  ...   \n",
       "34370                                            default   \n",
       "34395                                            default   \n",
       "34414                                            default   \n",
       "34415                                            default   \n",
       "34436                                            default   \n",
       "\n",
       "                                                   title  \\\n",
       "263    Study Finds 87% Of Home Invasions Foiled After...   \n",
       "266                  Australia Drunkest Country In World   \n",
       "658    OnlyFans CEO Admits Decision To Ban Pornograph...   \n",
       "1258   Covid Announces Plan To Move Operations To Tex...   \n",
       "1262   Texas Governor Announces State’s Morgues Now A...   \n",
       "...                                                  ...   \n",
       "34370  Rohingya refugees from Myanmar sue Facebook fo...   \n",
       "34395  Tokyo governor to make same-sex partnerships l...   \n",
       "34414  India revokes patent for PepsiCo’s Lay’s potat...   \n",
       "34415  Taliban gunmen steal tonnes of Australian food...   \n",
       "34436  Indonesian court refuses to reinstate permits ...   \n",
       "\n",
       "      total_awards_received  treatment_tags upvote_ratio  \\\n",
       "263                     1.0              []         0.99   \n",
       "266                     1.0              []         0.84   \n",
       "658                     1.0              []         0.98   \n",
       "1258                    3.0              []         0.98   \n",
       "1262                    3.0              []         0.97   \n",
       "...                     ...             ...          ...   \n",
       "34370                   4.0              []         0.95   \n",
       "34395                   9.0              []         0.94   \n",
       "34414                   1.0              []         0.96   \n",
       "34415                   2.0              []         0.94   \n",
       "34436                  51.0              []         0.95   \n",
       "\n",
       "                                                     url whitelist_status  wls  \n",
       "263    https://www.theonion.com/study-finds-87-of-hom...          all_ads  6.0  \n",
       "266    https://www.theonion.com/australia-drunkest-co...          all_ads  6.0  \n",
       "658    https://www.theonion.com/onlyfans-ceo-admits-d...          all_ads  6.0  \n",
       "1258   https://www.theonion.com/covid-announces-plan-...          all_ads  6.0  \n",
       "1262   https://www.theonion.com/texas-governor-announ...          all_ads  6.0  \n",
       "...                                                  ...              ...  ...  \n",
       "34370  https://www.cbc.ca/news/business/rohingya-refu...          all_ads  6.0  \n",
       "34395  https://www.reuters.com/world/asia-pacific/tok...          all_ads  6.0  \n",
       "34414  https://moratmarit.com/2021/12/india-revokes-p...          all_ads  6.0  \n",
       "34415  https://www.dailymail.co.uk/news/article-10283...          all_ads  6.0  \n",
       "34436  https://www.aljazeera.com/economy/2021/12/7/in...          all_ads  6.0  \n",
       "\n",
       "[11067 rows x 65 columns]"
      ]
     },
     "execution_count": 410,
     "metadata": {},
     "output_type": "execute_result"
    }
   ],
   "source": [
    "data[data['all_awardings']!='[]']"
   ]
  },
  {
   "cell_type": "code",
   "execution_count": 411,
   "metadata": {},
   "outputs": [],
   "source": [
    "# ast.literal_eval(data['all_awardings'].iat[263])"
   ]
  },
  {
   "cell_type": "code",
   "execution_count": 412,
   "metadata": {},
   "outputs": [],
   "source": [
    "# def col_clean(value):\n",
    "#     try:\n",
    "#         clean_val = ast.literal_eval(str(value))\n",
    "#         if str(clean_val) == str([]):\n",
    "#             return 'empty'\n",
    "#         else:\n",
    "#             return clean_val\n",
    "#     except:\n",
    "#         return 'empty'"
   ]
  },
  {
   "cell_type": "code",
   "execution_count": 413,
   "metadata": {},
   "outputs": [],
   "source": [
    "# data['all_awardings2'] = data['all_awardings'].map(col_clean)"
   ]
  },
  {
   "cell_type": "code",
   "execution_count": 414,
   "metadata": {},
   "outputs": [],
   "source": [
    "# data[data['all_awardings2'] != 'empty']"
   ]
  },
  {
   "cell_type": "code",
   "execution_count": 415,
   "metadata": {},
   "outputs": [
    {
     "data": {
      "text/plain": [
       "Index(['all_awardings', 'allow_live_comments', 'author',\n",
       "       'author_flair_css_class', 'author_flair_richtext', 'author_flair_text',\n",
       "       'author_flair_type', 'author_fullname', 'author_is_blocked',\n",
       "       'author_patreon_flair', 'author_premium', 'awarders', 'can_mod_post',\n",
       "       'content_categories', 'contest_mode', 'created_utc', 'domain',\n",
       "       'full_link', 'gildings', 'id', 'is_created_from_ads_ui',\n",
       "       'is_crosspostable', 'is_meta', 'is_original_content',\n",
       "       'is_reddit_media_domain', 'is_robot_indexable', 'is_self', 'is_video',\n",
       "       'link_flair_background_color', 'link_flair_css_class',\n",
       "       'link_flair_richtext', 'link_flair_template_id', 'link_flair_text',\n",
       "       'link_flair_text_color', 'link_flair_type', 'locked', 'media',\n",
       "       'media_embed', 'media_only', 'no_follow', 'num_comments',\n",
       "       'num_crossposts', 'over_18', 'parent_whitelist_status', 'permalink',\n",
       "       'pinned', 'pwls', 'retrieved_on', 'score', 'selftext', 'send_replies',\n",
       "       'spoiler', 'stickied', 'subreddit', 'subreddit_id',\n",
       "       'subreddit_subscribers', 'subreddit_type', 'thumbnail', 'title',\n",
       "       'total_awards_received', 'treatment_tags', 'upvote_ratio', 'url',\n",
       "       'whitelist_status', 'wls'],\n",
       "      dtype='object')"
      ]
     },
     "execution_count": 415,
     "metadata": {},
     "output_type": "execute_result"
    }
   ],
   "source": [
    "data.columns"
   ]
  },
  {
   "cell_type": "code",
   "execution_count": 416,
   "metadata": {},
   "outputs": [
    {
     "data": {
      "text/plain": [
       "<AxesSubplot:>"
      ]
     },
     "execution_count": 416,
     "metadata": {},
     "output_type": "execute_result"
    },
    {
     "data": {
      "image/png": "[encoded data removed]",
      "text/plain": [
       "<Figure size 432x288 with 1 Axes>"
      ]
     },
     "metadata": {
      "needs_background": "light"
     },
     "output_type": "display_data"
    }
   ],
   "source": [
    "data['total_awards_received'].hist(bins=5)"
   ]
  },
  {
   "cell_type": "code",
   "execution_count": 417,
   "metadata": {},
   "outputs": [
    {
     "data": {
      "text/plain": [
       "<AxesSubplot:>"
      ]
     },
     "execution_count": 417,
     "metadata": {},
     "output_type": "execute_result"
    },
    {
     "data": {
      "image/png": "[encoded data removed]",
      "text/plain": [
       "<Figure size 432x288 with 1 Axes>"
      ]
     },
     "metadata": {
      "needs_background": "light"
     },
     "output_type": "display_data"
    }
   ],
   "source": [
    "data[data['total_awards_received'] > 0]['total_awards_received'].hist(bins=5)"
   ]
  },
  {
   "cell_type": "markdown",
   "metadata": {},
   "source": [
    "A very small number of posts have one or more awards. It is likely safe to drop award specific features from our data."
   ]
  },
  {
   "cell_type": "code",
   "execution_count": 418,
   "metadata": {},
   "outputs": [],
   "source": [
    "data_clean = data.drop(columns=['all_awardings'])"
   ]
  },
  {
   "cell_type": "code",
   "execution_count": 419,
   "metadata": {},
   "outputs": [
    {
     "data": {
      "text/plain": [
       "False    0.991551\n",
       "True     0.008449\n",
       "Name: allow_live_comments, dtype: float64"
      ]
     },
     "execution_count": 419,
     "metadata": {},
     "output_type": "execute_result"
    }
   ],
   "source": [
    "data['allow_live_comments'].value_counts(normalize=True)"
   ]
  },
  {
   "cell_type": "code",
   "execution_count": 420,
   "metadata": {},
   "outputs": [
    {
     "data": {
      "text/plain": [
       "<AxesSubplot:>"
      ]
     },
     "execution_count": 420,
     "metadata": {},
     "output_type": "execute_result"
    },
    {
     "data": {
      "image/png": "[encoded data removed]",
      "text/plain": [
       "<Figure size 432x288 with 1 Axes>"
      ]
     },
     "metadata": {
      "needs_background": "light"
     },
     "output_type": "display_data"
    }
   ],
   "source": [
    "data['allow_live_comments'].map({True: 1, False: 0}).hist(bins=2)"
   ]
  },
  {
   "cell_type": "markdown",
   "metadata": {},
   "source": [
    "Not going to find much signal in 'allow live comments'. Safe to drop."
   ]
  },
  {
   "cell_type": "code",
   "execution_count": 421,
   "metadata": {},
   "outputs": [],
   "source": [
    "data_clean.drop(columns='allow_live_comments', inplace=True)"
   ]
  },
  {
   "cell_type": "code",
   "execution_count": 422,
   "metadata": {},
   "outputs": [
    {
     "data": {
      "text/html": [
       "<div>\n",
       "<style scoped>\n",
       "    .dataframe tbody tr th:only-of-type {\n",
       "        vertical-align: middle;\n",
       "    }\n",
       "\n",
       "    .dataframe tbody tr th {\n",
       "        vertical-align: top;\n",
       "    }\n",
       "\n",
       "    .dataframe thead th {\n",
       "        text-align: right;\n",
       "    }\n",
       "</style>\n",
       "<table border=\"1\" class=\"dataframe\">\n",
       "  <thead>\n",
       "    <tr style=\"text-align: right;\">\n",
       "      <th></th>\n",
       "      <th>author</th>\n",
       "    </tr>\n",
       "    <tr>\n",
       "      <th>subreddit</th>\n",
       "      <th></th>\n",
       "    </tr>\n",
       "  </thead>\n",
       "  <tbody>\n",
       "    <tr>\n",
       "      <th>TheOnion</th>\n",
       "      <td>1890</td>\n",
       "    </tr>\n",
       "    <tr>\n",
       "      <th>worldnews</th>\n",
       "      <td>6401</td>\n",
       "    </tr>\n",
       "  </tbody>\n",
       "</table>\n",
       "</div>"
      ],
      "text/plain": [
       "           author\n",
       "subreddit        \n",
       "TheOnion     1890\n",
       "worldnews    6401"
      ]
     },
     "execution_count": 422,
     "metadata": {},
     "output_type": "execute_result"
    }
   ],
   "source": [
    "data[['author', 'subreddit']].groupby(by='subreddit').nunique()"
   ]
  },
  {
   "cell_type": "markdown",
   "metadata": {},
   "source": [
    "Author could have some value, but it is possible we could be 'cheating' by passing author. Will keep, for now."
   ]
  },
  {
   "cell_type": "code",
   "execution_count": 423,
   "metadata": {},
   "outputs": [
    {
     "data": {
      "text/plain": [
       "<AxesSubplot:>"
      ]
     },
     "execution_count": 423,
     "metadata": {},
     "output_type": "execute_result"
    },
    {
     "data": {
      "image/png": "[encoded data removed]",
      "text/plain": [
       "<Figure size 432x288 with 1 Axes>"
      ]
     },
     "metadata": {
      "needs_background": "light"
     },
     "output_type": "display_data"
    }
   ],
   "source": [
    "data['author_flair_css_class'].hist()"
   ]
  },
  {
   "cell_type": "markdown",
   "metadata": {},
   "source": [
    "Not enough hits to have signal."
   ]
  },
  {
   "cell_type": "code",
   "execution_count": 424,
   "metadata": {},
   "outputs": [],
   "source": [
    "data_clean.drop(columns=['author_flair_css_class'], inplace=True)"
   ]
  },
  {
   "cell_type": "code",
   "execution_count": 425,
   "metadata": {},
   "outputs": [
    {
     "data": {
      "text/plain": [
       "Index(['author', 'author_flair_richtext', 'author_flair_text',\n",
       "       'author_flair_type', 'author_fullname', 'author_is_blocked',\n",
       "       'author_patreon_flair', 'author_premium', 'awarders', 'can_mod_post',\n",
       "       'content_categories', 'contest_mode', 'created_utc', 'domain',\n",
       "       'full_link', 'gildings', 'id', 'is_created_from_ads_ui',\n",
       "       'is_crosspostable', 'is_meta', 'is_original_content',\n",
       "       'is_reddit_media_domain', 'is_robot_indexable', 'is_self', 'is_video',\n",
       "       'link_flair_background_color', 'link_flair_css_class',\n",
       "       'link_flair_richtext', 'link_flair_template_id', 'link_flair_text',\n",
       "       'link_flair_text_color', 'link_flair_type', 'locked', 'media',\n",
       "       'media_embed', 'media_only', 'no_follow', 'num_comments',\n",
       "       'num_crossposts', 'over_18', 'parent_whitelist_status', 'permalink',\n",
       "       'pinned', 'pwls', 'retrieved_on', 'score', 'selftext', 'send_replies',\n",
       "       'spoiler', 'stickied', 'subreddit', 'subreddit_id',\n",
       "       'subreddit_subscribers', 'subreddit_type', 'thumbnail', 'title',\n",
       "       'total_awards_received', 'treatment_tags', 'upvote_ratio', 'url',\n",
       "       'whitelist_status', 'wls'],\n",
       "      dtype='object')"
      ]
     },
     "execution_count": 425,
     "metadata": {},
     "output_type": "execute_result"
    }
   ],
   "source": [
    "data_clean.columns"
   ]
  },
  {
   "cell_type": "code",
   "execution_count": 426,
   "metadata": {},
   "outputs": [
    {
     "data": {
      "text/plain": [
       "NBC News           66\n",
       "Washington Post     2\n",
       "Vice News           1\n",
       "Name: author_flair_text, dtype: int64"
      ]
     },
     "execution_count": 426,
     "metadata": {},
     "output_type": "execute_result"
    }
   ],
   "source": [
    "data['author_flair_text'].value_counts()"
   ]
  },
  {
   "cell_type": "code",
   "execution_count": 427,
   "metadata": {},
   "outputs": [],
   "source": [
    "data_clean.drop(columns=['author_flair_text'], inplace=True)"
   ]
  },
  {
   "cell_type": "code",
   "execution_count": 428,
   "metadata": {},
   "outputs": [
    {
     "data": {
      "text/plain": [
       "[]    33181\n",
       "Name: author_flair_richtext, dtype: int64"
      ]
     },
     "execution_count": 428,
     "metadata": {},
     "output_type": "execute_result"
    }
   ],
   "source": [
    "data['author_flair_richtext'].value_counts()"
   ]
  },
  {
   "cell_type": "code",
   "execution_count": 429,
   "metadata": {},
   "outputs": [],
   "source": [
    "data_clean.drop(columns=['author_flair_richtext'], inplace=True)"
   ]
  },
  {
   "cell_type": "code",
   "execution_count": 430,
   "metadata": {},
   "outputs": [
    {
     "data": {
      "text/plain": [
       "1"
      ]
     },
     "execution_count": 430,
     "metadata": {},
     "output_type": "execute_result"
    }
   ],
   "source": [
    "data['author_flair_type'].nunique()"
   ]
  },
  {
   "cell_type": "code",
   "execution_count": 431,
   "metadata": {},
   "outputs": [],
   "source": [
    "data_clean.drop(columns=['author_flair_type'], inplace=True)"
   ]
  },
  {
   "cell_type": "code",
   "execution_count": 432,
   "metadata": {},
   "outputs": [
    {
     "data": {
      "text/html": [
       "<div>\n",
       "<style scoped>\n",
       "    .dataframe tbody tr th:only-of-type {\n",
       "        vertical-align: middle;\n",
       "    }\n",
       "\n",
       "    .dataframe tbody tr th {\n",
       "        vertical-align: top;\n",
       "    }\n",
       "\n",
       "    .dataframe thead th {\n",
       "        text-align: right;\n",
       "    }\n",
       "</style>\n",
       "<table border=\"1\" class=\"dataframe\">\n",
       "  <thead>\n",
       "    <tr style=\"text-align: right;\">\n",
       "      <th></th>\n",
       "      <th>author_fullname</th>\n",
       "    </tr>\n",
       "    <tr>\n",
       "      <th>subreddit</th>\n",
       "      <th></th>\n",
       "    </tr>\n",
       "  </thead>\n",
       "  <tbody>\n",
       "    <tr>\n",
       "      <th>TheOnion</th>\n",
       "      <td>1615</td>\n",
       "    </tr>\n",
       "    <tr>\n",
       "      <th>worldnews</th>\n",
       "      <td>6401</td>\n",
       "    </tr>\n",
       "  </tbody>\n",
       "</table>\n",
       "</div>"
      ],
      "text/plain": [
       "           author_fullname\n",
       "subreddit                 \n",
       "TheOnion              1615\n",
       "worldnews             6401"
      ]
     },
     "execution_count": 432,
     "metadata": {},
     "output_type": "execute_result"
    }
   ],
   "source": [
    "data[['author_fullname', 'subreddit']].groupby(by='subreddit').nunique()"
   ]
  },
  {
   "cell_type": "markdown",
   "metadata": {},
   "source": [
    "Again, author might be outside of the spirit of the classification, but will leave in for now."
   ]
  },
  {
   "cell_type": "code",
   "execution_count": 433,
   "metadata": {},
   "outputs": [
    {
     "data": {
      "text/plain": [
       "1"
      ]
     },
     "execution_count": 433,
     "metadata": {},
     "output_type": "execute_result"
    }
   ],
   "source": [
    "data['author_is_blocked'].nunique()"
   ]
  },
  {
   "cell_type": "code",
   "execution_count": 434,
   "metadata": {},
   "outputs": [],
   "source": [
    "data_clean.drop(columns=['author_is_blocked'], inplace=True)"
   ]
  },
  {
   "cell_type": "code",
   "execution_count": 435,
   "metadata": {},
   "outputs": [
    {
     "data": {
      "text/plain": [
       "1"
      ]
     },
     "execution_count": 435,
     "metadata": {},
     "output_type": "execute_result"
    }
   ],
   "source": [
    "data['author_patreon_flair'].nunique()"
   ]
  },
  {
   "cell_type": "code",
   "execution_count": 436,
   "metadata": {},
   "outputs": [],
   "source": [
    "data_clean.drop(columns=['author_patreon_flair'], inplace=True)"
   ]
  },
  {
   "cell_type": "code",
   "execution_count": 437,
   "metadata": {},
   "outputs": [
    {
     "data": {
      "text/plain": [
       "subreddit  author_premium\n",
       "TheOnion   False              1770\n",
       "           True               1417\n",
       "worldnews  False             19745\n",
       "           True               3836\n",
       "dtype: int64"
      ]
     },
     "execution_count": 437,
     "metadata": {},
     "output_type": "execute_result"
    }
   ],
   "source": [
    "data[['author_premium', 'subreddit']].groupby(by=['subreddit','author_premium']).size()"
   ]
  },
  {
   "cell_type": "markdown",
   "metadata": {},
   "source": [
    "Interesting.... we could potentially have some signal here."
   ]
  },
  {
   "cell_type": "code",
   "execution_count": 438,
   "metadata": {},
   "outputs": [
    {
     "data": {
      "image/png": "[encoded data removed]",
      "text/plain": [
       "<Figure size 432x288 with 1 Axes>"
      ]
     },
     "metadata": {
      "needs_background": "light"
     },
     "output_type": "display_data"
    }
   ],
   "source": [
    "_ = data[['author_premium', 'subreddit']].groupby(by=['subreddit', 'author_premium']).size()\n",
    "_.index = _.index.to_flat_index()\n",
    "_.plot(kind='bar');"
   ]
  },
  {
   "cell_type": "code",
   "execution_count": 439,
   "metadata": {},
   "outputs": [
    {
     "data": {
      "text/plain": [
       "1"
      ]
     },
     "execution_count": 439,
     "metadata": {},
     "output_type": "execute_result"
    }
   ],
   "source": [
    "data_clean['awarders'].nunique()"
   ]
  },
  {
   "cell_type": "code",
   "execution_count": 440,
   "metadata": {},
   "outputs": [],
   "source": [
    "data_clean.drop(columns=['awarders'], inplace=True)"
   ]
  },
  {
   "cell_type": "code",
   "execution_count": 441,
   "metadata": {},
   "outputs": [
    {
     "data": {
      "text/plain": [
       "1"
      ]
     },
     "execution_count": 441,
     "metadata": {},
     "output_type": "execute_result"
    }
   ],
   "source": [
    "data_clean['can_mod_post'].nunique()"
   ]
  },
  {
   "cell_type": "code",
   "execution_count": 442,
   "metadata": {},
   "outputs": [],
   "source": [
    "data_clean.drop(columns=['can_mod_post'], inplace=True)"
   ]
  },
  {
   "cell_type": "code",
   "execution_count": 443,
   "metadata": {},
   "outputs": [
    {
     "data": {
      "text/plain": [
       "0"
      ]
     },
     "execution_count": 443,
     "metadata": {},
     "output_type": "execute_result"
    }
   ],
   "source": [
    "data['content_categories'].nunique()"
   ]
  },
  {
   "cell_type": "code",
   "execution_count": 444,
   "metadata": {},
   "outputs": [],
   "source": [
    "data_clean.drop(columns=['content_categories'], inplace=True)"
   ]
  },
  {
   "cell_type": "code",
   "execution_count": 445,
   "metadata": {},
   "outputs": [
    {
     "data": {
      "text/plain": [
       "1"
      ]
     },
     "execution_count": 445,
     "metadata": {},
     "output_type": "execute_result"
    }
   ],
   "source": [
    "data['contest_mode'].nunique()"
   ]
  },
  {
   "cell_type": "code",
   "execution_count": 446,
   "metadata": {},
   "outputs": [],
   "source": [
    "data_clean.drop(columns=['contest_mode'], inplace=True)"
   ]
  },
  {
   "cell_type": "code",
   "execution_count": 447,
   "metadata": {},
   "outputs": [
    {
     "data": {
      "text/plain": [
       "subreddit\n",
       "TheOnion     [[AxesSubplot(0.125,0.125;0.775x0.755)]]\n",
       "worldnews    [[AxesSubplot(0.125,0.125;0.775x0.755)]]\n",
       "dtype: object"
      ]
     },
     "execution_count": 447,
     "metadata": {},
     "output_type": "execute_result"
    },
    {
     "data": {
      "image/png": "[encoded data removed]",
      "text/plain": [
       "<Figure size 432x288 with 1 Axes>"
      ]
     },
     "metadata": {
      "needs_background": "light"
     },
     "output_type": "display_data"
    },
    {
     "data": {
      "image/png": "[encoded data removed]",
      "text/plain": [
       "<Figure size 432x288 with 1 Axes>"
      ]
     },
     "metadata": {
      "needs_background": "light"
     },
     "output_type": "display_data"
    }
   ],
   "source": [
    "data[['created_utc', 'subreddit']].groupby(by='subreddit').hist()"
   ]
  },
  {
   "cell_type": "markdown",
   "metadata": {},
   "source": [
    "Keeping time of post."
   ]
  },
  {
   "cell_type": "code",
   "execution_count": 448,
   "metadata": {},
   "outputs": [
    {
     "data": {
      "text/plain": [
       "theonion.com       6565\n",
       "clickhole.com      3708\n",
       "reuters.com        1809\n",
       "youtube.com        1660\n",
       "theguardian.com    1138\n",
       "                   ... \n",
       "storyfire.com         1\n",
       "panarmenian.net       1\n",
       "sun.eduzz.com         1\n",
       "soclaieas.xyz         1\n",
       "aaww.org              1\n",
       "Name: domain, Length: 3234, dtype: int64"
      ]
     },
     "execution_count": 448,
     "metadata": {},
     "output_type": "execute_result"
    }
   ],
   "source": [
    "data['domain'].value_counts()"
   ]
  },
  {
   "cell_type": "code",
   "execution_count": 449,
   "metadata": {},
   "outputs": [
    {
     "data": {
      "text/html": [
       "<div>\n",
       "<style scoped>\n",
       "    .dataframe tbody tr th:only-of-type {\n",
       "        vertical-align: middle;\n",
       "    }\n",
       "\n",
       "    .dataframe tbody tr th {\n",
       "        vertical-align: top;\n",
       "    }\n",
       "\n",
       "    .dataframe thead th {\n",
       "        text-align: right;\n",
       "    }\n",
       "</style>\n",
       "<table border=\"1\" class=\"dataframe\">\n",
       "  <thead>\n",
       "    <tr style=\"text-align: right;\">\n",
       "      <th></th>\n",
       "      <th>domain</th>\n",
       "    </tr>\n",
       "    <tr>\n",
       "      <th>subreddit</th>\n",
       "      <th></th>\n",
       "    </tr>\n",
       "  </thead>\n",
       "  <tbody>\n",
       "    <tr>\n",
       "      <th>TheOnion</th>\n",
       "      <td>444</td>\n",
       "    </tr>\n",
       "    <tr>\n",
       "      <th>worldnews</th>\n",
       "      <td>2902</td>\n",
       "    </tr>\n",
       "  </tbody>\n",
       "</table>\n",
       "</div>"
      ],
      "text/plain": [
       "           domain\n",
       "subreddit        \n",
       "TheOnion      444\n",
       "worldnews    2902"
      ]
     },
     "execution_count": 449,
     "metadata": {},
     "output_type": "execute_result"
    }
   ],
   "source": [
    "data[['domain', 'subreddit']].groupby(by=['subreddit']).nunique()"
   ]
  },
  {
   "cell_type": "markdown",
   "metadata": {},
   "source": [
    "Keeping domain could be outside the spirit of the objective, but will hang on to the data, for now."
   ]
  },
  {
   "cell_type": "code",
   "execution_count": 450,
   "metadata": {},
   "outputs": [
    {
     "data": {
      "text/plain": [
       "{}                                      28623\n",
       "{'gid_1': 0, 'gid_2': 0, 'gid_3': 0}     2429\n",
       "{'gid_1': 1}                               12\n",
       "{'gid_2': 1}                                2\n",
       "{'gid_1': 1, 'gid_2': 0, 'gid_3': 0}        2\n",
       "{'gid_1': 0, 'gid_2': 1, 'gid_3': 0}        1\n",
       "{'gid_1': 7}                                1\n",
       "{'gid_1': 1, 'gid_3': 1}                    1\n",
       "{'gid_1': 4}                                1\n",
       "{'gid_1': 10}                               1\n",
       "{'gid_1': 2, 'gid_2': 1}                    1\n",
       "{'gid_1': 3}                                1\n",
       "{'gid_1': 15}                               1\n",
       "Name: gildings, dtype: int64"
      ]
     },
     "execution_count": 450,
     "metadata": {},
     "output_type": "execute_result"
    }
   ],
   "source": [
    "data['gildings'].value_counts()"
   ]
  },
  {
   "cell_type": "code",
   "execution_count": 451,
   "metadata": {},
   "outputs": [
    {
     "data": {
      "text/plain": [
       "subreddit  gildings                            \n",
       "TheOnion   {'gid_1': 0, 'gid_2': 0, 'gid_3': 0}     2429\n",
       "           {'gid_1': 0, 'gid_2': 1, 'gid_3': 0}        1\n",
       "           {'gid_1': 1, 'gid_2': 0, 'gid_3': 0}        2\n",
       "           {'gid_1': 1}                                3\n",
       "           {'gid_2': 1}                                2\n",
       "           {}                                       4417\n",
       "worldnews  {'gid_1': 1, 'gid_3': 1}                    1\n",
       "           {'gid_1': 10}                               1\n",
       "           {'gid_1': 15}                               1\n",
       "           {'gid_1': 1}                                9\n",
       "           {'gid_1': 2, 'gid_2': 1}                    1\n",
       "           {'gid_1': 3}                                1\n",
       "           {'gid_1': 4}                                1\n",
       "           {'gid_1': 7}                                1\n",
       "           {}                                      24206\n",
       "dtype: int64"
      ]
     },
     "execution_count": 451,
     "metadata": {},
     "output_type": "execute_result"
    }
   ],
   "source": [
    "data[['gildings', 'subreddit']].groupby(by=['subreddit', 'gildings']).size()\n"
   ]
  },
  {
   "cell_type": "markdown",
   "metadata": {},
   "source": [
    "Not entirely certain what we're looking at here, but will not drop the feature."
   ]
  },
  {
   "cell_type": "code",
   "execution_count": 452,
   "metadata": {},
   "outputs": [
    {
     "data": {
      "text/plain": [
       "39670"
      ]
     },
     "execution_count": 452,
     "metadata": {},
     "output_type": "execute_result"
    }
   ],
   "source": [
    "data['id'].nunique()"
   ]
  },
  {
   "cell_type": "markdown",
   "metadata": {},
   "source": [
    "Will hold for indexing."
   ]
  },
  {
   "cell_type": "code",
   "execution_count": 453,
   "metadata": {},
   "outputs": [
    {
     "data": {
      "text/plain": [
       "1"
      ]
     },
     "execution_count": 453,
     "metadata": {},
     "output_type": "execute_result"
    }
   ],
   "source": [
    "data['is_created_from_ads_ui'].nunique()"
   ]
  },
  {
   "cell_type": "code",
   "execution_count": 454,
   "metadata": {},
   "outputs": [],
   "source": [
    "data_clean.drop(columns=['is_created_from_ads_ui'], inplace=True)"
   ]
  },
  {
   "cell_type": "code",
   "execution_count": 455,
   "metadata": {},
   "outputs": [
    {
     "data": {
      "text/plain": [
       "True     24829\n",
       "False    10184\n",
       "Name: is_crosspostable, dtype: int64"
      ]
     },
     "execution_count": 455,
     "metadata": {},
     "output_type": "execute_result"
    }
   ],
   "source": [
    "data['is_crosspostable'].value_counts()"
   ]
  },
  {
   "cell_type": "code",
   "execution_count": 456,
   "metadata": {},
   "outputs": [
    {
     "data": {
      "text/plain": [
       "subreddit  is_crosspostable\n",
       "TheOnion   False                 726\n",
       "           True                10065\n",
       "worldnews  False                9458\n",
       "           True                14764\n",
       "dtype: int64"
      ]
     },
     "execution_count": 456,
     "metadata": {},
     "output_type": "execute_result"
    }
   ],
   "source": [
    "data[['is_crosspostable', 'subreddit']].groupby(by=['subreddit', 'is_crosspostable']).size()\n"
   ]
  },
  {
   "cell_type": "code",
   "execution_count": 457,
   "metadata": {},
   "outputs": [
    {
     "data": {
      "text/plain": [
       "<AxesSubplot:>"
      ]
     },
     "execution_count": 457,
     "metadata": {},
     "output_type": "execute_result"
    },
    {
     "data": {
      "image/png": "[encoded data removed]",
      "text/plain": [
       "<Figure size 432x288 with 1 Axes>"
      ]
     },
     "metadata": {
      "needs_background": "light"
     },
     "output_type": "display_data"
    }
   ],
   "source": [
    "_ = data[['is_crosspostable', 'subreddit']].groupby(by=['subreddit', 'is_crosspostable']).size()\n",
    "_.index = _.index.to_flat_index()\n",
    "_.plot(kind='bar')"
   ]
  },
  {
   "cell_type": "markdown",
   "metadata": {},
   "source": [
    "Keeping."
   ]
  },
  {
   "cell_type": "code",
   "execution_count": 458,
   "metadata": {},
   "outputs": [
    {
     "data": {
      "text/plain": [
       "1"
      ]
     },
     "execution_count": 458,
     "metadata": {},
     "output_type": "execute_result"
    }
   ],
   "source": [
    "data_clean['is_meta'].nunique()"
   ]
  },
  {
   "cell_type": "code",
   "execution_count": 459,
   "metadata": {},
   "outputs": [],
   "source": [
    "data_clean.drop(columns=['is_meta'], inplace=True)"
   ]
  },
  {
   "cell_type": "code",
   "execution_count": 460,
   "metadata": {},
   "outputs": [
    {
     "data": {
      "text/plain": [
       "False    33085\n",
       "Name: is_original_content, dtype: int64"
      ]
     },
     "execution_count": 460,
     "metadata": {},
     "output_type": "execute_result"
    }
   ],
   "source": [
    "data['is_original_content'].value_counts()"
   ]
  },
  {
   "cell_type": "code",
   "execution_count": 461,
   "metadata": {},
   "outputs": [],
   "source": [
    "data_clean.drop(columns=['is_original_content'], inplace=True)"
   ]
  },
  {
   "cell_type": "code",
   "execution_count": 462,
   "metadata": {},
   "outputs": [
    {
     "data": {
      "text/plain": [
       "False    34517\n",
       "True       200\n",
       "Name: is_reddit_media_domain, dtype: int64"
      ]
     },
     "execution_count": 462,
     "metadata": {},
     "output_type": "execute_result"
    }
   ],
   "source": [
    "data['is_reddit_media_domain'].value_counts()"
   ]
  },
  {
   "cell_type": "code",
   "execution_count": 463,
   "metadata": {},
   "outputs": [
    {
     "data": {
      "text/plain": [
       "<AxesSubplot:>"
      ]
     },
     "execution_count": 463,
     "metadata": {},
     "output_type": "execute_result"
    },
    {
     "data": {
      "image/png": "[encoded data removed]",
      "text/plain": [
       "<Figure size 432x288 with 1 Axes>"
      ]
     },
     "metadata": {
      "needs_background": "light"
     },
     "output_type": "display_data"
    }
   ],
   "source": [
    "_ = data[['is_reddit_media_domain', 'subreddit']].groupby(by=['subreddit', 'is_reddit_media_domain']).size()\n",
    "_.index = _.index.to_flat_index()\n",
    "_.plot(kind='bar')"
   ]
  },
  {
   "cell_type": "code",
   "execution_count": 464,
   "metadata": {},
   "outputs": [],
   "source": [
    "data_clean.drop(columns=['is_reddit_media_domain'], inplace=True)"
   ]
  },
  {
   "cell_type": "code",
   "execution_count": 465,
   "metadata": {},
   "outputs": [
    {
     "data": {
      "text/plain": [
       "True     20928\n",
       "False    10040\n",
       "Name: is_robot_indexable, dtype: int64"
      ]
     },
     "execution_count": 465,
     "metadata": {},
     "output_type": "execute_result"
    }
   ],
   "source": [
    "data['is_robot_indexable'].value_counts()"
   ]
  },
  {
   "cell_type": "code",
   "execution_count": 466,
   "metadata": {},
   "outputs": [
    {
     "data": {
      "text/plain": [
       "<AxesSubplot:>"
      ]
     },
     "execution_count": 466,
     "metadata": {},
     "output_type": "execute_result"
    },
    {
     "data": {
      "image/png": "[encoded data removed]",
      "text/plain": [
       "<Figure size 432x288 with 1 Axes>"
      ]
     },
     "metadata": {
      "needs_background": "light"
     },
     "output_type": "display_data"
    }
   ],
   "source": [
    "_ = data[['is_robot_indexable', 'subreddit']].groupby(by=['subreddit', 'is_robot_indexable']).size()\n",
    "_.index = _.index.to_flat_index()\n",
    "_.plot(kind='bar')"
   ]
  },
  {
   "cell_type": "markdown",
   "metadata": {},
   "source": [
    "Keeping."
   ]
  },
  {
   "cell_type": "code",
   "execution_count": 467,
   "metadata": {},
   "outputs": [
    {
     "data": {
      "text/plain": [
       "1"
      ]
     },
     "execution_count": 467,
     "metadata": {},
     "output_type": "execute_result"
    }
   ],
   "source": [
    "data['is_self'].nunique()"
   ]
  },
  {
   "cell_type": "code",
   "execution_count": 468,
   "metadata": {},
   "outputs": [],
   "source": [
    "data_clean.drop(columns=['is_self'], inplace=True)"
   ]
  },
  {
   "cell_type": "code",
   "execution_count": 469,
   "metadata": {},
   "outputs": [
    {
     "data": {
      "text/plain": [
       "False    35840\n",
       "True        16\n",
       "Name: is_video, dtype: int64"
      ]
     },
     "execution_count": 469,
     "metadata": {},
     "output_type": "execute_result"
    }
   ],
   "source": [
    "data['is_video'].value_counts()"
   ]
  },
  {
   "cell_type": "code",
   "execution_count": 470,
   "metadata": {},
   "outputs": [],
   "source": [
    "data_clean.drop(columns=['is_video'], inplace=True)"
   ]
  },
  {
   "cell_type": "markdown",
   "metadata": {},
   "source": [
    "Drop it."
   ]
  },
  {
   "cell_type": "code",
   "execution_count": 471,
   "metadata": {},
   "outputs": [
    {
     "data": {
      "text/plain": [
       "0"
      ]
     },
     "execution_count": 471,
     "metadata": {},
     "output_type": "execute_result"
    }
   ],
   "source": [
    "data['link_flair_background_color'].nunique()"
   ]
  },
  {
   "cell_type": "code",
   "execution_count": 472,
   "metadata": {},
   "outputs": [],
   "source": [
    "data_clean.drop(columns=['link_flair_background_color'], inplace=True)"
   ]
  },
  {
   "cell_type": "code",
   "execution_count": 473,
   "metadata": {},
   "outputs": [
    {
     "data": {
      "text/plain": [
       "['link_flair_text_color',\n",
       " 'media_only',\n",
       " 'parent_whitelist_status',\n",
       " 'pinned',\n",
       " 'pwls',\n",
       " 'selftext',\n",
       " 'stickied',\n",
       " 'subreddit_type',\n",
       " 'treatment_tags']"
      ]
     },
     "execution_count": 473,
     "metadata": {},
     "output_type": "execute_result"
    }
   ],
   "source": [
    "list(data_clean.nunique()[data_clean.nunique()==1].index)"
   ]
  },
  {
   "cell_type": "code",
   "execution_count": 474,
   "metadata": {},
   "outputs": [],
   "source": [
    "data_clean.drop(columns=list(data_clean.nunique()[data_clean.nunique()==1].index), inplace=True)"
   ]
  },
  {
   "cell_type": "code",
   "execution_count": 475,
   "metadata": {},
   "outputs": [
    {
     "data": {
      "text/plain": [
       "[]                                         33928\n",
       "[{'e': 'text', 't': 'removed: repost'}]        1\n",
       "Name: link_flair_richtext, dtype: int64"
      ]
     },
     "execution_count": 475,
     "metadata": {},
     "output_type": "execute_result"
    }
   ],
   "source": [
    "data['link_flair_richtext'].value_counts()"
   ]
  },
  {
   "cell_type": "code",
   "execution_count": 476,
   "metadata": {},
   "outputs": [],
   "source": [
    "data_clean.drop(columns=['link_flair_richtext'], inplace=True)"
   ]
  },
  {
   "cell_type": "code",
   "execution_count": 477,
   "metadata": {},
   "outputs": [
    {
     "data": {
      "text/plain": [
       "normal          2683\n",
       "coronavirus     2482\n",
       "russia          1468\n",
       "softpaywall      587\n",
       "palestisrael     419\n",
       "northkorea       190\n",
       "meta               2\n",
       "Name: link_flair_css_class, dtype: int64"
      ]
     },
     "execution_count": 477,
     "metadata": {},
     "output_type": "execute_result"
    }
   ],
   "source": [
    "data['link_flair_css_class'].value_counts()"
   ]
  },
  {
   "cell_type": "code",
   "execution_count": 478,
   "metadata": {},
   "outputs": [
    {
     "data": {
      "text/plain": [
       "<AxesSubplot:>"
      ]
     },
     "execution_count": 478,
     "metadata": {},
     "output_type": "execute_result"
    },
    {
     "data": {
      "image/png": "[encoded data removed]",
      "text/plain": [
       "<Figure size 432x288 with 1 Axes>"
      ]
     },
     "metadata": {
      "needs_background": "light"
     },
     "output_type": "display_data"
    }
   ],
   "source": [
    "_ = data[['link_flair_css_class', 'subreddit']].groupby(by=['subreddit', 'link_flair_css_class']).size()\n",
    "_.index = _.index.to_flat_index()\n",
    "_.plot(kind='bar')"
   ]
  },
  {
   "cell_type": "markdown",
   "metadata": {},
   "source": [
    "Features do not appear in both data sets."
   ]
  },
  {
   "cell_type": "code",
   "execution_count": 479,
   "metadata": {},
   "outputs": [],
   "source": [
    "data_clean.drop(columns=['link_flair_css_class'], inplace=True)"
   ]
  },
  {
   "cell_type": "code",
   "execution_count": 480,
   "metadata": {},
   "outputs": [
    {
     "data": {
      "text/plain": [
       "9c8039b2-336b-11e3-b7e2-12313b0ae6f4    72\n",
       "d30a643e-fa59-11e3-9d0d-12313b0a9e38    63\n",
       "c8e7a40e-336b-11e3-89cf-12313b04ceaf    29\n",
       "8fcd8936-336b-11e3-ba63-12313d1688a5    21\n",
       "9ea3f3dc-336b-11e3-bef4-12313b04ceaf    13\n",
       "9f2ec9d0-b56b-11e3-9913-12313d21c20d    13\n",
       "93d57a0c-336b-11e3-bd3d-12313b079641     7\n",
       "a252bce8-336b-11e3-bfee-12313b04ceaf     7\n",
       "265227da-f11c-11e9-ac3a-0ec632c630b0     2\n",
       "01fc267a-336c-11e3-8f99-12313b0ae6f4     2\n",
       "a46997a4-336b-11e3-bec3-12313d18f999     2\n",
       "a76a8b6a-0a07-11e5-9278-0ef41f8e04b3     1\n",
       "ce58192e-a999-11e3-b94b-12313d003dd1     1\n",
       "a6adf9c4-336b-11e3-a7c0-12313d1688a5     1\n",
       "ada03378-336b-11e3-9abc-12313b079641     1\n",
       "b68b60de-336b-11e3-ac9d-12313b079641     1\n",
       "Name: link_flair_template_id, dtype: int64"
      ]
     },
     "execution_count": 480,
     "metadata": {},
     "output_type": "execute_result"
    }
   ],
   "source": [
    "data['link_flair_template_id'].value_counts()"
   ]
  },
  {
   "cell_type": "code",
   "execution_count": 481,
   "metadata": {},
   "outputs": [],
   "source": [
    "data_clean.drop(columns=['link_flair_template_id'], inplace=True)"
   ]
  },
  {
   "cell_type": "code",
   "execution_count": 482,
   "metadata": {},
   "outputs": [
    {
     "data": {
      "text/plain": [
       "COVID-19                                                2482\n",
       "Russia                                                  1468\n",
       "No videos                                                745\n",
       "Behind Soft Paywall                                      581\n",
       "Israel/Palestine                                         419\n",
       "US Internal News                                         299\n",
       "Behind Paywall                                           252\n",
       "US Internal Politics                                     239\n",
       "Not appropriate subreddit                                211\n",
       "North Korea                                              190\n",
       "No Redirect URLs                                         144\n",
       "Not Appropriate Subreddit                                130\n",
       "Opinion/Analysis                                         105\n",
       "Covered by other articles                                105\n",
       "No Twitter                                                71\n",
       "No 'BREAKING: ...' etc allowed in title                   68\n",
       "Not A News Article                                        65\n",
       "No Live Feeds                                             61\n",
       "Feature Story                                             30\n",
       "No ALL CAPS                                               23\n",
       "Very Out of Date                                          20\n",
       "US internal news                                          19\n",
       "No X-posts                                                16\n",
       "Already Submitted                                         13\n",
       "Shortened URL                                             10\n",
       "No images                                                  7\n",
       "US internal politics                                       7\n",
       "No Petitions                                               7\n",
       "Inaccessible in EU                                         6\n",
       "Editorialized Title                                        5\n",
       "No Satire                                                  4\n",
       "Not A News Article (PDF)                                   4\n",
       "No crowdfunding                                            3\n",
       "No all-quote titles                                        3\n",
       "Not in English                                             3\n",
       "No All Caps Words Allowed In Title                         2\n",
       "Misleading Title                                           2\n",
       "No Images/Videos                                           2\n",
       "Editorialized Title | Very Out of Date                     1\n",
       "City, not Japan                                            1\n",
       "Editorialized Title | No Images/Videos                     1\n",
       "Out of Date                                                1\n",
       "US internal news | Editorialized Title                     1\n",
       "[META]                                                     1\n",
       "Canada                                                     1\n",
       "Out of Date | Editorialized Title | Misleading Title       1\n",
       "*Now Released                                              1\n",
       "removed: repost                                            1\n",
       "Name: link_flair_text, dtype: int64"
      ]
     },
     "execution_count": 482,
     "metadata": {},
     "output_type": "execute_result"
    }
   ],
   "source": [
    "data['link_flair_text'].value_counts()"
   ]
  },
  {
   "cell_type": "markdown",
   "metadata": {},
   "source": [
    "Could hold some interesting informations in these categories. Will keep."
   ]
  },
  {
   "cell_type": "code",
   "execution_count": 483,
   "metadata": {},
   "outputs": [
    {
     "data": {
      "text/plain": [
       "text        33928\n",
       "richtext        1\n",
       "Name: link_flair_type, dtype: int64"
      ]
     },
     "execution_count": 483,
     "metadata": {},
     "output_type": "execute_result"
    }
   ],
   "source": [
    "data['link_flair_type'].value_counts()"
   ]
  },
  {
   "cell_type": "code",
   "execution_count": 484,
   "metadata": {},
   "outputs": [],
   "source": [
    "data_clean.drop(columns=['link_flair_type'], inplace=True)"
   ]
  },
  {
   "cell_type": "code",
   "execution_count": 485,
   "metadata": {},
   "outputs": [
    {
     "data": {
      "text/plain": [
       "False    39669\n",
       "True         1\n",
       "Name: locked, dtype: int64"
      ]
     },
     "execution_count": 485,
     "metadata": {},
     "output_type": "execute_result"
    }
   ],
   "source": [
    "data['locked'].value_counts()"
   ]
  },
  {
   "cell_type": "code",
   "execution_count": 486,
   "metadata": {},
   "outputs": [],
   "source": [
    "data_clean.drop(columns=['locked'], inplace=True)"
   ]
  },
  {
   "cell_type": "code",
   "execution_count": 487,
   "metadata": {},
   "outputs": [
    {
     "data": {
      "text/plain": [
       "{'oembed': {'author_name': 'Subir Cruze', 'author_url': 'https://www.youtube.com/channel/UCHLjkBi-34ki0YWXaYHgKvg', 'height': 200, 'html': '&lt;iframe width=\"356\" height=\"200\" src=\"https://www.youtube.com/embed/99jdwki5BH8?feature=oembed&amp;enablejsapi=1\" frameborder=\"0\" allow=\"accelerometer; autoplay; clipboard-write; encrypted-media; gyroscope; picture-in-picture\" allowfullscreen&gt;&lt;/iframe&gt;', 'provider_name': 'YouTube', 'provider_url': 'https://www.youtube.com/', 'thumbnail_height': 360, 'thumbnail_url': 'https://i.ytimg.com/vi/99jdwki5BH8/hqdefault.jpg', 'thumbnail_width': 480, 'title': 'Kriton . আজ শুভ বড়দিন ভাই, Happy Christmas today.', 'type': 'video', 'version': '1.0', 'width': 356}, 'type': 'youtube.com'}                                           10\n",
       "{'oembed': {'author_name': 'The Onion', 'author_url': 'https://www.youtube.com/user/TheOnion', 'height': 338, 'html': '&lt;iframe width=\"600\" height=\"338\" src=\"https://www.youtube.com/embed/K5CCUdu7xFI?feature=oembed&amp;enablejsapi=1\" frameborder=\"0\" allow=\"accelerometer; autoplay; encrypted-media; gyroscope; picture-in-picture\" allowfullscreen&gt;&lt;/iframe&gt;', 'provider_name': 'YouTube', 'provider_url': 'https://www.youtube.com/', 'thumbnail_height': 360, 'thumbnail_url': 'https://i.ytimg.com/vi/K5CCUdu7xFI/hqdefault.jpg', 'thumbnail_width': 480, 'title': 'Cop Explains How It Feels To Live Every Day In Fear Someone Might Record You Brutalizing A Civilian', 'type': 'video', 'version': '1.0', 'width': 600}, 'type': 'youtube.com'}                                4\n",
       "{}                                                                                                                                                                                                                                                                                                                                                                                                                                                                                                                                                                                                                                                                                                                                                                                                     3\n",
       "{'oembed': {'author_name': 'MJO BIG BOSS !!!', 'author_url': 'https://www.youtube.com/channel/UC1Ypd9ygph_23RDXd19Ky6w', 'height': 200, 'html': '&lt;iframe width=\"356\" height=\"200\" src=\"https://www.youtube.com/embed/OJ3ew2cTsm4?feature=oembed&amp;enablejsapi=1\" frameborder=\"0\" allow=\"accelerometer; autoplay; clipboard-write; encrypted-media; gyroscope; picture-in-picture\" allowfullscreen&gt;&lt;/iframe&gt;', 'provider_name': 'YouTube', 'provider_url': 'https://www.youtube.com/', 'thumbnail_height': 360, 'thumbnail_url': 'https://i.ytimg.com/vi/OJ3ew2cTsm4/hqdefault.jpg', 'thumbnail_width': 480, 'title': 'KAVI SAMMELAN 3.0 || LOCKDOWN KIYA JAYE YA NHI JUNE 2020 || OFFICIAL VIDEO', 'type': 'video', 'version': '1.0', 'width': 356}, 'type': 'youtube.com'}              3\n",
       "{'oembed': {'author_name': 'To Shop', 'author_url': 'https://www.youtube.com/channel/UCNreg5X1gloM0vM3ZO3DEyg', 'height': 200, 'html': '&lt;iframe width=\"356\" height=\"200\" src=\"https://www.youtube.com/embed/Ap5gUxFi14w?feature=oembed&amp;enablejsapi=1\" frameborder=\"0\" allow=\"accelerometer; autoplay; clipboard-write; encrypted-media; gyroscope; picture-in-picture\" allowfullscreen&gt;&lt;/iframe&gt;', 'provider_name': 'YouTube', 'provider_url': 'https://www.youtube.com/', 'thumbnail_height': 360, 'thumbnail_url': 'https://i.ytimg.com/vi/Ap5gUxFi14w/hqdefault.jpg', 'thumbnail_width': 480, 'title': '3Coolest Gadgets for Men That Are Worth Seeing', 'type': 'video', 'version': '1.0', 'width': 356}, 'type': 'youtube.com'}                                                   3\n",
       "                                                                                                                                                                                                                                                                                                                                                                                                                                                                                                                                                                                                                                                                                                                                                                                                      ..\n",
       "{'oembed': {'author_name': 'Digital Corner', 'author_url': 'https://www.youtube.com/c/DigitalCorner80', 'height': 200, 'html': '&lt;iframe width=\"356\" height=\"200\" src=\"https://www.youtube.com/embed/fxh7At8o4uo?feature=oembed&amp;enablejsapi=1\" frameborder=\"0\" allow=\"accelerometer; autoplay; clipboard-write; encrypted-media; gyroscope; picture-in-picture\" allowfullscreen&gt;&lt;/iframe&gt;', 'provider_name': 'YouTube', 'provider_url': 'https://www.youtube.com/', 'thumbnail_height': 360, 'thumbnail_url': 'https://i.ytimg.com/vi/fxh7At8o4uo/hqdefault.jpg', 'thumbnail_width': 480, 'title': 'रेल्वे तिकीट एजेंट रजिस्ट्रेशन | फक्त 100 रू. मध्ये | CSC IRCTC Agent Full Registration Process 2022', 'type': 'video', 'version': '1.0', 'width': 356}, 'type': 'youtube.com'}     1\n",
       "{'oembed': {'author_name': 'Best Bangla Tips', 'author_url': 'https://www.youtube.com/c/BestBanglaTips', 'height': 200, 'html': '&lt;iframe width=\"356\" height=\"200\" src=\"https://www.youtube.com/embed/iomAOehWWsA?feature=oembed&amp;enablejsapi=1\" frameborder=\"0\" allow=\"accelerometer; autoplay; clipboard-write; encrypted-media; gyroscope; picture-in-picture\" allowfullscreen&gt;&lt;/iframe&gt;', 'provider_name': 'YouTube', 'provider_url': 'https://www.youtube.com/', 'thumbnail_height': 360, 'thumbnail_url': 'https://i.ytimg.com/vi/iomAOehWWsA/hqdefault.jpg', 'thumbnail_width': 480, 'title': 'বাণিজ্য মেলা ২০২২ খাবারের দাম || Banijjo Mela 2022 Food Price', 'type': 'video', 'version': '1.0', 'width': 356}, 'type': 'youtube.com'}                                           1\n",
       "{'oembed': {'author_name': 'Woolford Studios', 'author_url': 'https://www.youtube.com/channel/UCEVkaikfECQcU26RUZX9H3A', 'height': 200, 'html': '&lt;iframe width=\"356\" height=\"200\" src=\"https://www.youtube.com/embed/fcEgFO-vJiU?feature=oembed&amp;enablejsapi=1\" frameborder=\"0\" allow=\"accelerometer; autoplay; clipboard-write; encrypted-media; gyroscope; picture-in-picture\" allowfullscreen&gt;&lt;/iframe&gt;', 'provider_name': 'YouTube', 'provider_url': 'https://www.youtube.com/', 'thumbnail_height': 360, 'thumbnail_url': 'https://i.ytimg.com/vi/fcEgFO-vJiU/hqdefault.jpg', 'thumbnail_width': 480, 'title': 'Square Chase Daily 16-01-2022', 'type': 'video', 'version': '1.0', 'width': 356}, 'type': 'youtube.com'}                                                           1\n",
       "{'oembed': {'author_name': 'CBS Evening News', 'author_url': 'https://www.youtube.com/user/CBSEveningNews', 'height': 200, 'html': '&lt;iframe width=\"356\" height=\"200\" src=\"https://www.youtube.com/embed/oDD294zCFnQ?feature=oembed&amp;enablejsapi=1\" frameborder=\"0\" allow=\"accelerometer; autoplay; clipboard-write; encrypted-media; gyroscope; picture-in-picture\" allowfullscreen&gt;&lt;/iframe&gt;', 'provider_name': 'YouTube', 'provider_url': 'https://www.youtube.com/', 'thumbnail_height': 360, 'thumbnail_url': 'https://i.ytimg.com/vi/oDD294zCFnQ/hqdefault.jpg', 'thumbnail_width': 480, 'title': 'Snowstorm threatens more than 75 million Americans', 'type': 'video', 'version': '1.0', 'width': 356}, 'type': 'youtube.com'}                                                   1\n",
       "{'oembed': {'author_name': 'Gypsy Road', 'author_url': 'https://www.youtube.com/c/GypsyRoad101', 'height': 200, 'html': '&lt;iframe width=\"356\" height=\"200\" src=\"https://www.youtube.com/embed/S6BlrXp-eqA?feature=oembed&amp;enablejsapi=1\" frameborder=\"0\" allow=\"accelerometer; autoplay; clipboard-write; encrypted-media; gyroscope; picture-in-picture\" allowfullscreen&gt;&lt;/iframe&gt;', 'provider_name': 'YouTube', 'provider_url': 'https://www.youtube.com/', 'thumbnail_height': 360, 'thumbnail_url': 'https://i.ytimg.com/vi/S6BlrXp-eqA/hqdefault.jpg', 'thumbnail_width': 480, 'title': 'When Is It Time To Speak About Bigfoot, Paranormal &amp; UFOs', 'type': 'video', 'version': '1.0', 'width': 356}, 'type': 'youtube.com'}                                                   1\n",
       "Name: media, Length: 2167, dtype: int64"
      ]
     },
     "execution_count": 487,
     "metadata": {},
     "output_type": "execute_result"
    }
   ],
   "source": [
    "data['media'].value_counts()"
   ]
  },
  {
   "cell_type": "markdown",
   "metadata": {},
   "source": [
    "Could be something intersting here...."
   ]
  },
  {
   "cell_type": "code",
   "execution_count": 488,
   "metadata": {},
   "outputs": [
    {
     "data": {
      "text/plain": [
       "{}                                                                                                                                                                                                                                                                                                                                          4385\n",
       "{'content': '&lt;iframe width=\"356\" height=\"200\" src=\"https://www.youtube.com/embed/99jdwki5BH8?feature=oembed&amp;enablejsapi=1\" frameborder=\"0\" allow=\"accelerometer; autoplay; clipboard-write; encrypted-media; gyroscope; picture-in-picture\" allowfullscreen&gt;&lt;/iframe&gt;', 'height': 200, 'scrolling': False, 'width': 356}      10\n",
       "{'content': '&lt;iframe width=\"600\" height=\"338\" src=\"https://www.youtube.com/embed/K5CCUdu7xFI?feature=oembed&amp;enablejsapi=1\" frameborder=\"0\" allow=\"accelerometer; autoplay; encrypted-media; gyroscope; picture-in-picture\" allowfullscreen&gt;&lt;/iframe&gt;', 'height': 338, 'scrolling': False, 'width': 600}                        4\n",
       "{'content': '&lt;iframe width=\"600\" height=\"338\" src=\"https://www.youtube.com/embed/6fKESzY7cZs?feature=oembed&amp;enablejsapi=1\" frameborder=\"0\" allow=\"accelerometer; autoplay; encrypted-media; gyroscope; picture-in-picture\" allowfullscreen&gt;&lt;/iframe&gt;', 'height': 338, 'scrolling': False, 'width': 600}                        3\n",
       "{'content': '&lt;iframe width=\"356\" height=\"200\" src=\"https://www.youtube.com/embed/8ZoCEA_V8GA?feature=oembed&amp;enablejsapi=1\" frameborder=\"0\" allow=\"accelerometer; autoplay; clipboard-write; encrypted-media; gyroscope; picture-in-picture\" allowfullscreen&gt;&lt;/iframe&gt;', 'height': 200, 'scrolling': False, 'width': 356}       3\n",
       "                                                                                                                                                                                                                                                                                                                                            ... \n",
       "{'content': '&lt;iframe width=\"356\" height=\"200\" src=\"https://www.youtube.com/embed/3qfXwOn5W1I?feature=oembed&amp;enablejsapi=1\" frameborder=\"0\" allow=\"accelerometer; autoplay; clipboard-write; encrypted-media; gyroscope; picture-in-picture\" allowfullscreen&gt;&lt;/iframe&gt;', 'height': 200, 'scrolling': False, 'width': 356}       1\n",
       "{'content': '&lt;iframe width=\"356\" height=\"200\" src=\"https://www.youtube.com/embed/RMeEWtA0xlk?feature=oembed&amp;enablejsapi=1\" frameborder=\"0\" allow=\"accelerometer; autoplay; clipboard-write; encrypted-media; gyroscope; picture-in-picture\" allowfullscreen&gt;&lt;/iframe&gt;', 'height': 200, 'scrolling': False, 'width': 356}       1\n",
       "{'content': '&lt;iframe width=\"356\" height=\"200\" src=\"https://www.youtube.com/embed/BDGW3zQ4sFY?feature=oembed&amp;enablejsapi=1\" frameborder=\"0\" allow=\"accelerometer; autoplay; clipboard-write; encrypted-media; gyroscope; picture-in-picture\" allowfullscreen&gt;&lt;/iframe&gt;', 'height': 200, 'scrolling': False, 'width': 356}       1\n",
       "{'content': '&lt;iframe width=\"356\" height=\"200\" src=\"https://www.youtube.com/embed/fxh7At8o4uo?feature=oembed&amp;enablejsapi=1\" frameborder=\"0\" allow=\"accelerometer; autoplay; clipboard-write; encrypted-media; gyroscope; picture-in-picture\" allowfullscreen&gt;&lt;/iframe&gt;', 'height': 200, 'scrolling': False, 'width': 356}       1\n",
       "{'content': '&lt;iframe width=\"356\" height=\"200\" src=\"https://www.youtube.com/embed/S6BlrXp-eqA?feature=oembed&amp;enablejsapi=1\" frameborder=\"0\" allow=\"accelerometer; autoplay; clipboard-write; encrypted-media; gyroscope; picture-in-picture\" allowfullscreen&gt;&lt;/iframe&gt;', 'height': 200, 'scrolling': False, 'width': 356}       1\n",
       "Name: media_embed, Length: 2161, dtype: int64"
      ]
     },
     "execution_count": 488,
     "metadata": {},
     "output_type": "execute_result"
    }
   ],
   "source": [
    "data['media_embed'].value_counts()"
   ]
  },
  {
   "cell_type": "code",
   "execution_count": 489,
   "metadata": {},
   "outputs": [
    {
     "data": {
      "text/plain": [
       "True     29734\n",
       "False     3736\n",
       "Name: no_follow, dtype: int64"
      ]
     },
     "execution_count": 489,
     "metadata": {},
     "output_type": "execute_result"
    }
   ],
   "source": [
    "data['no_follow'].value_counts()"
   ]
  },
  {
   "cell_type": "code",
   "execution_count": 490,
   "metadata": {},
   "outputs": [
    {
     "data": {
      "image/png": "[encoded data removed]",
      "text/plain": [
       "<Figure size 432x288 with 1 Axes>"
      ]
     },
     "metadata": {
      "needs_background": "light"
     },
     "output_type": "display_data"
    }
   ],
   "source": [
    "_ = data[['no_follow', 'subreddit']].groupby(by=['subreddit', 'no_follow']).size()\n",
    "_.index = _.index.to_flat_index()\n",
    "_.plot(kind='bar');"
   ]
  },
  {
   "cell_type": "code",
   "execution_count": 491,
   "metadata": {},
   "outputs": [
    {
     "data": {
      "text/plain": [
       "<AxesSubplot:>"
      ]
     },
     "execution_count": 491,
     "metadata": {},
     "output_type": "execute_result"
    },
    {
     "data": {
      "image/png": "[encoded data removed]",
      "text/plain": [
       "<Figure size 432x288 with 1 Axes>"
      ]
     },
     "metadata": {
      "needs_background": "light"
     },
     "output_type": "display_data"
    }
   ],
   "source": [
    "data[data['num_comments']<50]['num_comments'].hist()"
   ]
  },
  {
   "cell_type": "markdown",
   "metadata": {},
   "source": [
    "Could be something here."
   ]
  },
  {
   "cell_type": "code",
   "execution_count": 492,
   "metadata": {},
   "outputs": [
    {
     "data": {
      "text/plain": [
       "0.0     34898\n",
       "1.0        92\n",
       "2.0        11\n",
       "3.0         4\n",
       "4.0         4\n",
       "9.0         1\n",
       "6.0         1\n",
       "8.0         1\n",
       "11.0        1\n",
       "Name: num_crossposts, dtype: int64"
      ]
     },
     "execution_count": 492,
     "metadata": {},
     "output_type": "execute_result"
    }
   ],
   "source": [
    "data['num_crossposts'].value_counts()"
   ]
  },
  {
   "cell_type": "markdown",
   "metadata": {},
   "source": [
    "Not enough here to find signal."
   ]
  },
  {
   "cell_type": "code",
   "execution_count": 493,
   "metadata": {},
   "outputs": [],
   "source": [
    "data_clean.drop(columns=['num_crossposts'], inplace=True)"
   ]
  },
  {
   "cell_type": "code",
   "execution_count": 494,
   "metadata": {},
   "outputs": [
    {
     "data": {
      "text/plain": [
       "False    39474\n",
       "True       196\n",
       "Name: over_18, dtype: int64"
      ]
     },
     "execution_count": 494,
     "metadata": {},
     "output_type": "execute_result"
    }
   ],
   "source": [
    "data['over_18'].value_counts()"
   ]
  },
  {
   "cell_type": "markdown",
   "metadata": {},
   "source": [
    "Not enough signal."
   ]
  },
  {
   "cell_type": "code",
   "execution_count": 495,
   "metadata": {},
   "outputs": [],
   "source": [
    "data_clean.drop(columns=['over_18'], inplace=True)"
   ]
  },
  {
   "cell_type": "code",
   "execution_count": 496,
   "metadata": {},
   "outputs": [
    {
     "data": {
      "text/plain": [
       "/r/TheOnion/comments/saccs2/new_nflmilitary_partnership_sends_first_1000_fans/     1\n",
       "/r/worldnews/comments/rpz1cg/worlds_top_2021_climate_disasters_cost_nearly_200/    1\n",
       "/r/worldnews/comments/rpzfew/arkansas_getting_bad_again/                           1\n",
       "/r/worldnews/comments/rpze0w/satellite_images_show_buildup_of_russian_forces/      1\n",
       "/r/worldnews/comments/rpzbvh/saudi_coalition_shows_footage_of_alleged/             1\n",
       "                                                                                  ..\n",
       "/r/TheOnion/comments/5fj8ls/video_these_men_were_at_the_rumble_in_the_jungle/      1\n",
       "/r/TheOnion/comments/5fj452/halfdressed_man_frantically_scrambles_out_of_home/     1\n",
       "/r/TheOnion/comments/5fj3zz/coworker_with_two_computer_screens_not_fucking/        1\n",
       "/r/TheOnion/comments/5fj3ys/macys_parade_float_covered_in_tickets_after/           1\n",
       "/r/worldnews/comments/r1zu9y/russia_programmable_stage_lighting_market/            1\n",
       "Name: permalink, Length: 39670, dtype: int64"
      ]
     },
     "execution_count": 496,
     "metadata": {},
     "output_type": "execute_result"
    }
   ],
   "source": [
    "data['permalink'].value_counts()"
   ]
  },
  {
   "cell_type": "markdown",
   "metadata": {},
   "source": [
    "Need permalink for comment merge."
   ]
  },
  {
   "cell_type": "code",
   "execution_count": 497,
   "metadata": {},
   "outputs": [
    {
     "data": {
      "text/plain": [
       "39024"
      ]
     },
     "execution_count": 497,
     "metadata": {},
     "output_type": "execute_result"
    }
   ],
   "source": [
    "data['retrieved_on'].nunique()"
   ]
  },
  {
   "cell_type": "code",
   "execution_count": 498,
   "metadata": {},
   "outputs": [],
   "source": [
    "data_clean.drop(columns=['retrieved_on'], inplace=True)"
   ]
  },
  {
   "cell_type": "code",
   "execution_count": 499,
   "metadata": {},
   "outputs": [
    {
     "data": {
      "text/plain": [
       "<AxesSubplot:>"
      ]
     },
     "execution_count": 499,
     "metadata": {},
     "output_type": "execute_result"
    },
    {
     "data": {
      "image/png": "[encoded data removed]",
      "text/plain": [
       "<Figure size 432x288 with 1 Axes>"
      ]
     },
     "metadata": {
      "needs_background": "light"
     },
     "output_type": "display_data"
    }
   ],
   "source": [
    "data[data['score']<200]['score'].hist()"
   ]
  },
  {
   "cell_type": "code",
   "execution_count": 500,
   "metadata": {},
   "outputs": [
    {
     "data": {
      "text/plain": [
       "True     25097\n",
       "False     8383\n",
       "Name: send_replies, dtype: int64"
      ]
     },
     "execution_count": 500,
     "metadata": {},
     "output_type": "execute_result"
    }
   ],
   "source": [
    "data['send_replies'].value_counts()"
   ]
  },
  {
   "cell_type": "code",
   "execution_count": 501,
   "metadata": {},
   "outputs": [
    {
     "data": {
      "image/png": "[encoded data removed]",
      "text/plain": [
       "<Figure size 432x288 with 1 Axes>"
      ]
     },
     "metadata": {
      "needs_background": "light"
     },
     "output_type": "display_data"
    }
   ],
   "source": [
    "_ = data[['send_replies', 'subreddit']].groupby(by=['subreddit', 'send_replies']).size()\n",
    "_.index = _.index.to_flat_index()\n",
    "_.plot(kind='bar');"
   ]
  },
  {
   "cell_type": "markdown",
   "metadata": {},
   "source": [
    "Could be something here. True significantly more often in the worldnews subreddit"
   ]
  },
  {
   "cell_type": "code",
   "execution_count": 502,
   "metadata": {},
   "outputs": [
    {
     "data": {
      "text/plain": [
       "False    38016\n",
       "True         7\n",
       "Name: spoiler, dtype: int64"
      ]
     },
     "execution_count": 502,
     "metadata": {},
     "output_type": "execute_result"
    }
   ],
   "source": [
    "data['spoiler'].value_counts()"
   ]
  },
  {
   "cell_type": "code",
   "execution_count": 503,
   "metadata": {},
   "outputs": [],
   "source": [
    "data_clean.drop(columns=['spoiler'], inplace=True)"
   ]
  },
  {
   "cell_type": "markdown",
   "metadata": {},
   "source": [
    "ID is redundant"
   ]
  },
  {
   "cell_type": "code",
   "execution_count": 504,
   "metadata": {},
   "outputs": [],
   "source": [
    "data_clean.drop(columns=['subreddit_id'], inplace=True)"
   ]
  },
  {
   "cell_type": "code",
   "execution_count": 505,
   "metadata": {},
   "outputs": [
    {
     "data": {
      "text/plain": [
       "28475"
      ]
     },
     "execution_count": 505,
     "metadata": {},
     "output_type": "execute_result"
    }
   ],
   "source": [
    "data['subreddit_subscribers'].nunique()"
   ]
  },
  {
   "cell_type": "markdown",
   "metadata": {},
   "source": [
    "Looking like ID numbers. Wont need."
   ]
  },
  {
   "cell_type": "code",
   "execution_count": 506,
   "metadata": {},
   "outputs": [],
   "source": [
    "data_clean.drop(columns=['subreddit_subscribers'], inplace=True)"
   ]
  },
  {
   "cell_type": "code",
   "execution_count": 507,
   "metadata": {},
   "outputs": [
    {
     "data": {
      "text/plain": [
       "default                                                                             27594\n",
       "image                                                                                1421\n",
       "nsfw                                                                                  188\n",
       "http://b.thumbs.redditmedia.com/cOxKURz96a5e0WFSWzSm-asF1WxUK11R4BASeFh7t8c.jpg         5\n",
       "https://b.thumbs.redditmedia.com/WKW_xBWWsZVYzoaRYdQvCGUBAKmhrBRFbC8yrcwnwJM.jpg        4\n",
       "                                                                                    ...  \n",
       "https://b.thumbs.redditmedia.com/kc5ArwS5tXvUY-QeLSPrcdXL3G0TLglQW2WxL9HOgiA.jpg        1\n",
       "https://b.thumbs.redditmedia.com/2Ut9RPO0x9XBGOFED8t4pNOGsu1HxyOt5oWdWngmlxU.jpg        1\n",
       "https://b.thumbs.redditmedia.com/aAzY_AzVOPJQXV16X9uTJOBEIuYjTfRSPhc0iebb-4Y.jpg        1\n",
       "https://b.thumbs.redditmedia.com/_AL5mLcBZ46N1jdhfXrUn9405NZWyuMhrbP2gsLkh4Q.jpg        1\n",
       "https://b.thumbs.redditmedia.com/EqUYGsfmI0tIYkz1CPxsE4iaPkv6zXDemiA2Qe6rA0E.jpg        1\n",
       "Name: thumbnail, Length: 10049, dtype: int64"
      ]
     },
     "execution_count": 507,
     "metadata": {},
     "output_type": "execute_result"
    }
   ],
   "source": [
    "data['thumbnail'].value_counts()"
   ]
  },
  {
   "cell_type": "code",
   "execution_count": 508,
   "metadata": {},
   "outputs": [],
   "source": [
    "data_clean.drop(columns=['thumbnail'], inplace=True)"
   ]
  },
  {
   "cell_type": "code",
   "execution_count": 509,
   "metadata": {},
   "outputs": [
    {
     "data": {
      "text/plain": [
       "0.0     28603\n",
       "1.0        21\n",
       "2.0         6\n",
       "3.0         5\n",
       "4.0         2\n",
       "34.0        1\n",
       "6.0         1\n",
       "7.0         1\n",
       "31.0        1\n",
       "11.0        1\n",
       "9.0         1\n",
       "51.0        1\n",
       "Name: total_awards_received, dtype: int64"
      ]
     },
     "execution_count": 509,
     "metadata": {},
     "output_type": "execute_result"
    }
   ],
   "source": [
    "data['total_awards_received'].value_counts()"
   ]
  },
  {
   "cell_type": "code",
   "execution_count": 510,
   "metadata": {},
   "outputs": [],
   "source": [
    "data_clean.drop(columns=['total_awards_received'], inplace=True)"
   ]
  },
  {
   "cell_type": "code",
   "execution_count": 511,
   "metadata": {},
   "outputs": [
    {
     "data": {
      "text/plain": [
       "1.00    25799\n",
       "0.99      128\n",
       "0.50       36\n",
       "0.98       33\n",
       "0.75       33\n",
       "        ...  \n",
       "0.25        1\n",
       "0.30        1\n",
       "0.51        1\n",
       "0.35        1\n",
       "0.26        1\n",
       "Name: upvote_ratio, Length: 67, dtype: int64"
      ]
     },
     "execution_count": 511,
     "metadata": {},
     "output_type": "execute_result"
    }
   ],
   "source": [
    "data['upvote_ratio'].value_counts()"
   ]
  },
  {
   "cell_type": "markdown",
   "metadata": {},
   "source": [
    "Wisdom of the crowds could provide some signal. Maybe low ratios lead to higher chance of fake news... Maybe not. Will keep. Its possible only keeping high ratio posts leads to more model signal. Will want to explore more."
   ]
  },
  {
   "cell_type": "code",
   "execution_count": 512,
   "metadata": {},
   "outputs": [
    {
     "data": {
      "text/plain": [
       "https://www.reuters.com/world/americas/colombia-launches-strategy-tackle-environmental-crimes-2021-12-06/                             16\n",
       "https://www.dw.com/en/uk-asks-germany-to-extradite-suspected-russian-spy/a-60011868                                                   15\n",
       "https://buytrustpilot.com/product/buy-trustpilot-reviews/                                                                             14\n",
       "https://www.cnbc.com/2021/12/09/fda-clears-astrazeneca-covid-antibody-treatment-for-immunocompromised.html                            12\n",
       "https://www.reuters.com/world/asia-pacific/democracy-activist-law-urges-hong-kong-voters-ignore-dec-19-election-2021-12-03/           11\n",
       "                                                                                                                                      ..\n",
       "http://www.clickhole.com/article/troubling-sign-donald-trump-shaking-hands-pig-has--5181?utm_medium=RSS&amp;amp;utm_campaign=feeds     1\n",
       "http://www.clickhole.com/article/eerie-compilation-proves-lone-seagull-has-been-fol-5316?utm_medium=RSS&amp;amp;utm_campaign=feeds     1\n",
       "http://www.theonion.com/infographic/what-compromising-information-does-russia-have-don-55009?utm_medium=RSS&amp;utm_campaign=feeds     1\n",
       "http://www.theonion.com/infographic/pros-and-cons-universal-basic-income-55011?utm_medium=RSS&amp;utm_campaign=feeds                   1\n",
       "https://www.infiniumglobalresearch.com/russia/russia-programmable-stage-lighting-market                                                1\n",
       "Name: url, Length: 36999, dtype: int64"
      ]
     },
     "execution_count": 512,
     "metadata": {},
     "output_type": "execute_result"
    }
   ],
   "source": [
    "data['url'].value_counts()"
   ]
  },
  {
   "cell_type": "markdown",
   "metadata": {},
   "source": [
    "Probably wont want to use, but will keep for now."
   ]
  },
  {
   "cell_type": "code",
   "execution_count": 513,
   "metadata": {},
   "outputs": [
    {
     "data": {
      "text/plain": [
       "all_ads             29847\n",
       "promo_adult_nsfw      166\n",
       "Name: whitelist_status, dtype: int64"
      ]
     },
     "execution_count": 513,
     "metadata": {},
     "output_type": "execute_result"
    }
   ],
   "source": [
    "data['whitelist_status'].value_counts()"
   ]
  },
  {
   "cell_type": "code",
   "execution_count": 514,
   "metadata": {},
   "outputs": [],
   "source": [
    "data_clean.drop(columns=['whitelist_status'], inplace=True)"
   ]
  },
  {
   "cell_type": "code",
   "execution_count": 515,
   "metadata": {},
   "outputs": [
    {
     "data": {
      "text/plain": [
       "6.0    29847\n",
       "3.0      166\n",
       "Name: wls, dtype: int64"
      ]
     },
     "execution_count": 515,
     "metadata": {},
     "output_type": "execute_result"
    }
   ],
   "source": [
    "data['wls'].value_counts()"
   ]
  },
  {
   "cell_type": "code",
   "execution_count": 516,
   "metadata": {},
   "outputs": [],
   "source": [
    "data_clean.drop(columns=['wls'], inplace=True)"
   ]
  },
  {
   "cell_type": "markdown",
   "metadata": {},
   "source": [
    "All column data has been sorted. Time to start looking for relationships"
   ]
  },
  {
   "cell_type": "code",
   "execution_count": 517,
   "metadata": {},
   "outputs": [
    {
     "name": "stdout",
     "output_type": "stream",
     "text": [
      "<class 'pandas.core.frame.DataFrame'>\n",
      "RangeIndex: 39670 entries, 0 to 39669\n",
      "Data columns (total 22 columns):\n",
      " #   Column              Non-Null Count  Dtype  \n",
      "---  ------              --------------  -----  \n",
      " 0   author              39670 non-null  object \n",
      " 1   author_fullname     34910 non-null  object \n",
      " 2   author_premium      26768 non-null  object \n",
      " 3   created_utc         39670 non-null  int64  \n",
      " 4   domain              39670 non-null  object \n",
      " 5   full_link           39670 non-null  object \n",
      " 6   gildings            31076 non-null  object \n",
      " 7   id                  39670 non-null  object \n",
      " 8   is_crosspostable    35013 non-null  object \n",
      " 9   is_robot_indexable  30968 non-null  object \n",
      " 10  link_flair_text     7831 non-null   object \n",
      " 11  media               2306 non-null   object \n",
      " 12  media_embed         6686 non-null   object \n",
      " 13  no_follow           33470 non-null  object \n",
      " 14  num_comments        39670 non-null  int64  \n",
      " 15  permalink           39670 non-null  object \n",
      " 16  score               39670 non-null  int64  \n",
      " 17  send_replies        33480 non-null  object \n",
      " 18  subreddit           39670 non-null  object \n",
      " 19  title               39670 non-null  object \n",
      " 20  upvote_ratio        26701 non-null  float64\n",
      " 21  url                 39670 non-null  object \n",
      "dtypes: float64(1), int64(3), object(18)\n",
      "memory usage: 6.7+ MB\n"
     ]
    }
   ],
   "source": [
    "data_clean.info()"
   ]
  },
  {
   "cell_type": "code",
   "execution_count": 554,
   "metadata": {},
   "outputs": [
    {
     "name": "stderr",
     "output_type": "stream",
     "text": [
      "/Users/genebob/opt/anaconda3/lib/python3.9/site-packages/IPython/core/interactiveshell.py:3444: DtypeWarning: Columns (0,1,12,13,15,19,20,28,30,31,36,37,38,45) have mixed types.Specify dtype option on import or set low_memory=False.\n",
      "  exec(code_obj, self.user_global_ns, self.user_ns)\n",
      "/Users/genebob/opt/anaconda3/lib/python3.9/site-packages/IPython/core/interactiveshell.py:3444: DtypeWarning: Columns (1,16,17,19,36) have mixed types.Specify dtype option on import or set low_memory=False.\n",
      "  exec(code_obj, self.user_global_ns, self.user_ns)\n"
     ]
    }
   ],
   "source": [
    "df_onion_c = pd.read_csv('./datasets/theonion_comment.csv')\n",
    "df_news_c = pd.read_csv('./datasets/worldnews_comment.csv')"
   ]
  },
  {
   "cell_type": "code",
   "execution_count": 401,
   "metadata": {},
   "outputs": [
    {
     "data": {
      "text/plain": [
       "(33475, 47)"
      ]
     },
     "execution_count": 401,
     "metadata": {},
     "output_type": "execute_result"
    }
   ],
   "source": [
    "df_onion_c.shape"
   ]
  },
  {
   "cell_type": "code",
   "execution_count": 402,
   "metadata": {},
   "outputs": [
    {
     "data": {
      "text/plain": [
       "(117424, 47)"
      ]
     },
     "execution_count": 402,
     "metadata": {},
     "output_type": "execute_result"
    }
   ],
   "source": [
    "df_news_c.shape"
   ]
  },
  {
   "cell_type": "code",
   "execution_count": 555,
   "metadata": {},
   "outputs": [],
   "source": [
    "df_news_c['permalink'] = df_news_c['permalink'].map(lambda x: '/'.join(x.split(sep='/')[:-2]))"
   ]
  },
  {
   "cell_type": "code",
   "execution_count": 558,
   "metadata": {},
   "outputs": [
    {
     "data": {
      "text/plain": [
       "'/r/worldnews/comments/sanu05/russian_ships_tanks_and_troops_on_the_move_to'"
      ]
     },
     "execution_count": 558,
     "metadata": {},
     "output_type": "execute_result"
    }
   ],
   "source": [
    "df_news_c['permalink'].iat[100]"
   ]
  },
  {
   "cell_type": "code",
   "execution_count": 559,
   "metadata": {},
   "outputs": [
    {
     "data": {
      "text/plain": [
       "array(['/r/worldnews/comments/savf3v/blinken_promises_severe_response_if_single',\n",
       "       '/r/worldnews/comments/sax4eu/blinken_says_a_single_additional_russian_force',\n",
       "       '/r/worldnews/comments/sb03kg/armenian_president_resigns_saying_constitution',\n",
       "       ...,\n",
       "       '/r/worldnews/comments/q8blam/good_will_stop_cape_towns_illegal_use_of_prepaid',\n",
       "       '/r/worldnews/comments/q7pn09/sophisticated_ancient_faeces_shows_humans_enjoyed',\n",
       "       '/r/worldnews/comments/q8758i/polish_mps_approve_350m_wall_on_belarusian_border'],\n",
       "      dtype=object)"
      ]
     },
     "execution_count": 559,
     "metadata": {},
     "output_type": "execute_result"
    }
   ],
   "source": [
    "df_news_c['permalink'].unique()"
   ]
  },
  {
   "cell_type": "code",
   "execution_count": 560,
   "metadata": {},
   "outputs": [
    {
     "data": {
      "text/plain": [
       "Index(['all_awardings', 'archived', 'associated_award', 'author',\n",
       "       'author_flair_background_color', 'author_flair_css_class',\n",
       "       'author_flair_richtext', 'author_flair_template_id',\n",
       "       'author_flair_text', 'author_flair_text_color', 'author_flair_type',\n",
       "       'author_fullname', 'author_patreon_flair', 'author_premium', 'body',\n",
       "       'body_sha1', 'can_gild', 'collapsed', 'collapsed_because_crowd_control',\n",
       "       'collapsed_reason', 'collapsed_reason_code', 'comment_type',\n",
       "       'controversiality', 'created_utc', 'distinguished', 'gilded',\n",
       "       'gildings', 'id', 'is_submitter', 'link_id', 'locked', 'no_follow',\n",
       "       'parent_id', 'permalink', 'retrieved_utc', 'score', 'score_hidden',\n",
       "       'send_replies', 'stickied', 'subreddit', 'subreddit_id',\n",
       "       'subreddit_name_prefixed', 'subreddit_type', 'top_awarded_type',\n",
       "       'total_awards_received', 'treatment_tags', 'unrepliable_reason'],\n",
       "      dtype='object')"
      ]
     },
     "execution_count": 560,
     "metadata": {},
     "output_type": "execute_result"
    }
   ],
   "source": [
    "df_news_c.columns"
   ]
  },
  {
   "cell_type": "code",
   "execution_count": 565,
   "metadata": {},
   "outputs": [],
   "source": [
    "red_comments = {}\n",
    "for link in df_news_c['permalink'].unique():\n",
    "    red_comments['permalink'] = link\n",
    "    red_comments['comments'] = df_news_c[df_news_c['permalink'] == link]['body'].to_list()"
   ]
  },
  {
   "cell_type": "code",
   "execution_count": null,
   "metadata": {},
   "outputs": [],
   "source": []
  }
 ],
 "metadata": {
  "interpreter": {
   "hash": "6aaf12f00e2accd7ab3a69f0361120d5b81b11b109d190d2913220c8ee37ccf8"
  },
  "kernelspec": {
   "display_name": "Python 3.9.7 64-bit ('base': conda)",
   "language": "python",
   "name": "python3"
  },
  "language_info": {
   "codemirror_mode": {
    "name": "ipython",
    "version": 3
   },
   "file_extension": ".py",
   "mimetype": "text/x-python",
   "name": "python",
   "nbconvert_exporter": "python",
   "pygments_lexer": "ipython3",
   "version": "3.9.7"
  },
  "orig_nbformat": 4
 },
 "nbformat": 4,
 "nbformat_minor": 2
}
